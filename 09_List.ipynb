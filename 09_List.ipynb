{
 "cells": [
  {
   "cell_type": "code",
   "execution_count": null,
   "id": "bf1faab0",
   "metadata": {},
   "outputs": [],
   "source": []
  },
  {
   "cell_type": "code",
   "execution_count": null,
   "id": "2a6533a5",
   "metadata": {},
   "outputs": [],
   "source": []
  },
  {
   "cell_type": "code",
   "execution_count": 36,
   "id": "61787ae4",
   "metadata": {},
   "outputs": [],
   "source": [
    "l1 = [\"mira\" , \"aesha\" , \"krina\" , \"hemangi\" , \"soha\"]"
   ]
  },
  {
   "cell_type": "code",
   "execution_count": 37,
   "id": "d7c91a21",
   "metadata": {},
   "outputs": [],
   "source": [
    "l1[0] = \"priya\""
   ]
  },
  {
   "cell_type": "code",
   "execution_count": 38,
   "id": "ee547bc5",
   "metadata": {},
   "outputs": [
    {
     "data": {
      "text/plain": [
       "['priya', 'aesha', 'krina', 'hemangi', 'soha']"
      ]
     },
     "execution_count": 38,
     "metadata": {},
     "output_type": "execute_result"
    }
   ],
   "source": [
    "l1"
   ]
  },
  {
   "cell_type": "code",
   "execution_count": 39,
   "id": "61eb999b",
   "metadata": {},
   "outputs": [
    {
     "data": {
      "text/plain": [
       "['priya', 'aesha', 'krina', 'hemangi', 'soha']"
      ]
     },
     "execution_count": 39,
     "metadata": {},
     "output_type": "execute_result"
    }
   ],
   "source": [
    "l1[:]"
   ]
  },
  {
   "cell_type": "code",
   "execution_count": 40,
   "id": "1d4e17cd",
   "metadata": {},
   "outputs": [
    {
     "data": {
      "text/plain": [
       "['priya', 'aesha', 'krina', 'hemangi', 'soha']"
      ]
     },
     "execution_count": 40,
     "metadata": {},
     "output_type": "execute_result"
    }
   ],
   "source": [
    "l1[0:]"
   ]
  },
  {
   "cell_type": "code",
   "execution_count": 41,
   "id": "1991fb0f",
   "metadata": {},
   "outputs": [
    {
     "data": {
      "text/plain": [
       "['priya', 'aesha', 'krina', 'hemangi']"
      ]
     },
     "execution_count": 41,
     "metadata": {},
     "output_type": "execute_result"
    }
   ],
   "source": [
    "l1[:4]"
   ]
  },
  {
   "cell_type": "code",
   "execution_count": 42,
   "id": "e73c21f6",
   "metadata": {},
   "outputs": [
    {
     "data": {
      "text/plain": [
       "['soha', 'hemangi', 'krina', 'aesha', 'priya']"
      ]
     },
     "execution_count": 42,
     "metadata": {},
     "output_type": "execute_result"
    }
   ],
   "source": [
    "# reverse the list\n",
    "l1[::-1]"
   ]
  },
  {
   "cell_type": "code",
   "execution_count": 43,
   "id": "42e70270",
   "metadata": {},
   "outputs": [
    {
     "data": {
      "text/plain": [
       "['priya', 'krina', 'soha']"
      ]
     },
     "execution_count": 43,
     "metadata": {},
     "output_type": "execute_result"
    }
   ],
   "source": [
    "l1[::2]"
   ]
  },
  {
   "cell_type": "code",
   "execution_count": 44,
   "id": "6ed70aec",
   "metadata": {},
   "outputs": [
    {
     "name": "stdout",
     "output_type": "stream",
     "text": [
      "priya\n",
      "p\n",
      "r\n",
      "i\n",
      "y\n",
      "a\n",
      "aesha\n",
      "a\n",
      "e\n",
      "s\n",
      "h\n",
      "a\n",
      "krina\n",
      "k\n",
      "r\n",
      "i\n",
      "n\n",
      "a\n",
      "hemangi\n",
      "h\n",
      "e\n",
      "m\n",
      "a\n",
      "n\n",
      "g\n",
      "i\n",
      "soha\n",
      "s\n",
      "o\n",
      "h\n",
      "a\n"
     ]
    }
   ],
   "source": [
    "for i in l1:\n",
    "    print(i)\n",
    "    for j in i:\n",
    "        print(j)"
   ]
  },
  {
   "cell_type": "code",
   "execution_count": 45,
   "id": "948958df",
   "metadata": {},
   "outputs": [
    {
     "data": {
      "text/plain": [
       "['priya', 'aesha', 'krina', 'hemangi', 'soha']"
      ]
     },
     "execution_count": 45,
     "metadata": {},
     "output_type": "execute_result"
    }
   ],
   "source": [
    "l1"
   ]
  },
  {
   "cell_type": "code",
   "execution_count": 71,
   "id": "6b5944b1",
   "metadata": {},
   "outputs": [
    {
     "data": {
      "text/plain": [
       "['__add__',\n",
       " '__class__',\n",
       " '__class_getitem__',\n",
       " '__contains__',\n",
       " '__delattr__',\n",
       " '__delitem__',\n",
       " '__dir__',\n",
       " '__doc__',\n",
       " '__eq__',\n",
       " '__format__',\n",
       " '__ge__',\n",
       " '__getattribute__',\n",
       " '__getitem__',\n",
       " '__gt__',\n",
       " '__hash__',\n",
       " '__iadd__',\n",
       " '__imul__',\n",
       " '__init__',\n",
       " '__init_subclass__',\n",
       " '__iter__',\n",
       " '__le__',\n",
       " '__len__',\n",
       " '__lt__',\n",
       " '__mul__',\n",
       " '__ne__',\n",
       " '__new__',\n",
       " '__reduce__',\n",
       " '__reduce_ex__',\n",
       " '__repr__',\n",
       " '__reversed__',\n",
       " '__rmul__',\n",
       " '__setattr__',\n",
       " '__setitem__',\n",
       " '__sizeof__',\n",
       " '__str__',\n",
       " '__subclasshook__',\n",
       " 'append',\n",
       " 'clear',\n",
       " 'copy',\n",
       " 'count',\n",
       " 'extend',\n",
       " 'index',\n",
       " 'insert',\n",
       " 'pop',\n",
       " 'remove',\n",
       " 'reverse',\n",
       " 'sort']"
      ]
     },
     "execution_count": 71,
     "metadata": {},
     "output_type": "execute_result"
    }
   ],
   "source": [
    "dir(list)"
   ]
  },
  {
   "cell_type": "code",
   "execution_count": 46,
   "id": "5a645152",
   "metadata": {},
   "outputs": [],
   "source": [
    "l1.append(\"gaurang\")"
   ]
  },
  {
   "cell_type": "code",
   "execution_count": 47,
   "id": "c8a6e41c",
   "metadata": {},
   "outputs": [
    {
     "data": {
      "text/plain": [
       "['priya', 'aesha', 'krina', 'hemangi', 'soha', 'gaurang']"
      ]
     },
     "execution_count": 47,
     "metadata": {},
     "output_type": "execute_result"
    }
   ],
   "source": [
    "l1"
   ]
  },
  {
   "cell_type": "code",
   "execution_count": 48,
   "id": "bb0c0297",
   "metadata": {},
   "outputs": [],
   "source": [
    "l2 = [44,66,11,88,99,12]"
   ]
  },
  {
   "cell_type": "code",
   "execution_count": 49,
   "id": "3738a25b",
   "metadata": {},
   "outputs": [],
   "source": [
    "l1.extend(l2)"
   ]
  },
  {
   "cell_type": "code",
   "execution_count": 50,
   "id": "00db17cf",
   "metadata": {},
   "outputs": [
    {
     "data": {
      "text/plain": [
       "['priya',\n",
       " 'aesha',\n",
       " 'krina',\n",
       " 'hemangi',\n",
       " 'soha',\n",
       " 'gaurang',\n",
       " 44,\n",
       " 66,\n",
       " 11,\n",
       " 88,\n",
       " 99,\n",
       " 12]"
      ]
     },
     "execution_count": 50,
     "metadata": {},
     "output_type": "execute_result"
    }
   ],
   "source": [
    "l1"
   ]
  },
  {
   "cell_type": "code",
   "execution_count": 51,
   "id": "b86bf71a",
   "metadata": {},
   "outputs": [
    {
     "data": {
      "text/plain": [
       "['priya',\n",
       " 'aesha',\n",
       " 'krina',\n",
       " 'hemangi',\n",
       " 'soha',\n",
       " 'gaurang',\n",
       " 44,\n",
       " 66,\n",
       " 11,\n",
       " 88,\n",
       " 99,\n",
       " 12]"
      ]
     },
     "execution_count": 51,
     "metadata": {},
     "output_type": "execute_result"
    }
   ],
   "source": [
    "l1"
   ]
  },
  {
   "cell_type": "code",
   "execution_count": 52,
   "id": "274a1752",
   "metadata": {},
   "outputs": [
    {
     "data": {
      "text/plain": [
       "[44, 66, 11, 88, 99, 12]"
      ]
     },
     "execution_count": 52,
     "metadata": {},
     "output_type": "execute_result"
    }
   ],
   "source": [
    "l2"
   ]
  },
  {
   "cell_type": "code",
   "execution_count": 53,
   "id": "af7fdc72",
   "metadata": {},
   "outputs": [],
   "source": [
    "l2.insert(4 , 4567)"
   ]
  },
  {
   "cell_type": "code",
   "execution_count": 54,
   "id": "780a4d1f",
   "metadata": {},
   "outputs": [],
   "source": [
    "l2 = l2 + [66,89]"
   ]
  },
  {
   "cell_type": "code",
   "execution_count": 55,
   "id": "3cb87eed",
   "metadata": {},
   "outputs": [
    {
     "data": {
      "text/plain": [
       "[44, 66, 11, 88, 4567, 99, 12, 66, 89]"
      ]
     },
     "execution_count": 55,
     "metadata": {},
     "output_type": "execute_result"
    }
   ],
   "source": [
    "l2"
   ]
  },
  {
   "cell_type": "code",
   "execution_count": 56,
   "id": "4b51e2fd",
   "metadata": {},
   "outputs": [],
   "source": [
    "l2.remove(66)"
   ]
  },
  {
   "cell_type": "code",
   "execution_count": 57,
   "id": "11bb0de2",
   "metadata": {},
   "outputs": [
    {
     "data": {
      "text/plain": [
       "[44, 11, 88, 4567, 99, 12, 66, 89]"
      ]
     },
     "execution_count": 57,
     "metadata": {},
     "output_type": "execute_result"
    }
   ],
   "source": [
    "l2"
   ]
  },
  {
   "cell_type": "code",
   "execution_count": 58,
   "id": "b940b4c5",
   "metadata": {},
   "outputs": [
    {
     "data": {
      "text/plain": [
       "99"
      ]
     },
     "execution_count": 58,
     "metadata": {},
     "output_type": "execute_result"
    }
   ],
   "source": [
    "l2.pop(4)"
   ]
  },
  {
   "cell_type": "code",
   "execution_count": 59,
   "id": "32d28e51",
   "metadata": {},
   "outputs": [],
   "source": [
    "#l2.clear()"
   ]
  },
  {
   "cell_type": "code",
   "execution_count": 60,
   "id": "e8797463",
   "metadata": {},
   "outputs": [],
   "source": [
    "#l2"
   ]
  },
  {
   "cell_type": "code",
   "execution_count": 62,
   "id": "1ee2b7c5",
   "metadata": {},
   "outputs": [
    {
     "data": {
      "text/plain": [
       "[44,\n",
       " 11,\n",
       " 88,\n",
       " 4567,\n",
       " 12,\n",
       " 66,\n",
       " 89,\n",
       " 'priya',\n",
       " 'aesha',\n",
       " 'krina',\n",
       " 'hemangi',\n",
       " 'soha',\n",
       " 'gaurang',\n",
       " 44,\n",
       " 66,\n",
       " 11,\n",
       " 88,\n",
       " 99,\n",
       " 12]"
      ]
     },
     "execution_count": 62,
     "metadata": {},
     "output_type": "execute_result"
    }
   ],
   "source": [
    "l2 + l1"
   ]
  },
  {
   "cell_type": "code",
   "execution_count": 63,
   "id": "d666c0bf",
   "metadata": {},
   "outputs": [
    {
     "data": {
      "text/plain": [
       "['priya',\n",
       " 'aesha',\n",
       " 'krina',\n",
       " 'hemangi',\n",
       " 'soha',\n",
       " 'gaurang',\n",
       " 44,\n",
       " 66,\n",
       " 11,\n",
       " 88,\n",
       " 99,\n",
       " 12]"
      ]
     },
     "execution_count": 63,
     "metadata": {},
     "output_type": "execute_result"
    }
   ],
   "source": [
    "l1"
   ]
  },
  {
   "cell_type": "code",
   "execution_count": 69,
   "id": "95ed59d2",
   "metadata": {},
   "outputs": [
    {
     "data": {
      "text/plain": [
       "[44, 11, 88, 4567, 12, 66, 89, 133, 133, 88, 45]"
      ]
     },
     "execution_count": 69,
     "metadata": {},
     "output_type": "execute_result"
    }
   ],
   "source": [
    "l2 = l2+[ 88 , 45]\n",
    "l2"
   ]
  },
  {
   "cell_type": "code",
   "execution_count": 70,
   "id": "9f4acd81",
   "metadata": {},
   "outputs": [
    {
     "data": {
      "text/plain": [
       "2"
      ]
     },
     "execution_count": 70,
     "metadata": {},
     "output_type": "execute_result"
    }
   ],
   "source": [
    "l2.index(88)"
   ]
  },
  {
   "cell_type": "code",
   "execution_count": 72,
   "id": "2bc28416",
   "metadata": {},
   "outputs": [],
   "source": [
    "l2.reverse()"
   ]
  },
  {
   "cell_type": "code",
   "execution_count": 73,
   "id": "22b72245",
   "metadata": {},
   "outputs": [
    {
     "data": {
      "text/plain": [
       "[45, 88, 133, 133, 89, 66, 12, 4567, 88, 11, 44]"
      ]
     },
     "execution_count": 73,
     "metadata": {},
     "output_type": "execute_result"
    }
   ],
   "source": [
    "l2"
   ]
  },
  {
   "cell_type": "code",
   "execution_count": 74,
   "id": "dd4c2142",
   "metadata": {},
   "outputs": [],
   "source": [
    "l2.sort()"
   ]
  },
  {
   "cell_type": "code",
   "execution_count": 75,
   "id": "24d89445",
   "metadata": {},
   "outputs": [
    {
     "data": {
      "text/plain": [
       "[11, 12, 44, 45, 66, 88, 88, 89, 133, 133, 4567]"
      ]
     },
     "execution_count": 75,
     "metadata": {},
     "output_type": "execute_result"
    }
   ],
   "source": [
    "l2"
   ]
  },
  {
   "cell_type": "code",
   "execution_count": 76,
   "id": "9b1dfa3d",
   "metadata": {},
   "outputs": [
    {
     "data": {
      "text/plain": [
       "[11, 12, 44, 45, 66, 88, 88, 89, 133, 133, 4567]"
      ]
     },
     "execution_count": 76,
     "metadata": {},
     "output_type": "execute_result"
    }
   ],
   "source": [
    "l2.copy()"
   ]
  },
  {
   "cell_type": "code",
   "execution_count": 78,
   "id": "0b867332",
   "metadata": {},
   "outputs": [
    {
     "data": {
      "text/plain": [
       "2"
      ]
     },
     "execution_count": 78,
     "metadata": {},
     "output_type": "execute_result"
    }
   ],
   "source": [
    "l2.count(88)"
   ]
  },
  {
   "cell_type": "code",
   "execution_count": null,
   "id": "0c48a313",
   "metadata": {},
   "outputs": [],
   "source": []
  },
  {
   "cell_type": "code",
   "execution_count": null,
   "id": "92cafab5",
   "metadata": {},
   "outputs": [],
   "source": []
  },
  {
   "cell_type": "code",
   "execution_count": null,
   "id": "aeb1ce4a",
   "metadata": {},
   "outputs": [],
   "source": [
    " "
   ]
  },
  {
   "cell_type": "code",
   "execution_count": 92,
   "id": "88e1b2a4",
   "metadata": {},
   "outputs": [],
   "source": [
    "l1 = [5,4,3,2,1]"
   ]
  },
  {
   "cell_type": "code",
   "execution_count": 90,
   "id": "ce0b1089",
   "metadata": {},
   "outputs": [
    {
     "data": {
      "text/plain": [
       "5"
      ]
     },
     "execution_count": 90,
     "metadata": {},
     "output_type": "execute_result"
    }
   ],
   "source": [
    "# work as a stack\n",
    "l1.pop(0)"
   ]
  },
  {
   "cell_type": "code",
   "execution_count": 93,
   "id": "018671a3",
   "metadata": {},
   "outputs": [
    {
     "data": {
      "text/plain": [
       "1"
      ]
     },
     "execution_count": 93,
     "metadata": {},
     "output_type": "execute_result"
    }
   ],
   "source": [
    "# work as a queue\n",
    "l1.pop(-1)"
   ]
  },
  {
   "cell_type": "code",
   "execution_count": null,
   "id": "00e6edc3",
   "metadata": {},
   "outputs": [],
   "source": []
  },
  {
   "cell_type": "code",
   "execution_count": 94,
   "id": "e7452095",
   "metadata": {},
   "outputs": [],
   "source": [
    "# repetation operaton:"
   ]
  },
  {
   "cell_type": "code",
   "execution_count": 97,
   "id": "a342ea4d",
   "metadata": {},
   "outputs": [
    {
     "data": {
      "text/plain": [
       "[0, 0, 0, 0, 0, 0, 0, 0, 0, 0, 0, 0, 0, 0, 0]"
      ]
     },
     "execution_count": 97,
     "metadata": {},
     "output_type": "execute_result"
    }
   ],
   "source": [
    "[0] * 15"
   ]
  },
  {
   "cell_type": "code",
   "execution_count": 98,
   "id": "26f1d559",
   "metadata": {},
   "outputs": [
    {
     "data": {
      "text/plain": [
       "['mira', 'pw_skills', 67, 'mira', 'pw_skills', 67, 'mira', 'pw_skills', 67]"
      ]
     },
     "execution_count": 98,
     "metadata": {},
     "output_type": "execute_result"
    }
   ],
   "source": [
    "[\"mira\" , \"pw_skills\" , 67] * 3"
   ]
  },
  {
   "cell_type": "code",
   "execution_count": 101,
   "id": "d50a6f21",
   "metadata": {},
   "outputs": [
    {
     "data": {
      "text/plain": [
       "[4, 5, 6, 7, 4, 5, 6, 7, 4, 5, 6, 7, 4, 5, 6, 7, 4, 5, 6, 7]"
      ]
     },
     "execution_count": 101,
     "metadata": {},
     "output_type": "execute_result"
    }
   ],
   "source": [
    "[4,5,6,7] * 5\n"
   ]
  },
  {
   "cell_type": "code",
   "execution_count": 108,
   "id": "b8758003",
   "metadata": {},
   "outputs": [
    {
     "name": "stdout",
     "output_type": "stream",
     "text": [
      "0\n",
      "2\n",
      "4\n",
      "6\n",
      "8\n"
     ]
    }
   ],
   "source": [
    "# range funcation\n",
    "for i in range(0,10,2):\n",
    "    print(i)"
   ]
  },
  {
   "cell_type": "code",
   "execution_count": 111,
   "id": "fac612f8",
   "metadata": {},
   "outputs": [
    {
     "data": {
      "text/plain": [
       "[0, 1, 2, 3, 4, 5, 6, 7, 8, 9, 10]"
      ]
     },
     "execution_count": 111,
     "metadata": {},
     "output_type": "execute_result"
    }
   ],
   "source": [
    "list(range(0,11))"
   ]
  },
  {
   "cell_type": "code",
   "execution_count": 115,
   "id": "a4c1bdb3",
   "metadata": {},
   "outputs": [
    {
     "data": {
      "text/plain": [
       "[0, 1, 2, 3, 4, 5, 6, 7, 8, 9, 10, 0, 1, 2, 3, 4, 5, 6, 7, 8, 9, 10]"
      ]
     },
     "execution_count": 115,
     "metadata": {},
     "output_type": "execute_result"
    }
   ],
   "source": [
    "list(range(11)) * 2"
   ]
  },
  {
   "cell_type": "code",
   "execution_count": 118,
   "id": "439ec83f",
   "metadata": {},
   "outputs": [
    {
     "name": "stdout",
     "output_type": "stream",
     "text": [
      "mira rafaliya\n",
      "mira rafaliya\n",
      "mira rafaliya\n",
      "\n"
     ]
    }
   ],
   "source": [
    "# repeat string :\n",
    "s1 = \"mira rafaliya\\n\"\n",
    "print(s1*3)"
   ]
  },
  {
   "cell_type": "code",
   "execution_count": 125,
   "id": "675c5d23",
   "metadata": {},
   "outputs": [],
   "source": [
    "s1 = \"mira_rafaliya  \" * 3"
   ]
  },
  {
   "cell_type": "code",
   "execution_count": 126,
   "id": "9385ea82",
   "metadata": {},
   "outputs": [
    {
     "data": {
      "text/plain": [
       "'mira_rafaliya  mira_rafaliya  mira_rafaliya  '"
      ]
     },
     "execution_count": 126,
     "metadata": {},
     "output_type": "execute_result"
    }
   ],
   "source": [
    "s1"
   ]
  },
  {
   "cell_type": "code",
   "execution_count": null,
   "id": "ac2d5a60",
   "metadata": {},
   "outputs": [],
   "source": []
  },
  {
   "cell_type": "code",
   "execution_count": null,
   "id": "37b2ccf0",
   "metadata": {},
   "outputs": [],
   "source": []
  },
  {
   "cell_type": "markdown",
   "id": "49709d3d",
   "metadata": {},
   "source": [
    "# list comprehension in python : \n",
    "## provides a concise way to create lists\n",
    "### it consist for clause and optionally, multiple for or if clauses"
   ]
  },
  {
   "cell_type": "code",
   "execution_count": null,
   "id": "0ff3bf3e",
   "metadata": {},
   "outputs": [],
   "source": [
    "# syntax :\n",
    "## [expression for item in iterable if condition]"
   ]
  },
  {
   "cell_type": "code",
   "execution_count": 4,
   "id": "f397b18e",
   "metadata": {},
   "outputs": [
    {
     "data": {
      "text/plain": [
       "[1, 2, 3, 4, 5, 6, 7, 8, 9, 10]"
      ]
     },
     "execution_count": 4,
     "metadata": {},
     "output_type": "execute_result"
    }
   ],
   "source": [
    "# create list of 10 numbers\n",
    "[i for i in range(1,11)]"
   ]
  },
  {
   "cell_type": "code",
   "execution_count": 5,
   "id": "ceebfe22",
   "metadata": {},
   "outputs": [
    {
     "data": {
      "text/plain": [
       "[0, 1, 4, 9, 16, 25, 36, 49, 64, 81]"
      ]
     },
     "execution_count": 5,
     "metadata": {},
     "output_type": "execute_result"
    }
   ],
   "source": [
    "# Create a list of squares for numbers from 0 to 9.\n",
    "[i**2 for i in range(10)]"
   ]
  },
  {
   "cell_type": "code",
   "execution_count": 6,
   "id": "2aa2261b",
   "metadata": {},
   "outputs": [
    {
     "data": {
      "text/plain": [
       "[0, 2, 4, 6, 8]"
      ]
     },
     "execution_count": 6,
     "metadata": {},
     "output_type": "execute_result"
    }
   ],
   "source": [
    "# Create a list of even numbers from 0 to 9.\n",
    "[i for i in range(10) if i%2==0]"
   ]
  },
  {
   "cell_type": "code",
   "execution_count": 11,
   "id": "ddf91144",
   "metadata": {},
   "outputs": [
    {
     "data": {
      "text/plain": [
       "[(0, 0),\n",
       " (1, 1),\n",
       " (2, 4),\n",
       " (3, 9),\n",
       " (4, 16),\n",
       " (5, 25),\n",
       " (6, 36),\n",
       " (7, 49),\n",
       " (8, 64),\n",
       " (9, 81)]"
      ]
     },
     "execution_count": 11,
     "metadata": {},
     "output_type": "execute_result"
    }
   ],
   "source": [
    "# Create a list of tuples (number, square) for numbers from 0 to 9.\n",
    "[(i,i**2) for i in range(10)]"
   ]
  },
  {
   "cell_type": "code",
   "execution_count": 14,
   "id": "be4b87db",
   "metadata": {},
   "outputs": [
    {
     "data": {
      "text/plain": [
       "[2, 4, 6, 8, 10, 12, 14, 16, 18, 20]"
      ]
     },
     "execution_count": 14,
     "metadata": {},
     "output_type": "execute_result"
    }
   ],
   "source": [
    "# Create a list of even numbers from 1 to 20.\n",
    "[i for i in range(1,21) if i%2==0]"
   ]
  },
  {
   "cell_type": "code",
   "execution_count": 26,
   "id": "585e4061",
   "metadata": {},
   "outputs": [
    {
     "data": {
      "text/plain": [
       "['a', 'b', 'c', 'd']"
      ]
     },
     "execution_count": 26,
     "metadata": {},
     "output_type": "execute_result"
    }
   ],
   "source": [
    "# Given a list of words, create a list of the first letter of each word.\n",
    "words = [\"apple\", \"banana\", \"cherry\", \"date\"]\n",
    "[i[0] for i in words]"
   ]
  },
  {
   "cell_type": "code",
   "execution_count": 29,
   "id": "5a08c2a7",
   "metadata": {},
   "outputs": [
    {
     "data": {
      "text/plain": [
       "[0.0, 20.0, 37.77777777777778, 100.0]"
      ]
     },
     "execution_count": 29,
     "metadata": {},
     "output_type": "execute_result"
    }
   ],
   "source": [
    "# Convert a list of temperatures in Fahrenheit to Celsius.\n",
    "fahrenheit = [32, 68, 100, 212]\n",
    "[(i - 32) * 5/9 for i in fahrenheit]"
   ]
  },
  {
   "cell_type": "code",
   "execution_count": 31,
   "id": "fa919ac4",
   "metadata": {},
   "outputs": [
    {
     "data": {
      "text/plain": [
       "['fig']"
      ]
     },
     "execution_count": 31,
     "metadata": {},
     "output_type": "execute_result"
    }
   ],
   "source": [
    "# Given a list of words, create a list of words that have less than 5 letters.\n",
    "words = [\"apple\", \"banana\", \"fig\", \"grape\"]\n",
    "[i for i in words if len(i)<5]"
   ]
  },
  {
   "cell_type": "code",
   "execution_count": 38,
   "id": "4fcfcc3a",
   "metadata": {},
   "outputs": [
    {
     "data": {
      "text/plain": [
       "[3, 6, 9, 12, 15, 18, 21, 24, 27, 30]"
      ]
     },
     "execution_count": 38,
     "metadata": {},
     "output_type": "execute_result"
    }
   ],
   "source": [
    "# Generate a list of the first 10 multiples of 3.\n",
    "[(3*i) for i in range(1,11)]"
   ]
  },
  {
   "cell_type": "code",
   "execution_count": 49,
   "id": "53ee2e72",
   "metadata": {},
   "outputs": [
    {
     "data": {
      "text/plain": [
       "['1', '2', '3', '4', '5', '6']"
      ]
     },
     "execution_count": 49,
     "metadata": {},
     "output_type": "execute_result"
    }
   ],
   "source": [
    "# Given a string, create a list of digits present in the string.\n",
    "string = \"abc123def456\"\n",
    "[i for i in string if i.isdigit() == True]"
   ]
  },
  {
   "cell_type": "code",
   "execution_count": 55,
   "id": "2776b640",
   "metadata": {},
   "outputs": [
    {
     "data": {
      "text/plain": [
       "['Apple', 'Banana', 'Cherry']"
      ]
     },
     "execution_count": 55,
     "metadata": {},
     "output_type": "execute_result"
    }
   ],
   "source": [
    "# Given a list of words, create a list of the words with the first letter capitalized.\n",
    "words = [\"apple\", \"banana\", \"cherry\"]\n",
    "[i.capitalize() for i in words]"
   ]
  },
  {
   "cell_type": "code",
   "execution_count": null,
   "id": "9ebac821",
   "metadata": {},
   "outputs": [],
   "source": []
  }
 ],
 "metadata": {
  "kernelspec": {
   "display_name": "Python 3 (ipykernel)",
   "language": "python",
   "name": "python3"
  },
  "language_info": {
   "codemirror_mode": {
    "name": "ipython",
    "version": 3
   },
   "file_extension": ".py",
   "mimetype": "text/x-python",
   "name": "python",
   "nbconvert_exporter": "python",
   "pygments_lexer": "ipython3",
   "version": "3.10.9"
  }
 },
 "nbformat": 4,
 "nbformat_minor": 5
}
