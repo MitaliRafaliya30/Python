{
 "cells": [
  {
   "cell_type": "code",
   "execution_count": 1,
   "id": "6831b056",
   "metadata": {},
   "outputs": [],
   "source": [
    "## = , copy() , deepcopy()"
   ]
  },
  {
   "cell_type": "code",
   "execution_count": 2,
   "id": "5712bc67",
   "metadata": {},
   "outputs": [],
   "source": [
    "## to understand this use mutable collection like list"
   ]
  },
  {
   "cell_type": "code",
   "execution_count": 3,
   "id": "ba72b8f9",
   "metadata": {},
   "outputs": [],
   "source": [
    "lst1 = [1,2,3,4]\n",
    "lst2 = lst1"
   ]
  },
  {
   "cell_type": "code",
   "execution_count": 4,
   "id": "d242732b",
   "metadata": {},
   "outputs": [
    {
     "data": {
      "text/plain": [
       "([1, 2, 3, 4], [1, 2, 3, 4])"
      ]
     },
     "execution_count": 4,
     "metadata": {},
     "output_type": "execute_result"
    }
   ],
   "source": [
    "lst1 , lst2"
   ]
  },
  {
   "cell_type": "code",
   "execution_count": 5,
   "id": "5a0ecb9f",
   "metadata": {},
   "outputs": [],
   "source": [
    "lst2[1] = 1000"
   ]
  },
  {
   "cell_type": "code",
   "execution_count": 6,
   "id": "c14c73c7",
   "metadata": {},
   "outputs": [
    {
     "data": {
      "text/plain": [
       "[1, 1000, 3, 4]"
      ]
     },
     "execution_count": 6,
     "metadata": {},
     "output_type": "execute_result"
    }
   ],
   "source": [
    "lst2"
   ]
  },
  {
   "cell_type": "code",
   "execution_count": 7,
   "id": "8e40de0e",
   "metadata": {},
   "outputs": [
    {
     "data": {
      "text/plain": [
       "[1, 1000, 3, 4]"
      ]
     },
     "execution_count": 7,
     "metadata": {},
     "output_type": "execute_result"
    }
   ],
   "source": [
    "lst1"
   ]
  },
  {
   "cell_type": "code",
   "execution_count": 8,
   "id": "3a7ebdf1",
   "metadata": {},
   "outputs": [],
   "source": [
    "# both variable reffering same memory location. If one of the variable change the element it will also get reflected in the memory... "
   ]
  },
  {
   "cell_type": "code",
   "execution_count": null,
   "id": "f47a3ca7",
   "metadata": {},
   "outputs": [],
   "source": []
  },
  {
   "cell_type": "code",
   "execution_count": 16,
   "id": "18bd386a",
   "metadata": {},
   "outputs": [],
   "source": [
    "# shallow copy : \n",
    "## 1- creates a new object\n",
    "## 2- if the original object contains nested objects, the new object will refer to the same objects.(same memory location)\n",
    "## 3- changes to nested objects affect both original and copy"
   ]
  },
  {
   "cell_type": "code",
   "execution_count": 17,
   "id": "44d791c3",
   "metadata": {},
   "outputs": [],
   "source": [
    "import copy"
   ]
  },
  {
   "cell_type": "code",
   "execution_count": 18,
   "id": "68a153eb",
   "metadata": {},
   "outputs": [],
   "source": [
    "lst1 = [ [1,2] , [3,4] ]"
   ]
  },
  {
   "cell_type": "code",
   "execution_count": 19,
   "id": "01734707",
   "metadata": {},
   "outputs": [],
   "source": [
    "lst2 = copy.copy(lst1)"
   ]
  },
  {
   "cell_type": "code",
   "execution_count": 20,
   "id": "45d9771b",
   "metadata": {},
   "outputs": [
    {
     "data": {
      "text/plain": [
       "[[1, 2], [3, 4]]"
      ]
     },
     "execution_count": 20,
     "metadata": {},
     "output_type": "execute_result"
    }
   ],
   "source": [
    "lst1"
   ]
  },
  {
   "cell_type": "code",
   "execution_count": 21,
   "id": "b780f786",
   "metadata": {},
   "outputs": [
    {
     "data": {
      "text/plain": [
       "[[1, 2], [3, 4]]"
      ]
     },
     "execution_count": 21,
     "metadata": {},
     "output_type": "execute_result"
    }
   ],
   "source": [
    "lst2"
   ]
  },
  {
   "cell_type": "code",
   "execution_count": 22,
   "id": "42344aee",
   "metadata": {},
   "outputs": [],
   "source": [
    "lst2[1][0] = 300"
   ]
  },
  {
   "cell_type": "code",
   "execution_count": 23,
   "id": "ccc48a7b",
   "metadata": {},
   "outputs": [
    {
     "data": {
      "text/plain": [
       "[[1, 2], [300, 4]]"
      ]
     },
     "execution_count": 23,
     "metadata": {},
     "output_type": "execute_result"
    }
   ],
   "source": [
    "lst2"
   ]
  },
  {
   "cell_type": "code",
   "execution_count": 24,
   "id": "df8736fe",
   "metadata": {},
   "outputs": [
    {
     "data": {
      "text/plain": [
       "[[1, 2], [300, 4]]"
      ]
     },
     "execution_count": 24,
     "metadata": {},
     "output_type": "execute_result"
    }
   ],
   "source": [
    "lst1"
   ]
  },
  {
   "cell_type": "code",
   "execution_count": null,
   "id": "ff0ecc0e",
   "metadata": {},
   "outputs": [],
   "source": []
  },
  {
   "cell_type": "code",
   "execution_count": 25,
   "id": "c456eb02",
   "metadata": {},
   "outputs": [],
   "source": [
    "# deep copy : \n",
    "## 1- creates a new object\n",
    "## 2- new object and the original object are completely independent of each other.\n",
    "## 3- so, both list points to the different memory location\n",
    "## 4- changes to nested objects do not affect the original"
   ]
  },
  {
   "cell_type": "code",
   "execution_count": 26,
   "id": "388cc61b",
   "metadata": {},
   "outputs": [],
   "source": [
    "lst1 = [[1,2] , [3,4]]"
   ]
  },
  {
   "cell_type": "code",
   "execution_count": 27,
   "id": "f6c5dea2",
   "metadata": {},
   "outputs": [],
   "source": [
    "lst2 = copy.deepcopy(lst1)"
   ]
  },
  {
   "cell_type": "code",
   "execution_count": 28,
   "id": "44148065",
   "metadata": {},
   "outputs": [
    {
     "data": {
      "text/plain": [
       "[[1, 2], [3, 4]]"
      ]
     },
     "execution_count": 28,
     "metadata": {},
     "output_type": "execute_result"
    }
   ],
   "source": [
    "lst2"
   ]
  },
  {
   "cell_type": "code",
   "execution_count": 12,
   "id": "c24815bf",
   "metadata": {},
   "outputs": [
    {
     "data": {
      "text/plain": [
       "[[1, 2], [3, 4]]"
      ]
     },
     "execution_count": 12,
     "metadata": {},
     "output_type": "execute_result"
    }
   ],
   "source": [
    "lst1"
   ]
  },
  {
   "cell_type": "code",
   "execution_count": 13,
   "id": "a5a9e7b6",
   "metadata": {},
   "outputs": [],
   "source": [
    "lst2[1][0] = 300"
   ]
  },
  {
   "cell_type": "code",
   "execution_count": 14,
   "id": "b61f7187",
   "metadata": {},
   "outputs": [
    {
     "data": {
      "text/plain": [
       "[[1, 2], [300, 4]]"
      ]
     },
     "execution_count": 14,
     "metadata": {},
     "output_type": "execute_result"
    }
   ],
   "source": [
    "lst2"
   ]
  },
  {
   "cell_type": "code",
   "execution_count": 15,
   "id": "94a71c15",
   "metadata": {},
   "outputs": [
    {
     "data": {
      "text/plain": [
       "[[1, 2], [3, 4]]"
      ]
     },
     "execution_count": 15,
     "metadata": {},
     "output_type": "execute_result"
    }
   ],
   "source": [
    "lst1"
   ]
  },
  {
   "cell_type": "code",
   "execution_count": null,
   "id": "9ca27376",
   "metadata": {},
   "outputs": [],
   "source": []
  },
  {
   "cell_type": "code",
   "execution_count": null,
   "id": "4a70b32e",
   "metadata": {},
   "outputs": [],
   "source": []
  },
  {
   "cell_type": "code",
   "execution_count": 37,
   "id": "38c5e72d",
   "metadata": {},
   "outputs": [],
   "source": [
    "# for 1D list : deep copy and shallow copy perform same (changes doesn't reflect)"
   ]
  },
  {
   "cell_type": "code",
   "execution_count": 38,
   "id": "31831fea",
   "metadata": {},
   "outputs": [],
   "source": [
    "lst1 = [1,2,3,4]"
   ]
  },
  {
   "cell_type": "code",
   "execution_count": 39,
   "id": "55180fb7",
   "metadata": {},
   "outputs": [],
   "source": [
    "lst2 = copy.copy(lst1)"
   ]
  },
  {
   "cell_type": "code",
   "execution_count": 40,
   "id": "49de22ff",
   "metadata": {},
   "outputs": [
    {
     "data": {
      "text/plain": [
       "[1, 2, 3, 4]"
      ]
     },
     "execution_count": 40,
     "metadata": {},
     "output_type": "execute_result"
    }
   ],
   "source": [
    "lst1"
   ]
  },
  {
   "cell_type": "code",
   "execution_count": 41,
   "id": "ffc2f1e1",
   "metadata": {},
   "outputs": [
    {
     "data": {
      "text/plain": [
       "[1, 2, 3, 4]"
      ]
     },
     "execution_count": 41,
     "metadata": {},
     "output_type": "execute_result"
    }
   ],
   "source": [
    "lst2"
   ]
  },
  {
   "cell_type": "code",
   "execution_count": 42,
   "id": "c00f4281",
   "metadata": {},
   "outputs": [],
   "source": [
    "lst1[2] = 300"
   ]
  },
  {
   "cell_type": "code",
   "execution_count": 43,
   "id": "1b417055",
   "metadata": {},
   "outputs": [
    {
     "data": {
      "text/plain": [
       "[1, 2, 300, 4]"
      ]
     },
     "execution_count": 43,
     "metadata": {},
     "output_type": "execute_result"
    }
   ],
   "source": [
    "lst1"
   ]
  },
  {
   "cell_type": "code",
   "execution_count": 44,
   "id": "bb0a2878",
   "metadata": {},
   "outputs": [
    {
     "data": {
      "text/plain": [
       "[1, 2, 3, 4]"
      ]
     },
     "execution_count": 44,
     "metadata": {},
     "output_type": "execute_result"
    }
   ],
   "source": [
    "lst2"
   ]
  },
  {
   "cell_type": "code",
   "execution_count": null,
   "id": "95439950",
   "metadata": {},
   "outputs": [],
   "source": []
  },
  {
   "cell_type": "code",
   "execution_count": null,
   "id": "4ca906b0",
   "metadata": {},
   "outputs": [],
   "source": []
  },
  {
   "cell_type": "code",
   "execution_count": null,
   "id": "092752ff",
   "metadata": {},
   "outputs": [],
   "source": []
  },
  {
   "cell_type": "code",
   "execution_count": null,
   "id": "c82b60c3",
   "metadata": {},
   "outputs": [],
   "source": []
  },
  {
   "cell_type": "code",
   "execution_count": null,
   "id": "cb2de333",
   "metadata": {},
   "outputs": [],
   "source": []
  },
  {
   "cell_type": "code",
   "execution_count": null,
   "id": "511c0351",
   "metadata": {},
   "outputs": [],
   "source": []
  }
 ],
 "metadata": {
  "kernelspec": {
   "display_name": "Python 3 (ipykernel)",
   "language": "python",
   "name": "python3"
  },
  "language_info": {
   "codemirror_mode": {
    "name": "ipython",
    "version": 3
   },
   "file_extension": ".py",
   "mimetype": "text/x-python",
   "name": "python",
   "nbconvert_exporter": "python",
   "pygments_lexer": "ipython3",
   "version": "3.10.9"
  }
 },
 "nbformat": 4,
 "nbformat_minor": 5
}
