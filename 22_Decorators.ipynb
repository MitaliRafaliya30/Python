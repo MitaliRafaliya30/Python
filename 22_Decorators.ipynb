{
 "cells": [
  {
   "cell_type": "code",
   "execution_count": 1,
   "id": "a98c8ee5",
   "metadata": {},
   "outputs": [],
   "source": [
    "# Decorators"
   ]
  },
  {
   "cell_type": "code",
   "execution_count": 4,
   "id": "24910686",
   "metadata": {},
   "outputs": [],
   "source": [
    "# here greet is decorator function to decorate hello function\n",
    "def greet(fx):\n",
    "    def mfx():\n",
    "        print(\"welcome to the function\")\n",
    "        fx()\n",
    "        print(\"thanks for visiting function\")\n",
    "    return mfx \n"
   ]
  },
  {
   "cell_type": "code",
   "execution_count": 3,
   "id": "5abb8631",
   "metadata": {},
   "outputs": [],
   "source": [
    "@greet\n",
    "def hello():\n",
    "    print(\"hello world\")"
   ]
  },
  {
   "cell_type": "code",
   "execution_count": 57,
   "id": "e21a604f",
   "metadata": {},
   "outputs": [
    {
     "name": "stdout",
     "output_type": "stream",
     "text": [
      "welcome to the function\n",
      "hello world\n",
      "thanks for visiting function\n"
     ]
    }
   ],
   "source": [
    "# same as greet(hello)()\n",
    "hello()"
   ]
  },
  {
   "cell_type": "code",
   "execution_count": null,
   "id": "f0c0d80e",
   "metadata": {},
   "outputs": [],
   "source": []
  },
  {
   "cell_type": "code",
   "execution_count": 58,
   "id": "c51027cb",
   "metadata": {},
   "outputs": [],
   "source": [
    "# here greet is decorator function to decorate addition function\n",
    "def greet(func):\n",
    "    def f1():\n",
    "        print(\"program to perform addition of to number \")\n",
    "        func()\n",
    "        print(\"addition is done successfully!!..\")\n",
    "    return f1\n"
   ]
  },
  {
   "cell_type": "code",
   "execution_count": 59,
   "id": "d6168327",
   "metadata": {},
   "outputs": [],
   "source": [
    "@greet\n",
    "def addition():\n",
    "    print(\"sum is\" ,2+4)"
   ]
  },
  {
   "cell_type": "code",
   "execution_count": 60,
   "id": "13ae2ac3",
   "metadata": {},
   "outputs": [
    {
     "name": "stdout",
     "output_type": "stream",
     "text": [
      "program to perform addition of to number \n",
      "sum is 6\n",
      "addition is done successfully!!..\n"
     ]
    }
   ],
   "source": [
    "# same as greet(addition)()\n",
    "addition()"
   ]
  },
  {
   "cell_type": "code",
   "execution_count": null,
   "id": "d70afbf3",
   "metadata": {},
   "outputs": [],
   "source": []
  },
  {
   "cell_type": "code",
   "execution_count": 61,
   "id": "cfc55552",
   "metadata": {},
   "outputs": [],
   "source": [
    "# with arguments valo function hoi to "
   ]
  },
  {
   "cell_type": "code",
   "execution_count": 62,
   "id": "30a85dc5",
   "metadata": {},
   "outputs": [],
   "source": [
    "def greet(func):\n",
    "    def mfx(*args , **kwargs):\n",
    "        print(\"program to perform addition of to number \")\n",
    "        func(*args , **kwargs)\n",
    "        print(\"addition is done successfully!!..\")\n",
    "    return mfx\n",
    "\n",
    "# *args  : take arguments as a tuple\n",
    "# **kwargs : take arguments as a dictonary"
   ]
  },
  {
   "cell_type": "code",
   "execution_count": 63,
   "id": "ffcc3756",
   "metadata": {},
   "outputs": [],
   "source": [
    "@greet\n",
    "def addition(a,b):\n",
    "    print(a+b)"
   ]
  },
  {
   "cell_type": "code",
   "execution_count": 64,
   "id": "54d19d19",
   "metadata": {},
   "outputs": [
    {
     "name": "stdout",
     "output_type": "stream",
     "text": [
      "program to perform addition of to number \n",
      "6\n",
      "addition is done successfully!!..\n"
     ]
    }
   ],
   "source": [
    "# @greet mention na kryu hoi to use  ----  greet(addition)(2,3) \n",
    "addition(3,3)"
   ]
  },
  {
   "cell_type": "code",
   "execution_count": null,
   "id": "0482d9ec",
   "metadata": {},
   "outputs": [],
   "source": []
  },
  {
   "cell_type": "code",
   "execution_count": null,
   "id": "7ec89eaa",
   "metadata": {},
   "outputs": [],
   "source": []
  },
  {
   "cell_type": "code",
   "execution_count": null,
   "id": "fc956c37",
   "metadata": {},
   "outputs": [],
   "source": []
  }
 ],
 "metadata": {
  "kernelspec": {
   "display_name": "Python 3 (ipykernel)",
   "language": "python",
   "name": "python3"
  },
  "language_info": {
   "codemirror_mode": {
    "name": "ipython",
    "version": 3
   },
   "file_extension": ".py",
   "mimetype": "text/x-python",
   "name": "python",
   "nbconvert_exporter": "python",
   "pygments_lexer": "ipython3",
   "version": "3.10.9"
  }
 },
 "nbformat": 4,
 "nbformat_minor": 5
}
