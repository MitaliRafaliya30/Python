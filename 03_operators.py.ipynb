{
 "cells": [
  {
   "cell_type": "markdown",
   "id": "fc7ec821",
   "metadata": {},
   "source": [
    "# w3 school for theory"
   ]
  },
  {
   "cell_type": "markdown",
   "id": "7b668266",
   "metadata": {},
   "source": [
    "# Arithmetic operator "
   ]
  },
  {
   "cell_type": "code",
   "execution_count": 32,
   "id": "7d1234e8",
   "metadata": {},
   "outputs": [],
   "source": [
    "a = 22\n",
    "b = 3"
   ]
  },
  {
   "cell_type": "code",
   "execution_count": 33,
   "id": "52cd46e8",
   "metadata": {},
   "outputs": [
    {
     "data": {
      "text/plain": [
       "25"
      ]
     },
     "execution_count": 33,
     "metadata": {},
     "output_type": "execute_result"
    }
   ],
   "source": [
    "add = a + b\n",
    "add"
   ]
  },
  {
   "cell_type": "code",
   "execution_count": 34,
   "id": "0622a2a9",
   "metadata": {},
   "outputs": [
    {
     "data": {
      "text/plain": [
       "19"
      ]
     },
     "execution_count": 34,
     "metadata": {},
     "output_type": "execute_result"
    }
   ],
   "source": [
    "sub = a - b\n",
    "sub"
   ]
  },
  {
   "cell_type": "code",
   "execution_count": 35,
   "id": "b79e38db",
   "metadata": {},
   "outputs": [
    {
     "data": {
      "text/plain": [
       "66"
      ]
     },
     "execution_count": 35,
     "metadata": {},
     "output_type": "execute_result"
    }
   ],
   "source": [
    "multi = a * b\n",
    "multi"
   ]
  },
  {
   "cell_type": "code",
   "execution_count": 36,
   "id": "ab33512b",
   "metadata": {},
   "outputs": [
    {
     "data": {
      "text/plain": [
       "7.333333333333333"
      ]
     },
     "execution_count": 36,
     "metadata": {},
     "output_type": "execute_result"
    }
   ],
   "source": [
    "div = a / b\n",
    "div"
   ]
  },
  {
   "cell_type": "code",
   "execution_count": 37,
   "id": "26465662",
   "metadata": {},
   "outputs": [
    {
     "data": {
      "text/plain": [
       "1"
      ]
     },
     "execution_count": 37,
     "metadata": {},
     "output_type": "execute_result"
    }
   ],
   "source": [
    "modulus = a % b\n",
    "modulus"
   ]
  },
  {
   "cell_type": "code",
   "execution_count": 38,
   "id": "ab67dbaf",
   "metadata": {},
   "outputs": [
    {
     "data": {
      "text/plain": [
       "10648"
      ]
     },
     "execution_count": 38,
     "metadata": {},
     "output_type": "execute_result"
    }
   ],
   "source": [
    "expo = a**b # (22**3)\n",
    "expo"
   ]
  },
  {
   "cell_type": "code",
   "execution_count": null,
   "id": "79ed4e18",
   "metadata": {},
   "outputs": [],
   "source": []
  },
  {
   "cell_type": "code",
   "execution_count": null,
   "id": "54b8fee0",
   "metadata": {},
   "outputs": [],
   "source": []
  },
  {
   "cell_type": "code",
   "execution_count": 39,
   "id": "7cd0d0ea",
   "metadata": {},
   "outputs": [
    {
     "data": {
      "text/plain": [
       "7"
      ]
     },
     "execution_count": 39,
     "metadata": {},
     "output_type": "execute_result"
    }
   ],
   "source": [
    "floor_div = a // b\n",
    "floor_div"
   ]
  },
  {
   "cell_type": "code",
   "execution_count": 40,
   "id": "9fb5ae71",
   "metadata": {},
   "outputs": [
    {
     "data": {
      "text/plain": [
       "7.333333333333333"
      ]
     },
     "execution_count": 40,
     "metadata": {},
     "output_type": "execute_result"
    }
   ],
   "source": [
    "a / b"
   ]
  },
  {
   "cell_type": "markdown",
   "id": "89afa240",
   "metadata": {},
   "source": [
    "# comparision operator : It returns true or false"
   ]
  },
  {
   "cell_type": "code",
   "execution_count": 41,
   "id": "04901a7b",
   "metadata": {},
   "outputs": [
    {
     "data": {
      "text/plain": [
       "False"
      ]
     },
     "execution_count": 41,
     "metadata": {},
     "output_type": "execute_result"
    }
   ],
   "source": [
    "a == b"
   ]
  },
  {
   "cell_type": "code",
   "execution_count": 42,
   "id": "ec905e0d",
   "metadata": {},
   "outputs": [
    {
     "data": {
      "text/plain": [
       "True"
      ]
     },
     "execution_count": 42,
     "metadata": {},
     "output_type": "execute_result"
    }
   ],
   "source": [
    "a != b"
   ]
  },
  {
   "cell_type": "code",
   "execution_count": 43,
   "id": "f2fca3e5",
   "metadata": {},
   "outputs": [
    {
     "data": {
      "text/plain": [
       "True"
      ]
     },
     "execution_count": 43,
     "metadata": {},
     "output_type": "execute_result"
    }
   ],
   "source": [
    "a > b"
   ]
  },
  {
   "cell_type": "code",
   "execution_count": 44,
   "id": "b028ee99",
   "metadata": {},
   "outputs": [
    {
     "data": {
      "text/plain": [
       "False"
      ]
     },
     "execution_count": 44,
     "metadata": {},
     "output_type": "execute_result"
    }
   ],
   "source": [
    "a < b"
   ]
  },
  {
   "cell_type": "code",
   "execution_count": 45,
   "id": "70886741",
   "metadata": {},
   "outputs": [
    {
     "data": {
      "text/plain": [
       "False"
      ]
     },
     "execution_count": 45,
     "metadata": {},
     "output_type": "execute_result"
    }
   ],
   "source": [
    "a<=b"
   ]
  },
  {
   "cell_type": "code",
   "execution_count": 46,
   "id": "06198132",
   "metadata": {},
   "outputs": [
    {
     "data": {
      "text/plain": [
       "True"
      ]
     },
     "execution_count": 46,
     "metadata": {},
     "output_type": "execute_result"
    }
   ],
   "source": [
    "a>=b"
   ]
  },
  {
   "cell_type": "markdown",
   "id": "aa814471",
   "metadata": {},
   "source": [
    "# membership operator :two types of membership operators: 'in' and 'not in'. These operators are used to test whether a value or variable is a member of a sequence, such as a string, list, or tuple."
   ]
  },
  {
   "cell_type": "code",
   "execution_count": null,
   "id": "81a09628",
   "metadata": {},
   "outputs": [],
   "source": [
    "# in : return true if prasent \n",
    "# not in : return true if not prasent "
   ]
  },
  {
   "cell_type": "code",
   "execution_count": 47,
   "id": "46d58aa1",
   "metadata": {},
   "outputs": [],
   "source": [
    "tp1 = (23 , 67.8 , 'NIVYA' , False , 'Densi' , 62 , 6789, 12 , 65.78)"
   ]
  },
  {
   "cell_type": "code",
   "execution_count": 48,
   "id": "b7681c17",
   "metadata": {},
   "outputs": [
    {
     "data": {
      "text/plain": [
       "True"
      ]
     },
     "execution_count": 48,
     "metadata": {},
     "output_type": "execute_result"
    }
   ],
   "source": [
    "print('NIVYA' in tp1)"
   ]
  },
  {
   "cell_type": "code",
   "execution_count": 50,
   "id": "440de8ec",
   "metadata": {},
   "outputs": [
    {
     "name": "stdout",
     "output_type": "stream",
     "text": [
      "True\n"
     ]
    }
   ],
   "source": [
    "print('DHARA' not in tp1)"
   ]
  },
  {
   "cell_type": "code",
   "execution_count": null,
   "id": "be7b2470",
   "metadata": {},
   "outputs": [],
   "source": []
  },
  {
   "cell_type": "code",
   "execution_count": null,
   "id": "6bee59c5",
   "metadata": {},
   "outputs": [],
   "source": []
  },
  {
   "cell_type": "markdown",
   "id": "ee669ec7",
   "metadata": {},
   "source": [
    "# Logical operators : used to combine conditional statements"
   ]
  },
  {
   "cell_type": "code",
   "execution_count": 52,
   "id": "f48c392a",
   "metadata": {},
   "outputs": [
    {
     "name": "stdout",
     "output_type": "stream",
     "text": [
      "True\n"
     ]
    }
   ],
   "source": [
    "# and : Returns True if both statements are true\n",
    "x = 5\n",
    "print(x>3 and x<10)"
   ]
  },
  {
   "cell_type": "code",
   "execution_count": 55,
   "id": "d73dbccb",
   "metadata": {},
   "outputs": [
    {
     "name": "stdout",
     "output_type": "stream",
     "text": [
      "False\n"
     ]
    }
   ],
   "source": [
    "# or : Returns True if one of the statements is true\n",
    "x = 5\n",
    "print(x>34 or x>10)"
   ]
  },
  {
   "cell_type": "code",
   "execution_count": 57,
   "id": "64e75cc6",
   "metadata": {},
   "outputs": [
    {
     "name": "stdout",
     "output_type": "stream",
     "text": [
      "False\n"
     ]
    }
   ],
   "source": [
    "# not : Reverse the result, returns False if the result is true\n",
    "x = 5\n",
    "print(not(x>3 and x>1))"
   ]
  },
  {
   "cell_type": "code",
   "execution_count": 59,
   "id": "44b3a5a4",
   "metadata": {},
   "outputs": [
    {
     "name": "stdout",
     "output_type": "stream",
     "text": [
      "True\n"
     ]
    }
   ],
   "source": [
    "print(not(x>34 or x>10))"
   ]
  },
  {
   "cell_type": "code",
   "execution_count": null,
   "id": "85c307fd",
   "metadata": {},
   "outputs": [],
   "source": []
  },
  {
   "cell_type": "markdown",
   "id": "dcb3d570",
   "metadata": {},
   "source": [
    "# identity operator :\n",
    "# 1) is  2) is not \n",
    "## is a comparision operator that use to check whether 2 objects are pointing to same memory location or not "
   ]
  },
  {
   "cell_type": "code",
   "execution_count": 12,
   "id": "78f54cd1",
   "metadata": {},
   "outputs": [
    {
     "name": "stdout",
     "output_type": "stream",
     "text": [
      "location of a 2572611354992\n",
      "location of b 2572611354992\n",
      "location of d 2572611355024\n"
     ]
    }
   ],
   "source": [
    "# is\n",
    "\n",
    "a = 5\n",
    "b = a\n",
    "\n",
    "d = 6\n",
    "\n",
    "print(\"location of a\" , id(a))\n",
    "print(\"location of b\" , id(b))\n",
    "\n",
    "print(\"location of d\" , id(d))"
   ]
  },
  {
   "cell_type": "code",
   "execution_count": null,
   "id": "dc775d86",
   "metadata": {},
   "outputs": [],
   "source": []
  },
  {
   "cell_type": "code",
   "execution_count": 67,
   "id": "d12e514e",
   "metadata": {},
   "outputs": [
    {
     "data": {
      "text/plain": [
       "True"
      ]
     },
     "execution_count": 67,
     "metadata": {},
     "output_type": "execute_result"
    }
   ],
   "source": [
    "b is a"
   ]
  },
  {
   "cell_type": "code",
   "execution_count": 68,
   "id": "5e899be3",
   "metadata": {},
   "outputs": [
    {
     "data": {
      "text/plain": [
       "True"
      ]
     },
     "execution_count": 68,
     "metadata": {},
     "output_type": "execute_result"
    }
   ],
   "source": [
    "a is b"
   ]
  },
  {
   "cell_type": "code",
   "execution_count": 71,
   "id": "7e44ccc8",
   "metadata": {},
   "outputs": [],
   "source": [
    "# is not \n",
    "x = 5\n",
    "y = 13"
   ]
  },
  {
   "cell_type": "code",
   "execution_count": 73,
   "id": "b39c9338",
   "metadata": {},
   "outputs": [
    {
     "data": {
      "text/plain": [
       "True"
      ]
     },
     "execution_count": 73,
     "metadata": {},
     "output_type": "execute_result"
    }
   ],
   "source": [
    "x is not y"
   ]
  },
  {
   "cell_type": "code",
   "execution_count": null,
   "id": "b44aa32f",
   "metadata": {},
   "outputs": [],
   "source": []
  },
  {
   "cell_type": "markdown",
   "id": "7cce39ef",
   "metadata": {},
   "source": [
    "# Bitwise operators are used to compare (binary) numbers"
   ]
  },
  {
   "cell_type": "code",
   "execution_count": 96,
   "id": "32e44a4b",
   "metadata": {},
   "outputs": [
    {
     "data": {
      "text/plain": [
       "'0b10'"
      ]
     },
     "execution_count": 96,
     "metadata": {},
     "output_type": "execute_result"
    }
   ],
   "source": [
    "# to know binary representation of any number \n",
    "bin(2)"
   ]
  },
  {
   "cell_type": "code",
   "execution_count": null,
   "id": "387481c7",
   "metadata": {},
   "outputs": [],
   "source": []
  },
  {
   "cell_type": "code",
   "execution_count": 93,
   "id": "371e5f19",
   "metadata": {},
   "outputs": [
    {
     "data": {
      "text/plain": [
       "2"
      ]
     },
     "execution_count": 93,
     "metadata": {},
     "output_type": "execute_result"
    }
   ],
   "source": [
    "# AND\n",
    "18 & 10"
   ]
  },
  {
   "cell_type": "code",
   "execution_count": 94,
   "id": "67d16b27",
   "metadata": {},
   "outputs": [
    {
     "data": {
      "text/plain": [
       "'0b10010'"
      ]
     },
     "execution_count": 94,
     "metadata": {},
     "output_type": "execute_result"
    }
   ],
   "source": [
    "bin(18)"
   ]
  },
  {
   "cell_type": "code",
   "execution_count": 95,
   "id": "a0ec3c4f",
   "metadata": {},
   "outputs": [
    {
     "data": {
      "text/plain": [
       "'0b1010'"
      ]
     },
     "execution_count": 95,
     "metadata": {},
     "output_type": "execute_result"
    }
   ],
   "source": [
    "bin(10)"
   ]
  },
  {
   "cell_type": "code",
   "execution_count": 98,
   "id": "61816c4b",
   "metadata": {},
   "outputs": [
    {
     "data": {
      "text/plain": [
       "26"
      ]
     },
     "execution_count": 98,
     "metadata": {},
     "output_type": "execute_result"
    }
   ],
   "source": [
    "# OR\n",
    "18 | 10"
   ]
  },
  {
   "cell_type": "code",
   "execution_count": 15,
   "id": "95e16908",
   "metadata": {},
   "outputs": [
    {
     "data": {
      "text/plain": [
       "-4"
      ]
     },
     "execution_count": 15,
     "metadata": {},
     "output_type": "execute_result"
    }
   ],
   "source": [
    "# NOT \n",
    "~3"
   ]
  },
  {
   "cell_type": "code",
   "execution_count": 16,
   "id": "56829736",
   "metadata": {},
   "outputs": [
    {
     "data": {
      "text/plain": [
       "5"
      ]
     },
     "execution_count": 16,
     "metadata": {},
     "output_type": "execute_result"
    }
   ],
   "source": [
    "# XOR\n",
    "6 ^ 3"
   ]
  },
  {
   "cell_type": "code",
   "execution_count": 17,
   "id": "b05a1972",
   "metadata": {},
   "outputs": [
    {
     "data": {
      "text/plain": [
       "12"
      ]
     },
     "execution_count": 17,
     "metadata": {},
     "output_type": "execute_result"
    }
   ],
   "source": [
    "# Left shift\n",
    "3 << 2"
   ]
  },
  {
   "cell_type": "code",
   "execution_count": 19,
   "id": "ec6cc060",
   "metadata": {},
   "outputs": [
    {
     "data": {
      "text/plain": [
       "2"
      ]
     },
     "execution_count": 19,
     "metadata": {},
     "output_type": "execute_result"
    }
   ],
   "source": [
    "# right shift\n",
    "8 >> 2"
   ]
  },
  {
   "cell_type": "code",
   "execution_count": null,
   "id": "af5444dd",
   "metadata": {},
   "outputs": [],
   "source": []
  },
  {
   "cell_type": "markdown",
   "id": "9dceb490",
   "metadata": {},
   "source": [
    "# Order of Operator precedence : \n",
    "## Execution of python statements from left to right "
   ]
  },
  {
   "cell_type": "code",
   "execution_count": 20,
   "id": "3dec55db",
   "metadata": {},
   "outputs": [],
   "source": [
    "# like    -    first () then * / then + -"
   ]
  },
  {
   "cell_type": "code",
   "execution_count": 21,
   "id": "da10da7d",
   "metadata": {},
   "outputs": [
    {
     "data": {
      "text/plain": [
       "4"
      ]
     },
     "execution_count": 21,
     "metadata": {},
     "output_type": "execute_result"
    }
   ],
   "source": [
    "3+ 6 - 5\n"
   ]
  },
  {
   "cell_type": "code",
   "execution_count": null,
   "id": "75baea7c",
   "metadata": {},
   "outputs": [],
   "source": []
  }
 ],
 "metadata": {
  "kernelspec": {
   "display_name": "Python 3 (ipykernel)",
   "language": "python",
   "name": "python3"
  },
  "language_info": {
   "codemirror_mode": {
    "name": "ipython",
    "version": 3
   },
   "file_extension": ".py",
   "mimetype": "text/x-python",
   "name": "python",
   "nbconvert_exporter": "python",
   "pygments_lexer": "ipython3",
   "version": "3.10.9"
  }
 },
 "nbformat": 4,
 "nbformat_minor": 5
}
