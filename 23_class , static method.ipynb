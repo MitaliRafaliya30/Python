{
 "cells": [
  {
   "cell_type": "code",
   "execution_count": 162,
   "id": "9bf5b0cc",
   "metadata": {},
   "outputs": [],
   "source": [
    "class student:\n",
    "    \n",
    "    @classmethod\n",
    "    def stud_info(cls,name):\n",
    "        print(f\"name of student is {name}\")"
   ]
  },
  {
   "cell_type": "code",
   "execution_count": 163,
   "id": "8fae6962",
   "metadata": {},
   "outputs": [
    {
     "name": "stdout",
     "output_type": "stream",
     "text": [
      "name of student is mira\n"
     ]
    }
   ],
   "source": [
    "# directly call this class method through class student rather than calling through the object\n",
    "student.stud_info(\"mira\")"
   ]
  },
  {
   "cell_type": "code",
   "execution_count": null,
   "id": "5d7361fb",
   "metadata": {},
   "outputs": [],
   "source": []
  },
  {
   "cell_type": "code",
   "execution_count": 108,
   "id": "4f04bcbd",
   "metadata": {},
   "outputs": [],
   "source": [
    "# 2)"
   ]
  },
  {
   "cell_type": "code",
   "execution_count": 109,
   "id": "5b7e44c5",
   "metadata": {},
   "outputs": [
    {
     "name": "stdout",
     "output_type": "stream",
     "text": [
      "10\n",
      "40\n"
     ]
    }
   ],
   "source": [
    "class MyClass:\n",
    "    def __init__(self, value):\n",
    "        self.value = value\n",
    "\n",
    "    @classmethod\n",
    "    def val_print(cls, value1):\n",
    "        return cls(value1)            # here this method return new instance of the class \n",
    "\n",
    "\n",
    "obj1 = MyClass(10)\n",
    "print(obj1.value)     # Output: 10 \n",
    "\n",
    "\n",
    "obj2 = MyClass.val_print(40)        # returns a new instance of MyClass by passing 40 to the __init__ method.\n",
    "print(obj2.value)    # Output: 40    "
   ]
  },
  {
   "cell_type": "markdown",
   "id": "d30d8ad9",
   "metadata": {},
   "source": [
    "### val_print Class Method:\n",
    "\n",
    "### here, it defined as an alternative way to create an instance of MyClass. However, it currently just passes the value1 directly to the __init__ method."
   ]
  },
  {
   "cell_type": "raw",
   "id": "e55c7b9f",
   "metadata": {},
   "source": [
    "What Happens in the Code:\n",
    "\n",
    "Creating obj1:\n",
    "\n",
    "obj1 = MyClass(10)\n",
    "Here, 10 is passed to the __init__ method, so self.value is set to 10. The output is 10 when you print obj1.value.\n",
    "\n",
    "\n",
    "Creating obj2:\n",
    "obj2 = MyClass.val_print(40)\n",
    "The val_print method is called with 40. This method, as written, simply returns a new instance of MyClass by passing 40 to the __init__ method. Therefore, self.value in obj2 is set to 40.\n",
    "\n",
    "\n",
    "Why the Output is 40:\n",
    "Since val_print just passes the 40 directly to the __init__ method, obj2.value is set to 40.\n"
   ]
  },
  {
   "cell_type": "code",
   "execution_count": null,
   "id": "c09c5c51",
   "metadata": {},
   "outputs": [],
   "source": []
  },
  {
   "cell_type": "code",
   "execution_count": 110,
   "id": "64f4d919",
   "metadata": {},
   "outputs": [],
   "source": [
    "class fruits:\n",
    "    def __init__(self,name):\n",
    "        self.name = name\n",
    "        \n",
    "    @classmethod\n",
    "    def f2(cls , name_f2):\n",
    "        return cls(name_f2)\n",
    "    "
   ]
  },
  {
   "cell_type": "code",
   "execution_count": 111,
   "id": "022896e5",
   "metadata": {},
   "outputs": [],
   "source": [
    "obj1 = fruits.f2(\"banana\")"
   ]
  },
  {
   "cell_type": "code",
   "execution_count": 112,
   "id": "f8fcb30b",
   "metadata": {},
   "outputs": [
    {
     "data": {
      "text/plain": [
       "'banana'"
      ]
     },
     "execution_count": 112,
     "metadata": {},
     "output_type": "execute_result"
    }
   ],
   "source": [
    "obj1.name"
   ]
  },
  {
   "cell_type": "code",
   "execution_count": 113,
   "id": "fffcfb31",
   "metadata": {},
   "outputs": [],
   "source": [
    "obj1.name = \"orange\""
   ]
  },
  {
   "cell_type": "code",
   "execution_count": 114,
   "id": "139adc5b",
   "metadata": {},
   "outputs": [],
   "source": [
    "obj2 = fruits.f2(\"mango\")"
   ]
  },
  {
   "cell_type": "code",
   "execution_count": 115,
   "id": "54fbe83f",
   "metadata": {},
   "outputs": [
    {
     "data": {
      "text/plain": [
       "'mango'"
      ]
     },
     "execution_count": 115,
     "metadata": {},
     "output_type": "execute_result"
    }
   ],
   "source": [
    "obj2.name"
   ]
  },
  {
   "cell_type": "code",
   "execution_count": null,
   "id": "9c80def1",
   "metadata": {},
   "outputs": [],
   "source": []
  },
  {
   "cell_type": "code",
   "execution_count": null,
   "id": "77a6c2cc",
   "metadata": {},
   "outputs": [],
   "source": []
  },
  {
   "cell_type": "code",
   "execution_count": 116,
   "id": "f0397de0",
   "metadata": {},
   "outputs": [],
   "source": [
    "# 3)"
   ]
  },
  {
   "cell_type": "markdown",
   "id": "0c305fd0",
   "metadata": {},
   "source": [
    "#  class method is used to modify the value of a class attribute shared across all instances of the class."
   ]
  },
  {
   "cell_type": "markdown",
   "id": "cf791d23",
   "metadata": {},
   "source": [
    "## usecase / example :"
   ]
  },
  {
   "cell_type": "markdown",
   "id": "f6a1a265",
   "metadata": {},
   "source": [
    "### Imagine a bank where all accounts have a common interest rate. This interest rate is the same for every account, and if the bank decides to change the interest rate, it should affect all existing accounts. This can be achieved using a class method.\n",
    "\n"
   ]
  },
  {
   "cell_type": "code",
   "execution_count": 117,
   "id": "642ffefe",
   "metadata": {},
   "outputs": [
    {
     "name": "stdout",
     "output_type": "stream",
     "text": [
      "Initial interest rate: 0.03\n",
      "Interest on account1: 30.0\n",
      "Interest on account2: 60.0\n",
      "Updated interest rate: 0.05\n",
      "Interest on account1 after rate change: 50.0\n",
      "Interest on account2 after rate change: 100.0\n"
     ]
    }
   ],
   "source": [
    "class BankAccount:\n",
    "    # Class attribute for the interest rate, shared by all accounts\n",
    "    interest_rate = 0.03  # 3% interest rate\n",
    "    \n",
    "    def __init__(self, owner, balance):\n",
    "        self.owner = owner\n",
    "        self.balance = balance\n",
    "    \n",
    "    # Class method to modify the interest rate for all accounts\n",
    "    @classmethod\n",
    "    def set_interest_rate(cls, new_rate):\n",
    "        cls.interest_rate = new_rate\n",
    "    \n",
    "    # Instance method to calculate interest based on the current interest rate\n",
    "    def calculate_interest(self):\n",
    "        return self.balance * self.interest_rate\n",
    "\n",
    "# Creating instances of the BankAccount class\n",
    "account1 = BankAccount(\"Alice\", 1000)\n",
    "account2 = BankAccount(\"Bob\", 2000)\n",
    "\n",
    "# Accessing the class attribute 'interest_rate' through instances\n",
    "print(f\"Initial interest rate: {account1.interest_rate}\")  # Output: 0.03\n",
    "print(f\"Interest on account1: {account1.calculate_interest()}\")  # Output: 30.0\n",
    "print(f\"Interest on account2: {account2.calculate_interest()}\")  # Output: 60.0\n",
    "\n",
    "# The bank decides to change the interest rate\n",
    "BankAccount.set_interest_rate(0.05)  # New interest rate is 5%\n",
    "\n",
    "# Now all instances reflect the change in interest rate\n",
    "print(f\"Updated interest rate: {account1.interest_rate}\")  # Output: 0.05\n",
    "print(f\"Interest on account1 after rate change: {account1.calculate_interest()}\")  # Output: 50.0\n",
    "print(f\"Interest on account2 after rate change: {account2.calculate_interest()}\")  # Output: 100.0\n"
   ]
  },
  {
   "cell_type": "markdown",
   "id": "c521465c",
   "metadata": {},
   "source": [
    "# Why This is Useful:\n",
    "### Consistency: By using a class method to change the interest rate, you ensure that all accounts are updated simultaneously, maintaining consistency across the system.\n",
    "### Efficiency: Instead of manually updating each account's interest rate, the class method allows for a single update that automatically applies to all instances.\n"
   ]
  },
  {
   "cell_type": "code",
   "execution_count": null,
   "id": "20d6df5c",
   "metadata": {},
   "outputs": [],
   "source": []
  },
  {
   "cell_type": "code",
   "execution_count": null,
   "id": "6c46e0ae",
   "metadata": {},
   "outputs": [],
   "source": []
  },
  {
   "cell_type": "code",
   "execution_count": 118,
   "id": "714b83b7",
   "metadata": {},
   "outputs": [],
   "source": [
    "# 4)"
   ]
  },
  {
   "cell_type": "markdown",
   "id": "6c36ae9b",
   "metadata": {},
   "source": [
    "# To make external function as a class method "
   ]
  },
  {
   "cell_type": "markdown",
   "id": "f472f8d4",
   "metadata": {},
   "source": [
    "### 1) pass cls in external function\n",
    "### 2) in classmethod() func pass external func name\n",
    "### 3) store it into (classname.func name) variable \n",
    "### 4) now u can access classmethod through class "
   ]
  },
  {
   "cell_type": "code",
   "execution_count": 119,
   "id": "c54aeb04",
   "metadata": {},
   "outputs": [],
   "source": [
    "# external function \n",
    "def account_details(ac_no):\n",
    "    print(\"your account number is \", ac_no)"
   ]
  },
  {
   "cell_type": "code",
   "execution_count": 120,
   "id": "289c967c",
   "metadata": {},
   "outputs": [],
   "source": [
    "# make external function as a class method \n",
    "def account_details(cls , ac_no):\n",
    "    print(\"your account number is \", ac_no)\n",
    "    \n",
    "BankAccount.account_details = classmethod(account_details)"
   ]
  },
  {
   "cell_type": "code",
   "execution_count": 121,
   "id": "f2c734a3",
   "metadata": {},
   "outputs": [
    {
     "name": "stdout",
     "output_type": "stream",
     "text": [
      "your account number is  202020234\n"
     ]
    }
   ],
   "source": [
    "BankAccount.account_details(202020234)"
   ]
  },
  {
   "cell_type": "code",
   "execution_count": null,
   "id": "0b5de4e2",
   "metadata": {},
   "outputs": [],
   "source": []
  },
  {
   "cell_type": "code",
   "execution_count": null,
   "id": "89dcab47",
   "metadata": {},
   "outputs": [],
   "source": []
  },
  {
   "cell_type": "markdown",
   "id": "638b90e5",
   "metadata": {},
   "source": [
    "# delete class method :"
   ]
  },
  {
   "cell_type": "code",
   "execution_count": 123,
   "id": "2f35a157",
   "metadata": {},
   "outputs": [
    {
     "ename": "AttributeError",
     "evalue": "account_details",
     "output_type": "error",
     "traceback": [
      "\u001b[1;31m---------------------------------------------------------------------------\u001b[0m",
      "\u001b[1;31mAttributeError\u001b[0m                            Traceback (most recent call last)",
      "Cell \u001b[1;32mIn[123], line 2\u001b[0m\n\u001b[0;32m      1\u001b[0m \u001b[38;5;66;03m# 1st way\u001b[39;00m\n\u001b[1;32m----> 2\u001b[0m \u001b[38;5;28;01mdel\u001b[39;00m BankAccount\u001b[38;5;241m.\u001b[39maccount_details\n",
      "\u001b[1;31mAttributeError\u001b[0m: account_details"
     ]
    }
   ],
   "source": [
    "# 1st way\n",
    "del BankAccount.account_details"
   ]
  },
  {
   "cell_type": "code",
   "execution_count": 122,
   "id": "2807fb63",
   "metadata": {},
   "outputs": [],
   "source": [
    "# 2nd way\n",
    "delattr(BankAccount,\"account_details\")"
   ]
  },
  {
   "cell_type": "code",
   "execution_count": null,
   "id": "3187a818",
   "metadata": {},
   "outputs": [],
   "source": []
  },
  {
   "cell_type": "code",
   "execution_count": null,
   "id": "47e3baa3",
   "metadata": {},
   "outputs": [],
   "source": []
  },
  {
   "cell_type": "markdown",
   "id": "42db2942",
   "metadata": {},
   "source": [
    "# Static Method : "
   ]
  },
  {
   "cell_type": "markdown",
   "id": "77be3aff",
   "metadata": {},
   "source": [
    "### It cannot access or modify class or instance attribute\n",
    "### It doesn't take cls or self as argument\n",
    "### It doesn't depend on class or instance\n",
    "### It behaves like a plain function that belongs to class\n",
    "\n",
    "\n",
    "### to define it @staticmethod decorator is used "
   ]
  },
  {
   "cell_type": "code",
   "execution_count": null,
   "id": "e571c3ba",
   "metadata": {},
   "outputs": [],
   "source": []
  },
  {
   "cell_type": "code",
   "execution_count": 159,
   "id": "4f176762",
   "metadata": {},
   "outputs": [],
   "source": [
    "class calculator:\n",
    "    \n",
    "    @staticmethod\n",
    "    def add(x,y):\n",
    "        return x+y\n",
    "    "
   ]
  },
  {
   "cell_type": "code",
   "execution_count": 160,
   "id": "14caf24d",
   "metadata": {},
   "outputs": [],
   "source": [
    "obj = calculator()"
   ]
  },
  {
   "cell_type": "code",
   "execution_count": 161,
   "id": "d7980148",
   "metadata": {},
   "outputs": [
    {
     "data": {
      "text/plain": [
       "4"
      ]
     },
     "execution_count": 161,
     "metadata": {},
     "output_type": "execute_result"
    }
   ],
   "source": [
    "obj.add(2,2)"
   ]
  },
  {
   "cell_type": "code",
   "execution_count": null,
   "id": "6756708a",
   "metadata": {},
   "outputs": [],
   "source": []
  },
  {
   "cell_type": "code",
   "execution_count": null,
   "id": "99d4a6d3",
   "metadata": {},
   "outputs": [],
   "source": []
  },
  {
   "cell_type": "code",
   "execution_count": null,
   "id": "78c6f5cc",
   "metadata": {},
   "outputs": [],
   "source": []
  },
  {
   "cell_type": "code",
   "execution_count": null,
   "id": "9f40f60c",
   "metadata": {},
   "outputs": [],
   "source": []
  },
  {
   "cell_type": "code",
   "execution_count": null,
   "id": "b5b585c8",
   "metadata": {},
   "outputs": [],
   "source": []
  }
 ],
 "metadata": {
  "kernelspec": {
   "display_name": "Python 3 (ipykernel)",
   "language": "python",
   "name": "python3"
  },
  "language_info": {
   "codemirror_mode": {
    "name": "ipython",
    "version": 3
   },
   "file_extension": ".py",
   "mimetype": "text/x-python",
   "name": "python",
   "nbconvert_exporter": "python",
   "pygments_lexer": "ipython3",
   "version": "3.10.9"
  }
 },
 "nbformat": 4,
 "nbformat_minor": 5
}
