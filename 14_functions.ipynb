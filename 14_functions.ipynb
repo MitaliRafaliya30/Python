{
 "cells": [
  {
   "cell_type": "code",
   "execution_count": 88,
   "id": "ba360249",
   "metadata": {},
   "outputs": [],
   "source": [
    "import math"
   ]
  },
  {
   "cell_type": "markdown",
   "id": "17637516",
   "metadata": {},
   "source": [
    "# ceil and floor : used to round numbers up and down\n",
    "## math.ceil(x) :\n",
    "- Rounds x up to the nearest integer\n",
    "## math.floor(x) :\n",
    "- Rounds x down to the nearest integer"
   ]
  },
  {
   "cell_type": "code",
   "execution_count": 89,
   "id": "474601c2",
   "metadata": {},
   "outputs": [
    {
     "data": {
      "text/plain": [
       "11"
      ]
     },
     "execution_count": 89,
     "metadata": {},
     "output_type": "execute_result"
    }
   ],
   "source": [
    "math.ceil(10.45)"
   ]
  },
  {
   "cell_type": "code",
   "execution_count": 90,
   "id": "a139aff7",
   "metadata": {},
   "outputs": [
    {
     "data": {
      "text/plain": [
       "10"
      ]
     },
     "execution_count": 90,
     "metadata": {},
     "output_type": "execute_result"
    }
   ],
   "source": [
    "math.floor(10.45)"
   ]
  },
  {
   "cell_type": "code",
   "execution_count": 91,
   "id": "bece3417",
   "metadata": {},
   "outputs": [],
   "source": [
    "# make function for greeting:\n",
    "def greeting(name):\n",
    "    print(f\"{name} welcome to the pw skills course..\")"
   ]
  },
  {
   "cell_type": "code",
   "execution_count": 92,
   "id": "6fb99d5c",
   "metadata": {},
   "outputs": [
    {
     "name": "stdout",
     "output_type": "stream",
     "text": [
      "kristal welcome to the pw skills course..\n"
     ]
    }
   ],
   "source": [
    "#positional arg:\n",
    "greeting(\"kristal\")"
   ]
  },
  {
   "cell_type": "code",
   "execution_count": 93,
   "id": "12fe2922",
   "metadata": {},
   "outputs": [],
   "source": [
    "#default agr:\n",
    "def greeting(name = \"kristal\"):\n",
    "    print(f\"{name} welcome to the pw skills course..\")"
   ]
  },
  {
   "cell_type": "code",
   "execution_count": 94,
   "id": "f56cbbec",
   "metadata": {},
   "outputs": [
    {
     "name": "stdout",
     "output_type": "stream",
     "text": [
      "kristal welcome to the pw skills course..\n"
     ]
    }
   ],
   "source": [
    "greeting()"
   ]
  },
  {
   "cell_type": "code",
   "execution_count": 95,
   "id": "c06c42b5",
   "metadata": {},
   "outputs": [],
   "source": [
    "#keyword arg:\n",
    "def greeting(name):\n",
    "    print(f\"{name} welcome to the pw skills course..\")"
   ]
  },
  {
   "cell_type": "code",
   "execution_count": 96,
   "id": "473abc07",
   "metadata": {},
   "outputs": [
    {
     "name": "stdout",
     "output_type": "stream",
     "text": [
      "kristal welcome to the pw skills course..\n"
     ]
    }
   ],
   "source": [
    "greeting(name = \"kristal\")"
   ]
  },
  {
   "cell_type": "code",
   "execution_count": 97,
   "id": "0d1a88ff",
   "metadata": {},
   "outputs": [],
   "source": [
    "# variable length args:\n",
    "def greeting(*name):\n",
    "    print(f\"{name} welcome to the pw skills course..\")"
   ]
  },
  {
   "cell_type": "code",
   "execution_count": 98,
   "id": "c2bc9909",
   "metadata": {},
   "outputs": [
    {
     "name": "stdout",
     "output_type": "stream",
     "text": [
      "('ashva', 'ruhi', 'mayra') welcome to the pw skills course..\n"
     ]
    }
   ],
   "source": [
    "greeting(\"ashva\" , \"ruhi\" , 'mayra')"
   ]
  },
  {
   "cell_type": "code",
   "execution_count": 99,
   "id": "0ee79f19",
   "metadata": {},
   "outputs": [],
   "source": [
    "# keyword variable length args:\n",
    "def greeting(**name):\n",
    "    print(f\"{name} welcome to the pw skills course..\")"
   ]
  },
  {
   "cell_type": "code",
   "execution_count": 100,
   "id": "e5ad3fc2",
   "metadata": {},
   "outputs": [
    {
     "name": "stdout",
     "output_type": "stream",
     "text": [
      "{'n1': 'ashva', 'n2': 'ruhi', 'n3': 'mayra'} welcome to the pw skills course..\n"
     ]
    }
   ],
   "source": [
    "greeting(n1 = \"ashva\" , n2 = \"ruhi\" , n3 =  'mayra')"
   ]
  },
  {
   "cell_type": "code",
   "execution_count": null,
   "id": "cde9a6c5",
   "metadata": {},
   "outputs": [],
   "source": []
  },
  {
   "cell_type": "code",
   "execution_count": 113,
   "id": "dac511e1",
   "metadata": {},
   "outputs": [],
   "source": [
    "# func without arg:\n",
    "def first_func():\n",
    "    return \"this is my first function\" "
   ]
  },
  {
   "cell_type": "code",
   "execution_count": 114,
   "id": "abc34e77",
   "metadata": {},
   "outputs": [
    {
     "data": {
      "text/plain": [
       "'this is my first function'"
      ]
     },
     "execution_count": 114,
     "metadata": {},
     "output_type": "execute_result"
    }
   ],
   "source": [
    "first_func()"
   ]
  },
  {
   "cell_type": "code",
   "execution_count": 115,
   "id": "b1f15a25",
   "metadata": {},
   "outputs": [
    {
     "data": {
      "text/plain": [
       "str"
      ]
     },
     "execution_count": 115,
     "metadata": {},
     "output_type": "execute_result"
    }
   ],
   "source": [
    "type(first_func())"
   ]
  },
  {
   "cell_type": "markdown",
   "id": "c2d7c16f",
   "metadata": {},
   "source": [
    "## note it :\n",
    "### when function return somthing we can concate string when we call that function, otherwise we cannot concate to the function call.. (func should be without args)"
   ]
  },
  {
   "cell_type": "code",
   "execution_count": null,
   "id": "aa6ec645",
   "metadata": {},
   "outputs": [],
   "source": []
  },
  {
   "cell_type": "code",
   "execution_count": 135,
   "id": "4043b8a8",
   "metadata": {},
   "outputs": [],
   "source": [
    "def stud_info(roll_no , name , div):\n",
    "        return roll_no,name,div"
   ]
  },
  {
   "cell_type": "code",
   "execution_count": 138,
   "id": "52eff2e4",
   "metadata": {},
   "outputs": [],
   "source": [
    "r , n ,d = stud_info(151 , \"mira\" , \"C\")"
   ]
  },
  {
   "cell_type": "code",
   "execution_count": 139,
   "id": "8563d21c",
   "metadata": {},
   "outputs": [
    {
     "data": {
      "text/plain": [
       "151"
      ]
     },
     "execution_count": 139,
     "metadata": {},
     "output_type": "execute_result"
    }
   ],
   "source": [
    "r"
   ]
  },
  {
   "cell_type": "code",
   "execution_count": 140,
   "id": "1c278fc5",
   "metadata": {},
   "outputs": [
    {
     "data": {
      "text/plain": [
       "'mira'"
      ]
     },
     "execution_count": 140,
     "metadata": {},
     "output_type": "execute_result"
    }
   ],
   "source": [
    "n"
   ]
  },
  {
   "cell_type": "code",
   "execution_count": 141,
   "id": "3765e286",
   "metadata": {},
   "outputs": [
    {
     "data": {
      "text/plain": [
       "'C'"
      ]
     },
     "execution_count": 141,
     "metadata": {},
     "output_type": "execute_result"
    }
   ],
   "source": [
    "d"
   ]
  },
  {
   "cell_type": "markdown",
   "id": "17303c37",
   "metadata": {},
   "source": [
    "# note it :\n",
    "## when function return multiple items store it into diff diff variable when we call to the function"
   ]
  },
  {
   "cell_type": "code",
   "execution_count": 148,
   "id": "38d87c56",
   "metadata": {},
   "outputs": [],
   "source": [
    "res = stud_info(152 , \"gaurang\" , \"C\")"
   ]
  },
  {
   "cell_type": "code",
   "execution_count": 149,
   "id": "686588be",
   "metadata": {},
   "outputs": [
    {
     "data": {
      "text/plain": [
       "152"
      ]
     },
     "execution_count": 149,
     "metadata": {},
     "output_type": "execute_result"
    }
   ],
   "source": [
    "res[0]"
   ]
  },
  {
   "cell_type": "markdown",
   "id": "fc97e2d7",
   "metadata": {},
   "source": [
    "## we can access diff values by just assigning to one var (res) by indexing"
   ]
  },
  {
   "cell_type": "code",
   "execution_count": 150,
   "id": "6b5f6f5f",
   "metadata": {},
   "outputs": [],
   "source": [
    "#write a function that takes list as input and return all numeric values in a list"
   ]
  },
  {
   "cell_type": "code",
   "execution_count": 197,
   "id": "4b007fac",
   "metadata": {},
   "outputs": [],
   "source": [
    "def n_list(a):\n",
    "    n = []\n",
    "    for i in a:\n",
    "        n.append(i)\n",
    "    print(n)"
   ]
  },
  {
   "cell_type": "code",
   "execution_count": 199,
   "id": "577247a4",
   "metadata": {},
   "outputs": [
    {
     "name": "stdout",
     "output_type": "stream",
     "text": [
      "[2, 4, 3, 5, 6, 7, 8, 6]\n"
     ]
    }
   ],
   "source": [
    "n_list([2,4,3,5,6,7,8,6])"
   ]
  },
  {
   "cell_type": "code",
   "execution_count": 200,
   "id": "ce35c9ef",
   "metadata": {},
   "outputs": [],
   "source": [
    "def lst():\n",
    "    l = []\n",
    "    for i in range(20):\n",
    "        l.append(i)\n",
    "    return l"
   ]
  },
  {
   "cell_type": "code",
   "execution_count": 201,
   "id": "6cb6439b",
   "metadata": {},
   "outputs": [
    {
     "data": {
      "text/plain": [
       "[0, 1, 2, 3, 4, 5, 6, 7, 8, 9, 10, 11, 12, 13, 14, 15, 16, 17, 18, 19]"
      ]
     },
     "execution_count": 201,
     "metadata": {},
     "output_type": "execute_result"
    }
   ],
   "source": [
    "lst()"
   ]
  },
  {
   "cell_type": "code",
   "execution_count": 202,
   "id": "312234cc",
   "metadata": {},
   "outputs": [],
   "source": []
  },
  {
   "cell_type": "markdown",
   "id": "2d62e926",
   "metadata": {},
   "source": [
    "# Namespace in python :\n",
    "#### It is a container that holds a collection of identifiers such as variable name, function name, class name with their corresponding objects such as values , functions , instance of the class."
   ]
  },
  {
   "cell_type": "markdown",
   "id": "912a19e4",
   "metadata": {},
   "source": [
    "types of namespace :\n",
    "### 1) local (within a function)\n",
    "### 2) global (top level of a module or script)\n",
    "### 3) built-in (built-in func, types, exceptions like print , list..)\n",
    "### 4) Module (functions within module)\n",
    "### 5) class (contains attribute and methods)"
   ]
  },
  {
   "cell_type": "code",
   "execution_count": null,
   "id": "c33ec945",
   "metadata": {},
   "outputs": [],
   "source": []
  },
  {
   "cell_type": "markdown",
   "id": "00a16966",
   "metadata": {},
   "source": [
    "# Nested function in python :\n",
    "### A nested function is a function defined inside another function.\n",
    "### inner function is only called within the outer function.\n",
    "### inner fun has access to variable and parameter of outer func.\n",
    "### inner func is not accessible outside the outer func."
   ]
  },
  {
   "cell_type": "code",
   "execution_count": 15,
   "id": "1f629100",
   "metadata": {},
   "outputs": [],
   "source": [
    "## Syntax :\n",
    "def outer_fun():\n",
    "    def inner_fun():\n",
    "        print(\"code of inner function\")\n",
    "    inner_fun()\n",
    "    print(\"outer function code\")"
   ]
  },
  {
   "cell_type": "code",
   "execution_count": 16,
   "id": "29782411",
   "metadata": {},
   "outputs": [
    {
     "name": "stdout",
     "output_type": "stream",
     "text": [
      "code of inner function\n",
      "outer function code\n"
     ]
    }
   ],
   "source": [
    "outer_fun()"
   ]
  },
  {
   "cell_type": "code",
   "execution_count": 24,
   "id": "07364856",
   "metadata": {},
   "outputs": [],
   "source": [
    "def outer_fun(greet):\n",
    "    def inner_fun():\n",
    "        print(greet , \"this is the code of inner func\")\n",
    "    inner_fun()\n",
    "    print(\"outer function code\")"
   ]
  },
  {
   "cell_type": "code",
   "execution_count": 25,
   "id": "7492b096",
   "metadata": {},
   "outputs": [
    {
     "name": "stdout",
     "output_type": "stream",
     "text": [
      "hello dosto.. this is the code of inner func\n",
      "outer function code\n"
     ]
    }
   ],
   "source": [
    "outer_fun(\"hello dosto..\")"
   ]
  },
  {
   "cell_type": "markdown",
   "id": "05b3daa6",
   "metadata": {},
   "source": [
    "#Use Cases :\n",
    "### Encapsulation: To hide the inner function from the global scope.\n",
    "\n",
    "### Modularity: To logically group functionality"
   ]
  },
  {
   "cell_type": "code",
   "execution_count": null,
   "id": "da9f74d4",
   "metadata": {},
   "outputs": [],
   "source": []
  }
 ],
 "metadata": {
  "kernelspec": {
   "display_name": "Python 3 (ipykernel)",
   "language": "python",
   "name": "python3"
  },
  "language_info": {
   "codemirror_mode": {
    "name": "ipython",
    "version": 3
   },
   "file_extension": ".py",
   "mimetype": "text/x-python",
   "name": "python",
   "nbconvert_exporter": "python",
   "pygments_lexer": "ipython3",
   "version": "3.10.9"
  }
 },
 "nbformat": 4,
 "nbformat_minor": 5
}
