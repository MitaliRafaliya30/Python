{
 "cells": [
  {
   "cell_type": "code",
   "execution_count": 4,
   "id": "0f4441c3",
   "metadata": {},
   "outputs": [],
   "source": [
    "#syntax\n",
    "# class baseclass:\n",
    "#     #code\n",
    "    \n",
    "# class Derived(baseclass):\n",
    "#     #code"
   ]
  },
  {
   "cell_type": "code",
   "execution_count": 5,
   "id": "a377e4ef",
   "metadata": {},
   "outputs": [],
   "source": [
    "# 1) single inheritance"
   ]
  },
  {
   "cell_type": "code",
   "execution_count": 6,
   "id": "3baa53b7",
   "metadata": {},
   "outputs": [],
   "source": [
    "class father:\n",
    "    def father_property(self):\n",
    "        print(\"tthis is the father's property\")"
   ]
  },
  {
   "cell_type": "code",
   "execution_count": 7,
   "id": "e8080d88",
   "metadata": {},
   "outputs": [],
   "source": [
    "class son(father):\n",
    "    def job(self):\n",
    "        print(\"son has property from father\")"
   ]
  },
  {
   "cell_type": "code",
   "execution_count": 8,
   "id": "bab35e21",
   "metadata": {},
   "outputs": [],
   "source": [
    "c_obj = son()"
   ]
  },
  {
   "cell_type": "code",
   "execution_count": 9,
   "id": "76e1f1cd",
   "metadata": {},
   "outputs": [
    {
     "name": "stdout",
     "output_type": "stream",
     "text": [
      "son has property from father\n"
     ]
    }
   ],
   "source": [
    "c_obj.job()"
   ]
  },
  {
   "cell_type": "code",
   "execution_count": 10,
   "id": "e8cf899e",
   "metadata": {},
   "outputs": [
    {
     "name": "stdout",
     "output_type": "stream",
     "text": [
      "tthis is the father's property\n"
     ]
    }
   ],
   "source": [
    "c_obj.father_property()"
   ]
  },
  {
   "cell_type": "code",
   "execution_count": 12,
   "id": "7b54e12c",
   "metadata": {},
   "outputs": [],
   "source": [
    "p_obj = father()"
   ]
  },
  {
   "cell_type": "code",
   "execution_count": 13,
   "id": "31fddfbc",
   "metadata": {},
   "outputs": [
    {
     "name": "stdout",
     "output_type": "stream",
     "text": [
      "tthis is the father's property\n"
     ]
    }
   ],
   "source": [
    "p_obj.father_property()"
   ]
  },
  {
   "cell_type": "code",
   "execution_count": null,
   "id": "f9beb1aa",
   "metadata": {},
   "outputs": [],
   "source": []
  },
  {
   "cell_type": "code",
   "execution_count": 15,
   "id": "25520ecf",
   "metadata": {},
   "outputs": [],
   "source": [
    "class fruit:\n",
    "    def fruit_info(self):\n",
    "        print(\"Inside parent class\")"
   ]
  },
  {
   "cell_type": "code",
   "execution_count": 16,
   "id": "1c787074",
   "metadata": {},
   "outputs": [],
   "source": [
    "class Apple(fruit):\n",
    "    def apple_info(self):\n",
    "        print(\"inside the child class\")"
   ]
  },
  {
   "cell_type": "code",
   "execution_count": 17,
   "id": "41a5c701",
   "metadata": {},
   "outputs": [],
   "source": [
    "obj_c = Apple()"
   ]
  },
  {
   "cell_type": "code",
   "execution_count": 18,
   "id": "88fb11e3",
   "metadata": {},
   "outputs": [
    {
     "name": "stdout",
     "output_type": "stream",
     "text": [
      "inside the child class\n"
     ]
    }
   ],
   "source": [
    "obj_c.apple_info()"
   ]
  },
  {
   "cell_type": "code",
   "execution_count": 19,
   "id": "0eb3baeb",
   "metadata": {},
   "outputs": [
    {
     "name": "stdout",
     "output_type": "stream",
     "text": [
      "Inside parent class\n"
     ]
    }
   ],
   "source": [
    "obj_c.fruit_info()"
   ]
  },
  {
   "cell_type": "code",
   "execution_count": 20,
   "id": "2d1ffd9e",
   "metadata": {},
   "outputs": [],
   "source": [
    "obj_p = fruit()"
   ]
  },
  {
   "cell_type": "markdown",
   "id": "203b0e9c",
   "metadata": {},
   "source": [
    "# Method overriding : \n",
    "## A method with is in child and parent class with the same name and same number of arguments but each perform diff task which is called as a method overriding  "
   ]
  },
  {
   "cell_type": "markdown",
   "id": "0f756f69",
   "metadata": {},
   "source": [
    "# why method overriding : \n",
    "## by this child class can change functions that are defined by its parent class"
   ]
  },
  {
   "cell_type": "code",
   "execution_count": 27,
   "id": "7d59d639",
   "metadata": {},
   "outputs": [],
   "source": [
    "# overridding :\n",
    "\n",
    "class fruit:\n",
    "    def fruit_info(self):\n",
    "        print(\"Inside parent class\")\n",
    "        \n",
    "class Apple(fruit):\n",
    "    def fruit_info(self):\n",
    "        print(\"inside child class\")\n",
    "    def apple_info(self):\n",
    "        print(\"inside the child class\")"
   ]
  },
  {
   "cell_type": "code",
   "execution_count": 24,
   "id": "3c4b2799",
   "metadata": {},
   "outputs": [],
   "source": [
    "obj_c = Apple()"
   ]
  },
  {
   "cell_type": "code",
   "execution_count": 25,
   "id": "b44ebf4b",
   "metadata": {},
   "outputs": [
    {
     "name": "stdout",
     "output_type": "stream",
     "text": [
      "inside child class\n"
     ]
    }
   ],
   "source": [
    "obj_c.fruit_info()"
   ]
  },
  {
   "cell_type": "code",
   "execution_count": 26,
   "id": "f8d42516",
   "metadata": {},
   "outputs": [
    {
     "name": "stdout",
     "output_type": "stream",
     "text": [
      "inside child class\n"
     ]
    }
   ],
   "source": [
    "obj_c.fruit_info()"
   ]
  },
  {
   "cell_type": "code",
   "execution_count": null,
   "id": "b6915b5b",
   "metadata": {},
   "outputs": [],
   "source": []
  },
  {
   "cell_type": "code",
   "execution_count": null,
   "id": "c6b29cff",
   "metadata": {},
   "outputs": [],
   "source": []
  },
  {
   "cell_type": "code",
   "execution_count": 29,
   "id": "0c2e4c6e",
   "metadata": {},
   "outputs": [],
   "source": [
    "# multi level inheritance"
   ]
  },
  {
   "cell_type": "code",
   "execution_count": 39,
   "id": "8bfd119b",
   "metadata": {},
   "outputs": [],
   "source": [
    "class mamma:\n",
    "    def mira_mumma(self):\n",
    "        print(\"she is mira's mumma\")\n",
    "        \n",
    "class mira(mamma):\n",
    "    def miraa(self):\n",
    "        print(\"she is mira\")\n",
    "        \n",
    "class mira_bacha(mira):\n",
    "    def miraa_bacha(self):\n",
    "        print(\"she is mira's bacha\")"
   ]
  },
  {
   "cell_type": "code",
   "execution_count": 40,
   "id": "e821e557",
   "metadata": {},
   "outputs": [],
   "source": [
    "obj3 = mira_bacha()"
   ]
  },
  {
   "cell_type": "code",
   "execution_count": 41,
   "id": "f776d21c",
   "metadata": {},
   "outputs": [
    {
     "name": "stdout",
     "output_type": "stream",
     "text": [
      "she is mira's bacha\n"
     ]
    }
   ],
   "source": [
    "obj3.miraa_bacha()"
   ]
  },
  {
   "cell_type": "code",
   "execution_count": 42,
   "id": "4349e4d3",
   "metadata": {},
   "outputs": [
    {
     "name": "stdout",
     "output_type": "stream",
     "text": [
      "she is mira\n"
     ]
    }
   ],
   "source": [
    "obj3.miraa()"
   ]
  },
  {
   "cell_type": "code",
   "execution_count": 43,
   "id": "41110684",
   "metadata": {},
   "outputs": [
    {
     "name": "stdout",
     "output_type": "stream",
     "text": [
      "she is mira's mumma\n"
     ]
    }
   ],
   "source": [
    "obj3.mira_mumma()"
   ]
  },
  {
   "cell_type": "code",
   "execution_count": 48,
   "id": "5cbc40c6",
   "metadata": {},
   "outputs": [],
   "source": [
    "obj2 = mira()"
   ]
  },
  {
   "cell_type": "code",
   "execution_count": 51,
   "id": "0348b236",
   "metadata": {},
   "outputs": [
    {
     "name": "stdout",
     "output_type": "stream",
     "text": [
      "she is mira\n"
     ]
    }
   ],
   "source": [
    "obj2.miraa()"
   ]
  },
  {
   "cell_type": "code",
   "execution_count": 52,
   "id": "d0d519dc",
   "metadata": {},
   "outputs": [
    {
     "name": "stdout",
     "output_type": "stream",
     "text": [
      "she is mira's mumma\n"
     ]
    }
   ],
   "source": [
    "obj2.mira_mumma()"
   ]
  },
  {
   "cell_type": "code",
   "execution_count": 55,
   "id": "2cb2bc7b",
   "metadata": {},
   "outputs": [],
   "source": [
    "obj1 = mamma()"
   ]
  },
  {
   "cell_type": "code",
   "execution_count": 58,
   "id": "cc2b4ad2",
   "metadata": {},
   "outputs": [
    {
     "name": "stdout",
     "output_type": "stream",
     "text": [
      "she is mira's mumma\n"
     ]
    }
   ],
   "source": [
    "obj1.mira_mumma()"
   ]
  },
  {
   "cell_type": "code",
   "execution_count": null,
   "id": "b0bd9d60",
   "metadata": {},
   "outputs": [],
   "source": []
  },
  {
   "cell_type": "code",
   "execution_count": 74,
   "id": "aa698fc6",
   "metadata": {},
   "outputs": [],
   "source": [
    "# usecase :\n",
    "class vehicle:\n",
    "    def vehicle_info(self):\n",
    "        print(\"inside vehicle class\")\n",
    "        \n",
    "class car(vehicle):\n",
    "    def car_info(self):\n",
    "        print(\"inside car class\")\n",
    "        \n",
    "class sportscar(car):\n",
    "    def sportscar_info(self):\n",
    "        print(\"inside sports car class \")\n",
    "        \n",
    "class sportscarmodel(sportscar):\n",
    "    def sportscarmodel_info(self):\n",
    "        print(\"inside sportscarmodel class\")"
   ]
  },
  {
   "cell_type": "code",
   "execution_count": 75,
   "id": "c3032b75",
   "metadata": {},
   "outputs": [],
   "source": [
    "s = sportscar()"
   ]
  },
  {
   "cell_type": "code",
   "execution_count": 76,
   "id": "6ddebc48",
   "metadata": {},
   "outputs": [
    {
     "name": "stdout",
     "output_type": "stream",
     "text": [
      "inside sports car class \n"
     ]
    }
   ],
   "source": [
    "s.sportscar_info()"
   ]
  },
  {
   "cell_type": "code",
   "execution_count": 77,
   "id": "48b0174e",
   "metadata": {},
   "outputs": [
    {
     "name": "stdout",
     "output_type": "stream",
     "text": [
      "inside car class\n"
     ]
    }
   ],
   "source": [
    "s.car_info()"
   ]
  },
  {
   "cell_type": "code",
   "execution_count": 78,
   "id": "6253fbe2",
   "metadata": {},
   "outputs": [
    {
     "name": "stdout",
     "output_type": "stream",
     "text": [
      "inside vehicle class\n"
     ]
    }
   ],
   "source": [
    "s.vehicle_info()"
   ]
  },
  {
   "cell_type": "code",
   "execution_count": 79,
   "id": "a0eb4ee5",
   "metadata": {},
   "outputs": [],
   "source": [
    "s2 = sportscarmodel()"
   ]
  },
  {
   "cell_type": "code",
   "execution_count": 80,
   "id": "6d6eced3",
   "metadata": {},
   "outputs": [
    {
     "name": "stdout",
     "output_type": "stream",
     "text": [
      "inside car class\n"
     ]
    }
   ],
   "source": [
    "s2.car_info()"
   ]
  },
  {
   "cell_type": "code",
   "execution_count": null,
   "id": "ad3ff000",
   "metadata": {},
   "outputs": [],
   "source": []
  },
  {
   "cell_type": "code",
   "execution_count": 81,
   "id": "d159d3f4",
   "metadata": {},
   "outputs": [],
   "source": [
    "# usecase with method overriding :\n",
    "class vehicle:\n",
    "    def vehicle_info(self):\n",
    "        print(\"inside vehicle class\")\n",
    "        \n",
    "class car(vehicle):\n",
    "    def car_info(self):\n",
    "        print(\"inside car class\")\n",
    "        \n",
    "class sportscar(car):\n",
    "    def vehicle_info(self):\n",
    "        print(\"inside sports car (vehical info)\")\n",
    "    def sportscar_info(self):\n",
    "        print(\"inside sports car class \")\n",
    "        \n",
    "class sportscarmodel(sportscar):\n",
    "    def sportscarmodel_info(self):\n",
    "        print(\"inside sportscarmodel class\")"
   ]
  },
  {
   "cell_type": "code",
   "execution_count": 82,
   "id": "aa57cd41",
   "metadata": {},
   "outputs": [],
   "source": [
    "s1 = sportscar()"
   ]
  },
  {
   "cell_type": "code",
   "execution_count": 83,
   "id": "6c08bd2b",
   "metadata": {},
   "outputs": [
    {
     "name": "stdout",
     "output_type": "stream",
     "text": [
      "inside sports car (vehical info)\n"
     ]
    }
   ],
   "source": [
    "s1.vehicle_info()"
   ]
  },
  {
   "cell_type": "code",
   "execution_count": null,
   "id": "006ce850",
   "metadata": {},
   "outputs": [],
   "source": []
  },
  {
   "cell_type": "code",
   "execution_count": 84,
   "id": "3bc4c982",
   "metadata": {},
   "outputs": [],
   "source": [
    "# multiple inheritance :"
   ]
  },
  {
   "cell_type": "code",
   "execution_count": 95,
   "id": "95358136",
   "metadata": {},
   "outputs": [],
   "source": [
    "class papa:\n",
    "    def pa_mira(self):\n",
    "        print(\"mira's papa\")\n",
    "        \n",
    "class mumma:\n",
    "    def ma_mira(self):\n",
    "        print(\"mira's mumma\")\n",
    "\n",
    "class pa_unc:\n",
    "    def pa_uncle(self):\n",
    "        print(\"mira's uncle\")\n",
    "        \n",
    "class mira(papa , mumma , pa_unc):\n",
    "    def mira_story(self):\n",
    "        print(\"mira's story...mira's parents\")"
   ]
  },
  {
   "cell_type": "code",
   "execution_count": 96,
   "id": "7f07ae64",
   "metadata": {},
   "outputs": [],
   "source": [
    "obj_mira = mira()"
   ]
  },
  {
   "cell_type": "code",
   "execution_count": 97,
   "id": "b4803829",
   "metadata": {},
   "outputs": [
    {
     "name": "stdout",
     "output_type": "stream",
     "text": [
      "mira's papa\n"
     ]
    }
   ],
   "source": [
    "obj_mira.pa_mira()"
   ]
  },
  {
   "cell_type": "code",
   "execution_count": 98,
   "id": "d1d6ade6",
   "metadata": {},
   "outputs": [
    {
     "name": "stdout",
     "output_type": "stream",
     "text": [
      "mira's mumma\n"
     ]
    }
   ],
   "source": [
    "obj_mira.ma_mira()"
   ]
  },
  {
   "cell_type": "code",
   "execution_count": 99,
   "id": "d4e62223",
   "metadata": {},
   "outputs": [],
   "source": [
    "obj_ma = mumma()"
   ]
  },
  {
   "cell_type": "code",
   "execution_count": 100,
   "id": "453a30d1",
   "metadata": {},
   "outputs": [
    {
     "name": "stdout",
     "output_type": "stream",
     "text": [
      "mira's mumma\n"
     ]
    }
   ],
   "source": [
    "obj_ma.ma_mira()"
   ]
  },
  {
   "cell_type": "code",
   "execution_count": 101,
   "id": "e825987f",
   "metadata": {},
   "outputs": [
    {
     "name": "stdout",
     "output_type": "stream",
     "text": [
      "mira's uncle\n"
     ]
    }
   ],
   "source": [
    "obj_mira.pa_uncle()"
   ]
  },
  {
   "cell_type": "markdown",
   "id": "b8b8a25b",
   "metadata": {},
   "source": [
    "### in case of multiple inheritance : we have a method with same name and same no. of parameters which perform diff task in each and every parent...method of which class child class will inherit??\n",
    "\n",
    "### method of first parent "
   ]
  },
  {
   "cell_type": "code",
   "execution_count": 121,
   "id": "d09a48d1",
   "metadata": {},
   "outputs": [],
   "source": [
    "class papa:\n",
    "    def greet(self):\n",
    "        print(\"papa\")\n",
    "    def pa_mira(self):\n",
    "        print(\"mira's papa\")\n",
    "        \n",
    "class mumma:\n",
    "    def greet(self):\n",
    "        print(\"mumma\")\n",
    "    def ma_mira(self):\n",
    "        print(\"mira's mumma\")\n",
    "\n",
    "class pa_unc:\n",
    "    def greet(self):\n",
    "        print(\"papa\")\n",
    "    def pa_uncle(self):\n",
    "        print(\"mira's uncle\")\n",
    "        \n",
    "class mira(papa , mumma , pa_unc):\n",
    "    def mira_story(self):\n",
    "        print(\"mira's story...mira's parents\")"
   ]
  },
  {
   "cell_type": "code",
   "execution_count": 122,
   "id": "61a54088",
   "metadata": {},
   "outputs": [],
   "source": [
    "obj = mira()"
   ]
  },
  {
   "cell_type": "code",
   "execution_count": 123,
   "id": "623bd471",
   "metadata": {},
   "outputs": [
    {
     "name": "stdout",
     "output_type": "stream",
     "text": [
      "papa\n"
     ]
    }
   ],
   "source": [
    "obj.greet()"
   ]
  },
  {
   "cell_type": "code",
   "execution_count": 124,
   "id": "459fb7be",
   "metadata": {},
   "outputs": [
    {
     "name": "stdout",
     "output_type": "stream",
     "text": [
      "papa\n"
     ]
    }
   ],
   "source": [
    "obj.greet()"
   ]
  },
  {
   "cell_type": "code",
   "execution_count": 125,
   "id": "805d3c54",
   "metadata": {},
   "outputs": [
    {
     "name": "stdout",
     "output_type": "stream",
     "text": [
      "papa\n"
     ]
    }
   ],
   "source": [
    "obj.greet()"
   ]
  },
  {
   "cell_type": "markdown",
   "id": "89e6d66b",
   "metadata": {},
   "source": [
    "# Diamond Problem:"
   ]
  },
  {
   "cell_type": "markdown",
   "id": "c4d472c5",
   "metadata": {},
   "source": [
    "## - It occurs in multiple inheritance scenarios\n",
    "## - where a class inherits from two classes that both inherit from a single common base class\n",
    "## - It's inheritance structure is in diamond-shape so it is called diamond problem"
   ]
  },
  {
   "cell_type": "markdown",
   "id": "6777bcb7",
   "metadata": {},
   "source": [
    "# Example Scenario\n",
    "### Imagine we have four classes: A, B, C, and D.\n",
    "\n",
    "### A is the base class.\n",
    "### B and C inherit from A.\n",
    "### D inherits from both B and C."
   ]
  },
  {
   "cell_type": "code",
   "execution_count": 9,
   "id": "e650f751",
   "metadata": {},
   "outputs": [],
   "source": [
    "#     A\n",
    "#    / \\\n",
    "#   B   C\n",
    "#    \\ /\n",
    "#     D\n"
   ]
  },
  {
   "cell_type": "markdown",
   "id": "2f89e259",
   "metadata": {},
   "source": []
  },
  {
   "cell_type": "code",
   "execution_count": 10,
   "id": "6d244eda",
   "metadata": {},
   "outputs": [],
   "source": [
    "# code example:\n",
    "class A:\n",
    "    def greet(self):\n",
    "        print(\"Hello from A\")\n",
    "\n",
    "class B(A):\n",
    "    def greet(self):\n",
    "        print(\"Hello from B\")\n",
    "        \n",
    "class C(A):\n",
    "    def greet(self):\n",
    "        print(\"Hello from C\")\n",
    "        \n",
    "class D(B , C):\n",
    "    pass"
   ]
  },
  {
   "cell_type": "code",
   "execution_count": null,
   "id": "21b0c0d1",
   "metadata": {},
   "outputs": [],
   "source": [
    "d = D()"
   ]
  },
  {
   "cell_type": "code",
   "execution_count": 5,
   "id": "a560c475",
   "metadata": {},
   "outputs": [
    {
     "name": "stdout",
     "output_type": "stream",
     "text": [
      "Hello from B\n"
     ]
    }
   ],
   "source": [
    "\n",
    "d.greet()"
   ]
  },
  {
   "cell_type": "markdown",
   "id": "7bdb08a5",
   "metadata": {},
   "source": [
    "# solution :"
   ]
  },
  {
   "cell_type": "markdown",
   "id": "6e44ffa8",
   "metadata": {},
   "source": [
    "# MRO :\n",
    "### Python uses a method resolution order (MRO) to determine which method to call.\n",
    "### python looks base classes\n",
    "### So, when d.greet() is called, Python looks at D, then B, finds the greet method in B, and executes it.\n",
    "### D -> B -> C -> A"
   ]
  },
  {
   "cell_type": "code",
   "execution_count": 6,
   "id": "c7926090",
   "metadata": {},
   "outputs": [
    {
     "data": {
      "text/plain": [
       "[__main__.D, __main__.B, __main__.C, __main__.A, object]"
      ]
     },
     "execution_count": 6,
     "metadata": {},
     "output_type": "execute_result"
    }
   ],
   "source": [
    "# Visualizing the MRO\n",
    "D.mro()"
   ]
  },
  {
   "cell_type": "code",
   "execution_count": 7,
   "id": "d2287a54",
   "metadata": {},
   "outputs": [],
   "source": [
    "# To determine MRO, C3 linearization algorithm is used. \n",
    "# It ensure consistent and predictable order for method resolution."
   ]
  },
  {
   "cell_type": "code",
   "execution_count": 12,
   "id": "8af45e88",
   "metadata": {},
   "outputs": [],
   "source": [
    "## Since D follows the MRO D -> B -> C -> A, the greet method from class B is called first, resulting in the output:"
   ]
  },
  {
   "cell_type": "code",
   "execution_count": null,
   "id": "717cd9b8",
   "metadata": {},
   "outputs": [],
   "source": []
  },
  {
   "cell_type": "code",
   "execution_count": 24,
   "id": "8a1e47e9",
   "metadata": {},
   "outputs": [],
   "source": [
    "# 2nd example for more understanding \n",
    "class dryfruit:\n",
    "    def m(self):\n",
    "        print(\"it is dryfruit\")\n",
    "\n",
    "class kaju(dryfruit):\n",
    "    def m(self):\n",
    "        print(\"it is kaju\")\n",
    "\n",
    "class badam(dryfruit):\n",
    "    def m(self):\n",
    "        print(\"it is badam\")\n",
    "\n",
    "class healthyfood(kaju , badam):\n",
    "    pass"
   ]
  },
  {
   "cell_type": "code",
   "execution_count": 20,
   "id": "82bf7ea1",
   "metadata": {},
   "outputs": [],
   "source": [
    "obj = healthyfood()"
   ]
  },
  {
   "cell_type": "code",
   "execution_count": 21,
   "id": "7f0093d3",
   "metadata": {},
   "outputs": [
    {
     "data": {
      "text/plain": [
       "[__main__.healthyfood,\n",
       " __main__.kaju,\n",
       " __main__.badam,\n",
       " __main__.dryfruit,\n",
       " object]"
      ]
     },
     "execution_count": 21,
     "metadata": {},
     "output_type": "execute_result"
    }
   ],
   "source": [
    "healthyfood.mro()"
   ]
  },
  {
   "cell_type": "code",
   "execution_count": 23,
   "id": "659cce27",
   "metadata": {},
   "outputs": [
    {
     "name": "stdout",
     "output_type": "stream",
     "text": [
      "it is kaju\n"
     ]
    }
   ],
   "source": [
    "obj.m()"
   ]
  },
  {
   "cell_type": "code",
   "execution_count": null,
   "id": "b0fa3887",
   "metadata": {},
   "outputs": [],
   "source": []
  },
  {
   "cell_type": "code",
   "execution_count": 25,
   "id": "e8b887c1",
   "metadata": {},
   "outputs": [],
   "source": [
    "# Hierarchical inheritance :\n",
    "# (hairarkikal)"
   ]
  },
  {
   "cell_type": "code",
   "execution_count": 26,
   "id": "732bf83b",
   "metadata": {},
   "outputs": [],
   "source": [
    "# 1 base class have multiple child classes"
   ]
  },
  {
   "cell_type": "code",
   "execution_count": 28,
   "id": "9f4e3d3e",
   "metadata": {},
   "outputs": [],
   "source": [
    "class vehicle:\n",
    "    def info(self):\n",
    "        print(\"this is vehicle\")\n",
    "\n",
    "class car(vehicle):\n",
    "    def car_info(self):\n",
    "        print(\"this is car info\")\n",
    "\n",
    "class truck(vehicle):\n",
    "    def truck_info(self):\n",
    "        print(\"this is truck info\")"
   ]
  },
  {
   "cell_type": "code",
   "execution_count": 32,
   "id": "4806bd1a",
   "metadata": {},
   "outputs": [],
   "source": [
    "obj1 = truck()"
   ]
  },
  {
   "cell_type": "code",
   "execution_count": 36,
   "id": "d5ef465b",
   "metadata": {},
   "outputs": [
    {
     "name": "stdout",
     "output_type": "stream",
     "text": [
      "this is truck info\n"
     ]
    }
   ],
   "source": [
    "obj1.truck_info()"
   ]
  },
  {
   "cell_type": "code",
   "execution_count": 38,
   "id": "d1938602",
   "metadata": {},
   "outputs": [
    {
     "name": "stdout",
     "output_type": "stream",
     "text": [
      "this is vehicle\n"
     ]
    }
   ],
   "source": [
    "obj1.info()"
   ]
  },
  {
   "cell_type": "code",
   "execution_count": null,
   "id": "d62ae3d9",
   "metadata": {},
   "outputs": [],
   "source": []
  },
  {
   "cell_type": "code",
   "execution_count": null,
   "id": "79dd90a0",
   "metadata": {},
   "outputs": [],
   "source": []
  },
  {
   "cell_type": "markdown",
   "id": "e9f3b972",
   "metadata": {},
   "source": [
    "# Hybrid Inheritance"
   ]
  },
  {
   "cell_type": "markdown",
   "id": "886fd15c",
   "metadata": {},
   "source": [
    "### combination of two or more types of inheritance"
   ]
  },
  {
   "cell_type": "code",
   "execution_count": 39,
   "id": "0e5353b3",
   "metadata": {},
   "outputs": [],
   "source": [
    "class vehicle:\n",
    "    pass\n",
    "\n",
    "class car(vehicle):\n",
    "    pass\n",
    "\n",
    "class truck(vehicle):\n",
    "    pass\n",
    "\n",
    "class sports_car(car , vehicle):\n",
    "    pass"
   ]
  },
  {
   "cell_type": "code",
   "execution_count": null,
   "id": "0fa8f217",
   "metadata": {},
   "outputs": [],
   "source": []
  },
  {
   "cell_type": "code",
   "execution_count": null,
   "id": "df3e4746",
   "metadata": {},
   "outputs": [],
   "source": []
  },
  {
   "cell_type": "code",
   "execution_count": 40,
   "id": "3c9b175f",
   "metadata": {},
   "outputs": [],
   "source": []
  },
  {
   "cell_type": "markdown",
   "id": "0f331f0f",
   "metadata": {},
   "source": [
    "# Abstraction :"
   ]
  },
  {
   "cell_type": "markdown",
   "id": "f2ef5a3e",
   "metadata": {},
   "source": [
    "# theory :\n",
    "### hide implimentation details shows only necessary things..functionalities"
   ]
  },
  {
   "cell_type": "markdown",
   "id": "c10ed764",
   "metadata": {},
   "source": [
    "### Python by default does not support abstraction "
   ]
  },
  {
   "cell_type": "markdown",
   "id": "d59156de",
   "metadata": {},
   "source": [
    "### Achieve abstraction using ABC (Using Abstract Base Classes)"
   ]
  },
  {
   "cell_type": "markdown",
   "id": "d8b08a01",
   "metadata": {},
   "source": [
    "# Abstract Base Class:\n",
    "### Abstract base classes can be created using the abc module.\n",
    "### It contains one or more abstract methods.These methods only declared, but contain no implementation in base class.\n",
    "### it cannot be instantiated"
   ]
  },
  {
   "cell_type": "code",
   "execution_count": 26,
   "id": "138ed75c",
   "metadata": {},
   "outputs": [],
   "source": [
    "from abc import ABC , abstractmethod"
   ]
  },
  {
   "cell_type": "code",
   "execution_count": 20,
   "id": "7a32d58f",
   "metadata": {},
   "outputs": [],
   "source": [
    "# animal - abstract base class\n",
    "# abstrac class should be generic class \n",
    "class animal(ABC):\n",
    "    @abstractmethod\n",
    "    def make_sound(self):\n",
    "        pass\n",
    "    \n",
    "# cat , dog - aubclasses of animal class\n",
    "class dog(animal):\n",
    "    def make_sound(self):\n",
    "        print(\"Bark\")\n",
    "        \n",
    "class cat(animal):\n",
    "    def make_sound(self):\n",
    "        print(\"Meow\")"
   ]
  },
  {
   "cell_type": "code",
   "execution_count": 21,
   "id": "474d0ebe",
   "metadata": {},
   "outputs": [],
   "source": [
    "Dog = dog()"
   ]
  },
  {
   "cell_type": "code",
   "execution_count": 22,
   "id": "c89281ef",
   "metadata": {},
   "outputs": [
    {
     "name": "stdout",
     "output_type": "stream",
     "text": [
      "Bark\n"
     ]
    }
   ],
   "source": [
    "Dog.make_sound()"
   ]
  },
  {
   "cell_type": "code",
   "execution_count": 23,
   "id": "a4dcefee",
   "metadata": {},
   "outputs": [],
   "source": [
    "Cat = cat()"
   ]
  },
  {
   "cell_type": "code",
   "execution_count": 24,
   "id": "d7490009",
   "metadata": {},
   "outputs": [
    {
     "name": "stdout",
     "output_type": "stream",
     "text": [
      "Meow\n"
     ]
    }
   ],
   "source": [
    "Cat.make_sound()"
   ]
  },
  {
   "cell_type": "markdown",
   "id": "2abf05e4",
   "metadata": {},
   "source": [
    "# Key Points:\n",
    "### Abstraction: The base class provides a template for what methods should be available. It does not provide implementation details.\n",
    "### Encapsulation: The implementation details are hidden within the subclass. When the method is called on an object of the subclass, the user sees only the output, not the implementation."
   ]
  },
  {
   "cell_type": "code",
   "execution_count": null,
   "id": "592614ca",
   "metadata": {},
   "outputs": [],
   "source": []
  }
 ],
 "metadata": {
  "kernelspec": {
   "display_name": "Python 3 (ipykernel)",
   "language": "python",
   "name": "python3"
  },
  "language_info": {
   "codemirror_mode": {
    "name": "ipython",
    "version": 3
   },
   "file_extension": ".py",
   "mimetype": "text/x-python",
   "name": "python",
   "nbconvert_exporter": "python",
   "pygments_lexer": "ipython3",
   "version": "3.10.9"
  }
 },
 "nbformat": 4,
 "nbformat_minor": 5
}
