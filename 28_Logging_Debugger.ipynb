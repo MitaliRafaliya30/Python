{
 "cells": [
  {
   "cell_type": "markdown",
   "id": "ea8fd0b9",
   "metadata": {},
   "source": [
    "# debugging :\n",
    "- it is the process of identifying and fixing bugs/issues in your code\n",
    "# How to debug?\n",
    "- debugging involves : breaking the code(checkpoint), executing the code, inspecting the variables using print statment"
   ]
  },
  {
   "cell_type": "code",
   "execution_count": 1,
   "id": "75168367",
   "metadata": {},
   "outputs": [],
   "source": [
    "def divide(a , b):\n",
    "    return a/b"
   ]
  },
  {
   "cell_type": "code",
   "execution_count": 2,
   "id": "971e11f0",
   "metadata": {},
   "outputs": [
    {
     "data": {
      "text/plain": [
       "5.0"
      ]
     },
     "execution_count": 2,
     "metadata": {},
     "output_type": "execute_result"
    }
   ],
   "source": [
    "divide(10,2)"
   ]
  },
  {
   "cell_type": "code",
   "execution_count": 3,
   "id": "22f52756",
   "metadata": {},
   "outputs": [
    {
     "data": {
      "text/plain": [
       "4.0"
      ]
     },
     "execution_count": 3,
     "metadata": {},
     "output_type": "execute_result"
    }
   ],
   "source": [
    "divide(12,3)"
   ]
  },
  {
   "cell_type": "code",
   "execution_count": 4,
   "id": "380b3786",
   "metadata": {},
   "outputs": [
    {
     "ename": "ZeroDivisionError",
     "evalue": "division by zero",
     "output_type": "error",
     "traceback": [
      "\u001b[1;31m---------------------------------------------------------------------------\u001b[0m",
      "\u001b[1;31mZeroDivisionError\u001b[0m                         Traceback (most recent call last)",
      "Cell \u001b[1;32mIn[4], line 3\u001b[0m\n\u001b[0;32m      1\u001b[0m \u001b[38;5;66;03m# fix this bugs using debugger\u001b[39;00m\n\u001b[0;32m      2\u001b[0m \u001b[38;5;28;01mfor\u001b[39;00m i \u001b[38;5;129;01min\u001b[39;00m \u001b[38;5;28mrange\u001b[39m(\u001b[38;5;241m-\u001b[39m\u001b[38;5;241m10\u001b[39m , \u001b[38;5;241m10\u001b[39m):\n\u001b[1;32m----> 3\u001b[0m     \u001b[43mdivide\u001b[49m\u001b[43m(\u001b[49m\u001b[43mi\u001b[49m\u001b[43m \u001b[49m\u001b[43m,\u001b[49m\u001b[43m \u001b[49m\u001b[43mi\u001b[49m\u001b[38;5;241;43m+\u001b[39;49m\u001b[38;5;241;43m1\u001b[39;49m\u001b[43m)\u001b[49m\n",
      "Cell \u001b[1;32mIn[1], line 2\u001b[0m, in \u001b[0;36mdivide\u001b[1;34m(a, b)\u001b[0m\n\u001b[0;32m      1\u001b[0m \u001b[38;5;28;01mdef\u001b[39;00m \u001b[38;5;21mdivide\u001b[39m(a , b):\n\u001b[1;32m----> 2\u001b[0m     \u001b[38;5;28;01mreturn\u001b[39;00m \u001b[43ma\u001b[49m\u001b[38;5;241;43m/\u001b[39;49m\u001b[43mb\u001b[49m\n",
      "\u001b[1;31mZeroDivisionError\u001b[0m: division by zero"
     ]
    }
   ],
   "source": [
    "# fix this bugs using debugger\n",
    "for i in range(-10 , 10):\n",
    "    divide(i , i+1)"
   ]
  },
  {
   "cell_type": "code",
   "execution_count": null,
   "id": "fd428b1b",
   "metadata": {},
   "outputs": [],
   "source": [
    "#breaking the code>> logcally> here we understand that there are two steps involved\n",
    "#break the code it terms of execution as well using return statments or print statment\n",
    "#first a loop and second calling divide function in loop"
   ]
  },
  {
   "cell_type": "code",
   "execution_count": 5,
   "id": "2b208a17",
   "metadata": {},
   "outputs": [
    {
     "ename": "ZeroDivisionError",
     "evalue": "division by zero",
     "output_type": "error",
     "traceback": [
      "\u001b[1;31m---------------------------------------------------------------------------\u001b[0m",
      "\u001b[1;31mZeroDivisionError\u001b[0m                         Traceback (most recent call last)",
      "Cell \u001b[1;32mIn[5], line 3\u001b[0m\n\u001b[0;32m      1\u001b[0m \u001b[38;5;66;03m# executing the code :\u001b[39;00m\n\u001b[0;32m      2\u001b[0m \u001b[38;5;28;01mfor\u001b[39;00m i \u001b[38;5;129;01min\u001b[39;00m \u001b[38;5;28mrange\u001b[39m(\u001b[38;5;241m-\u001b[39m\u001b[38;5;241m10\u001b[39m , \u001b[38;5;241m10\u001b[39m):\n\u001b[1;32m----> 3\u001b[0m     \u001b[43mdivide\u001b[49m\u001b[43m(\u001b[49m\u001b[43mi\u001b[49m\u001b[43m \u001b[49m\u001b[43m,\u001b[49m\u001b[43m \u001b[49m\u001b[43mi\u001b[49m\u001b[38;5;241;43m+\u001b[39;49m\u001b[38;5;241;43m1\u001b[39;49m\u001b[43m)\u001b[49m\n",
      "Cell \u001b[1;32mIn[1], line 2\u001b[0m, in \u001b[0;36mdivide\u001b[1;34m(a, b)\u001b[0m\n\u001b[0;32m      1\u001b[0m \u001b[38;5;28;01mdef\u001b[39;00m \u001b[38;5;21mdivide\u001b[39m(a , b):\n\u001b[1;32m----> 2\u001b[0m     \u001b[38;5;28;01mreturn\u001b[39;00m \u001b[43ma\u001b[49m\u001b[38;5;241;43m/\u001b[39;49m\u001b[43mb\u001b[49m\n",
      "\u001b[1;31mZeroDivisionError\u001b[0m: division by zero"
     ]
    }
   ],
   "source": [
    "# executing the code :\n",
    "for i in range(-10 , 10):\n",
    "    divide(i , i+1)"
   ]
  },
  {
   "cell_type": "code",
   "execution_count": 6,
   "id": "2a769a5f",
   "metadata": {},
   "outputs": [
    {
     "name": "stdout",
     "output_type": "stream",
     "text": [
      "-10 -9\n",
      "-9 -8\n",
      "-8 -7\n",
      "-7 -6\n",
      "-6 -5\n",
      "-5 -4\n",
      "-4 -3\n",
      "-3 -2\n",
      "-2 -1\n",
      "-1 0\n"
     ]
    },
    {
     "ename": "ZeroDivisionError",
     "evalue": "division by zero",
     "output_type": "error",
     "traceback": [
      "\u001b[1;31m---------------------------------------------------------------------------\u001b[0m",
      "\u001b[1;31mZeroDivisionError\u001b[0m                         Traceback (most recent call last)",
      "Cell \u001b[1;32mIn[6], line 4\u001b[0m\n\u001b[0;32m      2\u001b[0m \u001b[38;5;28;01mfor\u001b[39;00m i \u001b[38;5;129;01min\u001b[39;00m \u001b[38;5;28mrange\u001b[39m(\u001b[38;5;241m-\u001b[39m\u001b[38;5;241m10\u001b[39m , \u001b[38;5;241m10\u001b[39m):\n\u001b[0;32m      3\u001b[0m     \u001b[38;5;28mprint\u001b[39m(i , i\u001b[38;5;241m+\u001b[39m\u001b[38;5;241m1\u001b[39m)\n\u001b[1;32m----> 4\u001b[0m     \u001b[43mdivide\u001b[49m\u001b[43m(\u001b[49m\u001b[43mi\u001b[49m\u001b[43m \u001b[49m\u001b[43m,\u001b[49m\u001b[43m \u001b[49m\u001b[43mi\u001b[49m\u001b[38;5;241;43m+\u001b[39;49m\u001b[38;5;241;43m1\u001b[39;49m\u001b[43m)\u001b[49m\n",
      "Cell \u001b[1;32mIn[1], line 2\u001b[0m, in \u001b[0;36mdivide\u001b[1;34m(a, b)\u001b[0m\n\u001b[0;32m      1\u001b[0m \u001b[38;5;28;01mdef\u001b[39;00m \u001b[38;5;21mdivide\u001b[39m(a , b):\n\u001b[1;32m----> 2\u001b[0m     \u001b[38;5;28;01mreturn\u001b[39;00m \u001b[43ma\u001b[49m\u001b[38;5;241;43m/\u001b[39;49m\u001b[43mb\u001b[49m\n",
      "\u001b[1;31mZeroDivisionError\u001b[0m: division by zero"
     ]
    }
   ],
   "source": [
    "# inspecting variable using print statment:\n",
    "for i in range(-10 , 10):\n",
    "    print(i , i+1)\n",
    "    divide(i , i+1)"
   ]
  },
  {
   "cell_type": "code",
   "execution_count": 7,
   "id": "c8611165",
   "metadata": {},
   "outputs": [],
   "source": [
    "# here, i understood that at the one point i+1 become 0 so, division by 0 error / bug occure "
   ]
  },
  {
   "cell_type": "code",
   "execution_count": 8,
   "id": "49f25b1c",
   "metadata": {},
   "outputs": [
    {
     "name": "stdout",
     "output_type": "stream",
     "text": [
      "-10 -9\n",
      "-9 -8\n",
      "-8 -7\n",
      "-7 -6\n",
      "-6 -5\n",
      "-5 -4\n",
      "-4 -3\n",
      "-3 -2\n",
      "-2 -1\n",
      "-1 0\n",
      "zero division error\n",
      "0 1\n",
      "1 2\n",
      "2 3\n",
      "3 4\n",
      "4 5\n",
      "5 6\n",
      "6 7\n",
      "7 8\n",
      "8 9\n",
      "9 10\n"
     ]
    }
   ],
   "source": [
    "#from print statment you understand that when b is 0, it throws the error\n",
    "def divide(a , b):\n",
    "    print(a,b)\n",
    "    #breaking the code in terms of execution\n",
    "    if b == 0:\n",
    "        print(\"zero division error\")\n",
    "        return\n",
    "    return a/b\n",
    "\n",
    "\n",
    "for i in range(-10 , 10):\n",
    "    #print(i , i+1)\n",
    "    divide(i , i+1)"
   ]
  },
  {
   "cell_type": "code",
   "execution_count": 9,
   "id": "9d9784ce",
   "metadata": {},
   "outputs": [],
   "source": [
    "#print statment is not a pythonic way to debug>>print statments are not efficient\n",
    "#print statment is good for simple scripts but not complex\n",
    "#in console/terminal all the print statments will be lost when you reexecute the code \n",
    "#you should use logging instead of print stament"
   ]
  },
  {
   "cell_type": "markdown",
   "id": "94d3372c",
   "metadata": {},
   "source": [
    "# Logging keep records all issues occure in your program with timestamp and level"
   ]
  },
  {
   "cell_type": "markdown",
   "id": "e35b8d27",
   "metadata": {},
   "source": [
    "### logging module allows to replace print statements with more powerful and flexible logging calls."
   ]
  },
  {
   "cell_type": "markdown",
   "id": "7c9a2a6b",
   "metadata": {},
   "source": [
    "### Logging has different levels  to categorize messages..(e.g., DEBUG, INFO, WARNING, ERROR, CRITICAL). "
   ]
  },
  {
   "cell_type": "markdown",
   "id": "f2bbbd20",
   "metadata": {},
   "source": [
    "### we can change logging output without modifying your code."
   ]
  },
  {
   "cell_type": "markdown",
   "id": "5b25e6d1",
   "metadata": {},
   "source": [
    "### we can save logs to a file for later analysis instead of just the console"
   ]
  },
  {
   "cell_type": "markdown",
   "id": "0073a0a2",
   "metadata": {},
   "source": [
    "### Logging can automatically include timestamps"
   ]
  },
  {
   "cell_type": "code",
   "execution_count": 10,
   "id": "f1bc8db5",
   "metadata": {},
   "outputs": [],
   "source": [
    "import logging"
   ]
  },
  {
   "cell_type": "code",
   "execution_count": 31,
   "id": "bb270552",
   "metadata": {},
   "outputs": [],
   "source": [
    "# make configuraton\n",
    "logging.basicConfig(filename = \"test1.log\" , level = logging.INFO)"
   ]
  },
  {
   "cell_type": "markdown",
   "id": "ca00baa9",
   "metadata": {},
   "source": [
    "# diff levels\n",
    "1. NOTSET\n",
    "2. DEBUG\n",
    "3. INFO\n",
    "4. WARNING\n",
    "5. ERROR\n",
    "6. CRITICAL"
   ]
  },
  {
   "cell_type": "code",
   "execution_count": 32,
   "id": "8fc0d990",
   "metadata": {},
   "outputs": [],
   "source": [
    "logging.info(\"this is my normal information about the software\")"
   ]
  },
  {
   "cell_type": "code",
   "execution_count": 33,
   "id": "8681e63b",
   "metadata": {},
   "outputs": [],
   "source": [
    "logging.warning(\"There can be empty list here\")"
   ]
  },
  {
   "cell_type": "code",
   "execution_count": 34,
   "id": "6c5676ba",
   "metadata": {},
   "outputs": [],
   "source": [
    "# it will not logged because it is lowest level than the INFO\n",
    "logging.debug(\"The length of list is\")"
   ]
  },
  {
   "cell_type": "code",
   "execution_count": 35,
   "id": "b50fe3c1",
   "metadata": {},
   "outputs": [],
   "source": [
    "logging.error(\"Some error has happened\")"
   ]
  },
  {
   "cell_type": "code",
   "execution_count": 36,
   "id": "166553de",
   "metadata": {},
   "outputs": [],
   "source": [
    "logging.critical(\"The software has stopped running\")"
   ]
  },
  {
   "cell_type": "code",
   "execution_count": 37,
   "id": "3868f10f",
   "metadata": {},
   "outputs": [],
   "source": [
    "logging.shutdown()"
   ]
  },
  {
   "cell_type": "markdown",
   "id": "b63457dc",
   "metadata": {},
   "source": [
    "# NOTSET level is not used\n",
    "### DEBUG>>lowest level of logging. To give detailed information of any variable, msg, while doing debugging\n",
    "### INFO >> This is used to convey that the code is working as expected\n",
    "- example \"Data analysis is completed\"\n",
    "### WARNING>>Used to indicate that something unexpected happend or potential issue in the code\n",
    "### ERROR > Serious problem with some function\n",
    "### CRITICAL>> Termination of program/code/software\n",
    "### The above level of logging is executed in the same order>> debug being lowest priority and critical being highest priority\n",
    "### while defining level in logging.basicConfig, from that level the logs will be logged or in other words the log level priority will start from that level which is used to initialise the logging\n",
    "### example>>> if you initialise with WARNING then only warning, error, critical msgs will le logged. debug and info will not be logged"
   ]
  },
  {
   "cell_type": "code",
   "execution_count": 42,
   "id": "db321d14",
   "metadata": {},
   "outputs": [],
   "source": [
    "# timestamp\n",
    "import logging\n",
    "logging.basicConfig(filename=\"test1.log\" , level = logging.INFO , format = '%(asctime)s %(levelname)s %(message)s')"
   ]
  },
  {
   "cell_type": "code",
   "execution_count": 43,
   "id": "f390da2e",
   "metadata": {},
   "outputs": [],
   "source": [
    "logging.debug(\"This msg is for debugging\")\n",
    "logging.info(\"This is my info msg\")\n",
    "logging.warning(\"This is my warning msg\")\n",
    "logging.shutdown()"
   ]
  },
  {
   "cell_type": "code",
   "execution_count": null,
   "id": "72c40b60",
   "metadata": {},
   "outputs": [],
   "source": []
  },
  {
   "cell_type": "code",
   "execution_count": 44,
   "id": "ac51bc3e",
   "metadata": {},
   "outputs": [],
   "source": [
    "#write a program to separate the integer and string in two lists separately\n",
    "l = [1, \"hello\", [2, \"world\"],4, [3, \"Python\"]]"
   ]
  },
  {
   "cell_type": "code",
   "execution_count": 45,
   "id": "7b836dd5",
   "metadata": {},
   "outputs": [
    {
     "data": {
      "text/plain": [
       "[1, 'hello', [2, 'world'], 4, [3, 'Python']]"
      ]
     },
     "execution_count": 45,
     "metadata": {},
     "output_type": "execute_result"
    }
   ],
   "source": [
    "l"
   ]
  },
  {
   "cell_type": "code",
   "execution_count": 55,
   "id": "57c68165",
   "metadata": {},
   "outputs": [],
   "source": [
    "l1_int = []\n",
    "l2_str = []\n",
    "\n",
    "for i in l:\n",
    "    logging.info(f\"processing each element {i}\")\n",
    "    \n",
    "    if type(i) == list:\n",
    "        for j in i:\n",
    "            logging.info(f\"processing sublist element: {j}\")\n",
    "            if type(j) == int:\n",
    "                l1_int.append(j)\n",
    "    elif type(i) == int:\n",
    "        l1_int.append(i)\n",
    "    else:\n",
    "        l2_str.append(i)\n",
    "logging.info(f\"The result is : {l1_int}, {l2_str}\")\n",
    "logging.shutdown()"
   ]
  },
  {
   "cell_type": "code",
   "execution_count": null,
   "id": "3871d7fa",
   "metadata": {},
   "outputs": [],
   "source": []
  },
  {
   "cell_type": "code",
   "execution_count": null,
   "id": "14cce5a8",
   "metadata": {},
   "outputs": [],
   "source": []
  },
  {
   "cell_type": "code",
   "execution_count": null,
   "id": "c493b4e3",
   "metadata": {},
   "outputs": [],
   "source": []
  },
  {
   "cell_type": "code",
   "execution_count": null,
   "id": "76737902",
   "metadata": {},
   "outputs": [],
   "source": []
  },
  {
   "cell_type": "code",
   "execution_count": null,
   "id": "1156edc0",
   "metadata": {},
   "outputs": [],
   "source": []
  }
 ],
 "metadata": {
  "kernelspec": {
   "display_name": "Python 3 (ipykernel)",
   "language": "python",
   "name": "python3"
  },
  "language_info": {
   "codemirror_mode": {
    "name": "ipython",
    "version": 3
   },
   "file_extension": ".py",
   "mimetype": "text/x-python",
   "name": "python",
   "nbconvert_exporter": "python",
   "pygments_lexer": "ipython3",
   "version": "3.10.9"
  }
 },
 "nbformat": 4,
 "nbformat_minor": 5
}
