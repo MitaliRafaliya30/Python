{
 "cells": [
  {
   "cell_type": "markdown",
   "id": "922c7374",
   "metadata": {},
   "source": [
    "# Access specifiers :"
   ]
  },
  {
   "cell_type": "markdown",
   "id": "a69d591f",
   "metadata": {},
   "source": [
    "# access specifiers (also known as access modifiers) determine the accessibility of variables, methods, and classes."
   ]
  },
  {
   "cell_type": "markdown",
   "id": "9cc3fed7",
   "metadata": {},
   "source": [
    "# Summary\n",
    "### Public: Accessible from anywhere.\n",
    "### Protected: Accessible within the class and its subclasses (single underscore _).\n",
    "### Private: Accessible only within the class (double underscore __)."
   ]
  },
  {
   "cell_type": "markdown",
   "id": "aed1b44e",
   "metadata": {},
   "source": [
    "# 1) Public :\n",
    "### by default methods and attributes of class are public "
   ]
  },
  {
   "cell_type": "code",
   "execution_count": 5,
   "id": "cf212a95",
   "metadata": {},
   "outputs": [],
   "source": [
    "# example :\n",
    "class student:\n",
    "    def __init__(self, name):\n",
    "        self.name = name\n",
    "        \n",
    "    def disply(self):\n",
    "        print(f\"my name is {self.name} from student class\")\n",
    "        \n",
    "s1 = student(\"rahul\")"
   ]
  },
  {
   "cell_type": "code",
   "execution_count": 6,
   "id": "89b391dc",
   "metadata": {},
   "outputs": [
    {
     "data": {
      "text/plain": [
       "'rahul'"
      ]
     },
     "execution_count": 6,
     "metadata": {},
     "output_type": "execute_result"
    }
   ],
   "source": [
    "s1.name"
   ]
  },
  {
   "cell_type": "code",
   "execution_count": 8,
   "id": "32cf2273",
   "metadata": {},
   "outputs": [
    {
     "name": "stdout",
     "output_type": "stream",
     "text": [
      "my name is rahul from student class\n"
     ]
    }
   ],
   "source": [
    "s1.disply()"
   ]
  },
  {
   "cell_type": "code",
   "execution_count": 9,
   "id": "c7ad2bb2",
   "metadata": {},
   "outputs": [],
   "source": []
  },
  {
   "cell_type": "code",
   "execution_count": null,
   "id": "d3186e95",
   "metadata": {},
   "outputs": [],
   "source": []
  },
  {
   "cell_type": "markdown",
   "id": "f9bd4868",
   "metadata": {},
   "source": [
    "# 2) protected :"
   ]
  },
  {
   "cell_type": "code",
   "execution_count": 15,
   "id": "0390cbeb",
   "metadata": {},
   "outputs": [],
   "source": [
    "class student:\n",
    "    def __init__(self, name, rollno):\n",
    "        self.name = name   \n",
    "        self._rollno = rollno   # self._rollno protected \n",
    "        \n",
    "    def disply(self):\n",
    "        print(f\"my name is {self.name} from student class\")\n",
    "        \n",
    "class branch(student):\n",
    "    pass\n",
    "        \n",
    "b1 = branch(\"rahul\" , 152)"
   ]
  },
  {
   "cell_type": "code",
   "execution_count": 16,
   "id": "a8ae18a2",
   "metadata": {},
   "outputs": [
    {
     "data": {
      "text/plain": [
       "'rahul'"
      ]
     },
     "execution_count": 16,
     "metadata": {},
     "output_type": "execute_result"
    }
   ],
   "source": [
    "b1.name"
   ]
  },
  {
   "cell_type": "code",
   "execution_count": 18,
   "id": "e2d62466",
   "metadata": {},
   "outputs": [
    {
     "data": {
      "text/plain": [
       "152"
      ]
     },
     "execution_count": 18,
     "metadata": {},
     "output_type": "execute_result"
    }
   ],
   "source": [
    "b1._rollno"
   ]
  },
  {
   "cell_type": "markdown",
   "id": "46fef845",
   "metadata": {},
   "source": [
    "### there is not complete or strong restriction on accessibility of private and protected members bcz we can access protected and private members through some other ways.."
   ]
  },
  {
   "cell_type": "markdown",
   "id": "1db17759",
   "metadata": {},
   "source": [
    "### so it is responsibility of good programmers..if he sees members as a private and protected.. so don't use it outside the class environment"
   ]
  },
  {
   "cell_type": "code",
   "execution_count": null,
   "id": "4a13c46e",
   "metadata": {},
   "outputs": [],
   "source": []
  },
  {
   "cell_type": "code",
   "execution_count": 25,
   "id": "23539942",
   "metadata": {},
   "outputs": [],
   "source": [
    "# public any renbom func :\n",
    "def showdata():\n",
    "    b1 = branch(\"nisha\" , 22)\n",
    "    print(b1.name)\n",
    "    print(b1._rollno) # it is protected then also i can access it in any rendom fun so there is no complete restriction\n",
    "    \n",
    "# avoid this "
   ]
  },
  {
   "cell_type": "code",
   "execution_count": 26,
   "id": "216f647c",
   "metadata": {},
   "outputs": [
    {
     "name": "stdout",
     "output_type": "stream",
     "text": [
      "nisha\n",
      "22\n"
     ]
    }
   ],
   "source": [
    "showdata()"
   ]
  },
  {
   "cell_type": "code",
   "execution_count": null,
   "id": "faf1a568",
   "metadata": {},
   "outputs": [],
   "source": []
  },
  {
   "cell_type": "code",
   "execution_count": 30,
   "id": "7d71e65b",
   "metadata": {},
   "outputs": [],
   "source": [
    "# protected : (use this way)\n",
    "class student:\n",
    "    def __init__(self, name, rollno):\n",
    "        self.name = name   # self.name public\n",
    "        self._rollno = rollno   # self._rollno protected \n",
    "        \n",
    "    def disply(self):\n",
    "        print(f\"my name is {self.name} with {self._rollno} from student class\") # within the class use protected member\n",
    "        \n",
    "class branch(student):\n",
    "    pass\n",
    "        \n",
    "b1 = branch(\"rahul\" , 152)"
   ]
  },
  {
   "cell_type": "code",
   "execution_count": 31,
   "id": "ec469727",
   "metadata": {},
   "outputs": [
    {
     "name": "stdout",
     "output_type": "stream",
     "text": [
      "my name is rahul with 152 from student class\n"
     ]
    }
   ],
   "source": [
    "b1.disply()"
   ]
  },
  {
   "cell_type": "code",
   "execution_count": null,
   "id": "245cfb44",
   "metadata": {},
   "outputs": [],
   "source": []
  },
  {
   "cell_type": "code",
   "execution_count": 32,
   "id": "e2108e4a",
   "metadata": {},
   "outputs": [],
   "source": [
    "s1.name = \"priya\""
   ]
  },
  {
   "cell_type": "code",
   "execution_count": 33,
   "id": "96e35d1a",
   "metadata": {},
   "outputs": [
    {
     "data": {
      "text/plain": [
       "'priya'"
      ]
     },
     "execution_count": 33,
     "metadata": {},
     "output_type": "execute_result"
    }
   ],
   "source": [
    "s1.name"
   ]
  },
  {
   "cell_type": "code",
   "execution_count": 36,
   "id": "9c09ce79",
   "metadata": {},
   "outputs": [],
   "source": [
    "# we can modify protected member outside the class but better thing is not to modify it it is protected \n",
    "s1._rollno = 199"
   ]
  },
  {
   "cell_type": "code",
   "execution_count": 37,
   "id": "3b877582",
   "metadata": {},
   "outputs": [
    {
     "data": {
      "text/plain": [
       "199"
      ]
     },
     "execution_count": 37,
     "metadata": {},
     "output_type": "execute_result"
    }
   ],
   "source": [
    "s1._rollno"
   ]
  },
  {
   "cell_type": "markdown",
   "id": "a8d3dd63",
   "metadata": {},
   "source": [
    "# 3) Private :"
   ]
  },
  {
   "cell_type": "code",
   "execution_count": 47,
   "id": "c4ab84f2",
   "metadata": {},
   "outputs": [],
   "source": [
    "# private member age :\n",
    "class student:\n",
    "    def __init__(self, name, rollno ,age):\n",
    "        self.name = name   # self.name public\n",
    "        self._rollno = rollno   # self._rollno protected \n",
    "        self.__age = age\n",
    "        \n",
    "    def disply(self):\n",
    "        print(f\"my name is {self.name} with {self._rollno} from student class\") # within the class use protected member\n",
    "        \n",
    "class branch(student):\n",
    "    pass\n",
    "        \n",
    "b1 = branch(\"rahul\" , 152 , 25)"
   ]
  },
  {
   "cell_type": "code",
   "execution_count": 55,
   "id": "2988da37",
   "metadata": {},
   "outputs": [
    {
     "ename": "AttributeError",
     "evalue": "'branch' object has no attribute '___age'",
     "output_type": "error",
     "traceback": [
      "\u001b[1;31m---------------------------------------------------------------------------\u001b[0m",
      "\u001b[1;31mAttributeError\u001b[0m                            Traceback (most recent call last)",
      "Cell \u001b[1;32mIn[55], line 1\u001b[0m\n\u001b[1;32m----> 1\u001b[0m \u001b[43mb1\u001b[49m\u001b[38;5;241;43m.\u001b[39;49m\u001b[43m___age\u001b[49m\n",
      "\u001b[1;31mAttributeError\u001b[0m: 'branch' object has no attribute '___age'"
     ]
    }
   ],
   "source": [
    "b1.___age \n",
    "#bcz derived class also can not access private mem of super class"
   ]
  },
  {
   "cell_type": "code",
   "execution_count": null,
   "id": "820ab36c",
   "metadata": {},
   "outputs": [],
   "source": []
  },
  {
   "cell_type": "code",
   "execution_count": 56,
   "id": "404a7012",
   "metadata": {},
   "outputs": [],
   "source": [
    "# there is a method , through we can access private mem outside the class "
   ]
  },
  {
   "cell_type": "markdown",
   "id": "a6c9d262",
   "metadata": {},
   "source": [
    "# Name Mangling :"
   ]
  },
  {
   "cell_type": "code",
   "execution_count": null,
   "id": "b3a5e44a",
   "metadata": {},
   "outputs": [],
   "source": []
  },
  {
   "cell_type": "code",
   "execution_count": 61,
   "id": "064d57c5",
   "metadata": {},
   "outputs": [],
   "source": [
    "class student:\n",
    "    def __init__(self, name, rollno ,age):\n",
    "        self.name = name   # self.name public\n",
    "        self._rollno = rollno   # self._rollno protected \n",
    "        self.__age = age  # self.__age = private\n",
    "        \n",
    "    def disply(self):\n",
    "        print(f\"my name is {self.name} with {self._rollno} from student class\") # within the class use protected member\n",
    "        \n",
    "class branch(student):\n",
    "    def show_age(self):\n",
    "        print(f\"my age is {self.__age}\")\n",
    "    pass\n",
    "        \n",
    "b1 = branch(\"rahul\" , 152 , 25)"
   ]
  },
  {
   "cell_type": "code",
   "execution_count": 62,
   "id": "6542c6bf",
   "metadata": {},
   "outputs": [
    {
     "ename": "AttributeError",
     "evalue": "'branch' object has no attribute '_branch__age'",
     "output_type": "error",
     "traceback": [
      "\u001b[1;31m---------------------------------------------------------------------------\u001b[0m",
      "\u001b[1;31mAttributeError\u001b[0m                            Traceback (most recent call last)",
      "Cell \u001b[1;32mIn[62], line 1\u001b[0m\n\u001b[1;32m----> 1\u001b[0m \u001b[43mb1\u001b[49m\u001b[38;5;241;43m.\u001b[39;49m\u001b[43mshow_age\u001b[49m\u001b[43m(\u001b[49m\u001b[43m)\u001b[49m\n",
      "Cell \u001b[1;32mIn[61], line 12\u001b[0m, in \u001b[0;36mbranch.show_age\u001b[1;34m(self)\u001b[0m\n\u001b[0;32m     11\u001b[0m \u001b[38;5;28;01mdef\u001b[39;00m \u001b[38;5;21mshow_age\u001b[39m(\u001b[38;5;28mself\u001b[39m):\n\u001b[1;32m---> 12\u001b[0m     \u001b[38;5;28mprint\u001b[39m(\u001b[38;5;124mf\u001b[39m\u001b[38;5;124m\"\u001b[39m\u001b[38;5;124mmy age is \u001b[39m\u001b[38;5;132;01m{\u001b[39;00m\u001b[38;5;28mself\u001b[39m\u001b[38;5;241m.\u001b[39m__age\u001b[38;5;132;01m}\u001b[39;00m\u001b[38;5;124m\"\u001b[39m)\n",
      "\u001b[1;31mAttributeError\u001b[0m: 'branch' object has no attribute '_branch__age'"
     ]
    }
   ],
   "source": [
    "b1.show_age()"
   ]
  },
  {
   "cell_type": "code",
   "execution_count": null,
   "id": "16a37aca",
   "metadata": {},
   "outputs": [],
   "source": []
  },
  {
   "cell_type": "code",
   "execution_count": 96,
   "id": "b9562507",
   "metadata": {},
   "outputs": [],
   "source": [
    "# private method __display()\n",
    "class student:\n",
    "    def __init__(self, name, rollno ,age):\n",
    "        self.name = name   # self.name public\n",
    "        self._rollno = rollno   # self._rollno protected \n",
    "        self.__age = age  # self.__age = private\n",
    "        \n",
    "    def __disply(self):\n",
    "        print(f\"my name is {self.name} with {self._rollno} with {self.__age} from student class\") # within the class use private member\n",
    "\n",
    "    def displayprivatedata(self):\n",
    "        self.__disply()                 # this method is within the class only accessible \n",
    "# class branch(student):\n",
    "#     def show_age(self):\n",
    "#         print(f\"my age is {self.__age}\")\n",
    "#     pass\n",
    "        \n",
    "# b1 = branch(\"rahul\" , 152 , 25)"
   ]
  },
  {
   "cell_type": "code",
   "execution_count": 97,
   "id": "34d5052a",
   "metadata": {},
   "outputs": [],
   "source": [
    "s1 = student(\"mira\" , 151 , 20)"
   ]
  },
  {
   "cell_type": "code",
   "execution_count": 98,
   "id": "c10bcd42",
   "metadata": {},
   "outputs": [
    {
     "ename": "AttributeError",
     "evalue": "'student' object has no attribute '__display'",
     "output_type": "error",
     "traceback": [
      "\u001b[1;31m---------------------------------------------------------------------------\u001b[0m",
      "\u001b[1;31mAttributeError\u001b[0m                            Traceback (most recent call last)",
      "Cell \u001b[1;32mIn[98], line 1\u001b[0m\n\u001b[1;32m----> 1\u001b[0m \u001b[43ms1\u001b[49m\u001b[38;5;241;43m.\u001b[39;49m\u001b[43m__display\u001b[49m()\n",
      "\u001b[1;31mAttributeError\u001b[0m: 'student' object has no attribute '__display'"
     ]
    }
   ],
   "source": [
    "s1.__display()\n",
    "# bcz it is private method"
   ]
  },
  {
   "cell_type": "code",
   "execution_count": 99,
   "id": "535b9969",
   "metadata": {},
   "outputs": [
    {
     "name": "stdout",
     "output_type": "stream",
     "text": [
      "my name is mira with 151 with 20 from student class\n"
     ]
    }
   ],
   "source": [
    "s1.displayprivatedata()"
   ]
  },
  {
   "cell_type": "code",
   "execution_count": 102,
   "id": "362a7bdd",
   "metadata": {},
   "outputs": [
    {
     "data": {
      "text/plain": [
       "20"
      ]
     },
     "execution_count": 102,
     "metadata": {},
     "output_type": "execute_result"
    }
   ],
   "source": [
    "# name mangling \n",
    "\n",
    "# access private mem through :  (obj._classname__varname)\n",
    "s1._student__age"
   ]
  },
  {
   "cell_type": "code",
   "execution_count": 104,
   "id": "cd51be2a",
   "metadata": {},
   "outputs": [
    {
     "name": "stdout",
     "output_type": "stream",
     "text": [
      "my name is mira with 151 with 20 from student class\n"
     ]
    }
   ],
   "source": [
    "# name mangling \n",
    "\n",
    "# access private method through :  (obj._classname__metohdname)\n",
    "s1._student__disply()"
   ]
  },
  {
   "cell_type": "code",
   "execution_count": null,
   "id": "d0aeb6a9",
   "metadata": {},
   "outputs": [],
   "source": []
  },
  {
   "cell_type": "code",
   "execution_count": null,
   "id": "200b9630",
   "metadata": {},
   "outputs": [],
   "source": []
  },
  {
   "cell_type": "code",
   "execution_count": 105,
   "id": "215a5077",
   "metadata": {},
   "outputs": [],
   "source": [
    "# note : \n",
    "# we can modify private and protected things \n",
    "# but it is responsibility of programer to not use this things outside of class environment"
   ]
  },
  {
   "cell_type": "code",
   "execution_count": null,
   "id": "92e79b54",
   "metadata": {},
   "outputs": [],
   "source": []
  },
  {
   "cell_type": "code",
   "execution_count": null,
   "id": "be639aac",
   "metadata": {},
   "outputs": [],
   "source": []
  }
 ],
 "metadata": {
  "kernelspec": {
   "display_name": "Python 3 (ipykernel)",
   "language": "python",
   "name": "python3"
  },
  "language_info": {
   "codemirror_mode": {
    "name": "ipython",
    "version": 3
   },
   "file_extension": ".py",
   "mimetype": "text/x-python",
   "name": "python",
   "nbconvert_exporter": "python",
   "pygments_lexer": "ipython3",
   "version": "3.10.9"
  }
 },
 "nbformat": 4,
 "nbformat_minor": 5
}
