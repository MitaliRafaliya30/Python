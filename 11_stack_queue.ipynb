{
 "cells": [
  {
   "cell_type": "code",
   "execution_count": 1,
   "id": "cc5d7799",
   "metadata": {},
   "outputs": [],
   "source": [
    "# stack : last in first out"
   ]
  },
  {
   "cell_type": "code",
   "execution_count": 127,
   "id": "3d648ddb",
   "metadata": {},
   "outputs": [],
   "source": [
    "data = []"
   ]
  },
  {
   "cell_type": "code",
   "execution_count": 128,
   "id": "ec3e7c19",
   "metadata": {},
   "outputs": [],
   "source": [
    "data.append(5)\n",
    "data.append(10)\n",
    "data.append(15)\n",
    "data.append(20)"
   ]
  },
  {
   "cell_type": "code",
   "execution_count": 129,
   "id": "76130898",
   "metadata": {},
   "outputs": [
    {
     "data": {
      "text/plain": [
       "[5, 10, 15, 20]"
      ]
     },
     "execution_count": 129,
     "metadata": {},
     "output_type": "execute_result"
    }
   ],
   "source": [
    "data   # 20 comes in last"
   ]
  },
  {
   "cell_type": "code",
   "execution_count": 130,
   "id": "74d4a294",
   "metadata": {},
   "outputs": [
    {
     "data": {
      "text/plain": [
       "20"
      ]
     },
     "execution_count": 130,
     "metadata": {},
     "output_type": "execute_result"
    }
   ],
   "source": [
    "data.pop() # so, 20 out first "
   ]
  },
  {
   "cell_type": "code",
   "execution_count": 131,
   "id": "a640f3ad",
   "metadata": {},
   "outputs": [
    {
     "data": {
      "text/plain": [
       "15"
      ]
     },
     "execution_count": 131,
     "metadata": {},
     "output_type": "execute_result"
    }
   ],
   "source": [
    "data.pop()"
   ]
  },
  {
   "cell_type": "code",
   "execution_count": 132,
   "id": "df496bbc",
   "metadata": {},
   "outputs": [
    {
     "data": {
      "text/plain": [
       "[5, 10]"
      ]
     },
     "execution_count": 132,
     "metadata": {},
     "output_type": "execute_result"
    }
   ],
   "source": [
    "data"
   ]
  },
  {
   "cell_type": "code",
   "execution_count": null,
   "id": "00c9f93a",
   "metadata": {},
   "outputs": [],
   "source": []
  },
  {
   "cell_type": "code",
   "execution_count": null,
   "id": "b82fa7cc",
   "metadata": {},
   "outputs": [],
   "source": []
  },
  {
   "cell_type": "code",
   "execution_count": 133,
   "id": "306ba7ab",
   "metadata": {},
   "outputs": [],
   "source": [
    "# Queue : first in first out"
   ]
  },
  {
   "cell_type": "code",
   "execution_count": 134,
   "id": "855cf12a",
   "metadata": {},
   "outputs": [],
   "source": [
    "data.clear()"
   ]
  },
  {
   "cell_type": "code",
   "execution_count": 135,
   "id": "ba13b0ca",
   "metadata": {},
   "outputs": [
    {
     "data": {
      "text/plain": [
       "[]"
      ]
     },
     "execution_count": 135,
     "metadata": {},
     "output_type": "execute_result"
    }
   ],
   "source": [
    "data"
   ]
  },
  {
   "cell_type": "code",
   "execution_count": 136,
   "id": "49d042ec",
   "metadata": {},
   "outputs": [],
   "source": [
    "data.append(5)"
   ]
  },
  {
   "cell_type": "code",
   "execution_count": 137,
   "id": "1ea281ae",
   "metadata": {},
   "outputs": [],
   "source": [
    "data.append(10)"
   ]
  },
  {
   "cell_type": "code",
   "execution_count": 138,
   "id": "c24f5fb1",
   "metadata": {},
   "outputs": [],
   "source": [
    "data.append(15)"
   ]
  },
  {
   "cell_type": "code",
   "execution_count": 139,
   "id": "94c35966",
   "metadata": {},
   "outputs": [],
   "source": [
    "data.append(20)"
   ]
  },
  {
   "cell_type": "code",
   "execution_count": 140,
   "id": "12bbf8db",
   "metadata": {},
   "outputs": [
    {
     "data": {
      "text/plain": [
       "[5, 10, 15, 20]"
      ]
     },
     "execution_count": 140,
     "metadata": {},
     "output_type": "execute_result"
    }
   ],
   "source": [
    "data"
   ]
  },
  {
   "cell_type": "code",
   "execution_count": 141,
   "id": "293d677f",
   "metadata": {},
   "outputs": [
    {
     "data": {
      "text/plain": [
       "5"
      ]
     },
     "execution_count": 141,
     "metadata": {},
     "output_type": "execute_result"
    }
   ],
   "source": [
    "data.pop(0)"
   ]
  },
  {
   "cell_type": "code",
   "execution_count": 142,
   "id": "1adaeaca",
   "metadata": {},
   "outputs": [
    {
     "data": {
      "text/plain": [
       "[10, 15, 20]"
      ]
     },
     "execution_count": 142,
     "metadata": {},
     "output_type": "execute_result"
    }
   ],
   "source": [
    "data"
   ]
  },
  {
   "cell_type": "code",
   "execution_count": 143,
   "id": "f5acb9ef",
   "metadata": {},
   "outputs": [
    {
     "data": {
      "text/plain": [
       "10"
      ]
     },
     "execution_count": 143,
     "metadata": {},
     "output_type": "execute_result"
    }
   ],
   "source": [
    "data.pop(0)"
   ]
  },
  {
   "cell_type": "code",
   "execution_count": 144,
   "id": "83136bfc",
   "metadata": {},
   "outputs": [
    {
     "data": {
      "text/plain": [
       "[15, 20]"
      ]
     },
     "execution_count": 144,
     "metadata": {},
     "output_type": "execute_result"
    }
   ],
   "source": [
    "data"
   ]
  },
  {
   "cell_type": "code",
   "execution_count": 146,
   "id": "a08f6cf1",
   "metadata": {},
   "outputs": [
    {
     "data": {
      "text/plain": [
       "15"
      ]
     },
     "execution_count": 146,
     "metadata": {},
     "output_type": "execute_result"
    }
   ],
   "source": [
    "data.pop(0)"
   ]
  },
  {
   "cell_type": "code",
   "execution_count": 147,
   "id": "83b47907",
   "metadata": {},
   "outputs": [
    {
     "data": {
      "text/plain": [
       "20"
      ]
     },
     "execution_count": 147,
     "metadata": {},
     "output_type": "execute_result"
    }
   ],
   "source": [
    "data.pop(0)"
   ]
  },
  {
   "cell_type": "code",
   "execution_count": 148,
   "id": "4b6480be",
   "metadata": {},
   "outputs": [
    {
     "data": {
      "text/plain": [
       "[]"
      ]
     },
     "execution_count": 148,
     "metadata": {},
     "output_type": "execute_result"
    }
   ],
   "source": [
    "data"
   ]
  },
  {
   "cell_type": "markdown",
   "id": "b1665133",
   "metadata": {},
   "source": [
    "# While using a list to implement a queue is straightforward, it can be inefficient for large queues"
   ]
  },
  {
   "cell_type": "markdown",
   "id": "0fb9389b",
   "metadata": {},
   "source": [
    "# For more efficient queue operations, Python provides the collections.deque class, \n",
    "# which is optimized for fast appends and pops from both ends (O(1) time complexity). "
   ]
  },
  {
   "cell_type": "code",
   "execution_count": 1,
   "id": "2cc7d3a5",
   "metadata": {},
   "outputs": [],
   "source": [
    "from collections import deque"
   ]
  },
  {
   "cell_type": "code",
   "execution_count": 16,
   "id": "412bf859",
   "metadata": {},
   "outputs": [],
   "source": [
    "# Initialize an empty deque\n",
    "queue = deque()"
   ]
  },
  {
   "cell_type": "code",
   "execution_count": 17,
   "id": "5370fd6c",
   "metadata": {},
   "outputs": [],
   "source": [
    "queue.append(5)"
   ]
  },
  {
   "cell_type": "code",
   "execution_count": 18,
   "id": "55516ec4",
   "metadata": {},
   "outputs": [],
   "source": [
    "queue.append(10)"
   ]
  },
  {
   "cell_type": "code",
   "execution_count": 19,
   "id": "0a242ca5",
   "metadata": {},
   "outputs": [],
   "source": [
    "queue.append(15)"
   ]
  },
  {
   "cell_type": "code",
   "execution_count": 20,
   "id": "6288978f",
   "metadata": {},
   "outputs": [],
   "source": [
    "queue.append(20)"
   ]
  },
  {
   "cell_type": "code",
   "execution_count": 21,
   "id": "5af7cd43",
   "metadata": {},
   "outputs": [
    {
     "name": "stdout",
     "output_type": "stream",
     "text": [
      "Queue after adding elements: [5, 10, 15, 20]\n"
     ]
    }
   ],
   "source": [
    "print(\"Queue after adding elements:\", list(queue))"
   ]
  },
  {
   "cell_type": "code",
   "execution_count": 22,
   "id": "231df387",
   "metadata": {},
   "outputs": [
    {
     "data": {
      "text/plain": [
       "5"
      ]
     },
     "execution_count": 22,
     "metadata": {},
     "output_type": "execute_result"
    }
   ],
   "source": [
    "first_ele = queue.popleft()\n",
    "first_ele"
   ]
  },
  {
   "cell_type": "code",
   "execution_count": 23,
   "id": "365a6e1d",
   "metadata": {},
   "outputs": [
    {
     "data": {
      "text/plain": [
       "10"
      ]
     },
     "execution_count": 23,
     "metadata": {},
     "output_type": "execute_result"
    }
   ],
   "source": [
    "second_ele = queue.popleft()\n",
    "second_ele"
   ]
  },
  {
   "cell_type": "markdown",
   "id": "ae8652f6",
   "metadata": {},
   "source": [
    "# Using deque is generally recommended for implementing queues in Python due to its efficiency."
   ]
  },
  {
   "cell_type": "code",
   "execution_count": null,
   "id": "b0b810a0",
   "metadata": {},
   "outputs": [],
   "source": []
  }
 ],
 "metadata": {
  "kernelspec": {
   "display_name": "Python 3 (ipykernel)",
   "language": "python",
   "name": "python3"
  },
  "language_info": {
   "codemirror_mode": {
    "name": "ipython",
    "version": 3
   },
   "file_extension": ".py",
   "mimetype": "text/x-python",
   "name": "python",
   "nbconvert_exporter": "python",
   "pygments_lexer": "ipython3",
   "version": "3.10.9"
  }
 },
 "nbformat": 4,
 "nbformat_minor": 5
}
