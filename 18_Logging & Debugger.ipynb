{
 "cells": [
  {
   "cell_type": "markdown",
   "id": "ab612f1c",
   "metadata": {},
   "source": [
    "### logging module allows to replace  print statements with more powerful and flexible logging calls."
   ]
  },
  {
   "cell_type": "markdown",
   "id": "b9e13caa",
   "metadata": {},
   "source": [
    "### Logging has different levels (e.g., DEBUG, INFO, WARNING, ERROR, CRITICAL). "
   ]
  },
  {
   "cell_type": "markdown",
   "id": "59de90d4",
   "metadata": {},
   "source": [
    "### we can change logging output without modifying your code."
   ]
  },
  {
   "cell_type": "markdown",
   "id": "e4070a3b",
   "metadata": {},
   "source": [
    "### we can save logs to a file for later analysis instead of just the console"
   ]
  },
  {
   "cell_type": "markdown",
   "id": "320d4b1f",
   "metadata": {},
   "source": [
    "### Logging can automatically include timestamps"
   ]
  },
  {
   "cell_type": "code",
   "execution_count": 1,
   "id": "58a2771c",
   "metadata": {},
   "outputs": [
    {
     "name": "stdout",
     "output_type": "stream",
     "text": [
      "this is my print\n"
     ]
    }
   ],
   "source": [
    "print(\"this is my print\")"
   ]
  },
  {
   "cell_type": "code",
   "execution_count": 7,
   "id": "e22f02d1",
   "metadata": {},
   "outputs": [],
   "source": [
    "import logging"
   ]
  },
  {
   "cell_type": "code",
   "execution_count": 8,
   "id": "c497a22a",
   "metadata": {},
   "outputs": [],
   "source": [
    "logging.basicConfig(filename = \"test.log\" , level = logging.INFO)"
   ]
  },
  {
   "cell_type": "code",
   "execution_count": 9,
   "id": "8242e361",
   "metadata": {},
   "outputs": [],
   "source": [
    "logging.info(\"Log this line of execution\")"
   ]
  },
  {
   "cell_type": "code",
   "execution_count": null,
   "id": "55285273",
   "metadata": {},
   "outputs": [],
   "source": [
    "1. NOTSET\n",
    "2. DEBUG\n",
    "3. INFO\n",
    "4. WARNING\n",
    "5. ERROR\n",
    "6. CRITICAL"
   ]
  },
  {
   "cell_type": "code",
   "execution_count": 12,
   "id": "05eec0e0",
   "metadata": {},
   "outputs": [],
   "source": [
    "logging.basicConfig(filename = \"test1.log\" , level = logging.DEBUG , format ='%(acstime)s %(message)s')"
   ]
  },
  {
   "cell_type": "code",
   "execution_count": 11,
   "id": "5ae25bda",
   "metadata": {},
   "outputs": [],
   "source": [
    "logging.info(\"this is the official message\")"
   ]
  },
  {
   "cell_type": "code",
   "execution_count": null,
   "id": "20eb13f6",
   "metadata": {},
   "outputs": [],
   "source": []
  }
 ],
 "metadata": {
  "kernelspec": {
   "display_name": "Python 3 (ipykernel)",
   "language": "python",
   "name": "python3"
  },
  "language_info": {
   "codemirror_mode": {
    "name": "ipython",
    "version": 3
   },
   "file_extension": ".py",
   "mimetype": "text/x-python",
   "name": "python",
   "nbconvert_exporter": "python",
   "pygments_lexer": "ipython3",
   "version": "3.10.9"
  }
 },
 "nbformat": 4,
 "nbformat_minor": 5
}
