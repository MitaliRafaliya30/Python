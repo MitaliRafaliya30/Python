{
 "cells": [
  {
   "cell_type": "code",
   "execution_count": 1,
   "id": "cf924ab5",
   "metadata": {},
   "outputs": [],
   "source": [
    "#string:\n"
   ]
  },
  {
   "cell_type": "code",
   "execution_count": 11,
   "id": "ecb8161a",
   "metadata": {},
   "outputs": [],
   "source": [
    "name = \"mira30\""
   ]
  },
  {
   "cell_type": "code",
   "execution_count": 12,
   "id": "91f3eeaa",
   "metadata": {},
   "outputs": [
    {
     "data": {
      "text/plain": [
       "'mira30'"
      ]
     },
     "execution_count": 12,
     "metadata": {},
     "output_type": "execute_result"
    }
   ],
   "source": [
    "name"
   ]
  },
  {
   "cell_type": "code",
   "execution_count": 13,
   "id": "6a591fa3",
   "metadata": {},
   "outputs": [
    {
     "data": {
      "text/plain": [
       "str"
      ]
     },
     "execution_count": 13,
     "metadata": {},
     "output_type": "execute_result"
    }
   ],
   "source": [
    "type(name)"
   ]
  },
  {
   "cell_type": "code",
   "execution_count": null,
   "id": "627cf933",
   "metadata": {},
   "outputs": [],
   "source": []
  },
  {
   "cell_type": "code",
   "execution_count": 22,
   "id": "ffd0f3aa",
   "metadata": {},
   "outputs": [],
   "source": [
    "a = 'i am a \"data scientist\" at just 21'"
   ]
  },
  {
   "cell_type": "code",
   "execution_count": 23,
   "id": "75834801",
   "metadata": {},
   "outputs": [
    {
     "data": {
      "text/plain": [
       "'i am a \"data scientist\" at just 21'"
      ]
     },
     "execution_count": 23,
     "metadata": {},
     "output_type": "execute_result"
    }
   ],
   "source": [
    "a"
   ]
  },
  {
   "cell_type": "code",
   "execution_count": 24,
   "id": "fe7c6fc7",
   "metadata": {},
   "outputs": [
    {
     "data": {
      "text/plain": [
       "'mira30'"
      ]
     },
     "execution_count": 24,
     "metadata": {},
     "output_type": "execute_result"
    }
   ],
   "source": [
    "name "
   ]
  },
  {
   "cell_type": "code",
   "execution_count": 25,
   "id": "f9173d45",
   "metadata": {},
   "outputs": [],
   "source": [
    "# to access the element of string :"
   ]
  },
  {
   "cell_type": "code",
   "execution_count": 26,
   "id": "f8f7e8b6",
   "metadata": {},
   "outputs": [],
   "source": [
    "# 1.indexing "
   ]
  },
  {
   "cell_type": "code",
   "execution_count": 37,
   "id": "2c222b6b",
   "metadata": {},
   "outputs": [
    {
     "data": {
      "text/plain": [
       "'a'"
      ]
     },
     "execution_count": 37,
     "metadata": {},
     "output_type": "execute_result"
    }
   ],
   "source": [
    "# positive indexing\n",
    "name[3]"
   ]
  },
  {
   "cell_type": "code",
   "execution_count": 38,
   "id": "7679f81d",
   "metadata": {},
   "outputs": [
    {
     "data": {
      "text/plain": [
       "'0'"
      ]
     },
     "execution_count": 38,
     "metadata": {},
     "output_type": "execute_result"
    }
   ],
   "source": [
    "#negative indexing \n",
    "name[-1]"
   ]
  },
  {
   "cell_type": "code",
   "execution_count": 39,
   "id": "b8e4c4a0",
   "metadata": {},
   "outputs": [],
   "source": [
    "#2. slicing "
   ]
  },
  {
   "cell_type": "code",
   "execution_count": 44,
   "id": "e25cb246",
   "metadata": {},
   "outputs": [],
   "source": [
    "str = \"I am the student of 5th sem\""
   ]
  },
  {
   "cell_type": "code",
   "execution_count": 45,
   "id": "d3a9f6e6",
   "metadata": {},
   "outputs": [
    {
     "data": {
      "text/plain": [
       "'I am the student of 5th sem'"
      ]
     },
     "execution_count": 45,
     "metadata": {},
     "output_type": "execute_result"
    }
   ],
   "source": [
    "str"
   ]
  },
  {
   "cell_type": "code",
   "execution_count": 48,
   "id": "158cbd33",
   "metadata": {},
   "outputs": [
    {
     "data": {
      "text/plain": [
       "'I am '"
      ]
     },
     "execution_count": 48,
     "metadata": {},
     "output_type": "execute_result"
    }
   ],
   "source": [
    "str[:5]  # strat from 0"
   ]
  },
  {
   "cell_type": "code",
   "execution_count": 49,
   "id": "6ae8845e",
   "metadata": {},
   "outputs": [
    {
     "data": {
      "text/plain": [
       "'I am the student of 5th sem'"
      ]
     },
     "execution_count": 49,
     "metadata": {},
     "output_type": "execute_result"
    }
   ],
   "source": [
    "str[0:] # end with length"
   ]
  },
  {
   "cell_type": "code",
   "execution_count": 51,
   "id": "3d77e3b9",
   "metadata": {},
   "outputs": [
    {
     "data": {
      "text/plain": [
       "'I am the student of 5th sem'"
      ]
     },
     "execution_count": 51,
     "metadata": {},
     "output_type": "execute_result"
    }
   ],
   "source": [
    "str[:]  # whole string "
   ]
  },
  {
   "cell_type": "code",
   "execution_count": 58,
   "id": "d6a7d960",
   "metadata": {},
   "outputs": [],
   "source": [
    "# negative slicing "
   ]
  },
  {
   "cell_type": "code",
   "execution_count": 64,
   "id": "6c40ee82",
   "metadata": {},
   "outputs": [
    {
     "data": {
      "text/plain": [
       "'I am the student of 5th'"
      ]
     },
     "execution_count": 64,
     "metadata": {},
     "output_type": "execute_result"
    }
   ],
   "source": [
    "str[0:-4]   # 0 to len(str) - 4"
   ]
  },
  {
   "cell_type": "code",
   "execution_count": 65,
   "id": "19b44c4f",
   "metadata": {},
   "outputs": [
    {
     "data": {
      "text/plain": [
       "23"
      ]
     },
     "execution_count": 65,
     "metadata": {},
     "output_type": "execute_result"
    }
   ],
   "source": [
    "len(str)-4"
   ]
  },
  {
   "cell_type": "code",
   "execution_count": 67,
   "id": "a464a745",
   "metadata": {},
   "outputs": [
    {
     "data": {
      "text/plain": [
       "''"
      ]
     },
     "execution_count": 67,
     "metadata": {},
     "output_type": "execute_result"
    }
   ],
   "source": [
    "str[-1:-5]   # 26 to 22 order is not ready"
   ]
  },
  {
   "cell_type": "code",
   "execution_count": 68,
   "id": "bb429564",
   "metadata": {},
   "outputs": [
    {
     "data": {
      "text/plain": [
       "26"
      ]
     },
     "execution_count": 68,
     "metadata": {},
     "output_type": "execute_result"
    }
   ],
   "source": [
    "len(str)-1"
   ]
  },
  {
   "cell_type": "code",
   "execution_count": 69,
   "id": "5658ee11",
   "metadata": {},
   "outputs": [
    {
     "data": {
      "text/plain": [
       "22"
      ]
     },
     "execution_count": 69,
     "metadata": {},
     "output_type": "execute_result"
    }
   ],
   "source": [
    "len(str)-5"
   ]
  },
  {
   "cell_type": "code",
   "execution_count": 70,
   "id": "6b4891b6",
   "metadata": {},
   "outputs": [
    {
     "data": {
      "text/plain": [
       "'I am the student of 5th sem'"
      ]
     },
     "execution_count": 70,
     "metadata": {},
     "output_type": "execute_result"
    }
   ],
   "source": [
    "str"
   ]
  },
  {
   "cell_type": "code",
   "execution_count": 71,
   "id": "20605cb3",
   "metadata": {},
   "outputs": [],
   "source": [
    "# 3. Looping in string "
   ]
  },
  {
   "cell_type": "code",
   "execution_count": 72,
   "id": "3b0d08f9",
   "metadata": {},
   "outputs": [
    {
     "name": "stdout",
     "output_type": "stream",
     "text": [
      "I\n",
      " \n",
      "a\n",
      "m\n",
      " \n",
      "t\n",
      "h\n",
      "e\n",
      " \n",
      "s\n",
      "t\n",
      "u\n",
      "d\n",
      "e\n",
      "n\n",
      "t\n",
      " \n",
      "o\n",
      "f\n",
      " \n",
      "5\n",
      "t\n",
      "h\n",
      " \n",
      "s\n",
      "e\n",
      "m\n"
     ]
    }
   ],
   "source": [
    "for i in str:\n",
    "    print(i)"
   ]
  },
  {
   "cell_type": "code",
   "execution_count": 77,
   "id": "b829997c",
   "metadata": {},
   "outputs": [
    {
     "data": {
      "text/plain": [
       "'I am the student of 5th sem'"
      ]
     },
     "execution_count": 77,
     "metadata": {},
     "output_type": "execute_result"
    }
   ],
   "source": [
    "str"
   ]
  },
  {
   "cell_type": "code",
   "execution_count": 84,
   "id": "62310563",
   "metadata": {},
   "outputs": [
    {
     "data": {
      "text/plain": [
       "'mira30'"
      ]
     },
     "execution_count": 84,
     "metadata": {},
     "output_type": "execute_result"
    }
   ],
   "source": [
    "name"
   ]
  },
  {
   "cell_type": "code",
   "execution_count": 86,
   "id": "17e708ee",
   "metadata": {},
   "outputs": [
    {
     "data": {
      "text/plain": [
       "'i'"
      ]
     },
     "execution_count": 86,
     "metadata": {},
     "output_type": "execute_result"
    }
   ],
   "source": [
    "name[1]"
   ]
  },
  {
   "cell_type": "markdown",
   "id": "c16fba4b",
   "metadata": {},
   "source": [
    "# string is immutable so you cannot change the element of string after creating it "
   ]
  },
  {
   "cell_type": "code",
   "execution_count": 88,
   "id": "8e448c36",
   "metadata": {
    "scrolled": true
   },
   "outputs": [
    {
     "ename": "TypeError",
     "evalue": "'str' object does not support item assignment",
     "output_type": "error",
     "traceback": [
      "\u001b[1;31m---------------------------------------------------------------------------\u001b[0m",
      "\u001b[1;31mTypeError\u001b[0m                                 Traceback (most recent call last)",
      "Cell \u001b[1;32mIn[88], line 2\u001b[0m\n\u001b[0;32m      1\u001b[0m \u001b[38;5;66;03m# string is immutable si you cannot change the element of string after creating it \u001b[39;00m\n\u001b[1;32m----> 2\u001b[0m name[\u001b[38;5;241m1\u001b[39m] \u001b[38;5;241m=\u001b[39m \u001b[38;5;124m'\u001b[39m\u001b[38;5;124my\u001b[39m\u001b[38;5;124m'\u001b[39m\n",
      "\u001b[1;31mTypeError\u001b[0m: 'str' object does not support item assignment"
     ]
    }
   ],
   "source": [
    "# string is immutable so you cannot change the element of string after creating it \n",
    "name[1] = 'y'"
   ]
  },
  {
   "cell_type": "code",
   "execution_count": 103,
   "id": "e4aea002",
   "metadata": {},
   "outputs": [],
   "source": [
    "# list\n",
    "lst = [151 , 'mira' , 505 , 30 , 56 , 'dhara']"
   ]
  },
  {
   "cell_type": "code",
   "execution_count": 104,
   "id": "707d87f3",
   "metadata": {},
   "outputs": [
    {
     "data": {
      "text/plain": [
       "[151, 'mira', 505, 30, 56, 'dhara']"
      ]
     },
     "execution_count": 104,
     "metadata": {},
     "output_type": "execute_result"
    }
   ],
   "source": [
    "lst"
   ]
  },
  {
   "cell_type": "code",
   "execution_count": 105,
   "id": "7a1b2469",
   "metadata": {},
   "outputs": [
    {
     "data": {
      "text/plain": [
       "list"
      ]
     },
     "execution_count": 105,
     "metadata": {},
     "output_type": "execute_result"
    }
   ],
   "source": [
    "type(lst)"
   ]
  },
  {
   "cell_type": "code",
   "execution_count": 106,
   "id": "eaaf69ea",
   "metadata": {},
   "outputs": [
    {
     "data": {
      "text/plain": [
       "151"
      ]
     },
     "execution_count": 106,
     "metadata": {},
     "output_type": "execute_result"
    }
   ],
   "source": [
    "# indexing \n",
    "lst[0]"
   ]
  },
  {
   "cell_type": "code",
   "execution_count": 107,
   "id": "2b5e6669",
   "metadata": {},
   "outputs": [
    {
     "data": {
      "text/plain": [
       "505"
      ]
     },
     "execution_count": 107,
     "metadata": {},
     "output_type": "execute_result"
    }
   ],
   "source": [
    "# negative indexing \n",
    "lst[-4]   # means 0 "
   ]
  },
  {
   "cell_type": "code",
   "execution_count": 108,
   "id": "98d7218a",
   "metadata": {},
   "outputs": [
    {
     "data": {
      "text/plain": [
       "2"
      ]
     },
     "execution_count": 108,
     "metadata": {},
     "output_type": "execute_result"
    }
   ],
   "source": [
    "len(lst) - 4"
   ]
  },
  {
   "cell_type": "code",
   "execution_count": 109,
   "id": "2e97f56c",
   "metadata": {},
   "outputs": [],
   "source": [
    "# slicing "
   ]
  },
  {
   "cell_type": "code",
   "execution_count": 102,
   "id": "89661c57",
   "metadata": {},
   "outputs": [
    {
     "data": {
      "text/plain": [
       "[151, 'mira', 505]"
      ]
     },
     "execution_count": 102,
     "metadata": {},
     "output_type": "execute_result"
    }
   ],
   "source": [
    "lst[0:3]"
   ]
  },
  {
   "cell_type": "code",
   "execution_count": 110,
   "id": "d097e34f",
   "metadata": {},
   "outputs": [
    {
     "data": {
      "text/plain": [
       "[151, 'mira', 505, 30]"
      ]
     },
     "execution_count": 110,
     "metadata": {},
     "output_type": "execute_result"
    }
   ],
   "source": [
    "lst[:4]"
   ]
  },
  {
   "cell_type": "code",
   "execution_count": 111,
   "id": "dc56031f",
   "metadata": {},
   "outputs": [
    {
     "data": {
      "text/plain": [
       "[151, 'mira', 505, 30, 56, 'dhara']"
      ]
     },
     "execution_count": 111,
     "metadata": {},
     "output_type": "execute_result"
    }
   ],
   "source": [
    "lst[0:]"
   ]
  },
  {
   "cell_type": "code",
   "execution_count": 112,
   "id": "f1bd1502",
   "metadata": {},
   "outputs": [
    {
     "data": {
      "text/plain": [
       "[151, 'mira', 505, 30, 56, 'dhara']"
      ]
     },
     "execution_count": 112,
     "metadata": {},
     "output_type": "execute_result"
    }
   ],
   "source": [
    "lst[:]"
   ]
  },
  {
   "cell_type": "code",
   "execution_count": 113,
   "id": "f11964c6",
   "metadata": {},
   "outputs": [],
   "source": [
    "# negative slicing "
   ]
  },
  {
   "cell_type": "code",
   "execution_count": 116,
   "id": "9c9bf1d9",
   "metadata": {},
   "outputs": [
    {
     "data": {
      "text/plain": [
       "[151, 'mira']"
      ]
     },
     "execution_count": 116,
     "metadata": {},
     "output_type": "execute_result"
    }
   ],
   "source": [
    "lst[0 : -4]"
   ]
  },
  {
   "cell_type": "code",
   "execution_count": 115,
   "id": "83e63fda",
   "metadata": {},
   "outputs": [
    {
     "data": {
      "text/plain": [
       "2"
      ]
     },
     "execution_count": 115,
     "metadata": {},
     "output_type": "execute_result"
    }
   ],
   "source": [
    "len(lst) - 4"
   ]
  },
  {
   "cell_type": "code",
   "execution_count": 117,
   "id": "cdd45db5",
   "metadata": {},
   "outputs": [
    {
     "data": {
      "text/plain": [
       "[151, 'mira', 505, 30, 56, 'dhara']"
      ]
     },
     "execution_count": 117,
     "metadata": {},
     "output_type": "execute_result"
    }
   ],
   "source": [
    "lst"
   ]
  },
  {
   "cell_type": "code",
   "execution_count": 118,
   "id": "21ba4ef4",
   "metadata": {},
   "outputs": [
    {
     "data": {
      "text/plain": [
       "'mira'"
      ]
     },
     "execution_count": 118,
     "metadata": {},
     "output_type": "execute_result"
    }
   ],
   "source": [
    "lst[1]"
   ]
  },
  {
   "cell_type": "markdown",
   "id": "f4b45716",
   "metadata": {},
   "source": [
    "# List is mutable...we can change the item of list after creating it "
   ]
  },
  {
   "cell_type": "code",
   "execution_count": 122,
   "id": "47b3238c",
   "metadata": {},
   "outputs": [],
   "source": [
    "lst[1] = 'mahi'"
   ]
  },
  {
   "cell_type": "code",
   "execution_count": 123,
   "id": "e0368235",
   "metadata": {},
   "outputs": [
    {
     "data": {
      "text/plain": [
       "[151, 'mahi', 505, 30, 56, 'dhara']"
      ]
     },
     "execution_count": 123,
     "metadata": {},
     "output_type": "execute_result"
    }
   ],
   "source": [
    "lst"
   ]
  },
  {
   "cell_type": "markdown",
   "id": "0404c84b",
   "metadata": {},
   "source": [
    "# Tuple is immutable (use to make constant list )"
   ]
  },
  {
   "cell_type": "code",
   "execution_count": 137,
   "id": "7b832b93",
   "metadata": {},
   "outputs": [],
   "source": [
    "tp = (1,3,6.7,'aesha' , 3+5j , False)"
   ]
  },
  {
   "cell_type": "code",
   "execution_count": 138,
   "id": "c2a6dfcc",
   "metadata": {},
   "outputs": [
    {
     "data": {
      "text/plain": [
       "'aesha'"
      ]
     },
     "execution_count": 138,
     "metadata": {},
     "output_type": "execute_result"
    }
   ],
   "source": [
    "tp[3]"
   ]
  },
  {
   "cell_type": "code",
   "execution_count": 139,
   "id": "30b08ab8",
   "metadata": {},
   "outputs": [
    {
     "data": {
      "text/plain": [
       "6.7"
      ]
     },
     "execution_count": 139,
     "metadata": {},
     "output_type": "execute_result"
    }
   ],
   "source": [
    "tp[-4]"
   ]
  },
  {
   "cell_type": "code",
   "execution_count": 140,
   "id": "72e0b028",
   "metadata": {},
   "outputs": [
    {
     "data": {
      "text/plain": [
       "2"
      ]
     },
     "execution_count": 140,
     "metadata": {},
     "output_type": "execute_result"
    }
   ],
   "source": [
    "len(tp) - 4"
   ]
  },
  {
   "cell_type": "code",
   "execution_count": 141,
   "id": "52b819f3",
   "metadata": {},
   "outputs": [
    {
     "data": {
      "text/plain": [
       "(1, 3, 6.7, 'aesha', (3+5j), False)"
      ]
     },
     "execution_count": 141,
     "metadata": {},
     "output_type": "execute_result"
    }
   ],
   "source": [
    "tp[0:]"
   ]
  },
  {
   "cell_type": "code",
   "execution_count": 134,
   "id": "318ff31b",
   "metadata": {},
   "outputs": [
    {
     "data": {
      "text/plain": [
       "(1, 3, 6.7, 'aesha')"
      ]
     },
     "execution_count": 134,
     "metadata": {},
     "output_type": "execute_result"
    }
   ],
   "source": [
    "tp[:4]"
   ]
  },
  {
   "cell_type": "code",
   "execution_count": 135,
   "id": "75ddc926",
   "metadata": {},
   "outputs": [
    {
     "data": {
      "text/plain": [
       "(1, 3, 6.7, 'aesha', (3+5j), False)"
      ]
     },
     "execution_count": 135,
     "metadata": {},
     "output_type": "execute_result"
    }
   ],
   "source": [
    "tp[:]"
   ]
  },
  {
   "cell_type": "code",
   "execution_count": 136,
   "id": "7758fb69",
   "metadata": {},
   "outputs": [
    {
     "data": {
      "text/plain": [
       "(1, 3)"
      ]
     },
     "execution_count": 136,
     "metadata": {},
     "output_type": "execute_result"
    }
   ],
   "source": [
    "tp[0:-4]"
   ]
  },
  {
   "cell_type": "code",
   "execution_count": null,
   "id": "1d2ffdd2",
   "metadata": {},
   "outputs": [],
   "source": []
  },
  {
   "cell_type": "code",
   "execution_count": 142,
   "id": "603eb26c",
   "metadata": {},
   "outputs": [],
   "source": []
  },
  {
   "cell_type": "code",
   "execution_count": null,
   "id": "fab33e02",
   "metadata": {},
   "outputs": [],
   "source": []
  },
  {
   "cell_type": "code",
   "execution_count": null,
   "id": "6d7b864c",
   "metadata": {},
   "outputs": [],
   "source": []
  },
  {
   "cell_type": "code",
   "execution_count": null,
   "id": "2274905c",
   "metadata": {},
   "outputs": [],
   "source": []
  }
 ],
 "metadata": {
  "kernelspec": {
   "display_name": "Python 3 (ipykernel)",
   "language": "python",
   "name": "python3"
  },
  "language_info": {
   "codemirror_mode": {
    "name": "ipython",
    "version": 3
   },
   "file_extension": ".py",
   "mimetype": "text/x-python",
   "name": "python",
   "nbconvert_exporter": "python",
   "pygments_lexer": "ipython3",
   "version": "3.10.9"
  }
 },
 "nbformat": 4,
 "nbformat_minor": 5
}
