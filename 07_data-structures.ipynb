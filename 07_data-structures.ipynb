{
 "cells": [
  {
   "cell_type": "markdown",
   "id": "bb8d2bd5",
   "metadata": {},
   "source": [
    "# Data Structures are a way of organizing data so that it can be accessed and manipulated more efficiently"
   ]
  },
  {
   "cell_type": "markdown",
   "id": "94219578",
   "metadata": {},
   "source": [
    " # in-built data structures are list, tuples, dictionaries, set"
   ]
  },
  {
   "cell_type": "markdown",
   "id": "6c41b42c",
   "metadata": {},
   "source": [
    "## 1. List : \n",
    "### it is a ordered collection of elements that can be of any data type\n",
    "### it is mutable\n",
    "### it is a heterogenious data structure"
   ]
  },
  {
   "cell_type": "code",
   "execution_count": 2,
   "id": "af8b09fc",
   "metadata": {},
   "outputs": [],
   "source": [
    "lst = [1 ,5.6 , True , \"mira\" , 3+7j]"
   ]
  },
  {
   "cell_type": "code",
   "execution_count": 3,
   "id": "1d887f36",
   "metadata": {},
   "outputs": [
    {
     "data": {
      "text/plain": [
       "[1, 5.6, True, 'mira', (3+7j)]"
      ]
     },
     "execution_count": 3,
     "metadata": {},
     "output_type": "execute_result"
    }
   ],
   "source": [
    "lst"
   ]
  },
  {
   "cell_type": "code",
   "execution_count": 4,
   "id": "83266e4e",
   "metadata": {},
   "outputs": [
    {
     "data": {
      "text/plain": [
       "list"
      ]
     },
     "execution_count": 4,
     "metadata": {},
     "output_type": "execute_result"
    }
   ],
   "source": [
    "type(lst)"
   ]
  },
  {
   "cell_type": "code",
   "execution_count": 5,
   "id": "d6ad34a5",
   "metadata": {},
   "outputs": [
    {
     "data": {
      "text/plain": [
       "1"
      ]
     },
     "execution_count": 5,
     "metadata": {},
     "output_type": "execute_result"
    }
   ],
   "source": [
    "lst[0]"
   ]
  },
  {
   "cell_type": "code",
   "execution_count": 6,
   "id": "6275e6a5",
   "metadata": {},
   "outputs": [
    {
     "data": {
      "text/plain": [
       "(3+7j)"
      ]
     },
     "execution_count": 6,
     "metadata": {},
     "output_type": "execute_result"
    }
   ],
   "source": [
    "lst[-1]"
   ]
  },
  {
   "cell_type": "code",
   "execution_count": 7,
   "id": "44904004",
   "metadata": {},
   "outputs": [
    {
     "data": {
      "text/plain": [
       "[1, 5.6, True, 'mira', (3+7j)]"
      ]
     },
     "execution_count": 7,
     "metadata": {},
     "output_type": "execute_result"
    }
   ],
   "source": [
    "lst[:]"
   ]
  },
  {
   "cell_type": "code",
   "execution_count": 8,
   "id": "a4d7d1c1",
   "metadata": {},
   "outputs": [
    {
     "data": {
      "text/plain": [
       "[1, 5.6, True]"
      ]
     },
     "execution_count": 8,
     "metadata": {},
     "output_type": "execute_result"
    }
   ],
   "source": [
    "lst[0:3]"
   ]
  },
  {
   "cell_type": "code",
   "execution_count": 9,
   "id": "b18a793c",
   "metadata": {},
   "outputs": [
    {
     "data": {
      "text/plain": [
       "[5.6, True]"
      ]
     },
     "execution_count": 9,
     "metadata": {},
     "output_type": "execute_result"
    }
   ],
   "source": [
    "lst[-4:-2]"
   ]
  },
  {
   "cell_type": "code",
   "execution_count": 10,
   "id": "875d0964",
   "metadata": {},
   "outputs": [
    {
     "data": {
      "text/plain": [
       "5"
      ]
     },
     "execution_count": 10,
     "metadata": {},
     "output_type": "execute_result"
    }
   ],
   "source": [
    "len(lst)"
   ]
  },
  {
   "cell_type": "code",
   "execution_count": 11,
   "id": "f77465e6",
   "metadata": {},
   "outputs": [
    {
     "data": {
      "text/plain": [
       "[1, 5.6, True, 'mira', (3+7j)]"
      ]
     },
     "execution_count": 11,
     "metadata": {},
     "output_type": "execute_result"
    }
   ],
   "source": [
    "lst"
   ]
  },
  {
   "cell_type": "code",
   "execution_count": 12,
   "id": "82b09bb4",
   "metadata": {},
   "outputs": [],
   "source": [
    "l1 = [\"mira\" , \"kiyara\" , \"dhara\" , \"nayra\" , \"sweety\"]"
   ]
  },
  {
   "cell_type": "code",
   "execution_count": 13,
   "id": "f9019a26",
   "metadata": {},
   "outputs": [
    {
     "data": {
      "text/plain": [
       "['mira', 'kiyara', 'dhara', 'nayra', 'sweety']"
      ]
     },
     "execution_count": 13,
     "metadata": {},
     "output_type": "execute_result"
    }
   ],
   "source": [
    "l1"
   ]
  },
  {
   "cell_type": "code",
   "execution_count": 14,
   "id": "a6a314d4",
   "metadata": {},
   "outputs": [
    {
     "name": "stdout",
     "output_type": "stream",
     "text": [
      "mira\n",
      "m\n",
      "i\n",
      "r\n",
      "a\n",
      "kiyara\n",
      "k\n",
      "i\n",
      "y\n",
      "a\n",
      "r\n",
      "a\n",
      "dhara\n",
      "d\n",
      "h\n",
      "a\n",
      "r\n",
      "a\n",
      "nayra\n",
      "n\n",
      "a\n",
      "y\n",
      "r\n",
      "a\n",
      "sweety\n",
      "s\n",
      "w\n",
      "e\n",
      "e\n",
      "t\n",
      "y\n"
     ]
    }
   ],
   "source": [
    "# we can iterate list if it only contain iterable objs like string\n",
    "for i in l1:\n",
    "    print(i)\n",
    "    for j in i:\n",
    "        print(j)"
   ]
  },
  {
   "cell_type": "code",
   "execution_count": 15,
   "id": "6e9c5d54",
   "metadata": {},
   "outputs": [
    {
     "data": {
      "text/plain": [
       "[1, 5.6, True, 'mira', (3+7j)]"
      ]
     },
     "execution_count": 15,
     "metadata": {},
     "output_type": "execute_result"
    }
   ],
   "source": [
    "lst"
   ]
  },
  {
   "cell_type": "code",
   "execution_count": 16,
   "id": "34fcad19",
   "metadata": {},
   "outputs": [],
   "source": [
    "lst.append(395010)"
   ]
  },
  {
   "cell_type": "code",
   "execution_count": 17,
   "id": "aba36b22",
   "metadata": {},
   "outputs": [
    {
     "data": {
      "text/plain": [
       "[1, 5.6, True, 'mira', (3+7j), 395010]"
      ]
     },
     "execution_count": 17,
     "metadata": {},
     "output_type": "execute_result"
    }
   ],
   "source": [
    "lst"
   ]
  },
  {
   "cell_type": "code",
   "execution_count": 18,
   "id": "dbd02ef9",
   "metadata": {},
   "outputs": [],
   "source": [
    "# Add element at the end of the list\n",
    "lst.append(\"pw_skills\")"
   ]
  },
  {
   "cell_type": "code",
   "execution_count": 19,
   "id": "2caea49b",
   "metadata": {},
   "outputs": [
    {
     "data": {
      "text/plain": [
       "[1, 5.6, True, 'mira', (3+7j), 395010, 'pw_skills']"
      ]
     },
     "execution_count": 19,
     "metadata": {},
     "output_type": "execute_result"
    }
   ],
   "source": [
    "lst"
   ]
  },
  {
   "cell_type": "code",
   "execution_count": 20,
   "id": "c85f586a",
   "metadata": {},
   "outputs": [],
   "source": [
    "# Add element at the specific position\n",
    "lst.insert(4 , \"shayona\")"
   ]
  },
  {
   "cell_type": "code",
   "execution_count": 21,
   "id": "fcd26d91",
   "metadata": {},
   "outputs": [
    {
     "data": {
      "text/plain": [
       "[1, 5.6, True, 'mira', 'shayona', (3+7j), 395010, 'pw_skills']"
      ]
     },
     "execution_count": 21,
     "metadata": {},
     "output_type": "execute_result"
    }
   ],
   "source": [
    "lst"
   ]
  },
  {
   "cell_type": "code",
   "execution_count": 22,
   "id": "77204118",
   "metadata": {},
   "outputs": [
    {
     "data": {
      "text/plain": [
       "'shayona'"
      ]
     },
     "execution_count": 22,
     "metadata": {},
     "output_type": "execute_result"
    }
   ],
   "source": [
    "lst[4]"
   ]
  },
  {
   "cell_type": "code",
   "execution_count": 23,
   "id": "7344918f",
   "metadata": {},
   "outputs": [],
   "source": [
    "lst.append(5.6 )"
   ]
  },
  {
   "cell_type": "code",
   "execution_count": 24,
   "id": "d357245b",
   "metadata": {},
   "outputs": [],
   "source": [
    "# remove first occurrences of the element\n",
    "lst.remove(5.6)"
   ]
  },
  {
   "cell_type": "code",
   "execution_count": 25,
   "id": "4e043df9",
   "metadata": {},
   "outputs": [
    {
     "data": {
      "text/plain": [
       "[1, True, 'mira', 'shayona', (3+7j), 395010, 'pw_skills', 5.6]"
      ]
     },
     "execution_count": 25,
     "metadata": {},
     "output_type": "execute_result"
    }
   ],
   "source": [
    "lst"
   ]
  },
  {
   "cell_type": "code",
   "execution_count": 26,
   "id": "c405a4c6",
   "metadata": {},
   "outputs": [
    {
     "data": {
      "text/plain": [
       "(3+7j)"
      ]
     },
     "execution_count": 26,
     "metadata": {},
     "output_type": "execute_result"
    }
   ],
   "source": [
    "# Remove element at the specific position\n",
    "lst.pop(4)"
   ]
  },
  {
   "cell_type": "code",
   "execution_count": 27,
   "id": "6607f40d",
   "metadata": {},
   "outputs": [
    {
     "data": {
      "text/plain": [
       "[1, True, 'mira', 'shayona', 395010, 'pw_skills', 5.6]"
      ]
     },
     "execution_count": 27,
     "metadata": {},
     "output_type": "execute_result"
    }
   ],
   "source": [
    "lst"
   ]
  },
  {
   "cell_type": "code",
   "execution_count": 28,
   "id": "be2a098d",
   "metadata": {},
   "outputs": [
    {
     "data": {
      "text/plain": [
       "[1, True, 'mira', 'shayona', 395010, 'pw_skills', 5.6]"
      ]
     },
     "execution_count": 28,
     "metadata": {},
     "output_type": "execute_result"
    }
   ],
   "source": [
    "# Returns a copy of the list\n",
    "x = lst.copy()\n",
    "x"
   ]
  },
  {
   "cell_type": "code",
   "execution_count": 29,
   "id": "0414ae1d",
   "metadata": {},
   "outputs": [],
   "source": [
    "# Reverses the order of the list\n",
    "lst.reverse()"
   ]
  },
  {
   "cell_type": "code",
   "execution_count": 30,
   "id": "ba4e91be",
   "metadata": {},
   "outputs": [
    {
     "data": {
      "text/plain": [
       "[5.6, 'pw_skills', 395010, 'shayona', 'mira', True, 1]"
      ]
     },
     "execution_count": 30,
     "metadata": {},
     "output_type": "execute_result"
    }
   ],
   "source": [
    "lst"
   ]
  },
  {
   "cell_type": "code",
   "execution_count": 31,
   "id": "8dc98aa2",
   "metadata": {},
   "outputs": [
    {
     "data": {
      "text/plain": [
       "['mira', 'kiyara', 'dhara', 'nayra', 'sweety']"
      ]
     },
     "execution_count": 31,
     "metadata": {},
     "output_type": "execute_result"
    }
   ],
   "source": [
    "l1"
   ]
  },
  {
   "cell_type": "code",
   "execution_count": 32,
   "id": "89d437c2",
   "metadata": {},
   "outputs": [],
   "source": [
    "# sort the list in asending order by deafault\n",
    "l1.sort()"
   ]
  },
  {
   "cell_type": "code",
   "execution_count": 33,
   "id": "90947808",
   "metadata": {},
   "outputs": [
    {
     "data": {
      "text/plain": [
       "['dhara', 'kiyara', 'mira', 'nayra', 'sweety']"
      ]
     },
     "execution_count": 33,
     "metadata": {},
     "output_type": "execute_result"
    }
   ],
   "source": [
    "l1"
   ]
  },
  {
   "cell_type": "code",
   "execution_count": 34,
   "id": "6514c7a5",
   "metadata": {},
   "outputs": [],
   "source": [
    "# sort the list in desending order\n",
    "l1.sort(reverse=True)"
   ]
  },
  {
   "cell_type": "code",
   "execution_count": 35,
   "id": "489d0b6b",
   "metadata": {},
   "outputs": [
    {
     "data": {
      "text/plain": [
       "['sweety', 'nayra', 'mira', 'kiyara', 'dhara']"
      ]
     },
     "execution_count": 35,
     "metadata": {},
     "output_type": "execute_result"
    }
   ],
   "source": [
    "l1"
   ]
  },
  {
   "cell_type": "code",
   "execution_count": 36,
   "id": "52ba97b6",
   "metadata": {},
   "outputs": [
    {
     "data": {
      "text/plain": [
       "['sweety', 'nayra', 'mira', 'kiyara', 'dhara']"
      ]
     },
     "execution_count": 36,
     "metadata": {},
     "output_type": "execute_result"
    }
   ],
   "source": [
    "l1"
   ]
  },
  {
   "cell_type": "code",
   "execution_count": 37,
   "id": "b0665bd0",
   "metadata": {},
   "outputs": [
    {
     "data": {
      "text/plain": [
       "[5.6, 'pw_skills', 395010, 'shayona', 'mira', True, 1]"
      ]
     },
     "execution_count": 37,
     "metadata": {},
     "output_type": "execute_result"
    }
   ],
   "source": [
    "lst"
   ]
  },
  {
   "cell_type": "code",
   "execution_count": 38,
   "id": "e0d1a259",
   "metadata": {},
   "outputs": [
    {
     "data": {
      "text/plain": [
       "['sweety',\n",
       " 'nayra',\n",
       " 'mira',\n",
       " 'kiyara',\n",
       " 'dhara',\n",
       " 5.6,\n",
       " 'pw_skills',\n",
       " 395010,\n",
       " 'shayona',\n",
       " 'mira',\n",
       " True,\n",
       " 1]"
      ]
     },
     "execution_count": 38,
     "metadata": {},
     "output_type": "execute_result"
    }
   ],
   "source": [
    "# at the end of current list, add specific list \n",
    "l1.extend(lst)\n",
    "l1"
   ]
  },
  {
   "cell_type": "code",
   "execution_count": 39,
   "id": "48c8dd62",
   "metadata": {},
   "outputs": [],
   "source": [
    "# Removes all the elements from the list\n",
    "# l1.clear()\n",
    "# l1"
   ]
  },
  {
   "cell_type": "code",
   "execution_count": 40,
   "id": "23eaaec1",
   "metadata": {},
   "outputs": [
    {
     "data": {
      "text/plain": [
       "2"
      ]
     },
     "execution_count": 40,
     "metadata": {},
     "output_type": "execute_result"
    }
   ],
   "source": [
    "# Return the number of times the value appears in the list:\n",
    "l1.count(\"mira\")"
   ]
  },
  {
   "cell_type": "code",
   "execution_count": 41,
   "id": "652011b0",
   "metadata": {},
   "outputs": [],
   "source": [
    "l1.append(5.6)"
   ]
  },
  {
   "cell_type": "code",
   "execution_count": 42,
   "id": "0bfa8c15",
   "metadata": {},
   "outputs": [
    {
     "data": {
      "text/plain": [
       "['sweety',\n",
       " 'nayra',\n",
       " 'mira',\n",
       " 'kiyara',\n",
       " 'dhara',\n",
       " 5.6,\n",
       " 'pw_skills',\n",
       " 395010,\n",
       " 'shayona',\n",
       " 'mira',\n",
       " True,\n",
       " 1,\n",
       " 5.6]"
      ]
     },
     "execution_count": 42,
     "metadata": {},
     "output_type": "execute_result"
    }
   ],
   "source": [
    "l1"
   ]
  },
  {
   "cell_type": "code",
   "execution_count": 43,
   "id": "973f4af9",
   "metadata": {},
   "outputs": [
    {
     "data": {
      "text/plain": [
       "5"
      ]
     },
     "execution_count": 43,
     "metadata": {},
     "output_type": "execute_result"
    }
   ],
   "source": [
    "# return the index of first occurrence of element \n",
    "l1.index(5.6)"
   ]
  },
  {
   "cell_type": "markdown",
   "id": "84a301fe",
   "metadata": {},
   "source": [
    "# Array in python : Python does not have built-in support for Arrays, but Python Lists can be used instead.\n"
   ]
  },
  {
   "cell_type": "code",
   "execution_count": 44,
   "id": "0da82bf5",
   "metadata": {},
   "outputs": [],
   "source": [
    "# list, tuple,set inside list\n",
    "l2 = [[1,2,3] , [4,5,6] , [7,8,9] , (11,12,13) , {14,15,16} ]"
   ]
  },
  {
   "cell_type": "code",
   "execution_count": 45,
   "id": "a8a75df0",
   "metadata": {},
   "outputs": [
    {
     "data": {
      "text/plain": [
       "[[1, 2, 3], [4, 5, 6], [7, 8, 9], (11, 12, 13), {14, 15, 16}]"
      ]
     },
     "execution_count": 45,
     "metadata": {},
     "output_type": "execute_result"
    }
   ],
   "source": [
    "l2"
   ]
  },
  {
   "cell_type": "code",
   "execution_count": 46,
   "id": "5742ebe2",
   "metadata": {},
   "outputs": [
    {
     "data": {
      "text/plain": [
       "[4, 5, 6]"
      ]
     },
     "execution_count": 46,
     "metadata": {},
     "output_type": "execute_result"
    }
   ],
   "source": [
    "l2[1]"
   ]
  },
  {
   "cell_type": "code",
   "execution_count": 47,
   "id": "d67a4b2b",
   "metadata": {},
   "outputs": [
    {
     "data": {
      "text/plain": [
       "6"
      ]
     },
     "execution_count": 47,
     "metadata": {},
     "output_type": "execute_result"
    }
   ],
   "source": [
    "l2[1][-1]"
   ]
  },
  {
   "cell_type": "code",
   "execution_count": 48,
   "id": "108a199b",
   "metadata": {},
   "outputs": [
    {
     "data": {
      "text/plain": [
       "11"
      ]
     },
     "execution_count": 48,
     "metadata": {},
     "output_type": "execute_result"
    }
   ],
   "source": [
    "l2[-2][0]"
   ]
  },
  {
   "cell_type": "code",
   "execution_count": 49,
   "id": "59dd1f69",
   "metadata": {},
   "outputs": [],
   "source": [
    "grade = [\"top\" , \"second\" , \"third\"]"
   ]
  },
  {
   "cell_type": "code",
   "execution_count": 53,
   "id": "56d17ddc",
   "metadata": {},
   "outputs": [
    {
     "name": "stdout",
     "output_type": "stream",
     "text": [
      "top second third "
     ]
    }
   ],
   "source": [
    "for i in grade:\n",
    "    print(i,end = \" \" )"
   ]
  },
  {
   "cell_type": "code",
   "execution_count": null,
   "id": "3a670200",
   "metadata": {},
   "outputs": [],
   "source": []
  },
  {
   "cell_type": "markdown",
   "id": "90133ec0",
   "metadata": {},
   "source": [
    "# Tuple : ordered collection of eles, heterogenous"
   ]
  },
  {
   "cell_type": "markdown",
   "id": "b4a1d606",
   "metadata": {},
   "source": [
    "## similar to the list "
   ]
  },
  {
   "cell_type": "markdown",
   "id": "fc5fdab1",
   "metadata": {},
   "source": [
    "# diff : \n",
    "## 1) use round brackets\n",
    "## 2) immutable\n",
    "## 3) to do operaton on tuple... 1st convert it into list...do operation....again convert it into tuple "
   ]
  },
  {
   "cell_type": "code",
   "execution_count": null,
   "id": "10794286",
   "metadata": {},
   "outputs": [],
   "source": []
  },
  {
   "cell_type": "code",
   "execution_count": 54,
   "id": "14f723f9",
   "metadata": {},
   "outputs": [],
   "source": [
    "t1 = (4 , 6.89 , \"mayra\" , True , 6+45j , 32 , \"priya\")"
   ]
  },
  {
   "cell_type": "code",
   "execution_count": 55,
   "id": "8dee537d",
   "metadata": {},
   "outputs": [
    {
     "data": {
      "text/plain": [
       "(4, 6.89, 'mayra', True, (6+45j), 32, 'priya')"
      ]
     },
     "execution_count": 55,
     "metadata": {},
     "output_type": "execute_result"
    }
   ],
   "source": [
    "t1"
   ]
  },
  {
   "cell_type": "code",
   "execution_count": 56,
   "id": "d3897a8f",
   "metadata": {},
   "outputs": [
    {
     "data": {
      "text/plain": [
       "tuple"
      ]
     },
     "execution_count": 56,
     "metadata": {},
     "output_type": "execute_result"
    }
   ],
   "source": [
    "type(t1)"
   ]
  },
  {
   "cell_type": "code",
   "execution_count": 59,
   "id": "93de94d6",
   "metadata": {},
   "outputs": [
    {
     "data": {
      "text/plain": [
       "4"
      ]
     },
     "execution_count": 59,
     "metadata": {},
     "output_type": "execute_result"
    }
   ],
   "source": [
    "t1[0]"
   ]
  },
  {
   "cell_type": "code",
   "execution_count": 60,
   "id": "2b7634a1",
   "metadata": {},
   "outputs": [
    {
     "data": {
      "text/plain": [
       "'priya'"
      ]
     },
     "execution_count": 60,
     "metadata": {},
     "output_type": "execute_result"
    }
   ],
   "source": [
    "t1[-1]"
   ]
  },
  {
   "cell_type": "code",
   "execution_count": 61,
   "id": "26950b65",
   "metadata": {},
   "outputs": [
    {
     "data": {
      "text/plain": [
       "(4, 6.89, 'mayra', True)"
      ]
     },
     "execution_count": 61,
     "metadata": {},
     "output_type": "execute_result"
    }
   ],
   "source": [
    "t1[0:4]"
   ]
  },
  {
   "cell_type": "code",
   "execution_count": 63,
   "id": "0318527a",
   "metadata": {},
   "outputs": [
    {
     "ename": "TypeError",
     "evalue": "'tuple' object does not support item assignment",
     "output_type": "error",
     "traceback": [
      "\u001b[1;31m---------------------------------------------------------------------------\u001b[0m",
      "\u001b[1;31mTypeError\u001b[0m                                 Traceback (most recent call last)",
      "Cell \u001b[1;32mIn[63], line 1\u001b[0m\n\u001b[1;32m----> 1\u001b[0m t1[\u001b[38;5;241m0\u001b[39m] \u001b[38;5;241m=\u001b[39m \u001b[38;5;241m7\u001b[39m\n",
      "\u001b[1;31mTypeError\u001b[0m: 'tuple' object does not support item assignment"
     ]
    }
   ],
   "source": [
    "t1[0] = 7"
   ]
  },
  {
   "cell_type": "code",
   "execution_count": 65,
   "id": "eeee0ff0",
   "metadata": {},
   "outputs": [
    {
     "ename": "AttributeError",
     "evalue": "'tuple' object has no attribute 'append'",
     "output_type": "error",
     "traceback": [
      "\u001b[1;31m---------------------------------------------------------------------------\u001b[0m",
      "\u001b[1;31mAttributeError\u001b[0m                            Traceback (most recent call last)",
      "Cell \u001b[1;32mIn[65], line 1\u001b[0m\n\u001b[1;32m----> 1\u001b[0m \u001b[43mt1\u001b[49m\u001b[38;5;241;43m.\u001b[39;49m\u001b[43mappend\u001b[49m(\u001b[38;5;124m\"\u001b[39m\u001b[38;5;124m12\u001b[39m\u001b[38;5;124m\"\u001b[39m)\n",
      "\u001b[1;31mAttributeError\u001b[0m: 'tuple' object has no attribute 'append'"
     ]
    }
   ],
   "source": []
  },
  {
   "cell_type": "code",
   "execution_count": 72,
   "id": "00b4486f",
   "metadata": {},
   "outputs": [],
   "source": [
    "t2 = ([1,2,6,7,8] , \"mira\" , \"diya\" , {4,5,6,7})"
   ]
  },
  {
   "cell_type": "code",
   "execution_count": 73,
   "id": "23f305ec",
   "metadata": {},
   "outputs": [
    {
     "data": {
      "text/plain": [
       "([1, 2, 6, 7, 8], 'mira', 'diya', {4, 5, 6, 7})"
      ]
     },
     "execution_count": 73,
     "metadata": {},
     "output_type": "execute_result"
    }
   ],
   "source": [
    "t2"
   ]
  },
  {
   "cell_type": "code",
   "execution_count": 74,
   "id": "8c7cfc60",
   "metadata": {},
   "outputs": [
    {
     "data": {
      "text/plain": [
       "[1, 2, 6, 7, 8]"
      ]
     },
     "execution_count": 74,
     "metadata": {},
     "output_type": "execute_result"
    }
   ],
   "source": [
    "t2[0]"
   ]
  },
  {
   "cell_type": "code",
   "execution_count": 75,
   "id": "9d6a5723",
   "metadata": {},
   "outputs": [
    {
     "data": {
      "text/plain": [
       "1"
      ]
     },
     "execution_count": 75,
     "metadata": {},
     "output_type": "execute_result"
    }
   ],
   "source": [
    "t2[0][0]"
   ]
  },
  {
   "cell_type": "markdown",
   "id": "2e42db61",
   "metadata": {},
   "source": [
    "## usecase of tuple : aadhar card , ATM , emp_id -> you don't want to change.."
   ]
  },
  {
   "cell_type": "code",
   "execution_count": 77,
   "id": "23e87a00",
   "metadata": {},
   "outputs": [],
   "source": [
    "tp1 = (101 , \"aarya\")\n",
    "tp2 = (102 , \"priya\")"
   ]
  },
  {
   "cell_type": "code",
   "execution_count": 90,
   "id": "00d68fb6",
   "metadata": {},
   "outputs": [
    {
     "data": {
      "text/plain": [
       "tuple"
      ]
     },
     "execution_count": 90,
     "metadata": {},
     "output_type": "execute_result"
    }
   ],
   "source": [
    "type((tp1 , tp2))"
   ]
  },
  {
   "cell_type": "code",
   "execution_count": 91,
   "id": "2df9dd9f",
   "metadata": {},
   "outputs": [
    {
     "data": {
      "text/plain": [
       "((101, 'aarya'), (102, 'priya'))"
      ]
     },
     "execution_count": 91,
     "metadata": {},
     "output_type": "execute_result"
    }
   ],
   "source": [
    "tp1 , tp2"
   ]
  },
  {
   "cell_type": "code",
   "execution_count": null,
   "id": "ea3fdbe8",
   "metadata": {},
   "outputs": [],
   "source": []
  },
  {
   "cell_type": "code",
   "execution_count": null,
   "id": "37695075",
   "metadata": {},
   "outputs": [],
   "source": []
  },
  {
   "cell_type": "markdown",
   "id": "df25f67b",
   "metadata": {},
   "source": [
    "# Sets :"
   ]
  },
  {
   "cell_type": "markdown",
   "id": "dae28ceb",
   "metadata": {},
   "source": [
    "## use kerli brackets\n",
    "## unordered collection of data items\n",
    "## doesn't contain duplicate items\n",
    "## immutable\n",
    "## can not do indexing "
   ]
  },
  {
   "cell_type": "code",
   "execution_count": 94,
   "id": "eaa0707b",
   "metadata": {},
   "outputs": [],
   "source": [
    "s1 = {3,4,5,\"mira\",6,5,4}"
   ]
  },
  {
   "cell_type": "code",
   "execution_count": 107,
   "id": "e365d5d3",
   "metadata": {},
   "outputs": [
    {
     "data": {
      "text/plain": [
       "{3, 4, 5, 6, 'mira'}"
      ]
     },
     "execution_count": 107,
     "metadata": {},
     "output_type": "execute_result"
    }
   ],
   "source": [
    "s1"
   ]
  },
  {
   "cell_type": "code",
   "execution_count": 108,
   "id": "ef8fb821",
   "metadata": {},
   "outputs": [
    {
     "ename": "TypeError",
     "evalue": "'set' object is not subscriptable",
     "output_type": "error",
     "traceback": [
      "\u001b[1;31m---------------------------------------------------------------------------\u001b[0m",
      "\u001b[1;31mTypeError\u001b[0m                                 Traceback (most recent call last)",
      "Cell \u001b[1;32mIn[108], line 1\u001b[0m\n\u001b[1;32m----> 1\u001b[0m \u001b[43ms1\u001b[49m\u001b[43m[\u001b[49m\u001b[38;5;241;43m0\u001b[39;49m\u001b[43m]\u001b[49m\n",
      "\u001b[1;31mTypeError\u001b[0m: 'set' object is not subscriptable"
     ]
    }
   ],
   "source": [
    "s1[0]"
   ]
  },
  {
   "cell_type": "code",
   "execution_count": null,
   "id": "3a0c955a",
   "metadata": {},
   "outputs": [],
   "source": []
  },
  {
   "cell_type": "code",
   "execution_count": 109,
   "id": "69de297e",
   "metadata": {},
   "outputs": [],
   "source": [
    "set1 = {4,5,6,'dhara'}"
   ]
  },
  {
   "cell_type": "code",
   "execution_count": 110,
   "id": "a088c33a",
   "metadata": {},
   "outputs": [],
   "source": [
    "# add ele in set\n",
    "set1.add(\"priya\")"
   ]
  },
  {
   "cell_type": "code",
   "execution_count": 111,
   "id": "1b810840",
   "metadata": {},
   "outputs": [
    {
     "data": {
      "text/plain": [
       "{4, 5, 6, 'dhara', 'priya'}"
      ]
     },
     "execution_count": 111,
     "metadata": {},
     "output_type": "execute_result"
    }
   ],
   "source": [
    "set1"
   ]
  },
  {
   "cell_type": "code",
   "execution_count": 112,
   "id": "c6610f13",
   "metadata": {},
   "outputs": [],
   "source": [
    "# remove ele from set\n",
    "set1.remove(5)"
   ]
  },
  {
   "cell_type": "code",
   "execution_count": 113,
   "id": "220b5a0a",
   "metadata": {},
   "outputs": [
    {
     "data": {
      "text/plain": [
       "{4, 6, 'dhara', 'priya'}"
      ]
     },
     "execution_count": 113,
     "metadata": {},
     "output_type": "execute_result"
    }
   ],
   "source": [
    "set1"
   ]
  },
  {
   "cell_type": "code",
   "execution_count": 128,
   "id": "2db208ca",
   "metadata": {},
   "outputs": [],
   "source": [
    "# usecase : grocery items "
   ]
  },
  {
   "cell_type": "markdown",
   "id": "2a25b06e",
   "metadata": {},
   "source": [
    "# Dictonary : "
   ]
  },
  {
   "cell_type": "markdown",
   "id": "c94e1bb5",
   "metadata": {},
   "source": [
    "## ordered collection of key-value pairs\n",
    "## mutable"
   ]
  },
  {
   "cell_type": "code",
   "execution_count": 137,
   "id": "188a1e07",
   "metadata": {},
   "outputs": [],
   "source": [
    "d1 = { \"roll_no\" : 151 , \n",
    "      \"name\" : \"Mira\" , \n",
    "      \"div\" : 'C',\n",
    "      \"sub\" : 'RDBMS2'\n",
    "}"
   ]
  },
  {
   "cell_type": "code",
   "execution_count": 138,
   "id": "1783b0c2",
   "metadata": {},
   "outputs": [
    {
     "data": {
      "text/plain": [
       "{'roll_no': 151, 'name': 'Mira', 'div': 'C', 'sub': 'RDBMS2'}"
      ]
     },
     "execution_count": 138,
     "metadata": {},
     "output_type": "execute_result"
    }
   ],
   "source": [
    "d1"
   ]
  },
  {
   "cell_type": "code",
   "execution_count": 139,
   "id": "712a11df",
   "metadata": {},
   "outputs": [
    {
     "data": {
      "text/plain": [
       "dict"
      ]
     },
     "execution_count": 139,
     "metadata": {},
     "output_type": "execute_result"
    }
   ],
   "source": [
    "type(d1)"
   ]
  },
  {
   "cell_type": "code",
   "execution_count": 140,
   "id": "b4c3a13d",
   "metadata": {},
   "outputs": [
    {
     "data": {
      "text/plain": [
       "dict_keys(['roll_no', 'name', 'div', 'sub'])"
      ]
     },
     "execution_count": 140,
     "metadata": {},
     "output_type": "execute_result"
    }
   ],
   "source": [
    "d1.keys()"
   ]
  },
  {
   "cell_type": "code",
   "execution_count": 141,
   "id": "13633587",
   "metadata": {},
   "outputs": [
    {
     "data": {
      "text/plain": [
       "dict_values([151, 'Mira', 'C', 'RDBMS2'])"
      ]
     },
     "execution_count": 141,
     "metadata": {},
     "output_type": "execute_result"
    }
   ],
   "source": [
    "d1.values()"
   ]
  },
  {
   "cell_type": "code",
   "execution_count": 142,
   "id": "6273d7bc",
   "metadata": {},
   "outputs": [
    {
     "data": {
      "text/plain": [
       "dict_items([('roll_no', 151), ('name', 'Mira'), ('div', 'C'), ('sub', 'RDBMS2')])"
      ]
     },
     "execution_count": 142,
     "metadata": {},
     "output_type": "execute_result"
    }
   ],
   "source": [
    "d1.items()"
   ]
  },
  {
   "cell_type": "code",
   "execution_count": 143,
   "id": "e9ef34cb",
   "metadata": {},
   "outputs": [
    {
     "data": {
      "text/plain": [
       "151"
      ]
     },
     "execution_count": 143,
     "metadata": {},
     "output_type": "execute_result"
    }
   ],
   "source": [
    "d1['roll_no']"
   ]
  },
  {
   "cell_type": "code",
   "execution_count": 144,
   "id": "727c13d0",
   "metadata": {},
   "outputs": [
    {
     "name": "stdout",
     "output_type": "stream",
     "text": [
      "151\n",
      "Mira\n",
      "C\n",
      "RDBMS2\n"
     ]
    }
   ],
   "source": [
    "for i in d1:\n",
    "    print(d1[i])"
   ]
  },
  {
   "cell_type": "code",
   "execution_count": 145,
   "id": "99ac1dfd",
   "metadata": {},
   "outputs": [
    {
     "data": {
      "text/plain": [
       "{'roll_no': 151, 'name': 'Mira', 'div': 'C', 'sub': 'RDBMS2'}"
      ]
     },
     "execution_count": 145,
     "metadata": {},
     "output_type": "execute_result"
    }
   ],
   "source": [
    "d1"
   ]
  },
  {
   "cell_type": "code",
   "execution_count": 146,
   "id": "fe6ad4c7",
   "metadata": {},
   "outputs": [],
   "source": [
    "# mutable\n",
    "d1['name'] = \"isha\""
   ]
  },
  {
   "cell_type": "code",
   "execution_count": 147,
   "id": "f97e0e84",
   "metadata": {},
   "outputs": [
    {
     "data": {
      "text/plain": [
       "{'roll_no': 151, 'name': 'isha', 'div': 'C', 'sub': 'RDBMS2'}"
      ]
     },
     "execution_count": 147,
     "metadata": {},
     "output_type": "execute_result"
    }
   ],
   "source": [
    "d1"
   ]
  },
  {
   "cell_type": "markdown",
   "id": "e632f07c",
   "metadata": {},
   "source": [
    "# Array : similar to the list...it store homogenous data.."
   ]
  },
  {
   "cell_type": "code",
   "execution_count": 152,
   "id": "05786293",
   "metadata": {},
   "outputs": [],
   "source": [
    "from array import array"
   ]
  },
  {
   "cell_type": "code",
   "execution_count": 153,
   "id": "f3791a25",
   "metadata": {},
   "outputs": [
    {
     "data": {
      "text/plain": [
       "array('i', [4, 5, 6, 7])"
      ]
     },
     "execution_count": 153,
     "metadata": {},
     "output_type": "execute_result"
    }
   ],
   "source": [
    "array('i' , (4,5,6,7))"
   ]
  },
  {
   "cell_type": "code",
   "execution_count": null,
   "id": "949ee8bd",
   "metadata": {},
   "outputs": [],
   "source": []
  },
  {
   "cell_type": "code",
   "execution_count": null,
   "id": "35f50187",
   "metadata": {},
   "outputs": [],
   "source": [
    "# String : "
   ]
  },
  {
   "cell_type": "code",
   "execution_count": 154,
   "id": "e8842cc8",
   "metadata": {},
   "outputs": [],
   "source": [
    "s = \"mira rafaliya\""
   ]
  },
  {
   "cell_type": "code",
   "execution_count": 155,
   "id": "8a353bc5",
   "metadata": {},
   "outputs": [
    {
     "data": {
      "text/plain": [
       "'mira rafaliya'"
      ]
     },
     "execution_count": 155,
     "metadata": {},
     "output_type": "execute_result"
    }
   ],
   "source": [
    "s"
   ]
  },
  {
   "cell_type": "code",
   "execution_count": null,
   "id": "0050253a",
   "metadata": {},
   "outputs": [],
   "source": []
  }
 ],
 "metadata": {
  "kernelspec": {
   "display_name": "Python 3 (ipykernel)",
   "language": "python",
   "name": "python3"
  },
  "language_info": {
   "codemirror_mode": {
    "name": "ipython",
    "version": 3
   },
   "file_extension": ".py",
   "mimetype": "text/x-python",
   "name": "python",
   "nbconvert_exporter": "python",
   "pygments_lexer": "ipython3",
   "version": "3.10.9"
  }
 },
 "nbformat": 4,
 "nbformat_minor": 5
}
