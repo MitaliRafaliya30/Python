{
 "cells": [
  {
   "cell_type": "markdown",
   "id": "0e9edaff",
   "metadata": {},
   "source": [
    "# polymorphism : poly means Many morphism means forms"
   ]
  },
  {
   "cell_type": "markdown",
   "id": "3750ee37",
   "metadata": {},
   "source": [
    "# one thing can takes many form..."
   ]
  },
  {
   "cell_type": "code",
   "execution_count": 37,
   "id": "a5b754b8",
   "metadata": {},
   "outputs": [],
   "source": [
    "def func(a,b):\n",
    "    return a+b"
   ]
  },
  {
   "cell_type": "code",
   "execution_count": 38,
   "id": "00a9fb2f",
   "metadata": {},
   "outputs": [
    {
     "data": {
      "text/plain": [
       "5"
      ]
     },
     "execution_count": 38,
     "metadata": {},
     "output_type": "execute_result"
    }
   ],
   "source": [
    "# perform the sum of 2 integers\n",
    "func(2,3)"
   ]
  },
  {
   "cell_type": "code",
   "execution_count": 45,
   "id": "24b28287",
   "metadata": {},
   "outputs": [
    {
     "data": {
      "text/plain": [
       "2"
      ]
     },
     "execution_count": 45,
     "metadata": {},
     "output_type": "execute_result"
    }
   ],
   "source": [
    "# perform the sum of boolean values\n",
    "func(True, True)"
   ]
  },
  {
   "cell_type": "code",
   "execution_count": 46,
   "id": "ef4566b4",
   "metadata": {},
   "outputs": [
    {
     "data": {
      "text/plain": [
       "'pwskills'"
      ]
     },
     "execution_count": 46,
     "metadata": {},
     "output_type": "execute_result"
    }
   ],
   "source": [
    "# perform the concatnat of 2 strings\n",
    "func(\"pw\" , \"skills\")"
   ]
  },
  {
   "cell_type": "code",
   "execution_count": 47,
   "id": "bd1c98d1",
   "metadata": {},
   "outputs": [
    {
     "data": {
      "text/plain": [
       "[1, 2, 3, 4, 5, 6]"
      ]
     },
     "execution_count": 47,
     "metadata": {},
     "output_type": "execute_result"
    }
   ],
   "source": [
    "# perform the concatnat of 2 lists\n",
    "func([1,2,3] , [4,5,6])"
   ]
  },
  {
   "cell_type": "code",
   "execution_count": 48,
   "id": "eb1ec5a6",
   "metadata": {},
   "outputs": [
    {
     "data": {
      "text/plain": [
       "(11, 22, 33, 44, 55, 66)"
      ]
     },
     "execution_count": 48,
     "metadata": {},
     "output_type": "execute_result"
    }
   ],
   "source": [
    "# perform the concatnat of 2 tuples\n",
    "func((11,22,33) , (44,55,66))"
   ]
  },
  {
   "cell_type": "code",
   "execution_count": 49,
   "id": "0284c618",
   "metadata": {},
   "outputs": [],
   "source": [
    "# not work with sets\n",
    "# through error\n",
    "# func({1,2,3} , {4,5,6})"
   ]
  },
  {
   "cell_type": "code",
   "execution_count": 50,
   "id": "980e6ea6",
   "metadata": {},
   "outputs": [],
   "source": [
    "d1 = { \"a\" : \"mira\" , \"b\": \"priya\"\n",
    "    \n",
    "}"
   ]
  },
  {
   "cell_type": "code",
   "execution_count": 51,
   "id": "54e9d1d1",
   "metadata": {},
   "outputs": [],
   "source": [
    "d2 = {\n",
    "    \"c\" : \"riya\" , \"b\": \"nisha\"\n",
    "}"
   ]
  },
  {
   "cell_type": "code",
   "execution_count": 52,
   "id": "8135a6d1",
   "metadata": {},
   "outputs": [],
   "source": [
    "# not work with dictonary\n",
    "# through error\n",
    "# func(d1,d2)"
   ]
  },
  {
   "cell_type": "code",
   "execution_count": null,
   "id": "41989354",
   "metadata": {},
   "outputs": [],
   "source": []
  },
  {
   "cell_type": "code",
   "execution_count": 68,
   "id": "3ae764d3",
   "metadata": {},
   "outputs": [],
   "source": [
    "# example 1:\n",
    "class teacher_lec:\n",
    "    def lec_info(self):\n",
    "        print(\"this is lec info with teacher perspective\")\n",
    "        \n",
    "class student_lec:\n",
    "    def lec_info(self):\n",
    "        print(\"this is lec info with student perspective\")"
   ]
  },
  {
   "cell_type": "code",
   "execution_count": 69,
   "id": "f04419d1",
   "metadata": {},
   "outputs": [],
   "source": [
    "obj1 = teacher_lec()\n",
    "obj2 = student_lec()"
   ]
  },
  {
   "cell_type": "code",
   "execution_count": 70,
   "id": "07cae16a",
   "metadata": {},
   "outputs": [
    {
     "name": "stdout",
     "output_type": "stream",
     "text": [
      "this is lec info with teacher perspective\n",
      "this is lec info with student perspective\n"
     ]
    }
   ],
   "source": [
    "for i in (obj1,obj2):\n",
    "    i.lec_info() \n",
    "    \n",
    "#Because of polymorphism we can execute the same method for all three classes."
   ]
  },
  {
   "cell_type": "code",
   "execution_count": null,
   "id": "8d3d3646",
   "metadata": {},
   "outputs": [],
   "source": []
  },
  {
   "cell_type": "markdown",
   "id": "28290f27",
   "metadata": {},
   "source": [
    "# achieve polymorphism through :\n",
    "## 1) Duck typing\n",
    "## 2) method overridding \n",
    "## 3) method overloading\n",
    "## 4) Operator overloadding"
   ]
  },
  {
   "cell_type": "code",
   "execution_count": null,
   "id": "9efa32bf",
   "metadata": {},
   "outputs": [],
   "source": []
  },
  {
   "cell_type": "markdown",
   "id": "1c2a62cc",
   "metadata": {},
   "source": [
    "# 1) Duck typing :"
   ]
  },
  {
   "cell_type": "markdown",
   "id": "2b9f780a",
   "metadata": {},
   "source": [
    "### If there is a birld, which not actually in a duck but if it is speaks like a duck, walk like a duck, swims like a duck.. there is possibility that this is is a duck.."
   ]
  },
  {
   "cell_type": "markdown",
   "id": "cbc21850",
   "metadata": {},
   "source": [
    "# Why it is used?\n",
    "### bcz it supports dynamic typping "
   ]
  },
  {
   "cell_type": "code",
   "execution_count": 59,
   "id": "7122edc8",
   "metadata": {},
   "outputs": [],
   "source": [
    "# Dynamic typing :\n",
    "# no need to specify data type of variable or class of object\n",
    "# class of obj or data type of variable decide at run time \n",
    "\n",
    "# static typing :\n",
    "# we need to specify data type of variable"
   ]
  },
  {
   "cell_type": "code",
   "execution_count": 53,
   "id": "00d5ae48",
   "metadata": {},
   "outputs": [
    {
     "name": "stdout",
     "output_type": "stream",
     "text": [
      "I am a cat and I can swim\n",
      "Meaw Meaw\n",
      "I am a dog and I can swim\n",
      "Woof Woof\n",
      "I am a duck and I can swim\n",
      "Quack Quack\n"
     ]
    }
   ],
   "source": [
    "# example 1:\n",
    "class Duck:\n",
    "    def swim(self):\n",
    "        print(\"I am a duck and I can swim\")\n",
    "        \n",
    "    def speaks(self):\n",
    "        print(\"Quack Quack\")\n",
    "    \n",
    "class Dog:\n",
    "    def swim(self):\n",
    "        print(\"I am a dog and I can swim\")\n",
    "        \n",
    "    def speaks(self):\n",
    "        print(\"Woof Woof\") \n",
    "        \n",
    "class Cat:\n",
    "    def swim(self):\n",
    "        print(\"I am a cat and I can swim\")\n",
    "        \n",
    "    def speaks(self):\n",
    "        print(\"Meaw Meaw\")  \n",
    "\n",
    "# class type of obj is change (here from duck to cat)      \n",
    "def Display(duck): # It was the obj of Duck class..now it becomes of the class Cat\n",
    "    duck.swim()    # it becomes cat.swim()\n",
    "    duck.speaks()  # it becomes cat.speaks()\n",
    "    \n",
    "duck = Duck()\n",
    "dog = Dog()\n",
    "cat = Cat()\n",
    "\n",
    "Display(cat)# I pass obj of Cat class\n",
    "Display(dog)\n",
    "Display(duck)\n",
    "\n",
    "# it is possible because of dynamic typing...(class type of object decide at run time)"
   ]
  },
  {
   "cell_type": "markdown",
   "id": "b050b787",
   "metadata": {},
   "source": [
    "## type / class of object doesn't matters...\n",
    "## what matters? methods which (object passed in function call) define on the object...it will be called..  "
   ]
  },
  {
   "cell_type": "code",
   "execution_count": null,
   "id": "781bd3a5",
   "metadata": {},
   "outputs": [],
   "source": []
  },
  {
   "cell_type": "code",
   "execution_count": 56,
   "id": "c96469be",
   "metadata": {},
   "outputs": [
    {
     "name": "stdout",
     "output_type": "stream",
     "text": [
      "fly with fuel\n",
      "fly with wings\n"
     ]
    },
    {
     "ename": "AttributeError",
     "evalue": "'Fish' object has no attribute 'fly'",
     "output_type": "error",
     "traceback": [
      "\u001b[1;31m---------------------------------------------------------------------------\u001b[0m",
      "\u001b[1;31mAttributeError\u001b[0m                            Traceback (most recent call last)",
      "Cell \u001b[1;32mIn[56], line 18\u001b[0m\n\u001b[0;32m     15\u001b[0m \u001b[38;5;66;03m#Attributes having same name are \u001b[39;00m\n\u001b[0;32m     16\u001b[0m \u001b[38;5;66;03m# considered as duck typing \u001b[39;00m\n\u001b[0;32m     17\u001b[0m \u001b[38;5;28;01mfor\u001b[39;00m obj \u001b[38;5;129;01min\u001b[39;00m Airplane(), Bird(), Fish(): \n\u001b[1;32m---> 18\u001b[0m     \u001b[43mobj\u001b[49m\u001b[38;5;241;43m.\u001b[39;49m\u001b[43mfly\u001b[49m()\n",
      "\u001b[1;31mAttributeError\u001b[0m: 'Fish' object has no attribute 'fly'"
     ]
    }
   ],
   "source": [
    "# example 2:\n",
    "# Python program to demonstrate duck typing \n",
    "  \n",
    "class Bird: \n",
    "    def fly(self): \n",
    "        print(\"fly with wings\") \n",
    "        \n",
    "class Airplane: \n",
    "    def fly(self): \n",
    "        print(\"fly with fuel\") \n",
    "        \n",
    "class Fish: \n",
    "    def swim(self): \n",
    "        print(\"fish swim in sea\") \n",
    "        \n",
    "#Attributes having same name are \n",
    "# considered as duck typing \n",
    "for obj in Airplane(), Bird(), Fish(): \n",
    "    obj.fly() "
   ]
  },
  {
   "cell_type": "code",
   "execution_count": 58,
   "id": "11f68b71",
   "metadata": {},
   "outputs": [
    {
     "name": "stdout",
     "output_type": "stream",
     "text": [
      "I am C\n",
      "I am B\n",
      "I am A\n"
     ]
    }
   ],
   "source": [
    "# example 3:\n",
    "class A:\n",
    "    def intro(self):\n",
    "        print(\"I am A\")\n",
    "        \n",
    "class B:\n",
    "    def intro(self):\n",
    "        print(\"I am B\")\n",
    "        \n",
    "class C:\n",
    "    def intro(self):\n",
    "        print(\"I am C\")\n",
    "        \n",
    "obj_a = A()\n",
    "obj_b = B()\n",
    "obj_c = C()\n",
    "\n",
    "for obj in obj_c,obj_b,obj_a:\n",
    "    obj.intro()\n",
    "    "
   ]
  },
  {
   "cell_type": "markdown",
   "id": "59c28981",
   "metadata": {},
   "source": [
    "### In this loop, the type of obj (whether it is an instance of A, B, or C) doesn't matter. What matters is that each obj has an intro method that can be called. This demonstrates duck typing because you are not concerned with the actual type of the object, but rather with the fact that it has the method you want to call."
   ]
  },
  {
   "cell_type": "code",
   "execution_count": null,
   "id": "a4fc445d",
   "metadata": {},
   "outputs": [],
   "source": []
  },
  {
   "cell_type": "code",
   "execution_count": null,
   "id": "19673755",
   "metadata": {},
   "outputs": [],
   "source": []
  },
  {
   "cell_type": "markdown",
   "id": "120e3503",
   "metadata": {},
   "source": [
    "# 2) Operator Overloading :"
   ]
  },
  {
   "cell_type": "markdown",
   "id": "beea9ced",
   "metadata": {},
   "source": [
    "# Overloading : means operator perform beyond it's predefine capabilities"
   ]
  },
  {
   "cell_type": "markdown",
   "id": "9ce2655e",
   "metadata": {},
   "source": [
    "### like, operator + perform differently with different objects\n",
    "\n",
    "- if operands are integer it perform addition\n",
    "- if operands are string , list , tuple.. it perform concatnate"
   ]
  },
  {
   "cell_type": "code",
   "execution_count": 24,
   "id": "675e115e",
   "metadata": {},
   "outputs": [
    {
     "data": {
      "text/plain": [
       "3"
      ]
     },
     "execution_count": 24,
     "metadata": {},
     "output_type": "execute_result"
    }
   ],
   "source": [
    "1 + 2"
   ]
  },
  {
   "cell_type": "code",
   "execution_count": 18,
   "id": "06fb72a0",
   "metadata": {},
   "outputs": [
    {
     "data": {
      "text/plain": [
       "5"
      ]
     },
     "execution_count": 18,
     "metadata": {},
     "output_type": "execute_result"
    }
   ],
   "source": [
    "int.__add__(2,3)\n",
    "# behind the seen __add__ method is going to be called \n",
    "# bcz add method is define for int class"
   ]
  },
  {
   "cell_type": "code",
   "execution_count": 26,
   "id": "6b8e09a0",
   "metadata": {},
   "outputs": [
    {
     "data": {
      "text/plain": [
       "'12'"
      ]
     },
     "execution_count": 26,
     "metadata": {},
     "output_type": "execute_result"
    }
   ],
   "source": [
    "\"1\" + \"2\""
   ]
  },
  {
   "cell_type": "code",
   "execution_count": 27,
   "id": "1f28cc25",
   "metadata": {},
   "outputs": [
    {
     "data": {
      "text/plain": [
       "'12'"
      ]
     },
     "execution_count": 27,
     "metadata": {},
     "output_type": "execute_result"
    }
   ],
   "source": [
    "str.__add__(\"1\",\"2\")\n",
    "#add method is define for str class also"
   ]
  },
  {
   "cell_type": "code",
   "execution_count": 24,
   "id": "01f76267",
   "metadata": {},
   "outputs": [
    {
     "data": {
      "text/plain": [
       "'mira mira mira '"
      ]
     },
     "execution_count": 24,
     "metadata": {},
     "output_type": "execute_result"
    }
   ],
   "source": [
    "\"mira \" * 3"
   ]
  },
  {
   "cell_type": "code",
   "execution_count": 3,
   "id": "12de5721",
   "metadata": {},
   "outputs": [
    {
     "data": {
      "text/plain": [
       "'mira mira mira '"
      ]
     },
     "execution_count": 3,
     "metadata": {},
     "output_type": "execute_result"
    }
   ],
   "source": [
    "str.__mul__(\"mira \" , 3)"
   ]
  },
  {
   "cell_type": "code",
   "execution_count": 22,
   "id": "270ae70c",
   "metadata": {},
   "outputs": [
    {
     "data": {
      "text/plain": [
       "5"
      ]
     },
     "execution_count": 22,
     "metadata": {},
     "output_type": "execute_result"
    }
   ],
   "source": [
    "int.__sub__(10,5)"
   ]
  },
  {
   "cell_type": "code",
   "execution_count": null,
   "id": "4032115f",
   "metadata": {},
   "outputs": [],
   "source": []
  },
  {
   "cell_type": "code",
   "execution_count": 35,
   "id": "1374ed3b",
   "metadata": {},
   "outputs": [],
   "source": [
    "class complexNumber:\n",
    "    def __init__(self,r,i):\n",
    "        self.real = r\n",
    "        self.imaginary = i\n",
    "        \n",
    "    def __add__(self , other):\n",
    "        return f\"{self.real+other.real} + {self.imaginary+other.imaginary}i\"\n",
    "    \n",
    "c1 = complexNumber(1,2) \n",
    "c2 = complexNumber(4,5) "
   ]
  },
  {
   "cell_type": "code",
   "execution_count": 36,
   "id": "a2a92f57",
   "metadata": {},
   "outputs": [
    {
     "data": {
      "text/plain": [
       "'5 + 7i'"
      ]
     },
     "execution_count": 36,
     "metadata": {},
     "output_type": "execute_result"
    }
   ],
   "source": [
    "c1 + c2 # it throw error bcz dunder add method is not define for this type of operand (class obj)\n",
    "# so we will define our own add method for this object\n",
    "# we have overloaded this + operator..this + operator performing beyond it's predefine capabilities"
   ]
  },
  {
   "cell_type": "code",
   "execution_count": 32,
   "id": "40e319a1",
   "metadata": {},
   "outputs": [],
   "source": [
    "# we can overload this + operator with dunder method"
   ]
  },
  {
   "cell_type": "code",
   "execution_count": null,
   "id": "64b1c46b",
   "metadata": {},
   "outputs": [],
   "source": []
  },
  {
   "cell_type": "code",
   "execution_count": null,
   "id": "e9818493",
   "metadata": {},
   "outputs": [],
   "source": []
  },
  {
   "cell_type": "code",
   "execution_count": null,
   "id": "e9e6f49c",
   "metadata": {},
   "outputs": [],
   "source": [
    "# we can also overload > , < >= <= , bitwise operator also..."
   ]
  },
  {
   "cell_type": "code",
   "execution_count": 56,
   "id": "59eb38eb",
   "metadata": {},
   "outputs": [
    {
     "name": "stdout",
     "output_type": "stream",
     "text": [
      "kevin will pay the bill\n"
     ]
    }
   ],
   "source": [
    "# example 2:\n",
    "## there is 2 person,whose age is more he will pay the bill\n",
    "\n",
    "class person:\n",
    "    def __init__(self,name , age):\n",
    "        self.name = name\n",
    "        self.age = age\n",
    "        \n",
    "    def __gt__(self , other):\n",
    "        if self.age > other.age:  # here > works bcz for age gt define for int class\n",
    "            return True \n",
    "        else:\n",
    "            return False\n",
    "        \n",
    "p1 = person(\"anshu\" , 21)\n",
    "p2 = person(\"kevin\" , 23)\n",
    "\n",
    "if p1>p2:\n",
    "    print(f\"{p1.name} will pay the bill\")\n",
    "else:\n",
    "    print(f\"{p2.name} will pay the bill\")"
   ]
  },
  {
   "cell_type": "code",
   "execution_count": 57,
   "id": "c18f0969",
   "metadata": {},
   "outputs": [],
   "source": [
    "# to overload > operator __gt__() dunder method is use\n",
    "# to overload < operator __lt__() dunder method is use"
   ]
  },
  {
   "cell_type": "code",
   "execution_count": null,
   "id": "f7c02863",
   "metadata": {},
   "outputs": [],
   "source": []
  },
  {
   "cell_type": "markdown",
   "id": "5f01b33d",
   "metadata": {},
   "source": [
    "# 3) Method overloading:"
   ]
  },
  {
   "cell_type": "code",
   "execution_count": 70,
   "id": "a166e1e4",
   "metadata": {},
   "outputs": [],
   "source": [
    "# by default python doesn't support method overloading \n",
    "# but we can achieve this by some other ways"
   ]
  },
  {
   "cell_type": "code",
   "execution_count": 71,
   "id": "60c608e5",
   "metadata": {},
   "outputs": [],
   "source": [
    "# what is it?\n",
    "\n",
    "# we are defining many methods with same name but diff no. of args within a class "
   ]
  },
  {
   "cell_type": "code",
   "execution_count": 72,
   "id": "ef9263d3",
   "metadata": {},
   "outputs": [],
   "source": [
    "class Demo:\n",
    "    def add(self,a,b):\n",
    "        return a+b\n",
    "    \n",
    "    def add(self , a,b,c):\n",
    "        return a+b+c\n",
    "    \n",
    "d = Demo()"
   ]
  },
  {
   "cell_type": "code",
   "execution_count": 73,
   "id": "b6721ddb",
   "metadata": {},
   "outputs": [
    {
     "ename": "TypeError",
     "evalue": "Demo.add() missing 1 required positional argument: 'c'",
     "output_type": "error",
     "traceback": [
      "\u001b[1;31m---------------------------------------------------------------------------\u001b[0m",
      "\u001b[1;31mTypeError\u001b[0m                                 Traceback (most recent call last)",
      "Cell \u001b[1;32mIn[73], line 1\u001b[0m\n\u001b[1;32m----> 1\u001b[0m \u001b[43md\u001b[49m\u001b[38;5;241;43m.\u001b[39;49m\u001b[43madd\u001b[49m\u001b[43m(\u001b[49m\u001b[38;5;241;43m2\u001b[39;49m\u001b[43m,\u001b[49m\u001b[38;5;241;43m3\u001b[39;49m\u001b[43m)\u001b[49m\n",
      "\u001b[1;31mTypeError\u001b[0m: Demo.add() missing 1 required positional argument: 'c'"
     ]
    }
   ],
   "source": [
    "d.add(2,3)\n",
    "# it through error, bcz it only consider latest defination, so it discard this defination\n",
    "# it through error bcz python doesn't support method overloading"
   ]
  },
  {
   "cell_type": "code",
   "execution_count": 74,
   "id": "3945157d",
   "metadata": {},
   "outputs": [
    {
     "data": {
      "text/plain": [
       "6"
      ]
     },
     "execution_count": 74,
     "metadata": {},
     "output_type": "execute_result"
    }
   ],
   "source": [
    "d.add(1,2,3)"
   ]
  },
  {
   "cell_type": "code",
   "execution_count": 75,
   "id": "9ea6d9f8",
   "metadata": {},
   "outputs": [],
   "source": [
    "# out of all definations, it will consider latest defination "
   ]
  },
  {
   "cell_type": "code",
   "execution_count": null,
   "id": "2c699283",
   "metadata": {},
   "outputs": [],
   "source": []
  },
  {
   "cell_type": "code",
   "execution_count": 76,
   "id": "2dce3455",
   "metadata": {},
   "outputs": [],
   "source": [
    "# Solution :\n",
    "# 1) using default argument :\n",
    "\n",
    "class Demo:\n",
    "    def add(self,a,b,c=0):\n",
    "        return a+b+c\n",
    "    \n",
    "#     def add(self , a,b,c):\n",
    "#         return a+b+c\n",
    "\n",
    "d = Demo()"
   ]
  },
  {
   "cell_type": "code",
   "execution_count": 77,
   "id": "8ad85f1f",
   "metadata": {},
   "outputs": [
    {
     "name": "stdout",
     "output_type": "stream",
     "text": [
      "5\n",
      "6\n"
     ]
    }
   ],
   "source": [
    "print(d.add(2,3))\n",
    "print(d.add(1,2,3))"
   ]
  },
  {
   "cell_type": "code",
   "execution_count": 78,
   "id": "a1ac24f6",
   "metadata": {},
   "outputs": [],
   "source": [
    "# Solution :\n",
    "# 1) using variable length argument :\n",
    "class Demo:\n",
    "    def add(self,*nums):\n",
    "        sum = 0\n",
    "        for i in nums:\n",
    "            sum = sum + i\n",
    "        return sum"
   ]
  },
  {
   "cell_type": "code",
   "execution_count": 79,
   "id": "ce64d9cf",
   "metadata": {},
   "outputs": [],
   "source": [
    "d = Demo()"
   ]
  },
  {
   "cell_type": "code",
   "execution_count": 80,
   "id": "6aaa1eff",
   "metadata": {},
   "outputs": [
    {
     "name": "stdout",
     "output_type": "stream",
     "text": [
      "5\n",
      "6\n",
      "203\n"
     ]
    }
   ],
   "source": [
    "print(d.add(2,3))\n",
    "print(d.add(1,2,3))\n",
    "print(d.add(3,4,5,67,7,8,9,100))"
   ]
  },
  {
   "cell_type": "code",
   "execution_count": null,
   "id": "7a0f7f58",
   "metadata": {},
   "outputs": [],
   "source": []
  },
  {
   "cell_type": "markdown",
   "id": "2fb2f5aa",
   "metadata": {},
   "source": [
    "# 4) Metohd overroding :"
   ]
  },
  {
   "cell_type": "markdown",
   "id": "d1db97a0",
   "metadata": {},
   "source": [
    "### - there must be 2 classes\n",
    "### -  used to implement inheritance\n",
    "### - A method with is in child and parent class with the same name and same number of arguments but each perform diff task which is called as a method overriding\n",
    "### -  why method overriding :\n",
    "### -  by this child class can change functions that are defined by its parent class"
   ]
  },
  {
   "cell_type": "code",
   "execution_count": null,
   "id": "2baf3a39",
   "metadata": {},
   "outputs": [],
   "source": []
  },
  {
   "cell_type": "code",
   "execution_count": 98,
   "id": "c42d18d4",
   "metadata": {},
   "outputs": [],
   "source": [
    "class father:\n",
    "    def sleep(self):\n",
    "        print(\"sleeps from 10 to 5 am\")\n",
    "        \n",
    "class son(father):\n",
    "    def sleep(self):\n",
    "        print(\"sleeps from 12 to 7 am\")\n",
    "        super().sleep()  #to inherit sleep method of father class\n"
   ]
  },
  {
   "cell_type": "code",
   "execution_count": 99,
   "id": "88581323",
   "metadata": {},
   "outputs": [],
   "source": [
    "s = son()"
   ]
  },
  {
   "cell_type": "code",
   "execution_count": 100,
   "id": "c5375e98",
   "metadata": {},
   "outputs": [
    {
     "name": "stdout",
     "output_type": "stream",
     "text": [
      "sleeps from 12 to 7 am\n",
      "sleeps from 10 to 5 am\n"
     ]
    }
   ],
   "source": [
    "s.sleep()"
   ]
  },
  {
   "cell_type": "code",
   "execution_count": null,
   "id": "6bdb9186",
   "metadata": {},
   "outputs": [],
   "source": []
  },
  {
   "cell_type": "code",
   "execution_count": 101,
   "id": "f8cb93ae",
   "metadata": {},
   "outputs": [],
   "source": [
    "# diff btw method overloading and overriding :\n",
    "### 1) Method overloading is compile time polymorphism(at compile time we decide.. how many args passed)\n",
    "### 2) Method overriding is run time polymorphism (at rum time it decide method call by which obj etc...) )"
   ]
  },
  {
   "cell_type": "code",
   "execution_count": null,
   "id": "5ad12940",
   "metadata": {},
   "outputs": [],
   "source": [
    "### 1) method overloading occure within a same class\n",
    "### 2) method overriding occure in diff class"
   ]
  },
  {
   "cell_type": "code",
   "execution_count": null,
   "id": "dac2f8ed",
   "metadata": {},
   "outputs": [],
   "source": []
  }
 ],
 "metadata": {
  "kernelspec": {
   "display_name": "Python 3 (ipykernel)",
   "language": "python",
   "name": "python3"
  },
  "language_info": {
   "codemirror_mode": {
    "name": "ipython",
    "version": 3
   },
   "file_extension": ".py",
   "mimetype": "text/x-python",
   "name": "python",
   "nbconvert_exporter": "python",
   "pygments_lexer": "ipython3",
   "version": "3.10.9"
  }
 },
 "nbformat": 4,
 "nbformat_minor": 5
}
