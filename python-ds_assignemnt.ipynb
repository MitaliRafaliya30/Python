{
 "cells": [
  {
   "cell_type": "markdown",
   "id": "53c20e42",
   "metadata": {},
   "source": [
    "# There is no built-in function to reverse a String in Python. The fastest (and easiest?) way is to use a slice that steps backwards, -1 .\n"
   ]
  },
  {
   "cell_type": "code",
   "execution_count": 77,
   "id": "8ba85806",
   "metadata": {},
   "outputs": [],
   "source": [
    "#1"
   ]
  },
  {
   "cell_type": "code",
   "execution_count": 78,
   "id": "814e713f",
   "metadata": {},
   "outputs": [
    {
     "data": {
      "text/plain": [
       "'dlrow olleH'"
      ]
     },
     "execution_count": 78,
     "metadata": {},
     "output_type": "execute_result"
    }
   ],
   "source": [
    "str = \"Hello world\"\n",
    "str[::-1]"
   ]
  },
  {
   "cell_type": "code",
   "execution_count": 79,
   "id": "26919971",
   "metadata": {},
   "outputs": [],
   "source": [
    "#2"
   ]
  },
  {
   "cell_type": "code",
   "execution_count": 80,
   "id": "85a03c47",
   "metadata": {},
   "outputs": [
    {
     "name": "stdout",
     "output_type": "stream",
     "text": [
      "5\n"
     ]
    }
   ],
   "source": [
    "str = \"Hello PW Learners...!!\"\n",
    "lst = []\n",
    "for i in str:\n",
    "    if(i==\"a\" or i==\"e\" or i==\"i\" or i==\"o\" or i==\"u\" or i==\"A\" or i==\"E\" or i==\"I\" or i==\"O\" or i==\"U\"):\n",
    "        lst.append(i)\n",
    "print(len(lst))"
   ]
  },
  {
   "cell_type": "code",
   "execution_count": 81,
   "id": "24ec3d64",
   "metadata": {},
   "outputs": [],
   "source": [
    "#3"
   ]
  },
  {
   "cell_type": "code",
   "execution_count": 82,
   "id": "99e78ec9",
   "metadata": {},
   "outputs": [
    {
     "name": "stdout",
     "output_type": "stream",
     "text": [
      "enter the string :\n"
     ]
    }
   ],
   "source": [
    "str = input(\"enter the string :\")"
   ]
  },
  {
   "cell_type": "code",
   "execution_count": 83,
   "id": "80b262ea",
   "metadata": {},
   "outputs": [
    {
     "name": "stdout",
     "output_type": "stream",
     "text": [
      "string is palindrom\n"
     ]
    }
   ],
   "source": [
    "if(str == str[::-1]):\n",
    "    print(\"string is palindrom\")\n",
    "else:\n",
    "    print(\"string is not palindrom\")"
   ]
  },
  {
   "cell_type": "code",
   "execution_count": 84,
   "id": "78254440",
   "metadata": {},
   "outputs": [],
   "source": [
    "#8"
   ]
  },
  {
   "cell_type": "code",
   "execution_count": 85,
   "id": "782d1fe1",
   "metadata": {},
   "outputs": [],
   "source": [
    "str1 = \"mira rafaliya\""
   ]
  },
  {
   "cell_type": "code",
   "execution_count": 86,
   "id": "5396b1fa",
   "metadata": {},
   "outputs": [
    {
     "name": "stdout",
     "output_type": "stream",
     "text": [
      "MIRA RAFALIYA\n"
     ]
    }
   ],
   "source": [
    "print(str1.upper())"
   ]
  },
  {
   "cell_type": "code",
   "execution_count": 87,
   "id": "185775a8",
   "metadata": {},
   "outputs": [
    {
     "name": "stdout",
     "output_type": "stream",
     "text": [
      "mira rafaliya\n"
     ]
    }
   ],
   "source": [
    "print(str1.lower())"
   ]
  },
  {
   "cell_type": "code",
   "execution_count": 88,
   "id": "948dc6ba",
   "metadata": {},
   "outputs": [],
   "source": [
    "#9"
   ]
  },
  {
   "cell_type": "code",
   "execution_count": 89,
   "id": "dd0627db",
   "metadata": {},
   "outputs": [
    {
     "data": {
      "text/plain": [
       "2"
      ]
     },
     "execution_count": 89,
     "metadata": {},
     "output_type": "execute_result"
    }
   ],
   "source": [
    "len(str1.split(\" \"))"
   ]
  },
  {
   "cell_type": "code",
   "execution_count": 90,
   "id": "0252c413",
   "metadata": {},
   "outputs": [],
   "source": [
    "#10"
   ]
  },
  {
   "cell_type": "code",
   "execution_count": 91,
   "id": "7bee870b",
   "metadata": {},
   "outputs": [
    {
     "name": "stdout",
     "output_type": "stream",
     "text": [
      "mira rafaliya\n"
     ]
    }
   ],
   "source": [
    "str1 = \"mira\"\n",
    "str2 = \"rafaliya\"\n",
    "str3 = f\"{str1} {str2}\"\n",
    "print(str3)"
   ]
  },
  {
   "cell_type": "code",
   "execution_count": 92,
   "id": "f992ed34",
   "metadata": {},
   "outputs": [],
   "source": [
    "# 11"
   ]
  },
  {
   "cell_type": "code",
   "execution_count": 93,
   "id": "d51b65e7",
   "metadata": {},
   "outputs": [],
   "source": [
    "# Write code to remove all occurrences of a specific element from a list."
   ]
  },
  {
   "cell_type": "code",
   "execution_count": 136,
   "id": "2e0fcb0c",
   "metadata": {},
   "outputs": [
    {
     "name": "stdout",
     "output_type": "stream",
     "text": [
      "[11, 33, 44, 55, 66, 33, 44, 11]\n"
     ]
    }
   ],
   "source": [
    "def remove_ele(input_l1 , ele1):\n",
    "    return [i for i in input_l1 if i!=ele1]\n",
    "\n",
    "my_l2 = [11,22,33,22,44,55,22,66,22,22,22,22,33,44,11,22]\n",
    "ele2 = 22\n",
    "\n",
    "op_lst = remove_ele(my_l2 , ele2)\n",
    "print(op_lst)"
   ]
  },
  {
   "cell_type": "code",
   "execution_count": null,
   "id": "a9aae93f",
   "metadata": {},
   "outputs": [],
   "source": []
  },
  {
   "cell_type": "code",
   "execution_count": null,
   "id": "7950b07b",
   "metadata": {},
   "outputs": [],
   "source": []
  },
  {
   "cell_type": "code",
   "execution_count": 27,
   "id": "97792618",
   "metadata": {},
   "outputs": [],
   "source": [
    "l = [8,5,4,22,99]"
   ]
  },
  {
   "cell_type": "code",
   "execution_count": 33,
   "id": "14082787",
   "metadata": {},
   "outputs": [],
   "source": [
    "l.sort(reverse=True)"
   ]
  },
  {
   "cell_type": "code",
   "execution_count": 35,
   "id": "5fe35af0",
   "metadata": {},
   "outputs": [
    {
     "data": {
      "text/plain": [
       "22"
      ]
     },
     "execution_count": 35,
     "metadata": {},
     "output_type": "execute_result"
    }
   ],
   "source": [
    "l[1]"
   ]
  },
  {
   "cell_type": "code",
   "execution_count": 36,
   "id": "11f684dd",
   "metadata": {},
   "outputs": [],
   "source": [
    "data = [55,1,45,68,159,75,5,14]"
   ]
  },
  {
   "cell_type": "code",
   "execution_count": null,
   "id": "b38dc798",
   "metadata": {},
   "outputs": [],
   "source": [
    "def find_2nd_max(l1):\n",
    "    "
   ]
  },
  {
   "cell_type": "code",
   "execution_count": 37,
   "id": "1ec7200a",
   "metadata": {},
   "outputs": [],
   "source": [
    "str1 = \"mira\""
   ]
  },
  {
   "cell_type": "code",
   "execution_count": 38,
   "id": "73029ee2",
   "metadata": {},
   "outputs": [
    {
     "data": {
      "text/plain": [
       "'arim'"
      ]
     },
     "execution_count": 38,
     "metadata": {},
     "output_type": "execute_result"
    }
   ],
   "source": [
    "str1[::-1]"
   ]
  },
  {
   "cell_type": "code",
   "execution_count": 40,
   "id": "5c2542b6",
   "metadata": {},
   "outputs": [
    {
     "name": "stdout",
     "output_type": "stream",
     "text": [
      "a\n",
      "r\n",
      "i\n",
      "m\n"
     ]
    }
   ],
   "source": [
    "for i in str1[::-1]:\n",
    "    print(i)"
   ]
  },
  {
   "cell_type": "code",
   "execution_count": 65,
   "id": "f44db0a6",
   "metadata": {},
   "outputs": [
    {
     "name": "stdout",
     "output_type": "stream",
     "text": [
      "a 3\n",
      "r 2\n",
      "i 1\n",
      "m 0\n"
     ]
    }
   ],
   "source": [
    "# reverse string using for loop\n",
    "str1\n",
    "for i in range(len(str1)-1 , -1 , -1):\n",
    "    print(str1[i] , i)"
   ]
  },
  {
   "cell_type": "code",
   "execution_count": null,
   "id": "5e62c81b",
   "metadata": {},
   "outputs": [],
   "source": []
  },
  {
   "cell_type": "code",
   "execution_count": null,
   "id": "27393ed3",
   "metadata": {},
   "outputs": [],
   "source": []
  },
  {
   "cell_type": "code",
   "execution_count": null,
   "id": "3b0a5645",
   "metadata": {},
   "outputs": [],
   "source": []
  },
  {
   "cell_type": "code",
   "execution_count": null,
   "id": "7cc50802",
   "metadata": {},
   "outputs": [],
   "source": []
  }
 ],
 "metadata": {
  "kernelspec": {
   "display_name": "Python 3 (ipykernel)",
   "language": "python",
   "name": "python3"
  },
  "language_info": {
   "codemirror_mode": {
    "name": "ipython",
    "version": 3
   },
   "file_extension": ".py",
   "mimetype": "text/x-python",
   "name": "python",
   "nbconvert_exporter": "python",
   "pygments_lexer": "ipython3",
   "version": "3.10.9"
  }
 },
 "nbformat": 4,
 "nbformat_minor": 5
}
