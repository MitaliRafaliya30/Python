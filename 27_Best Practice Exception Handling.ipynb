{
 "cells": [
  {
   "cell_type": "code",
   "execution_count": 1,
   "id": "4141b77a",
   "metadata": {},
   "outputs": [
    {
     "name": "stdout",
     "output_type": "stream",
     "text": [
      "division by zero\n"
     ]
    }
   ],
   "source": [
    "#use always a specific exception\n",
    "try :\n",
    "    10/0\n",
    "except ZeroDivisionError as e :\n",
    "    print(e)"
   ]
  },
  {
   "cell_type": "code",
   "execution_count": 2,
   "id": "349291be",
   "metadata": {},
   "outputs": [
    {
     "name": "stdout",
     "output_type": "stream",
     "text": [
      "division by zero\n"
     ]
    }
   ],
   "source": [
    "#do not use generic exception every time\n",
    "try :\n",
    "    10/0\n",
    "except Exception as e :\n",
    "    print(e)"
   ]
  },
  {
   "cell_type": "code",
   "execution_count": 3,
   "id": "0eebe10c",
   "metadata": {},
   "outputs": [
    {
     "name": "stdout",
     "output_type": "stream",
     "text": [
      "i am trying to handle a zerodivision error division by zero\n"
     ]
    }
   ],
   "source": [
    "# print always a proper message\n",
    "try :\n",
    "    10/0\n",
    "except ZeroDivisionError as e :\n",
    "    print(\"i am trying to handle a zerodivision error\"  , e)"
   ]
  },
  {
   "cell_type": "markdown",
   "id": "2d7a2fbd",
   "metadata": {},
   "source": [
    "# always try to log your error \n",
    "# Why?\n",
    "- Logging errors allows  to keep a permanent record of issues that occur in your program. "
   ]
  },
  {
   "cell_type": "code",
   "execution_count": 6,
   "id": "f6b9ddcd",
   "metadata": {},
   "outputs": [],
   "source": [
    "import logging\n",
    "logging.basicConfig(filename = \"error.log\" , level=logging.ERROR)\n",
    "\n",
    "try:\n",
    "     10/0\n",
    "except ZeroDivisionError as e:\n",
    "    logging.error(\"i am trying to handle zero division error {e}\")"
   ]
  },
  {
   "cell_type": "code",
   "execution_count": 7,
   "id": "14140dc5",
   "metadata": {},
   "outputs": [],
   "source": [
    "#alwyas avoid to write a multiple exception handling \n",
    "try :\n",
    "    10/0\n",
    "except FileNotFoundError as e : \n",
    "    logging.error(e)\n",
    "except AttributeError as e : \n",
    "    logging.error(e)\n",
    "except ZeroDivisionError as e :\n",
    "    logging.error(e)"
   ]
  },
  {
   "cell_type": "code",
   "execution_count": null,
   "id": "63d1776f",
   "metadata": {},
   "outputs": [],
   "source": []
  }
 ],
 "metadata": {
  "kernelspec": {
   "display_name": "Python 3 (ipykernel)",
   "language": "python",
   "name": "python3"
  },
  "language_info": {
   "codemirror_mode": {
    "name": "ipython",
    "version": 3
   },
   "file_extension": ".py",
   "mimetype": "text/x-python",
   "name": "python",
   "nbconvert_exporter": "python",
   "pygments_lexer": "ipython3",
   "version": "3.10.9"
  }
 },
 "nbformat": 4,
 "nbformat_minor": 5
}
