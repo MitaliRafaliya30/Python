{
 "cells": [
  {
   "cell_type": "markdown",
   "id": "4ce0c36f",
   "metadata": {},
   "source": [
    "# Dictonary :\n",
    "## ordered collection of key-value pairs¶\n",
    "## mutable"
   ]
  },
  {
   "cell_type": "code",
   "execution_count": 2,
   "id": "8f8f79fa",
   "metadata": {},
   "outputs": [
    {
     "data": {
      "text/plain": [
       "dict"
      ]
     },
     "execution_count": 2,
     "metadata": {},
     "output_type": "execute_result"
    }
   ],
   "source": [
    "d = {}\n",
    "type(d)"
   ]
  },
  {
   "cell_type": "code",
   "execution_count": 3,
   "id": "be4b79ee",
   "metadata": {},
   "outputs": [],
   "source": [
    "d = { 'name' : 'Ajay',\n",
    "     'email' : 'aj@gmail.com' , \n",
    "     \"contact\" : 1234\n",
    "}"
   ]
  },
  {
   "cell_type": "code",
   "execution_count": 5,
   "id": "91e0a9f8",
   "metadata": {},
   "outputs": [
    {
     "data": {
      "text/plain": [
       "{'name': 'Ajay', 'email': 'aj@gmail.com', 'contact': 1234}"
      ]
     },
     "execution_count": 5,
     "metadata": {},
     "output_type": "execute_result"
    }
   ],
   "source": [
    "d"
   ]
  },
  {
   "cell_type": "code",
   "execution_count": 6,
   "id": "1e145585",
   "metadata": {},
   "outputs": [
    {
     "data": {
      "text/plain": [
       "dict_keys(['name', 'email', 'contact'])"
      ]
     },
     "execution_count": 6,
     "metadata": {},
     "output_type": "execute_result"
    }
   ],
   "source": [
    "d.keys()"
   ]
  },
  {
   "cell_type": "code",
   "execution_count": 7,
   "id": "8d36a207",
   "metadata": {},
   "outputs": [
    {
     "data": {
      "text/plain": [
       "dict_values(['Ajay', 'aj@gmail.com', 1234])"
      ]
     },
     "execution_count": 7,
     "metadata": {},
     "output_type": "execute_result"
    }
   ],
   "source": [
    "d.values()"
   ]
  },
  {
   "cell_type": "code",
   "execution_count": 8,
   "id": "4678b189",
   "metadata": {},
   "outputs": [
    {
     "data": {
      "text/plain": [
       "dict_items([('name', 'Ajay'), ('email', 'aj@gmail.com'), ('contact', 1234)])"
      ]
     },
     "execution_count": 8,
     "metadata": {},
     "output_type": "execute_result"
    }
   ],
   "source": [
    "d.items()"
   ]
  },
  {
   "cell_type": "code",
   "execution_count": 9,
   "id": "1659db6f",
   "metadata": {},
   "outputs": [
    {
     "data": {
      "text/plain": [
       "'Ajay'"
      ]
     },
     "execution_count": 9,
     "metadata": {},
     "output_type": "execute_result"
    }
   ],
   "source": [
    "d['name']"
   ]
  },
  {
   "cell_type": "code",
   "execution_count": 10,
   "id": "c3356fd7",
   "metadata": {},
   "outputs": [
    {
     "data": {
      "text/plain": [
       "'aj@gmail.com'"
      ]
     },
     "execution_count": 10,
     "metadata": {},
     "output_type": "execute_result"
    }
   ],
   "source": [
    "d['email']"
   ]
  },
  {
   "cell_type": "code",
   "execution_count": 11,
   "id": "93b32ea0",
   "metadata": {},
   "outputs": [
    {
     "data": {
      "text/plain": [
       "1234"
      ]
     },
     "execution_count": 11,
     "metadata": {},
     "output_type": "execute_result"
    }
   ],
   "source": [
    "d['contact']"
   ]
  },
  {
   "cell_type": "code",
   "execution_count": 12,
   "id": "2bcc7fc0",
   "metadata": {},
   "outputs": [],
   "source": [
    "d['name'] = \"mira\""
   ]
  },
  {
   "cell_type": "code",
   "execution_count": 13,
   "id": "40882d7c",
   "metadata": {},
   "outputs": [
    {
     "data": {
      "text/plain": [
       "{'name': 'mira', 'email': 'aj@gmail.com', 'contact': 1234}"
      ]
     },
     "execution_count": 13,
     "metadata": {},
     "output_type": "execute_result"
    }
   ],
   "source": [
    "d"
   ]
  },
  {
   "cell_type": "code",
   "execution_count": null,
   "id": "36601251",
   "metadata": {},
   "outputs": [],
   "source": [
    "# rules of defining keys :\n",
    "# only string and numbers can be used as a key of the dictionary"
   ]
  },
  {
   "cell_type": "code",
   "execution_count": 19,
   "id": "2ff81486",
   "metadata": {},
   "outputs": [],
   "source": [
    "# tuples as a dic :\n",
    "d = {\n",
    "    (1,2,3) : '123'\n",
    "}"
   ]
  },
  {
   "cell_type": "code",
   "execution_count": 20,
   "id": "8ae20901",
   "metadata": {},
   "outputs": [
    {
     "data": {
      "text/plain": [
       "{(1, 2, 3): '123'}"
      ]
     },
     "execution_count": 20,
     "metadata": {},
     "output_type": "execute_result"
    }
   ],
   "source": [
    "d"
   ]
  },
  {
   "cell_type": "markdown",
   "id": "ddf9c59e",
   "metadata": {},
   "source": [
    "### always the last key, value will be used"
   ]
  },
  {
   "cell_type": "code",
   "execution_count": 23,
   "id": "e3329706",
   "metadata": {},
   "outputs": [],
   "source": [
    "d = { 'name' : 'Ajay',\n",
    "     'email' : 'aj@gmail.com' , \n",
    "     \"contact\" : 1234,\n",
    "     'name' : 'mira'\n",
    "}"
   ]
  },
  {
   "cell_type": "code",
   "execution_count": 24,
   "id": "e8ad63bf",
   "metadata": {},
   "outputs": [
    {
     "data": {
      "text/plain": [
       "{'name': 'mira', 'email': 'aj@gmail.com', 'contact': 1234}"
      ]
     },
     "execution_count": 24,
     "metadata": {},
     "output_type": "execute_result"
    }
   ],
   "source": [
    "d"
   ]
  },
  {
   "cell_type": "code",
   "execution_count": 28,
   "id": "a87deb42",
   "metadata": {},
   "outputs": [],
   "source": [
    "d = {\n",
    "    'roll_no' : [101,102,103,104],\n",
    "    'name' : \"div c students\"\n",
    " }"
   ]
  },
  {
   "cell_type": "code",
   "execution_count": 29,
   "id": "a227a8f8",
   "metadata": {},
   "outputs": [
    {
     "data": {
      "text/plain": [
       "{'roll_no': [101, 102, 103, 104], 'name': 'div c students'}"
      ]
     },
     "execution_count": 29,
     "metadata": {},
     "output_type": "execute_result"
    }
   ],
   "source": [
    "d"
   ]
  },
  {
   "cell_type": "markdown",
   "id": "48ecbe3c",
   "metadata": {},
   "source": [
    "# add new key-value pair in dictonary"
   ]
  },
  {
   "cell_type": "code",
   "execution_count": 31,
   "id": "fb69e759",
   "metadata": {},
   "outputs": [],
   "source": [
    "d['age'] = 34"
   ]
  },
  {
   "cell_type": "code",
   "execution_count": 32,
   "id": "9d56b939",
   "metadata": {},
   "outputs": [
    {
     "data": {
      "text/plain": [
       "{'roll_no': [101, 102, 103, 104], 'name': 'div c students', 'age': 34}"
      ]
     },
     "execution_count": 32,
     "metadata": {},
     "output_type": "execute_result"
    }
   ],
   "source": [
    "d"
   ]
  },
  {
   "cell_type": "markdown",
   "id": "a28175ee",
   "metadata": {},
   "source": [
    "# delete key-value pair of dictonary"
   ]
  },
  {
   "cell_type": "code",
   "execution_count": 34,
   "id": "b5d04a3b",
   "metadata": {},
   "outputs": [],
   "source": [
    "del d['age']"
   ]
  },
  {
   "cell_type": "code",
   "execution_count": 35,
   "id": "35d96ecf",
   "metadata": {},
   "outputs": [
    {
     "data": {
      "text/plain": [
       "{'roll_no': [101, 102, 103, 104], 'name': 'div c students'}"
      ]
     },
     "execution_count": 35,
     "metadata": {},
     "output_type": "execute_result"
    }
   ],
   "source": [
    "d"
   ]
  },
  {
   "cell_type": "markdown",
   "id": "7079b998",
   "metadata": {},
   "source": [
    "# delete whole dictonary"
   ]
  },
  {
   "cell_type": "code",
   "execution_count": 36,
   "id": "b7d2e995",
   "metadata": {},
   "outputs": [],
   "source": [
    "del d"
   ]
  },
  {
   "cell_type": "code",
   "execution_count": 37,
   "id": "3d6e846c",
   "metadata": {},
   "outputs": [
    {
     "ename": "NameError",
     "evalue": "name 'd' is not defined",
     "output_type": "error",
     "traceback": [
      "\u001b[1;31m---------------------------------------------------------------------------\u001b[0m",
      "\u001b[1;31mNameError\u001b[0m                                 Traceback (most recent call last)",
      "Cell \u001b[1;32mIn[37], line 1\u001b[0m\n\u001b[1;32m----> 1\u001b[0m \u001b[43md\u001b[49m\n",
      "\u001b[1;31mNameError\u001b[0m: name 'd' is not defined"
     ]
    }
   ],
   "source": [
    "d"
   ]
  },
  {
   "cell_type": "code",
   "execution_count": 38,
   "id": "9102bb4a",
   "metadata": {},
   "outputs": [],
   "source": [
    "d = {\n",
    "    'roll_no' : [101,102,103,104],\n",
    "    'name' : \"div c students\"\n",
    " }"
   ]
  },
  {
   "cell_type": "code",
   "execution_count": 39,
   "id": "d2832809",
   "metadata": {},
   "outputs": [],
   "source": [
    "d.clear()"
   ]
  },
  {
   "cell_type": "code",
   "execution_count": 40,
   "id": "e4133828",
   "metadata": {},
   "outputs": [
    {
     "data": {
      "text/plain": [
       "{}"
      ]
     },
     "execution_count": 40,
     "metadata": {},
     "output_type": "execute_result"
    }
   ],
   "source": [
    "d"
   ]
  },
  {
   "cell_type": "code",
   "execution_count": 41,
   "id": "28b1be6a",
   "metadata": {},
   "outputs": [],
   "source": [
    "d = {\n",
    "    'roll_no' : [101,102,103,104],\n",
    "    'name' : \"div c students\"\n",
    " }"
   ]
  },
  {
   "cell_type": "code",
   "execution_count": 42,
   "id": "e97a89e3",
   "metadata": {},
   "outputs": [
    {
     "data": {
      "text/plain": [
       "2"
      ]
     },
     "execution_count": 42,
     "metadata": {},
     "output_type": "execute_result"
    }
   ],
   "source": [
    "len(d)"
   ]
  },
  {
   "cell_type": "code",
   "execution_count": 44,
   "id": "8b0c1729",
   "metadata": {},
   "outputs": [],
   "source": [
    "d1 = d.copy()"
   ]
  },
  {
   "cell_type": "code",
   "execution_count": 45,
   "id": "d09392a3",
   "metadata": {},
   "outputs": [
    {
     "data": {
      "text/plain": [
       "{'roll_no': [101, 102, 103, 104], 'name': 'div c students'}"
      ]
     },
     "execution_count": 45,
     "metadata": {},
     "output_type": "execute_result"
    }
   ],
   "source": [
    "d1\n"
   ]
  },
  {
   "cell_type": "code",
   "execution_count": 46,
   "id": "a380d994",
   "metadata": {},
   "outputs": [
    {
     "data": {
      "text/plain": [
       "['__class__',\n",
       " '__class_getitem__',\n",
       " '__contains__',\n",
       " '__delattr__',\n",
       " '__delitem__',\n",
       " '__dir__',\n",
       " '__doc__',\n",
       " '__eq__',\n",
       " '__format__',\n",
       " '__ge__',\n",
       " '__getattribute__',\n",
       " '__getitem__',\n",
       " '__gt__',\n",
       " '__hash__',\n",
       " '__init__',\n",
       " '__init_subclass__',\n",
       " '__ior__',\n",
       " '__iter__',\n",
       " '__le__',\n",
       " '__len__',\n",
       " '__lt__',\n",
       " '__ne__',\n",
       " '__new__',\n",
       " '__or__',\n",
       " '__reduce__',\n",
       " '__reduce_ex__',\n",
       " '__repr__',\n",
       " '__reversed__',\n",
       " '__ror__',\n",
       " '__setattr__',\n",
       " '__setitem__',\n",
       " '__sizeof__',\n",
       " '__str__',\n",
       " '__subclasshook__',\n",
       " 'clear',\n",
       " 'copy',\n",
       " 'fromkeys',\n",
       " 'get',\n",
       " 'items',\n",
       " 'keys',\n",
       " 'pop',\n",
       " 'popitem',\n",
       " 'setdefault',\n",
       " 'update',\n",
       " 'values']"
      ]
     },
     "execution_count": 46,
     "metadata": {},
     "output_type": "execute_result"
    }
   ],
   "source": [
    "dir(dict)"
   ]
  },
  {
   "cell_type": "code",
   "execution_count": 47,
   "id": "34212eaf",
   "metadata": {},
   "outputs": [
    {
     "data": {
      "text/plain": [
       "'div c students'"
      ]
     },
     "execution_count": 47,
     "metadata": {},
     "output_type": "execute_result"
    }
   ],
   "source": [
    "d.pop('name')"
   ]
  },
  {
   "cell_type": "code",
   "execution_count": 48,
   "id": "7a35dddc",
   "metadata": {},
   "outputs": [
    {
     "data": {
      "text/plain": [
       "{'roll_no': [101, 102, 103, 104]}"
      ]
     },
     "execution_count": 48,
     "metadata": {},
     "output_type": "execute_result"
    }
   ],
   "source": [
    "d"
   ]
  },
  {
   "cell_type": "code",
   "execution_count": 52,
   "id": "00f4976d",
   "metadata": {},
   "outputs": [],
   "source": [
    "d1 = {\n",
    "    'name' : ['priya','dhara','somiya','saniya','disha','kevya'],\n",
    "    'age' :[12,3,4,56,78,21],\n",
    "    'institute' : 'shard center of innovation'\n",
    "}"
   ]
  },
  {
   "cell_type": "code",
   "execution_count": 54,
   "id": "d960111a",
   "metadata": {},
   "outputs": [
    {
     "data": {
      "text/plain": [
       "('age', [12, 3, 4, 56, 78, 21])"
      ]
     },
     "execution_count": 54,
     "metadata": {},
     "output_type": "execute_result"
    }
   ],
   "source": [
    "d1.popitem()\n"
   ]
  },
  {
   "cell_type": "code",
   "execution_count": 55,
   "id": "7049ce39",
   "metadata": {},
   "outputs": [
    {
     "data": {
      "text/plain": [
       "{'name': ['priya', 'dhara', 'somiya', 'saniya', 'disha', 'kevya']}"
      ]
     },
     "execution_count": 55,
     "metadata": {},
     "output_type": "execute_result"
    }
   ],
   "source": [
    "d1"
   ]
  },
  {
   "cell_type": "code",
   "execution_count": null,
   "id": "7f5f5957",
   "metadata": {},
   "outputs": [],
   "source": []
  },
  {
   "cell_type": "code",
   "execution_count": 61,
   "id": "46cbf08a",
   "metadata": {},
   "outputs": [],
   "source": [
    "# update d1 with the value of d\n",
    "d1.update(d)"
   ]
  },
  {
   "cell_type": "code",
   "execution_count": 62,
   "id": "e0aed7f7",
   "metadata": {},
   "outputs": [
    {
     "data": {
      "text/plain": [
       "{'name': ['priya', 'dhara', 'somiya', 'saniya', 'disha', 'kevya'],\n",
       " 'roll_no': [101, 102, 103, 104]}"
      ]
     },
     "execution_count": 62,
     "metadata": {},
     "output_type": "execute_result"
    }
   ],
   "source": [
    "d1"
   ]
  },
  {
   "cell_type": "code",
   "execution_count": 63,
   "id": "bbd1e587",
   "metadata": {},
   "outputs": [
    {
     "data": {
      "text/plain": [
       "{'name': ['priya', 'dhara', 'somiya', 'saniya', 'disha', 'kevya'],\n",
       " 'roll_no': [101, 102, 103, 104]}"
      ]
     },
     "execution_count": 63,
     "metadata": {},
     "output_type": "execute_result"
    }
   ],
   "source": [
    "d1"
   ]
  },
  {
   "cell_type": "code",
   "execution_count": 64,
   "id": "d6c6016f",
   "metadata": {},
   "outputs": [
    {
     "data": {
      "text/plain": [
       "['priya', 'dhara', 'somiya', 'saniya', 'disha', 'kevya']"
      ]
     },
     "execution_count": 64,
     "metadata": {},
     "output_type": "execute_result"
    }
   ],
   "source": [
    "d1.get('name')"
   ]
  },
  {
   "cell_type": "code",
   "execution_count": null,
   "id": "db3b2c2c",
   "metadata": {},
   "outputs": [],
   "source": []
  },
  {
   "cell_type": "code",
   "execution_count": 66,
   "id": "7008567a",
   "metadata": {},
   "outputs": [
    {
     "data": {
      "text/plain": [
       "{1: (11, 22, 33), 2: (11, 22, 33), 3: (11, 22, 33)}"
      ]
     },
     "execution_count": 66,
     "metadata": {},
     "output_type": "execute_result"
    }
   ],
   "source": [
    "d.fromkeys([1,2,3],(11,22,33))"
   ]
  },
  {
   "cell_type": "code",
   "execution_count": null,
   "id": "2171f0fb",
   "metadata": {},
   "outputs": [],
   "source": []
  },
  {
   "cell_type": "code",
   "execution_count": null,
   "id": "dfd4355b",
   "metadata": {},
   "outputs": [],
   "source": []
  },
  {
   "cell_type": "markdown",
   "id": "09e5b1a3",
   "metadata": {},
   "source": [
    "# Dictonary comprehension : provide a concise way to create dictionaries."
   ]
  },
  {
   "cell_type": "markdown",
   "id": "5f3e2852",
   "metadata": {},
   "source": [
    "## Basic Syntax :\n",
    "## {key_expression: value_expression for item in iterable}"
   ]
  },
  {
   "cell_type": "code",
   "execution_count": 68,
   "id": "b6042884",
   "metadata": {},
   "outputs": [
    {
     "data": {
      "text/plain": [
       "{0: 0, 1: 1, 2: 4, 3: 9, 4: 16}"
      ]
     },
     "execution_count": 68,
     "metadata": {},
     "output_type": "execute_result"
    }
   ],
   "source": [
    "# Create a dictionary where keys are numbers and values are their squares.\n",
    "{i : i**2 for i in range(5)}"
   ]
  },
  {
   "cell_type": "code",
   "execution_count": 74,
   "id": "922c9005",
   "metadata": {},
   "outputs": [
    {
     "data": {
      "text/plain": [
       "{0: 0, 2: 4, 4: 16, 6: 36, 8: 64}"
      ]
     },
     "execution_count": 74,
     "metadata": {},
     "output_type": "execute_result"
    }
   ],
   "source": [
    "# Create a dictionary that only includes even numbers\n",
    "{i:i**2 for i in range(10) if i%2 == 0}"
   ]
  },
  {
   "cell_type": "code",
   "execution_count": 78,
   "id": "1d9272d1",
   "metadata": {},
   "outputs": [
    {
     "data": {
      "text/plain": [
       "{'A': 65, 'B': 66, 'C': 67, 'D': 68, 'E': 69, 'F': 70, 'G': 71}"
      ]
     },
     "execution_count": 78,
     "metadata": {},
     "output_type": "execute_result"
    }
   ],
   "source": [
    "# Create a dictionary from a string, where keys are characters and values are their ASCII values.\n",
    "{i :ord(i) for i in 'ABCDEFG'}"
   ]
  },
  {
   "cell_type": "code",
   "execution_count": null,
   "id": "96c89c23",
   "metadata": {},
   "outputs": [],
   "source": []
  },
  {
   "cell_type": "markdown",
   "id": "ae2a6119",
   "metadata": {},
   "source": [
    "# zip function :\n",
    "### used to combine two or more iterables (e.g., lists, tuples, strings) element-wise into an iterator of tuples. \n",
    "### Each tuple contains one element from each of the input iterables.\n"
   ]
  },
  {
   "cell_type": "code",
   "execution_count": 105,
   "id": "083a49e8",
   "metadata": {},
   "outputs": [],
   "source": [
    "lst1 = [1,2,3]\n",
    "lst2 = ['python' , 'java' , 'kotlin']"
   ]
  },
  {
   "cell_type": "code",
   "execution_count": 106,
   "id": "5ca12bdf",
   "metadata": {},
   "outputs": [],
   "source": [
    "zipped = zip(lst1,lst2)"
   ]
  },
  {
   "cell_type": "code",
   "execution_count": 107,
   "id": "96ed6244",
   "metadata": {},
   "outputs": [],
   "source": [
    " op = list(zipped)"
   ]
  },
  {
   "cell_type": "code",
   "execution_count": 108,
   "id": "ebd0236e",
   "metadata": {},
   "outputs": [
    {
     "data": {
      "text/plain": [
       "zip"
      ]
     },
     "execution_count": 108,
     "metadata": {},
     "output_type": "execute_result"
    }
   ],
   "source": [
    "type(zipped)"
   ]
  },
  {
   "cell_type": "code",
   "execution_count": 109,
   "id": "58dfeadf",
   "metadata": {},
   "outputs": [
    {
     "data": {
      "text/plain": [
       "[(1, 'python'), (2, 'java'), (3, 'kotlin')]"
      ]
     },
     "execution_count": 109,
     "metadata": {},
     "output_type": "execute_result"
    }
   ],
   "source": [
    "op"
   ]
  },
  {
   "cell_type": "code",
   "execution_count": 113,
   "id": "172ab634",
   "metadata": {},
   "outputs": [
    {
     "data": {
      "text/plain": [
       "{1: 'python', 2: 'java', 3: 'kotlin'}"
      ]
     },
     "execution_count": 113,
     "metadata": {},
     "output_type": "execute_result"
    }
   ],
   "source": [
    "{i:j for i,j in op}"
   ]
  },
  {
   "cell_type": "code",
   "execution_count": 114,
   "id": "ebd00481",
   "metadata": {},
   "outputs": [
    {
     "data": {
      "text/plain": [
       "dict"
      ]
     },
     "execution_count": 114,
     "metadata": {},
     "output_type": "execute_result"
    }
   ],
   "source": [
    "type({i:j for i,j in op})"
   ]
  },
  {
   "cell_type": "code",
   "execution_count": null,
   "id": "068f22d7",
   "metadata": {},
   "outputs": [],
   "source": []
  },
  {
   "cell_type": "code",
   "execution_count": 115,
   "id": "2023658f",
   "metadata": {},
   "outputs": [],
   "source": [
    "# 2nd example:"
   ]
  },
  {
   "cell_type": "code",
   "execution_count": 125,
   "id": "1e0b6c5d",
   "metadata": {},
   "outputs": [],
   "source": [
    "roll_no = (151,152,153)\n",
    "name = ('mira','gaurang' , 'ayush')"
   ]
  },
  {
   "cell_type": "code",
   "execution_count": 126,
   "id": "48035f3b",
   "metadata": {},
   "outputs": [
    {
     "data": {
      "text/plain": [
       "<zip at 0x2bacc14d600>"
      ]
     },
     "execution_count": 126,
     "metadata": {},
     "output_type": "execute_result"
    }
   ],
   "source": [
    "z = zip(roll_no,name)\n",
    "z"
   ]
  },
  {
   "cell_type": "code",
   "execution_count": 127,
   "id": "d1412453",
   "metadata": {},
   "outputs": [],
   "source": [
    "t1 = tuple(z)"
   ]
  },
  {
   "cell_type": "code",
   "execution_count": 128,
   "id": "9bacac8c",
   "metadata": {},
   "outputs": [
    {
     "data": {
      "text/plain": [
       "{151: 'mira', 152: 'gaurang', 153: 'ayush'}"
      ]
     },
     "execution_count": 128,
     "metadata": {},
     "output_type": "execute_result"
    }
   ],
   "source": [
    "{i : j for i,j in t1}"
   ]
  },
  {
   "cell_type": "code",
   "execution_count": 1,
   "id": "57fe81ea",
   "metadata": {},
   "outputs": [],
   "source": [
    "def outer():\n",
    "    def inner():\n",
    "        print(\"welcome inner..\")\n",
    "    inner()\n",
    "    print(\"shard center of innovation\")"
   ]
  },
  {
   "cell_type": "code",
   "execution_count": 3,
   "id": "811ea8d3",
   "metadata": {},
   "outputs": [
    {
     "name": "stdout",
     "output_type": "stream",
     "text": [
      "welcome inner..\n",
      "shard center of innovation\n"
     ]
    }
   ],
   "source": [
    "outer()"
   ]
  },
  {
   "cell_type": "code",
   "execution_count": null,
   "id": "5758b8d8",
   "metadata": {},
   "outputs": [],
   "source": []
  }
 ],
 "metadata": {
  "kernelspec": {
   "display_name": "Python 3 (ipykernel)",
   "language": "python",
   "name": "python3"
  },
  "language_info": {
   "codemirror_mode": {
    "name": "ipython",
    "version": 3
   },
   "file_extension": ".py",
   "mimetype": "text/x-python",
   "name": "python",
   "nbconvert_exporter": "python",
   "pygments_lexer": "ipython3",
   "version": "3.10.9"
  }
 },
 "nbformat": 4,
 "nbformat_minor": 5
}
