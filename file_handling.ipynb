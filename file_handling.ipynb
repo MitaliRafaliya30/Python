{
 "cells": [
  {
   "cell_type": "markdown",
   "id": "6fc5a9d7",
   "metadata": {},
   "source": [
    "# 1. create file: use x mode \n"
   ]
  },
  {
   "cell_type": "code",
   "execution_count": 27,
   "id": "4ab0aaaa",
   "metadata": {},
   "outputs": [
    {
     "ename": "FileExistsError",
     "evalue": "[Errno 17] File exists: 'file_1.txt'",
     "output_type": "error",
     "traceback": [
      "\u001b[1;31m---------------------------------------------------------------------------\u001b[0m",
      "\u001b[1;31mFileExistsError\u001b[0m                           Traceback (most recent call last)",
      "Cell \u001b[1;32mIn[27], line 1\u001b[0m\n\u001b[1;32m----> 1\u001b[0m f1 \u001b[38;5;241m=\u001b[39m \u001b[38;5;28;43mopen\u001b[39;49m\u001b[43m(\u001b[49m\u001b[38;5;124;43m\"\u001b[39;49m\u001b[38;5;124;43mfile_1.txt\u001b[39;49m\u001b[38;5;124;43m\"\u001b[39;49m\u001b[43m \u001b[49m\u001b[43m,\u001b[49m\u001b[43m \u001b[49m\u001b[38;5;124;43m\"\u001b[39;49m\u001b[38;5;124;43mx\u001b[39;49m\u001b[38;5;124;43m\"\u001b[39;49m\u001b[43m)\u001b[49m\n",
      "File \u001b[1;32mD:\\Anacondaa\\lib\\site-packages\\IPython\\core\\interactiveshell.py:282\u001b[0m, in \u001b[0;36m_modified_open\u001b[1;34m(file, *args, **kwargs)\u001b[0m\n\u001b[0;32m    275\u001b[0m \u001b[38;5;28;01mif\u001b[39;00m file \u001b[38;5;129;01min\u001b[39;00m {\u001b[38;5;241m0\u001b[39m, \u001b[38;5;241m1\u001b[39m, \u001b[38;5;241m2\u001b[39m}:\n\u001b[0;32m    276\u001b[0m     \u001b[38;5;28;01mraise\u001b[39;00m \u001b[38;5;167;01mValueError\u001b[39;00m(\n\u001b[0;32m    277\u001b[0m         \u001b[38;5;124mf\u001b[39m\u001b[38;5;124m\"\u001b[39m\u001b[38;5;124mIPython won\u001b[39m\u001b[38;5;124m'\u001b[39m\u001b[38;5;124mt let you open fd=\u001b[39m\u001b[38;5;132;01m{\u001b[39;00mfile\u001b[38;5;132;01m}\u001b[39;00m\u001b[38;5;124m by default \u001b[39m\u001b[38;5;124m\"\u001b[39m\n\u001b[0;32m    278\u001b[0m         \u001b[38;5;124m\"\u001b[39m\u001b[38;5;124mas it is likely to crash IPython. If you know what you are doing, \u001b[39m\u001b[38;5;124m\"\u001b[39m\n\u001b[0;32m    279\u001b[0m         \u001b[38;5;124m\"\u001b[39m\u001b[38;5;124myou can use builtins\u001b[39m\u001b[38;5;124m'\u001b[39m\u001b[38;5;124m open.\u001b[39m\u001b[38;5;124m\"\u001b[39m\n\u001b[0;32m    280\u001b[0m     )\n\u001b[1;32m--> 282\u001b[0m \u001b[38;5;28;01mreturn\u001b[39;00m io_open(file, \u001b[38;5;241m*\u001b[39margs, \u001b[38;5;241m*\u001b[39m\u001b[38;5;241m*\u001b[39mkwargs)\n",
      "\u001b[1;31mFileExistsError\u001b[0m: [Errno 17] File exists: 'file_1.txt'"
     ]
    }
   ],
   "source": [
    "f1 = \n",
    "(\"file_1.txt\" , \"x\")"
   ]
  },
  {
   "cell_type": "markdown",
   "id": "b6896bb8",
   "metadata": {},
   "source": [
    "# problem with x mode :\n",
    "- if i execute [ f1 = open(\"file_1.txt\" , \"x\") ] this again then i will get error about file exist\n",
    "- so i can not create new file with the same name "
   ]
  },
  {
   "cell_type": "markdown",
   "id": "57dae7c9",
   "metadata": {},
   "source": [
    "# to solve this.... use write mode to create a file"
   ]
  },
  {
   "cell_type": "markdown",
   "id": "0d7bf43d",
   "metadata": {},
   "source": [
    "# 2. to read the data of the file :\n",
    "- open file in r mode \n",
    "- then use read function on file object \n",
    "- after reading close it\n",
    "- r is a default mode \n",
    "- if file does not exist and then also i open it in r mode then it through error of does not exist \n",
    "- means r mode will not create a new file"
   ]
  },
  {
   "cell_type": "code",
   "execution_count": 13,
   "id": "5d258024",
   "metadata": {},
   "outputs": [],
   "source": [
    "# go to file_1.txt and write something in the file\n",
    "f1 = open(\"file_1.txt\" , \"r\")"
   ]
  },
  {
   "cell_type": "code",
   "execution_count": 14,
   "id": "217599e2",
   "metadata": {},
   "outputs": [
    {
     "data": {
      "text/plain": [
       "'I am playing with python..I am enjoying python very very much...\\nThis is very exciting for me...\\nI building my logic gradully...\\n'"
      ]
     },
     "execution_count": 14,
     "metadata": {},
     "output_type": "execute_result"
    }
   ],
   "source": [
    "f1.read()"
   ]
  },
  {
   "cell_type": "code",
   "execution_count": 28,
   "id": "5cb31fe1",
   "metadata": {},
   "outputs": [],
   "source": [
    "f1.close()"
   ]
  },
  {
   "cell_type": "code",
   "execution_count": null,
   "id": "d0a9cf4e",
   "metadata": {},
   "outputs": [],
   "source": []
  },
  {
   "cell_type": "markdown",
   "id": "f80da336",
   "metadata": {},
   "source": [
    "# 3. to write the data in the file :\n",
    "- Opens the file for writing.\n",
    "- If the file does not exist, it will be created.\n",
    "- If the file exists, its content will be overwritten. means erase old content and write newly content"
   ]
  },
  {
   "cell_type": "code",
   "execution_count": 30,
   "id": "b9582b94",
   "metadata": {},
   "outputs": [],
   "source": [
    "f1 = open(\"file_1.txt\" , \"w\")"
   ]
  },
  {
   "cell_type": "code",
   "execution_count": 31,
   "id": "ff51fa48",
   "metadata": {},
   "outputs": [
    {
     "data": {
      "text/plain": [
       "16"
      ]
     },
     "execution_count": 31,
     "metadata": {},
     "output_type": "execute_result"
    }
   ],
   "source": [
    "f1.write(\"\\n mira mira mira\")"
   ]
  },
  {
   "cell_type": "code",
   "execution_count": 32,
   "id": "f35a9104",
   "metadata": {},
   "outputs": [],
   "source": [
    "f1.close()"
   ]
  },
  {
   "cell_type": "code",
   "execution_count": null,
   "id": "cc3dd30f",
   "metadata": {},
   "outputs": [],
   "source": []
  },
  {
   "cell_type": "markdown",
   "id": "f18973a0",
   "metadata": {},
   "source": [
    "# 4. Open file in Read and Write Mode ('r+'):\n",
    "- Opens the file for both reading and writing.\n",
    "- The file must already exist.\n",
    "- process of r mode : 1st read and then write in the file-....in this process it will not erase the previous content during writing into file \n",
    "- file pointer is at the beginning of the file\n",
    "- if process is : 1st write in the file and then read.......in this process file pointer is at the begining of the file so it will overlap to the previouse content...if i want to modify content using overlapping in this case use this process \n",
    "- so always use 1st read then write process.. is a best practice"
   ]
  },
  {
   "cell_type": "code",
   "execution_count": 88,
   "id": "54d49e76",
   "metadata": {},
   "outputs": [],
   "source": [
    "f1 = open(\"file_1.txt\" , \"r+\")"
   ]
  },
  {
   "cell_type": "code",
   "execution_count": 89,
   "id": "f57597ac",
   "metadata": {},
   "outputs": [
    {
     "data": {
      "text/plain": [
       "'I am learning file handling in the python'"
      ]
     },
     "execution_count": 89,
     "metadata": {},
     "output_type": "execute_result"
    }
   ],
   "source": [
    "# 1st read then write process\n",
    "f1.read()"
   ]
  },
  {
   "cell_type": "code",
   "execution_count": 90,
   "id": "48364396",
   "metadata": {},
   "outputs": [
    {
     "data": {
      "text/plain": [
       "21"
      ]
     },
     "execution_count": 90,
     "metadata": {},
     "output_type": "execute_result"
    }
   ],
   "source": [
    "f1.write(\"\\n you wanna learn it?\")"
   ]
  },
  {
   "cell_type": "code",
   "execution_count": 91,
   "id": "e18f5d12",
   "metadata": {},
   "outputs": [
    {
     "data": {
      "text/plain": [
       "''"
      ]
     },
     "execution_count": 91,
     "metadata": {},
     "output_type": "execute_result"
    }
   ],
   "source": [
    "f1.read()"
   ]
  },
  {
   "cell_type": "code",
   "execution_count": 92,
   "id": "01a67153",
   "metadata": {},
   "outputs": [],
   "source": [
    "f1.close()"
   ]
  },
  {
   "cell_type": "code",
   "execution_count": null,
   "id": "1f864f4f",
   "metadata": {},
   "outputs": [],
   "source": []
  },
  {
   "cell_type": "code",
   "execution_count": 93,
   "id": "eac9526e",
   "metadata": {},
   "outputs": [],
   "source": [
    "# 1st write then read process"
   ]
  },
  {
   "cell_type": "code",
   "execution_count": 111,
   "id": "1fd8fa13",
   "metadata": {},
   "outputs": [],
   "source": [
    "f1 = open(\"file_1.txt\" , \"r+\")"
   ]
  },
  {
   "cell_type": "code",
   "execution_count": 112,
   "id": "e134155a",
   "metadata": {},
   "outputs": [
    {
     "data": {
      "text/plain": [
       "11"
      ]
     },
     "execution_count": 112,
     "metadata": {},
     "output_type": "execute_result"
    }
   ],
   "source": [
    "# pointer is at the beginning of the file... so it will write at beginning by overlapping previous content \n",
    "\n",
    "# I am learni is overlapped by Hello dosto \n",
    "f1.write(\"Hello dosto\")"
   ]
  },
  {
   "cell_type": "code",
   "execution_count": 113,
   "id": "d7c698a3",
   "metadata": {},
   "outputs": [
    {
     "data": {
      "text/plain": [
       "'ng file handling in the python\\n'"
      ]
     },
     "execution_count": 113,
     "metadata": {},
     "output_type": "execute_result"
    }
   ],
   "source": [
    "f1.read()"
   ]
  },
  {
   "cell_type": "code",
   "execution_count": 114,
   "id": "1fce74f2",
   "metadata": {},
   "outputs": [],
   "source": [
    "f1.close()"
   ]
  },
  {
   "cell_type": "code",
   "execution_count": null,
   "id": "766d2426",
   "metadata": {},
   "outputs": [],
   "source": []
  },
  {
   "cell_type": "markdown",
   "id": "e050a1b8",
   "metadata": {},
   "source": [
    "# To find position of file pointer :"
   ]
  },
  {
   "cell_type": "code",
   "execution_count": 118,
   "id": "e5107ac0",
   "metadata": {},
   "outputs": [],
   "source": [
    "f1 = open(\"file_1.txt\" , \"r+\")"
   ]
  },
  {
   "cell_type": "code",
   "execution_count": 119,
   "id": "122c85be",
   "metadata": {},
   "outputs": [
    {
     "data": {
      "text/plain": [
       "0"
      ]
     },
     "execution_count": 119,
     "metadata": {},
     "output_type": "execute_result"
    }
   ],
   "source": [
    "f1.tell()"
   ]
  },
  {
   "cell_type": "code",
   "execution_count": 120,
   "id": "d058cf5e",
   "metadata": {},
   "outputs": [
    {
     "data": {
      "text/plain": [
       "'Did you know janny??Hello dostothe python\\n'"
      ]
     },
     "execution_count": 120,
     "metadata": {},
     "output_type": "execute_result"
    }
   ],
   "source": [
    "f1.read()"
   ]
  },
  {
   "cell_type": "code",
   "execution_count": 121,
   "id": "7d61a3f8",
   "metadata": {},
   "outputs": [
    {
     "data": {
      "text/plain": [
       "42"
      ]
     },
     "execution_count": 121,
     "metadata": {},
     "output_type": "execute_result"
    }
   ],
   "source": [
    "f1.tell()"
   ]
  },
  {
   "cell_type": "code",
   "execution_count": 122,
   "id": "fd903da1",
   "metadata": {},
   "outputs": [
    {
     "data": {
      "text/plain": [
       "7"
      ]
     },
     "execution_count": 122,
     "metadata": {},
     "output_type": "execute_result"
    }
   ],
   "source": [
    "f1.write(\"Prem...\")"
   ]
  },
  {
   "cell_type": "code",
   "execution_count": 123,
   "id": "e107a3af",
   "metadata": {},
   "outputs": [
    {
     "data": {
      "text/plain": [
       "49"
      ]
     },
     "execution_count": 123,
     "metadata": {},
     "output_type": "execute_result"
    }
   ],
   "source": [
    "f1.tell()"
   ]
  },
  {
   "cell_type": "code",
   "execution_count": 126,
   "id": "1a14bcf4",
   "metadata": {},
   "outputs": [],
   "source": [
    "f1.close()"
   ]
  },
  {
   "cell_type": "code",
   "execution_count": null,
   "id": "d4b3aac3",
   "metadata": {},
   "outputs": [],
   "source": []
  },
  {
   "cell_type": "markdown",
   "id": "30af3007",
   "metadata": {},
   "source": [
    "# w+ mode :\n",
    "- it will erase previse content of the file\n",
    "- 1st write then read : process"
   ]
  },
  {
   "cell_type": "code",
   "execution_count": 139,
   "id": "041cfbde",
   "metadata": {},
   "outputs": [],
   "source": [
    "f1 = open(\"file_1.txt\" , \"w+\")"
   ]
  },
  {
   "cell_type": "code",
   "execution_count": 140,
   "id": "fbda75fc",
   "metadata": {},
   "outputs": [
    {
     "data": {
      "text/plain": [
       "0"
      ]
     },
     "execution_count": 140,
     "metadata": {},
     "output_type": "execute_result"
    }
   ],
   "source": [
    "f1.tell()"
   ]
  },
  {
   "cell_type": "code",
   "execution_count": 141,
   "id": "2f22d7dd",
   "metadata": {},
   "outputs": [
    {
     "data": {
      "text/plain": [
       "16"
      ]
     },
     "execution_count": 141,
     "metadata": {},
     "output_type": "execute_result"
    }
   ],
   "source": [
    "f1.write(\"Hi welcome back \")"
   ]
  },
  {
   "cell_type": "code",
   "execution_count": 142,
   "id": "0f72ec98",
   "metadata": {},
   "outputs": [
    {
     "data": {
      "text/plain": [
       "16"
      ]
     },
     "execution_count": 142,
     "metadata": {},
     "output_type": "execute_result"
    }
   ],
   "source": [
    "f1.tell()"
   ]
  },
  {
   "cell_type": "code",
   "execution_count": 145,
   "id": "55cbc5e6",
   "metadata": {},
   "outputs": [
    {
     "data": {
      "text/plain": [
       "0"
      ]
     },
     "execution_count": 145,
     "metadata": {},
     "output_type": "execute_result"
    }
   ],
   "source": [
    "# set file pointer at specified position \n",
    "f1.seek(0)"
   ]
  },
  {
   "cell_type": "code",
   "execution_count": 146,
   "id": "78f794c3",
   "metadata": {},
   "outputs": [
    {
     "data": {
      "text/plain": [
       "'Hi welcome back '"
      ]
     },
     "execution_count": 146,
     "metadata": {},
     "output_type": "execute_result"
    }
   ],
   "source": [
    "f1.read()  # why?"
   ]
  },
  {
   "cell_type": "code",
   "execution_count": 147,
   "id": "b6dca72e",
   "metadata": {},
   "outputs": [
    {
     "data": {
      "text/plain": [
       "16"
      ]
     },
     "execution_count": 147,
     "metadata": {},
     "output_type": "execute_result"
    }
   ],
   "source": [
    "f1.tell()"
   ]
  },
  {
   "cell_type": "code",
   "execution_count": 148,
   "id": "11de4dd9",
   "metadata": {},
   "outputs": [],
   "source": [
    "f1.close()"
   ]
  },
  {
   "cell_type": "code",
   "execution_count": null,
   "id": "8302f07f",
   "metadata": {},
   "outputs": [],
   "source": []
  },
  {
   "cell_type": "code",
   "execution_count": null,
   "id": "d94e4392",
   "metadata": {},
   "outputs": [],
   "source": []
  },
  {
   "cell_type": "markdown",
   "id": "d4ee578a",
   "metadata": {},
   "source": [
    "# append mode :\n",
    "- to write data at the end of the file\n",
    "- if file not exist..then create new\n",
    "- when u open a file in append mode cursor is at the end of the file"
   ]
  },
  {
   "cell_type": "code",
   "execution_count": 156,
   "id": "dc8ee7b4",
   "metadata": {},
   "outputs": [],
   "source": [
    "f1 = open(\"file_1.txt\" , \"a\")"
   ]
  },
  {
   "cell_type": "code",
   "execution_count": 157,
   "id": "b4b45c21",
   "metadata": {},
   "outputs": [
    {
     "data": {
      "text/plain": [
       "13"
      ]
     },
     "execution_count": 157,
     "metadata": {},
     "output_type": "execute_result"
    }
   ],
   "source": [
    "f1.write(\"Hello student\")"
   ]
  },
  {
   "cell_type": "code",
   "execution_count": 159,
   "id": "231a5d47",
   "metadata": {},
   "outputs": [],
   "source": [
    "f1.close()"
   ]
  },
  {
   "cell_type": "code",
   "execution_count": null,
   "id": "0f4bc2ea",
   "metadata": {},
   "outputs": [],
   "source": []
  },
  {
   "cell_type": "markdown",
   "id": "abb7d15f",
   "metadata": {},
   "source": [
    "# a+ mode :\n",
    "- append and read both"
   ]
  },
  {
   "cell_type": "code",
   "execution_count": 171,
   "id": "f1205bdd",
   "metadata": {},
   "outputs": [],
   "source": [
    "f1 = open(\"file_1.txt\" , \"a+\")"
   ]
  },
  {
   "cell_type": "code",
   "execution_count": null,
   "id": "4bb6b228",
   "metadata": {},
   "outputs": [],
   "source": []
  },
  {
   "cell_type": "code",
   "execution_count": 172,
   "id": "18b3aefb",
   "metadata": {},
   "outputs": [
    {
     "data": {
      "text/plain": [
       "''"
      ]
     },
     "execution_count": 172,
     "metadata": {},
     "output_type": "execute_result"
    }
   ],
   "source": [
    "#when u open a file in append mode cursor is at the end of the file\n",
    "f1.read()\n"
   ]
  },
  {
   "cell_type": "code",
   "execution_count": 173,
   "id": "b879d1ec",
   "metadata": {},
   "outputs": [
    {
     "data": {
      "text/plain": [
       "42"
      ]
     },
     "execution_count": 173,
     "metadata": {},
     "output_type": "execute_result"
    }
   ],
   "source": [
    "f1.tell()"
   ]
  },
  {
   "cell_type": "code",
   "execution_count": 174,
   "id": "6d04160d",
   "metadata": {},
   "outputs": [
    {
     "data": {
      "text/plain": [
       "0"
      ]
     },
     "execution_count": 174,
     "metadata": {},
     "output_type": "execute_result"
    }
   ],
   "source": [
    "f1.seek(0)"
   ]
  },
  {
   "cell_type": "code",
   "execution_count": 175,
   "id": "a393ae8b",
   "metadata": {},
   "outputs": [
    {
     "data": {
      "text/plain": [
       "'Hi welcome back Hello studentHello student'"
      ]
     },
     "execution_count": 175,
     "metadata": {},
     "output_type": "execute_result"
    }
   ],
   "source": [
    "f1.read()"
   ]
  },
  {
   "cell_type": "code",
   "execution_count": 176,
   "id": "0bbfee41",
   "metadata": {},
   "outputs": [
    {
     "data": {
      "text/plain": [
       "15"
      ]
     },
     "execution_count": 176,
     "metadata": {},
     "output_type": "execute_result"
    }
   ],
   "source": [
    "f1.write(\"janny's lecture\")"
   ]
  },
  {
   "cell_type": "code",
   "execution_count": null,
   "id": "93f0b0fa",
   "metadata": {},
   "outputs": [],
   "source": []
  },
  {
   "cell_type": "code",
   "execution_count": null,
   "id": "43712cf3",
   "metadata": {},
   "outputs": [],
   "source": []
  },
  {
   "cell_type": "code",
   "execution_count": 177,
   "id": "14b7af5c",
   "metadata": {},
   "outputs": [],
   "source": [
    "# binary file :"
   ]
  },
  {
   "cell_type": "code",
   "execution_count": 195,
   "id": "42688b6c",
   "metadata": {},
   "outputs": [],
   "source": [
    "# to read binary file (image file )\n",
    "f1 = open(\"img1.jpg\", \"rb\")\n",
    "f2 = open(\"img2.jpg\", \"wb\")"
   ]
  },
  {
   "cell_type": "code",
   "execution_count": 196,
   "id": "766bdb15",
   "metadata": {},
   "outputs": [],
   "source": [
    "for i in f1:\n",
    "    f2.write(i)"
   ]
  },
  {
   "cell_type": "code",
   "execution_count": 197,
   "id": "ef3f68a7",
   "metadata": {},
   "outputs": [
    {
     "name": "stdout",
     "output_type": "stream",
     "text": [
      "693978\n",
      "693978\n"
     ]
    }
   ],
   "source": [
    "print(f1.tell())\n",
    "print(f2.tell())"
   ]
  },
  {
   "cell_type": "code",
   "execution_count": 198,
   "id": "b2c48362",
   "metadata": {},
   "outputs": [
    {
     "data": {
      "text/plain": [
       "b''"
      ]
     },
     "execution_count": 198,
     "metadata": {},
     "output_type": "execute_result"
    }
   ],
   "source": [
    "f1.read()"
   ]
  },
  {
   "cell_type": "code",
   "execution_count": null,
   "id": "07b635c5",
   "metadata": {},
   "outputs": [],
   "source": []
  },
  {
   "cell_type": "code",
   "execution_count": null,
   "id": "33bfe917",
   "metadata": {},
   "outputs": [],
   "source": []
  }
 ],
 "metadata": {
  "kernelspec": {
   "display_name": "Python 3 (ipykernel)",
   "language": "python",
   "name": "python3"
  },
  "language_info": {
   "codemirror_mode": {
    "name": "ipython",
    "version": 3
   },
   "file_extension": ".py",
   "mimetype": "text/x-python",
   "name": "python",
   "nbconvert_exporter": "python",
   "pygments_lexer": "ipython3",
   "version": "3.10.9"
  }
 },
 "nbformat": 4,
 "nbformat_minor": 5
}
