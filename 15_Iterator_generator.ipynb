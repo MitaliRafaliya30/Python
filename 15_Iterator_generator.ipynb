{
 "cells": [
  {
   "cell_type": "markdown",
   "id": "f27d4e48",
   "metadata": {},
   "source": [
    "# Iterator :"
   ]
  },
  {
   "cell_type": "code",
   "execution_count": null,
   "id": "2e86f106",
   "metadata": {},
   "outputs": [],
   "source": [
    "# Iterable\n",
    "# Iterator \n",
    "# Iteration"
   ]
  },
  {
   "cell_type": "code",
   "execution_count": 29,
   "id": "994057f4",
   "metadata": {},
   "outputs": [],
   "source": [
    "# iterable : any iterable obj\n",
    "# only do it once \n",
    "obj = [11,22,33,44,55]"
   ]
  },
  {
   "cell_type": "code",
   "execution_count": 34,
   "id": "b2b8052c",
   "metadata": {},
   "outputs": [
    {
     "data": {
      "text/plain": [
       "<list_iterator at 0x21061c65720>"
      ]
     },
     "execution_count": 34,
     "metadata": {},
     "output_type": "execute_result"
    }
   ],
   "source": [
    "# Iterator : gives one ele at a time from iterable\n",
    "# convert obj into iterator\n",
    "it = iter(obj)\n",
    "it"
   ]
  },
  {
   "cell_type": "code",
   "execution_count": 23,
   "id": "be039c30",
   "metadata": {},
   "outputs": [
    {
     "data": {
      "text/plain": [
       "11"
      ]
     },
     "execution_count": 23,
     "metadata": {},
     "output_type": "execute_result"
    }
   ],
   "source": [
    "# return next ele\n",
    "next(it)"
   ]
  },
  {
   "cell_type": "code",
   "execution_count": 24,
   "id": "f1f99c98",
   "metadata": {},
   "outputs": [
    {
     "data": {
      "text/plain": [
       "22"
      ]
     },
     "execution_count": 24,
     "metadata": {},
     "output_type": "execute_result"
    }
   ],
   "source": [
    "next(it)"
   ]
  },
  {
   "cell_type": "code",
   "execution_count": 25,
   "id": "8b325e90",
   "metadata": {},
   "outputs": [
    {
     "data": {
      "text/plain": [
       "33"
      ]
     },
     "execution_count": 25,
     "metadata": {},
     "output_type": "execute_result"
    }
   ],
   "source": [
    "next(it)"
   ]
  },
  {
   "cell_type": "code",
   "execution_count": 26,
   "id": "3d9fe511",
   "metadata": {},
   "outputs": [
    {
     "data": {
      "text/plain": [
       "44"
      ]
     },
     "execution_count": 26,
     "metadata": {},
     "output_type": "execute_result"
    }
   ],
   "source": [
    "next(it)"
   ]
  },
  {
   "cell_type": "code",
   "execution_count": 27,
   "id": "06f47f12",
   "metadata": {},
   "outputs": [
    {
     "data": {
      "text/plain": [
       "55"
      ]
     },
     "execution_count": 27,
     "metadata": {},
     "output_type": "execute_result"
    }
   ],
   "source": [
    "next(it)"
   ]
  },
  {
   "cell_type": "code",
   "execution_count": 32,
   "id": "04a751fb",
   "metadata": {},
   "outputs": [],
   "source": [
    "# iteration :\n",
    "## process of accessing sequence of ele of iterable through iterator"
   ]
  },
  {
   "cell_type": "code",
   "execution_count": 33,
   "id": "c90e64e3",
   "metadata": {},
   "outputs": [],
   "source": [
    "# 3 ways to perform iteration\n",
    "## 1) looping \n",
    "## 2) indexing \n",
    "## 3) iterator"
   ]
  },
  {
   "cell_type": "code",
   "execution_count": null,
   "id": "d2691471",
   "metadata": {},
   "outputs": [],
   "source": []
  },
  {
   "cell_type": "markdown",
   "id": "72eb23b8",
   "metadata": {},
   "source": [
    "# Generator :"
   ]
  },
  {
   "cell_type": "code",
   "execution_count": 60,
   "id": "60d8140d",
   "metadata": {},
   "outputs": [],
   "source": [
    "# why use generator :\n",
    "### it generate data wothout storing them in memory\n",
    "### useful to deal with large amount of data "
   ]
  },
  {
   "cell_type": "code",
   "execution_count": 61,
   "id": "e135979b",
   "metadata": {},
   "outputs": [],
   "source": [
    "### geneator func will gives iterator\n",
    "### when we call generator function it will return generator object \n",
    "### use yield keyword instead return to make genearotr function..it create generator obj\n",
    "### to  fetch one value at a time through next() method"
   ]
  },
  {
   "cell_type": "code",
   "execution_count": 82,
   "id": "47f5206a",
   "metadata": {},
   "outputs": [],
   "source": [
    "def square_gene(n):\n",
    "    for i in range(n):\n",
    "        yield i**2"
   ]
  },
  {
   "cell_type": "code",
   "execution_count": 83,
   "id": "e73e2cda",
   "metadata": {},
   "outputs": [],
   "source": [
    "gen_obj = square_gene(10)"
   ]
  },
  {
   "cell_type": "code",
   "execution_count": 84,
   "id": "e8e48fc2",
   "metadata": {},
   "outputs": [
    {
     "data": {
      "text/plain": [
       "0"
      ]
     },
     "execution_count": 84,
     "metadata": {},
     "output_type": "execute_result"
    }
   ],
   "source": [
    "next(gen_obj)"
   ]
  },
  {
   "cell_type": "code",
   "execution_count": 85,
   "id": "a8aefcf6",
   "metadata": {},
   "outputs": [
    {
     "data": {
      "text/plain": [
       "1"
      ]
     },
     "execution_count": 85,
     "metadata": {},
     "output_type": "execute_result"
    }
   ],
   "source": [
    "next(gen_obj)"
   ]
  },
  {
   "cell_type": "code",
   "execution_count": 86,
   "id": "bce8a97e",
   "metadata": {},
   "outputs": [
    {
     "data": {
      "text/plain": [
       "4"
      ]
     },
     "execution_count": 86,
     "metadata": {},
     "output_type": "execute_result"
    }
   ],
   "source": [
    "next(gen_obj)"
   ]
  },
  {
   "cell_type": "code",
   "execution_count": 87,
   "id": "c5fbecd2",
   "metadata": {},
   "outputs": [
    {
     "data": {
      "text/plain": [
       "9"
      ]
     },
     "execution_count": 87,
     "metadata": {},
     "output_type": "execute_result"
    }
   ],
   "source": [
    "next(gen_obj)"
   ]
  },
  {
   "cell_type": "code",
   "execution_count": 88,
   "id": "5306c0ef",
   "metadata": {},
   "outputs": [
    {
     "data": {
      "text/plain": [
       "16"
      ]
     },
     "execution_count": 88,
     "metadata": {},
     "output_type": "execute_result"
    }
   ],
   "source": [
    "next(gen_obj)"
   ]
  },
  {
   "cell_type": "code",
   "execution_count": 89,
   "id": "0a3c8bc4",
   "metadata": {},
   "outputs": [],
   "source": [
    "## create febonacci series using generator "
   ]
  },
  {
   "cell_type": "code",
   "execution_count": 25,
   "id": "df709432",
   "metadata": {},
   "outputs": [],
   "source": [
    "def febo():\n",
    "    a = 0\n",
    "    b = 1\n",
    "    for i in range(5):\n",
    "        yield a \n",
    "        a, b = b , a+b\n",
    "        "
   ]
  },
  {
   "cell_type": "code",
   "execution_count": 26,
   "id": "6a5e2fc0",
   "metadata": {},
   "outputs": [],
   "source": [
    "f = febo()"
   ]
  },
  {
   "cell_type": "code",
   "execution_count": 27,
   "id": "c36d556e",
   "metadata": {},
   "outputs": [
    {
     "data": {
      "text/plain": [
       "0"
      ]
     },
     "execution_count": 27,
     "metadata": {},
     "output_type": "execute_result"
    }
   ],
   "source": [
    "next(f)"
   ]
  },
  {
   "cell_type": "code",
   "execution_count": 28,
   "id": "c167b4b0",
   "metadata": {},
   "outputs": [
    {
     "data": {
      "text/plain": [
       "1"
      ]
     },
     "execution_count": 28,
     "metadata": {},
     "output_type": "execute_result"
    }
   ],
   "source": [
    "next(f)"
   ]
  },
  {
   "cell_type": "code",
   "execution_count": 29,
   "id": "d86b8947",
   "metadata": {},
   "outputs": [
    {
     "data": {
      "text/plain": [
       "1"
      ]
     },
     "execution_count": 29,
     "metadata": {},
     "output_type": "execute_result"
    }
   ],
   "source": [
    "next(f)"
   ]
  },
  {
   "cell_type": "code",
   "execution_count": 30,
   "id": "cc9baf1e",
   "metadata": {},
   "outputs": [
    {
     "data": {
      "text/plain": [
       "2"
      ]
     },
     "execution_count": 30,
     "metadata": {},
     "output_type": "execute_result"
    }
   ],
   "source": [
    "next(f)"
   ]
  },
  {
   "cell_type": "code",
   "execution_count": 31,
   "id": "931f611b",
   "metadata": {},
   "outputs": [
    {
     "data": {
      "text/plain": [
       "3"
      ]
     },
     "execution_count": 31,
     "metadata": {},
     "output_type": "execute_result"
    }
   ],
   "source": [
    "next(f)"
   ]
  },
  {
   "cell_type": "code",
   "execution_count": null,
   "id": "24f479f2",
   "metadata": {},
   "outputs": [],
   "source": []
  },
  {
   "cell_type": "code",
   "execution_count": null,
   "id": "e54d7efe",
   "metadata": {},
   "outputs": [],
   "source": []
  }
 ],
 "metadata": {
  "kernelspec": {
   "display_name": "Python 3 (ipykernel)",
   "language": "python",
   "name": "python3"
  },
  "language_info": {
   "codemirror_mode": {
    "name": "ipython",
    "version": 3
   },
   "file_extension": ".py",
   "mimetype": "text/x-python",
   "name": "python",
   "nbconvert_exporter": "python",
   "pygments_lexer": "ipython3",
   "version": "3.10.9"
  }
 },
 "nbformat": 4,
 "nbformat_minor": 5
}
