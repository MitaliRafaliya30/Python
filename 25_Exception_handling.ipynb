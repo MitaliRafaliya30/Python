{
 "cells": [
  {
   "cell_type": "code",
   "execution_count": 1,
   "id": "8b08a6ef",
   "metadata": {},
   "outputs": [],
   "source": [
    "#generally something that disrups the normal event is exception\n"
   ]
  },
  {
   "cell_type": "markdown",
   "id": "478b1b96",
   "metadata": {},
   "source": [
    "# In Python, when an error occurs at a specific line in the code, the execution stops, and the subsequent lines of code will not execute. This is called an exception."
   ]
  },
  {
   "cell_type": "code",
   "execution_count": 2,
   "id": "5e9e9a20",
   "metadata": {},
   "outputs": [
    {
     "name": "stdout",
     "output_type": "stream",
     "text": [
      "2.0\n",
      "0.6\n",
      "the code is running fine still now\n"
     ]
    },
    {
     "ename": "ZeroDivisionError",
     "evalue": "division by zero",
     "output_type": "error",
     "traceback": [
      "\u001b[1;31m---------------------------------------------------------------------------\u001b[0m",
      "\u001b[1;31mZeroDivisionError\u001b[0m                         Traceback (most recent call last)",
      "Cell \u001b[1;32mIn[2], line 4\u001b[0m\n\u001b[0;32m      2\u001b[0m \u001b[38;5;28mprint\u001b[39m(\u001b[38;5;241m3\u001b[39m\u001b[38;5;241m/\u001b[39m\u001b[38;5;241m5\u001b[39m)\n\u001b[0;32m      3\u001b[0m \u001b[38;5;28mprint\u001b[39m(\u001b[38;5;124m\"\u001b[39m\u001b[38;5;124mthe code is running fine still now\u001b[39m\u001b[38;5;124m\"\u001b[39m)\n\u001b[1;32m----> 4\u001b[0m \u001b[38;5;28mprint\u001b[39m(\u001b[38;5;241;43m6\u001b[39;49m\u001b[38;5;241;43m/\u001b[39;49m\u001b[38;5;241;43m0\u001b[39;49m) \n\u001b[0;32m      5\u001b[0m \u001b[38;5;28mprint\u001b[39m(\u001b[38;5;124m\"\u001b[39m\u001b[38;5;124myour name is unknown\u001b[39m\u001b[38;5;124m\"\u001b[39m)\n\u001b[0;32m      6\u001b[0m \u001b[38;5;28mprint\u001b[39m(\u001b[38;5;241m2\u001b[39m\u001b[38;5;241m+\u001b[39m\u001b[38;5;241m3\u001b[39m)\n",
      "\u001b[1;31mZeroDivisionError\u001b[0m: division by zero"
     ]
    }
   ],
   "source": [
    "print(4/2)\n",
    "print(3/5)\n",
    "print(\"the code is running fine still now\")\n",
    "print(6/0) \n",
    "print(\"your name is unknown\")\n",
    "print(2+3)\n",
    "print(\"the code ends\")"
   ]
  },
  {
   "cell_type": "markdown",
   "id": "f97b6130",
   "metadata": {},
   "source": [
    "### To handle such situations, you can use try-except blocks. When you place the code that might cause an error inside a try block, you can manage the error in the except block, preventing the program from crashing and allowing you to control what happens next."
   ]
  },
  {
   "cell_type": "markdown",
   "id": "78528a7c",
   "metadata": {},
   "source": [
    "### types of errors:\n",
    "### 1) syntax error\n",
    "### 2) Runtime Errors (Exceptions)\n",
    "\n",
    "### some built-in exception\n",
    "- ZeroDivisionError\n",
    "- TypeError\n",
    "- KeyError\n",
    "- AttributeError\n",
    "- ValueError\n",
    "- ImportError\n",
    "- FileNotFoundError\n",
    "- IndentationError"
   ]
  },
  {
   "cell_type": "markdown",
   "id": "66b0790a",
   "metadata": {},
   "source": [
    "list of exceptions>> https://docs.python.org/3/library/exceptions.html"
   ]
  },
  {
   "cell_type": "code",
   "execution_count": 3,
   "id": "deeb75bd",
   "metadata": {},
   "outputs": [],
   "source": [
    "# Why do we need to handle exception?\n",
    "### 1. Prevents Program Crashes \n",
    "\n",
    "### 2. Improves User Experience : User  provide meaningful error messages\n",
    "\n",
    "### 3. Maintains Code Flow : even when an error occurs, the program can still execute\n",
    "\n",
    "### 4. Makes Code More Robust : handle variety of unexpected scenario "
   ]
  },
  {
   "cell_type": "code",
   "execution_count": null,
   "id": "3b6fd9f4",
   "metadata": {},
   "outputs": [],
   "source": []
  },
  {
   "cell_type": "markdown",
   "id": "ae67d122",
   "metadata": {},
   "source": [
    "# How to handle Exception?\n",
    "###  use try-except blocks."
   ]
  },
  {
   "cell_type": "code",
   "execution_count": 4,
   "id": "9485fc51",
   "metadata": {},
   "outputs": [],
   "source": [
    "# try:\n",
    "#     # Code that might cause an error\n",
    "# except:\n",
    "#     # Code to handle the error"
   ]
  },
  {
   "cell_type": "code",
   "execution_count": 5,
   "id": "a2872c85",
   "metadata": {},
   "outputs": [],
   "source": [
    "# exception is a base class \n",
    "# All other exception classes inherit from Exception class like (nameerror , syntaxerror , typeerror etc..)"
   ]
  },
  {
   "cell_type": "code",
   "execution_count": 6,
   "id": "bbe7849c",
   "metadata": {},
   "outputs": [
    {
     "name": "stdout",
     "output_type": "stream",
     "text": [
      "rest of the code will be execute\n",
      "rest of the code will be execute\n",
      "power of exception handling\n"
     ]
    }
   ],
   "source": [
    "#example 1:\n",
    "try:\n",
    "    f1 = open(\"example.txt\" , \"r\")\n",
    "    print(\"rest of the code will be execute\")\n",
    "except Exception as e:\n",
    "    print(e)\n",
    "print(\"rest of the code will be execute\")\n",
    "print(\"power of exception handling\")"
   ]
  },
  {
   "cell_type": "code",
   "execution_count": 7,
   "id": "c93b74e1",
   "metadata": {},
   "outputs": [
    {
     "name": "stdout",
     "output_type": "stream",
     "text": [
      "error is : division by zero\n",
      "rest of the code will execute..\n",
      "sum is : 30\n"
     ]
    }
   ],
   "source": [
    "#example 2:\n",
    "try:\n",
    "    5/0\n",
    "except Exception as e:\n",
    "    print(\"error is :\" , e)\n",
    "    \n",
    "print(\"rest of the code will execute..\")\n",
    "sum = 10+20\n",
    "print(\"sum is :\" , sum)"
   ]
  },
  {
   "cell_type": "markdown",
   "id": "33d4930d",
   "metadata": {},
   "source": [
    "# try except else"
   ]
  },
  {
   "cell_type": "markdown",
   "id": "f743e055",
   "metadata": {},
   "source": [
    "# else: block of code which run only if no exceptions were raised in try block"
   ]
  },
  {
   "cell_type": "code",
   "execution_count": 8,
   "id": "577d8f74",
   "metadata": {},
   "outputs": [
    {
     "name": "stdout",
     "output_type": "stream",
     "text": [
      "try block did not raise error..so, else block will be execute definitely\n",
      "file is opening...\n"
     ]
    }
   ],
   "source": [
    "# ex :1\n",
    "\n",
    "try:\n",
    "    f1 = open(\"example.txt\" , \"w\")\n",
    "except Exception as e:\n",
    "    print(e)\n",
    "else:\n",
    "    print(\"try block did not raise error..so, else block will be execute definitely\")\n",
    "    print(\"file is opening...\")"
   ]
  },
  {
   "cell_type": "markdown",
   "id": "32787772",
   "metadata": {},
   "source": [
    "# Finally block :\n",
    "### always executes,no matters what... even if an exception was raised or not."
   ]
  },
  {
   "cell_type": "markdown",
   "id": "b536b845",
   "metadata": {},
   "source": [
    "# Usecase :\n",
    "### cleanup activities like closing files , releasing resources..etc"
   ]
  },
  {
   "cell_type": "code",
   "execution_count": 9,
   "id": "9f9d1df3",
   "metadata": {},
   "outputs": [
    {
     "name": "stdout",
     "output_type": "stream",
     "text": [
      "\n",
      "you are doing well..\n"
     ]
    }
   ],
   "source": [
    "#example 1:  Using finally to close a file\n",
    "try:\n",
    "    f1 = open(\"example.txt\" , \"r\")\n",
    "    content = f1.read()\n",
    "    print(content)\n",
    "except Exception as e:\n",
    "    print(e)\n",
    "else:\n",
    "    print(\"you are doing well..\")\n",
    "finally:\n",
    "    f1.close()"
   ]
  },
  {
   "cell_type": "code",
   "execution_count": 11,
   "id": "853ec71b",
   "metadata": {},
   "outputs": [
    {
     "name": "stdout",
     "output_type": "stream",
     "text": [
      "enter number:12\n",
      "cannot divide by zero\n",
      "this will always run..no matters what\n"
     ]
    }
   ],
   "source": [
    "# Example 2: Using finally with an exception\n",
    "try:\n",
    "    num = int(input(\"enter number:\"))\n",
    "    res = num/0\n",
    "    print(res)\n",
    "except ZeroDivisionError:\n",
    "    print(\"cannot divide by zero\")\n",
    "finally:\n",
    "    print(\"this will always run..no matters what\")"
   ]
  },
  {
   "cell_type": "code",
   "execution_count": null,
   "id": "3e600845",
   "metadata": {},
   "outputs": [],
   "source": []
  },
  {
   "cell_type": "markdown",
   "id": "b1d16442",
   "metadata": {},
   "source": [
    "#  custom exception :\n",
    "### define own exception / error type by defining a new class that inherits from Python's built-in Exception class."
   ]
  },
  {
   "cell_type": "markdown",
   "id": "ac6416fa",
   "metadata": {},
   "source": [
    "# Why need of custom exception :\n",
    "### handle specific situations that are not covered by built-in exceptions.\n",
    "\n",
    "### Custom exceptions provide clear and meaningful error messages specific to your application's needs.\n"
   ]
  },
  {
   "cell_type": "code",
   "execution_count": 12,
   "id": "3cd643fa",
   "metadata": {},
   "outputs": [],
   "source": [
    "# creating a program that checks the age of users and raises an error if the age is below 18."
   ]
  },
  {
   "cell_type": "code",
   "execution_count": 13,
   "id": "3161009d",
   "metadata": {},
   "outputs": [],
   "source": [
    "def check_age(age):\n",
    "    if age<18:\n",
    "        raise Underageerror(\"Age is below 18. Access denied\")\n",
    "    else:\n",
    "        print(\"age is valid\")"
   ]
  },
  {
   "cell_type": "code",
   "execution_count": 14,
   "id": "2ce6a5a6",
   "metadata": {},
   "outputs": [],
   "source": [
    "# own exception class \n",
    "class Underageerror(Exception):\n",
    "    def __init__(self , msg):\n",
    "        self.msg = msg"
   ]
  },
  {
   "cell_type": "code",
   "execution_count": 15,
   "id": "1052634f",
   "metadata": {},
   "outputs": [
    {
     "name": "stdout",
     "output_type": "stream",
     "text": [
      "Enter your age:12\n",
      "Age is below 18. Access denied\n"
     ]
    }
   ],
   "source": [
    "try:\n",
    "    age = int(input(\"Enter your age:\"))\n",
    "    check_age(age)\n",
    "except Underageerror as e:\n",
    "    print(e)"
   ]
  },
  {
   "cell_type": "markdown",
   "id": "fb1e7ffb",
   "metadata": {},
   "source": [
    "### Scenario: Bank Withdrawal System\n",
    "### Imagine you're developing a banking application that allows users to withdraw money from their account. You need to ensure that a user cannot withdraw more money than they have in their account. In this case, you can create a custom exception to handle overdraft situations."
   ]
  },
  {
   "cell_type": "code",
   "execution_count": null,
   "id": "3f7c7066",
   "metadata": {},
   "outputs": [],
   "source": []
  },
  {
   "cell_type": "code",
   "execution_count": 3,
   "id": "fbfa8bcf",
   "metadata": {},
   "outputs": [],
   "source": [
    "def Checkbalance(balance , withdraw):\n",
    "    if withdraw > balance:\n",
    "        raise InsufficientFundsError(\"Access denied. can't withdraw at this time\")\n",
    "    else:\n",
    "        print(\"successfully Withdrawal\")"
   ]
  },
  {
   "cell_type": "code",
   "execution_count": 4,
   "id": "2112532e",
   "metadata": {},
   "outputs": [],
   "source": [
    "class InsufficientFundsError(Exception):\n",
    "    def __init__(self , msg):\n",
    "        self.msg = msg"
   ]
  },
  {
   "cell_type": "code",
   "execution_count": 5,
   "id": "47486111",
   "metadata": {},
   "outputs": [
    {
     "name": "stdout",
     "output_type": "stream",
     "text": [
      "Enter amount to withdraw :1200\n",
      "Enter balance :1300\n",
      "successfully Withdrawal\n"
     ]
    }
   ],
   "source": [
    "try:\n",
    "    Withdrawal_money = int(input(\"Enter amount to withdraw :\"))\n",
    "    balance = int(input(\"Enter balance :\"))\n",
    "    Checkbalance(balance , Withdrawal_money)\n",
    "except InsufficientFundsError as e:\n",
    "    print(e)\n",
    "    "
   ]
  },
  {
   "cell_type": "code",
   "execution_count": null,
   "id": "adf120f4",
   "metadata": {},
   "outputs": [],
   "source": []
  },
  {
   "cell_type": "code",
   "execution_count": null,
   "id": "d60f262b",
   "metadata": {},
   "outputs": [],
   "source": []
  },
  {
   "cell_type": "code",
   "execution_count": null,
   "id": "84c8e3e7",
   "metadata": {},
   "outputs": [],
   "source": []
  },
  {
   "cell_type": "code",
   "execution_count": null,
   "id": "ce4929ba",
   "metadata": {},
   "outputs": [],
   "source": []
  },
  {
   "cell_type": "code",
   "execution_count": null,
   "id": "3cb3b3c3",
   "metadata": {},
   "outputs": [],
   "source": []
  }
 ],
 "metadata": {
  "kernelspec": {
   "display_name": "Python 3 (ipykernel)",
   "language": "python",
   "name": "python3"
  },
  "language_info": {
   "codemirror_mode": {
    "name": "ipython",
    "version": 3
   },
   "file_extension": ".py",
   "mimetype": "text/x-python",
   "name": "python",
   "nbconvert_exporter": "python",
   "pygments_lexer": "ipython3",
   "version": "3.10.9"
  }
 },
 "nbformat": 4,
 "nbformat_minor": 5
}
