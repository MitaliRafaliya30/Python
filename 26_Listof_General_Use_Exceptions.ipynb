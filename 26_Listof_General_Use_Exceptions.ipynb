{
 "cells": [
  {
   "cell_type": "markdown",
   "id": "96b1003a",
   "metadata": {},
   "source": [
    "# Generic Exception : Use base class directly (except Exception as e)"
   ]
  },
  {
   "cell_type": "code",
   "execution_count": 58,
   "id": "45a05246",
   "metadata": {},
   "outputs": [
    {
     "name": "stdout",
     "output_type": "stream",
     "text": [
      "division by zero\n"
     ]
    }
   ],
   "source": [
    "try:\n",
    "    10/0\n",
    "except Exception as e:\n",
    "    print(e)"
   ]
  },
  {
   "cell_type": "code",
   "execution_count": 59,
   "id": "74ea9866",
   "metadata": {},
   "outputs": [
    {
     "name": "stdout",
     "output_type": "stream",
     "text": [
      "division by zero\n"
     ]
    }
   ],
   "source": [
    "try:\n",
    "    10/0\n",
    "except ZeroDivisionError as e:\n",
    "    print(e)"
   ]
  },
  {
   "cell_type": "markdown",
   "id": "697e66ad",
   "metadata": {},
   "source": [
    "### except ZeroDivisionError is used to catch the specific exception...\n",
    "### as 'e' part assigns the caught exception object to the variable e."
   ]
  },
  {
   "cell_type": "markdown",
   "id": "cf14f517",
   "metadata": {},
   "source": [
    "### through 'e' we can access details about the exception"
   ]
  },
  {
   "cell_type": "code",
   "execution_count": 60,
   "id": "74aba414",
   "metadata": {},
   "outputs": [
    {
     "name": "stdout",
     "output_type": "stream",
     "text": [
      "invalid literal for int() with base 10: 'mira'\n"
     ]
    }
   ],
   "source": [
    "# we can also write multiple errors in exception block\n",
    "try:\n",
    "    int(\"mira\")\n",
    "except (ValueError , TypeError) as e:\n",
    "    print(e)"
   ]
  },
  {
   "cell_type": "code",
   "execution_count": 61,
   "id": "b9a40540",
   "metadata": {},
   "outputs": [
    {
     "name": "stdout",
     "output_type": "stream",
     "text": [
      "this will through error bcz you can't convert string to integer\n"
     ]
    }
   ],
   "source": [
    "# if you don't know, which error it will raise..you can simply print error message\n",
    "try:\n",
    "    int(\"mira\")\n",
    "except:\n",
    "    print(\"this will through error bcz you can't convert string to integer\")"
   ]
  },
  {
   "cell_type": "code",
   "execution_count": 62,
   "id": "755e4238",
   "metadata": {},
   "outputs": [
    {
     "name": "stdout",
     "output_type": "stream",
     "text": [
      "No module named 'mira'\n"
     ]
    }
   ],
   "source": [
    "try:\n",
    "    import mira            # there is no package named mira\n",
    "except ImportError as e:\n",
    "    print(e)"
   ]
  },
  {
   "cell_type": "code",
   "execution_count": 63,
   "id": "87df8f55",
   "metadata": {},
   "outputs": [
    {
     "name": "stdout",
     "output_type": "stream",
     "text": [
      "'k3'\n"
     ]
    }
   ],
   "source": [
    "try:\n",
    "    d = { \"k1\" : \"mira\" , \n",
    "         \"k2\" : [1,2,3,4]\n",
    "    }\n",
    "    print(d[\"k3\"])\n",
    "except KeyError as e:\n",
    "    print(e)"
   ]
  },
  {
   "cell_type": "code",
   "execution_count": 64,
   "id": "bd97f17d",
   "metadata": {},
   "outputs": [
    {
     "name": "stdout",
     "output_type": "stream",
     "text": [
      "type object 'int' has no attribute 'test'\n"
     ]
    }
   ],
   "source": [
    "try:\n",
    "    int.test()\n",
    "except AttributeError as e:\n",
    "    print(e)"
   ]
  },
  {
   "cell_type": "code",
   "execution_count": 65,
   "id": "3b353b8f",
   "metadata": {},
   "outputs": [
    {
     "name": "stdout",
     "output_type": "stream",
     "text": [
      "list index out of range\n"
     ]
    }
   ],
   "source": [
    "try:\n",
    "    l = [2,3,4,5]\n",
    "    l[6]\n",
    "except IndexError as e:\n",
    "    print(e)"
   ]
  },
  {
   "cell_type": "code",
   "execution_count": 66,
   "id": "012e6f6d",
   "metadata": {},
   "outputs": [
    {
     "ename": "SyntaxError",
     "evalue": "incomplete input (3687471568.py, line 2)",
     "output_type": "error",
     "traceback": [
      "\u001b[1;36m  Cell \u001b[1;32mIn[66], line 2\u001b[1;36m\u001b[0m\n\u001b[1;33m    \u001b[0m\n\u001b[1;37m    ^\u001b[0m\n\u001b[1;31mSyntaxError\u001b[0m\u001b[1;31m:\u001b[0m incomplete input\n"
     ]
    }
   ],
   "source": [
    "try:\n",
    "    "
   ]
  },
  {
   "cell_type": "code",
   "execution_count": 67,
   "id": "8e8d83af",
   "metadata": {},
   "outputs": [
    {
     "name": "stdout",
     "output_type": "stream",
     "text": [
      "can only concatenate str (not \"int\") to str\n"
     ]
    }
   ],
   "source": [
    "try:\n",
    "    \"mira\" + 12\n",
    "except TypeError as e:\n",
    "    print(e)"
   ]
  },
  {
   "cell_type": "code",
   "execution_count": 68,
   "id": "e3c86aeb",
   "metadata": {},
   "outputs": [
    {
     "name": "stdout",
     "output_type": "stream",
     "text": [
      "[Errno 2] No such file or directory: 'mira.txt'\n"
     ]
    }
   ],
   "source": [
    "try:\n",
    "    f1 = open(\"mira.txt\" , \"r\")\n",
    "except FileNotFoundError as e:\n",
    "    print(e)"
   ]
  },
  {
   "cell_type": "code",
   "execution_count": 69,
   "id": "7914f974",
   "metadata": {},
   "outputs": [
    {
     "data": {
      "text/plain": [
       "['__cause__',\n",
       " '__class__',\n",
       " '__context__',\n",
       " '__delattr__',\n",
       " '__dict__',\n",
       " '__dir__',\n",
       " '__doc__',\n",
       " '__eq__',\n",
       " '__format__',\n",
       " '__ge__',\n",
       " '__getattribute__',\n",
       " '__gt__',\n",
       " '__hash__',\n",
       " '__init__',\n",
       " '__init_subclass__',\n",
       " '__le__',\n",
       " '__lt__',\n",
       " '__ne__',\n",
       " '__new__',\n",
       " '__reduce__',\n",
       " '__reduce_ex__',\n",
       " '__repr__',\n",
       " '__setattr__',\n",
       " '__setstate__',\n",
       " '__sizeof__',\n",
       " '__str__',\n",
       " '__subclasshook__',\n",
       " '__suppress_context__',\n",
       " '__traceback__',\n",
       " 'args',\n",
       " 'with_traceback']"
      ]
     },
     "execution_count": 69,
     "metadata": {},
     "output_type": "execute_result"
    }
   ],
   "source": [
    "dir(Exception)"
   ]
  },
  {
   "cell_type": "code",
   "execution_count": 70,
   "id": "e97ac001",
   "metadata": {},
   "outputs": [
    {
     "name": "stdout",
     "output_type": "stream",
     "text": [
      "[Errno 2] No such file or directory: 'mira.txt'\n"
     ]
    }
   ],
   "source": [
    "try:\n",
    "    f1 = open(\"mira.txt\" , \"r\")\n",
    "except Exception as e:          #generic exception\n",
    "    print(e)\n",
    "except FileNotFoundError as e:\n",
    "    print(e)\n",
    "    \n",
    "# multiple exception hoi tyare 1st exception thi jo error handle thay jay to 2nd pr jase j nhii"
   ]
  },
  {
   "cell_type": "markdown",
   "id": "5d968023",
   "metadata": {},
   "source": [
    "# Best practice :\n",
    "### always write base class (generic exception at the end )"
   ]
  },
  {
   "cell_type": "code",
   "execution_count": null,
   "id": "d0011b73",
   "metadata": {},
   "outputs": [],
   "source": []
  },
  {
   "cell_type": "markdown",
   "id": "a5c42b7f",
   "metadata": {},
   "source": [
    "# you can also write try except block inside function or class"
   ]
  },
  {
   "cell_type": "code",
   "execution_count": 75,
   "id": "4ede7762",
   "metadata": {},
   "outputs": [],
   "source": [
    "# always to to log your error"
   ]
  },
  {
   "cell_type": "code",
   "execution_count": null,
   "id": "dd953380",
   "metadata": {},
   "outputs": [],
   "source": []
  },
  {
   "cell_type": "code",
   "execution_count": 74,
   "id": "ad90704e",
   "metadata": {},
   "outputs": [],
   "source": [
    "import logging\n",
    "logging.basicConfig(filename = \"error.log\" , level = logging.ERROR)\n",
    "try:\n",
    "    f1 = open(\"mira.txt\" , \"r\")\n",
    "except Exception as e:          #generic exception\n",
    "    logging.error(e)\n",
    "except FileNotFoundError as e:\n",
    "    logging.error(e)"
   ]
  },
  {
   "cell_type": "code",
   "execution_count": null,
   "id": "a5722b6c",
   "metadata": {},
   "outputs": [],
   "source": []
  }
 ],
 "metadata": {
  "kernelspec": {
   "display_name": "Python 3 (ipykernel)",
   "language": "python",
   "name": "python3"
  },
  "language_info": {
   "codemirror_mode": {
    "name": "ipython",
    "version": 3
   },
   "file_extension": ".py",
   "mimetype": "text/x-python",
   "name": "python",
   "nbconvert_exporter": "python",
   "pygments_lexer": "ipython3",
   "version": "3.10.9"
  }
 },
 "nbformat": 4,
 "nbformat_minor": 5
}
