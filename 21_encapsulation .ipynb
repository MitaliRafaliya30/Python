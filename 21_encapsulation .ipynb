{
 "cells": [
  {
   "cell_type": "code",
   "execution_count": 1,
   "id": "86f46c93",
   "metadata": {},
   "outputs": [],
   "source": [
    "# Encaplulation :"
   ]
  },
  {
   "cell_type": "code",
   "execution_count": 2,
   "id": "d793fa39",
   "metadata": {},
   "outputs": [],
   "source": [
    "# wrapping of mems and mem methods inside one class"
   ]
  },
  {
   "cell_type": "code",
   "execution_count": 3,
   "id": "5c22bcbf",
   "metadata": {},
   "outputs": [],
   "source": [
    "# aslo know as data hiding "
   ]
  },
  {
   "cell_type": "code",
   "execution_count": 4,
   "id": "656a6faf",
   "metadata": {},
   "outputs": [],
   "source": [
    "# abstraction which is about what functionality shown to the user and does not shown to the users"
   ]
  },
  {
   "cell_type": "code",
   "execution_count": 5,
   "id": "101d9312",
   "metadata": {},
   "outputs": [],
   "source": [
    "# but actucal data hiding done with the encapsulation "
   ]
  },
  {
   "cell_type": "code",
   "execution_count": 6,
   "id": "b7ec1a37",
   "metadata": {},
   "outputs": [],
   "source": [
    "# hide data using access specifiers"
   ]
  },
  {
   "cell_type": "code",
   "execution_count": null,
   "id": "a01d9aa2",
   "metadata": {},
   "outputs": [],
   "source": []
  },
  {
   "cell_type": "code",
   "execution_count": 8,
   "id": "1ed4fa16",
   "metadata": {},
   "outputs": [],
   "source": [
    "# there are 3 methods to access private members outside the class:\n",
    "# 1) create public method within the class, call private method in this method.. so by calling public method we can access private method\n",
    "\n",
    "# 2) name mangling \n",
    "\n",
    "# 3) using getters and setters methods "
   ]
  },
  {
   "cell_type": "code",
   "execution_count": 18,
   "id": "9eb7260c",
   "metadata": {},
   "outputs": [],
   "source": [
    "# getters method : use to get private member\n",
    "\n",
    "# setters method : use to set or modify private member "
   ]
  },
  {
   "cell_type": "code",
   "execution_count": 48,
   "id": "7c9e8e3f",
   "metadata": {},
   "outputs": [],
   "source": [
    "# example of getter and setter methods \n",
    "class student:\n",
    "    def __init__(self, name, rollno ,age):\n",
    "        self.name = name                        \n",
    "        self._rollno = rollno                  \n",
    "        self.__age = age                        # self.__age = private\n",
    "    \n",
    "    # getter method to get age\n",
    "    def get_age(self):\n",
    "        print(f\"age is {self.__age}\")\n",
    "        \n",
    "     # setter method to set age   \n",
    "    def set_age(self , new_age):\n",
    "        self.__age = new_age\n",
    "        print(f\"modified age is {self.__age}\")\n",
    "        "
   ]
  },
  {
   "cell_type": "code",
   "execution_count": 49,
   "id": "835081bf",
   "metadata": {},
   "outputs": [],
   "source": [
    "s1 = student(\"rahul\" , 23 , 20)"
   ]
  },
  {
   "cell_type": "code",
   "execution_count": 50,
   "id": "ef7a030f",
   "metadata": {},
   "outputs": [],
   "source": [
    "# s1._student__age"
   ]
  },
  {
   "cell_type": "code",
   "execution_count": 51,
   "id": "af21cd90",
   "metadata": {},
   "outputs": [],
   "source": [
    "# s1._student__disply()"
   ]
  },
  {
   "cell_type": "code",
   "execution_count": 52,
   "id": "5d9d757d",
   "metadata": {},
   "outputs": [
    {
     "name": "stdout",
     "output_type": "stream",
     "text": [
      "age is 20\n"
     ]
    }
   ],
   "source": [
    "s1.get_age()"
   ]
  },
  {
   "cell_type": "code",
   "execution_count": 53,
   "id": "818e637f",
   "metadata": {},
   "outputs": [
    {
     "name": "stdout",
     "output_type": "stream",
     "text": [
      "modified age is 37\n"
     ]
    }
   ],
   "source": [
    "s1.set_age(37)"
   ]
  },
  {
   "cell_type": "code",
   "execution_count": null,
   "id": "0a27d406",
   "metadata": {},
   "outputs": [],
   "source": []
  },
  {
   "cell_type": "code",
   "execution_count": 54,
   "id": "9bd3da9b",
   "metadata": {},
   "outputs": [],
   "source": [
    "# example of creating public class to access private method  \n",
    "class student:\n",
    "    def __init__(self, name, rollno ,age):\n",
    "        self.name = name                        \n",
    "        self._rollno = rollno                  \n",
    "        self.__age = age               # private attribute \n",
    "    \n",
    "\n",
    "    def __disply(self):        # private method\n",
    "        print(f\"my name is {self.name} with {self._rollno} with {self.__age} from student class\")\n",
    "\n",
    "\n",
    "    # creating public class to access private method\n",
    "    def displayprivatedata(self):  \n",
    "        self.__disply()                        # this method is within the class only accessible  \n"
   ]
  },
  {
   "cell_type": "code",
   "execution_count": 55,
   "id": "bf712a46",
   "metadata": {},
   "outputs": [],
   "source": [
    "s1 = student(\"mira\" , 151, 20)"
   ]
  },
  {
   "cell_type": "code",
   "execution_count": 56,
   "id": "ec132de8",
   "metadata": {},
   "outputs": [
    {
     "name": "stdout",
     "output_type": "stream",
     "text": [
      "my name is mira with 151 with 20 from student class\n"
     ]
    }
   ],
   "source": [
    "s1.displayprivatedata()"
   ]
  },
  {
   "cell_type": "code",
   "execution_count": null,
   "id": "ec8060d5",
   "metadata": {},
   "outputs": [],
   "source": []
  },
  {
   "cell_type": "code",
   "execution_count": 58,
   "id": "8667bdee",
   "metadata": {},
   "outputs": [],
   "source": [
    "# name mangling we have seen in access modifiers lecture...\n",
    "# protected and public we have also seen it in access modifiers lecture..."
   ]
  },
  {
   "cell_type": "markdown",
   "id": "a6b55143",
   "metadata": {},
   "source": [
    "# note :\n",
    "### use of name mangling to access private member is not a good practice...avoid direct access\n",
    "### instead of use getter and setter methods...which is very very good"
   ]
  },
  {
   "cell_type": "code",
   "execution_count": null,
   "id": "0ba401f1",
   "metadata": {},
   "outputs": [],
   "source": []
  },
  {
   "cell_type": "markdown",
   "id": "a90bd1db",
   "metadata": {},
   "source": [
    "# Advantage of encapsulation : \n",
    "### provide security \n",
    "### provide data hiding "
   ]
  },
  {
   "cell_type": "markdown",
   "id": "ff455963",
   "metadata": {},
   "source": []
  }
 ],
 "metadata": {
  "kernelspec": {
   "display_name": "Python 3 (ipykernel)",
   "language": "python",
   "name": "python3"
  },
  "language_info": {
   "codemirror_mode": {
    "name": "ipython",
    "version": 3
   },
   "file_extension": ".py",
   "mimetype": "text/x-python",
   "name": "python",
   "nbconvert_exporter": "python",
   "pygments_lexer": "ipython3",
   "version": "3.10.9"
  }
 },
 "nbformat": 4,
 "nbformat_minor": 5
}
