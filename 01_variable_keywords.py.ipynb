{
 "cells": [
  {
   "cell_type": "code",
   "execution_count": 1,
   "id": "a3007096",
   "metadata": {},
   "outputs": [
    {
     "name": "stdout",
     "output_type": "stream",
     "text": [
      "Hello world\n"
     ]
    }
   ],
   "source": [
    "print(\"Hello world\")"
   ]
  },
  {
   "cell_type": "code",
   "execution_count": 2,
   "id": "8603e1e0",
   "metadata": {},
   "outputs": [
    {
     "data": {
      "text/plain": [
       "30"
      ]
     },
     "execution_count": 2,
     "metadata": {},
     "output_type": "execute_result"
    }
   ],
   "source": [
    "#variable / identifiers\n",
    "a = 30\n",
    "a"
   ]
  },
  {
   "cell_type": "code",
   "execution_count": 3,
   "id": "95a68446",
   "metadata": {},
   "outputs": [],
   "source": [
    "#built-in datatypes\n",
    "a = 30\n",
    "b = 35.6\n",
    "c = \"mira\"\n",
    "d = True\n",
    "e = 4 + 6j\n",
    "f = None"
   ]
  },
  {
   "cell_type": "code",
   "execution_count": 4,
   "id": "37cdea96",
   "metadata": {},
   "outputs": [],
   "source": [
    "# more list , tuple , dict"
   ]
  },
  {
   "cell_type": "code",
   "execution_count": 16,
   "id": "3ee43377",
   "metadata": {},
   "outputs": [],
   "source": [
    "a = \"mirarafaliya\""
   ]
  },
  {
   "cell_type": "code",
   "execution_count": 23,
   "id": "b00d636a",
   "metadata": {},
   "outputs": [
    {
     "data": {
      "text/plain": [
       "'mirarafal'"
      ]
     },
     "execution_count": 23,
     "metadata": {},
     "output_type": "execute_result"
    }
   ],
   "source": [
    "a[0:-3]"
   ]
  },
  {
   "cell_type": "code",
   "execution_count": 21,
   "id": "f5adbeef",
   "metadata": {},
   "outputs": [
    {
     "data": {
      "text/plain": [
       "12"
      ]
     },
     "execution_count": 21,
     "metadata": {},
     "output_type": "execute_result"
    }
   ],
   "source": [
    "len(a)"
   ]
  },
  {
   "cell_type": "code",
   "execution_count": 25,
   "id": "9f65a19b",
   "metadata": {},
   "outputs": [
    {
     "data": {
      "text/plain": [
       "4"
      ]
     },
     "execution_count": 25,
     "metadata": {},
     "output_type": "execute_result"
    }
   ],
   "source": [
    "a.count(\"a\")"
   ]
  },
  {
   "cell_type": "code",
   "execution_count": 13,
   "id": "6e0597ec",
   "metadata": {},
   "outputs": [
    {
     "data": {
      "text/plain": [
       "complex"
      ]
     },
     "execution_count": 13,
     "metadata": {},
     "output_type": "execute_result"
    }
   ],
   "source": [
    "type(e)"
   ]
  },
  {
   "cell_type": "code",
   "execution_count": null,
   "id": "dc95261f",
   "metadata": {},
   "outputs": [],
   "source": []
  },
  {
   "cell_type": "code",
   "execution_count": 14,
   "id": "25d3b8aa",
   "metadata": {},
   "outputs": [
    {
     "data": {
      "text/plain": [
       "4.0"
      ]
     },
     "execution_count": 14,
     "metadata": {},
     "output_type": "execute_result"
    }
   ],
   "source": [
    "e.real"
   ]
  },
  {
   "cell_type": "code",
   "execution_count": 15,
   "id": "7c9184bf",
   "metadata": {},
   "outputs": [
    {
     "data": {
      "text/plain": [
       "6.0"
      ]
     },
     "execution_count": 15,
     "metadata": {},
     "output_type": "execute_result"
    }
   ],
   "source": [
    "e.imag"
   ]
  },
  {
   "cell_type": "code",
   "execution_count": 50,
   "id": "31053bad",
   "metadata": {},
   "outputs": [
    {
     "data": {
      "text/plain": [
       "1"
      ]
     },
     "execution_count": 50,
     "metadata": {},
     "output_type": "execute_result"
    }
   ],
   "source": [
    "#True = 1 , False = 0\n",
    "True + False"
   ]
  },
  {
   "cell_type": "code",
   "execution_count": 51,
   "id": "6f576462",
   "metadata": {},
   "outputs": [
    {
     "data": {
      "text/plain": [
       "2"
      ]
     },
     "execution_count": 51,
     "metadata": {},
     "output_type": "execute_result"
    }
   ],
   "source": [
    "True + True"
   ]
  },
  {
   "cell_type": "code",
   "execution_count": 52,
   "id": "8bfce3db",
   "metadata": {},
   "outputs": [
    {
     "data": {
      "text/plain": [
       "0"
      ]
     },
     "execution_count": 52,
     "metadata": {},
     "output_type": "execute_result"
    }
   ],
   "source": [
    "False + False"
   ]
  },
  {
   "cell_type": "code",
   "execution_count": 53,
   "id": "ca9ebd30",
   "metadata": {},
   "outputs": [
    {
     "data": {
      "text/plain": [
       "0"
      ]
     },
     "execution_count": 53,
     "metadata": {},
     "output_type": "execute_result"
    }
   ],
   "source": [
    "True * False"
   ]
  },
  {
   "cell_type": "code",
   "execution_count": 55,
   "id": "49cb72ad",
   "metadata": {},
   "outputs": [],
   "source": [
    "# ZeroDivisionError: division by zero\n",
    "# True / False"
   ]
  },
  {
   "cell_type": "code",
   "execution_count": 59,
   "id": "fcc31a3f",
   "metadata": {},
   "outputs": [
    {
     "data": {
      "text/plain": [
       "'hello learners '"
      ]
     },
     "execution_count": 59,
     "metadata": {},
     "output_type": "execute_result"
    }
   ],
   "source": [
    "'''hello learners '''"
   ]
  },
  {
   "cell_type": "code",
   "execution_count": null,
   "id": "37c482c9",
   "metadata": {},
   "outputs": [],
   "source": [
    "# keywords : it is predefined word which have a special meaning and specific perpose.."
   ]
  },
  {
   "cell_type": "code",
   "execution_count": 69,
   "id": "28892f44",
   "metadata": {},
   "outputs": [
    {
     "name": "stdout",
     "output_type": "stream",
     "text": [
      "\n",
      "Here is a list of the Python keywords.  Enter any keyword to get more help.\n",
      "\n",
      "False               class               from                or\n",
      "None                continue            global              pass\n",
      "True                def                 if                  raise\n",
      "and                 del                 import              return\n",
      "as                  elif                in                  try\n",
      "assert              else                is                  while\n",
      "async               except              lambda              with\n",
      "await               finally             nonlocal            yield\n",
      "break               for                 not                 \n",
      "\n"
     ]
    }
   ],
   "source": [
    "# list all keywords\n",
    "help(\"keywords\")"
   ]
  },
  {
   "cell_type": "markdown",
   "id": "5ea20d33",
   "metadata": {},
   "source": [
    "### help() function is used to list all predefined keywords and know about specific keyword"
   ]
  },
  {
   "cell_type": "code",
   "execution_count": 70,
   "id": "98c0d759",
   "metadata": {},
   "outputs": [
    {
     "name": "stdout",
     "output_type": "stream",
     "text": [
      "The \"yield\" statement\n",
      "*********************\n",
      "\n",
      "   yield_stmt ::= yield_expression\n",
      "\n",
      "A \"yield\" statement is semantically equivalent to a yield expression.\n",
      "The yield statement can be used to omit the parentheses that would\n",
      "otherwise be required in the equivalent yield expression statement.\n",
      "For example, the yield statements\n",
      "\n",
      "   yield <expr>\n",
      "   yield from <expr>\n",
      "\n",
      "are equivalent to the yield expression statements\n",
      "\n",
      "   (yield <expr>)\n",
      "   (yield from <expr>)\n",
      "\n",
      "Yield expressions and statements are only used when defining a\n",
      "*generator* function, and are only used in the body of the generator\n",
      "function.  Using yield in a function definition is sufficient to cause\n",
      "that definition to create a generator function instead of a normal\n",
      "function.\n",
      "\n",
      "For full details of \"yield\" semantics, refer to the Yield expressions\n",
      "section.\n",
      "\n"
     ]
    }
   ],
   "source": [
    "help(\"yield\")"
   ]
  },
  {
   "cell_type": "code",
   "execution_count": 73,
   "id": "98b3336f",
   "metadata": {},
   "outputs": [],
   "source": [
    "#indentation : specific way to write python code"
   ]
  },
  {
   "cell_type": "code",
   "execution_count": 74,
   "id": "caa630d8",
   "metadata": {},
   "outputs": [
    {
     "name": "stdout",
     "output_type": "stream",
     "text": [
      "\n",
      "Here is a list of the Python keywords.  Enter any keyword to get more help.\n",
      "\n",
      "False               class               from                or\n",
      "None                continue            global              pass\n",
      "True                def                 if                  raise\n",
      "and                 del                 import              return\n",
      "as                  elif                in                  try\n",
      "assert              else                is                  while\n",
      "async               except              lambda              with\n",
      "await               finally             nonlocal            yield\n",
      "break               for                 not                 \n",
      "\n"
     ]
    }
   ],
   "source": [
    "help(\"keywords\")"
   ]
  },
  {
   "cell_type": "code",
   "execution_count": 88,
   "id": "58e7f3c9",
   "metadata": {},
   "outputs": [
    {
     "name": "stdout",
     "output_type": "stream",
     "text": [
      "enter any number:34\n"
     ]
    }
   ],
   "source": [
    "number = input(\"enter any number:\")"
   ]
  },
  {
   "cell_type": "code",
   "execution_count": 89,
   "id": "ed22f6a9",
   "metadata": {},
   "outputs": [
    {
     "data": {
      "text/plain": [
       "str"
      ]
     },
     "execution_count": 89,
     "metadata": {},
     "output_type": "execute_result"
    }
   ],
   "source": [
    "type(number)"
   ]
  },
  {
   "cell_type": "code",
   "execution_count": 90,
   "id": "6163da64",
   "metadata": {},
   "outputs": [
    {
     "data": {
      "text/plain": [
       "34"
      ]
     },
     "execution_count": 90,
     "metadata": {},
     "output_type": "execute_result"
    }
   ],
   "source": [
    "int(number)"
   ]
  },
  {
   "cell_type": "code",
   "execution_count": 91,
   "id": "8eaf5992",
   "metadata": {},
   "outputs": [
    {
     "data": {
      "text/plain": [
       "34.0"
      ]
     },
     "execution_count": 91,
     "metadata": {},
     "output_type": "execute_result"
    }
   ],
   "source": [
    "float(number)"
   ]
  },
  {
   "cell_type": "code",
   "execution_count": 92,
   "id": "f5a3df46",
   "metadata": {},
   "outputs": [],
   "source": [
    "#type casting :"
   ]
  },
  {
   "cell_type": "code",
   "execution_count": 111,
   "id": "51db0cb2",
   "metadata": {},
   "outputs": [],
   "source": [
    "num = 45"
   ]
  },
  {
   "cell_type": "code",
   "execution_count": 112,
   "id": "404cb230",
   "metadata": {},
   "outputs": [
    {
     "data": {
      "text/plain": [
       "int"
      ]
     },
     "execution_count": 112,
     "metadata": {},
     "output_type": "execute_result"
    }
   ],
   "source": [
    "type(num)"
   ]
  },
  {
   "cell_type": "code",
   "execution_count": 113,
   "id": "7f2140d9",
   "metadata": {},
   "outputs": [
    {
     "data": {
      "text/plain": [
       "float"
      ]
     },
     "execution_count": 113,
     "metadata": {},
     "output_type": "execute_result"
    }
   ],
   "source": [
    "type(float(num))"
   ]
  },
  {
   "cell_type": "code",
   "execution_count": 114,
   "id": "de47e25a",
   "metadata": {},
   "outputs": [
    {
     "data": {
      "text/plain": [
       "False"
      ]
     },
     "execution_count": 114,
     "metadata": {},
     "output_type": "execute_result"
    }
   ],
   "source": [
    "bool(0)"
   ]
  },
  {
   "cell_type": "code",
   "execution_count": 116,
   "id": "4eaac37b",
   "metadata": {},
   "outputs": [
    {
     "data": {
      "text/plain": [
       "True"
      ]
     },
     "execution_count": 116,
     "metadata": {},
     "output_type": "execute_result"
    }
   ],
   "source": [
    "bool(1)"
   ]
  },
  {
   "cell_type": "code",
   "execution_count": null,
   "id": "5291a3e5",
   "metadata": {},
   "outputs": [],
   "source": []
  },
  {
   "cell_type": "code",
   "execution_count": 117,
   "id": "1fa5df65",
   "metadata": {},
   "outputs": [
    {
     "name": "stdout",
     "output_type": "stream",
     "text": [
      "\n",
      "Here is a list of the Python keywords.  Enter any keyword to get more help.\n",
      "\n",
      "False               class               from                or\n",
      "None                continue            global              pass\n",
      "True                def                 if                  raise\n",
      "and                 del                 import              return\n",
      "as                  elif                in                  try\n",
      "assert              else                is                  while\n",
      "async               except              lambda              with\n",
      "await               finally             nonlocal            yield\n",
      "break               for                 not                 \n",
      "\n"
     ]
    }
   ],
   "source": [
    "help(\"keywords\")"
   ]
  },
  {
   "cell_type": "code",
   "execution_count": 1,
   "id": "b16ada3d",
   "metadata": {},
   "outputs": [],
   "source": [
    "# if i define the var and not use in code so it will go to garbage..if the memory is not use python will automettically clear the memory\n"
   ]
  },
  {
   "cell_type": "code",
   "execution_count": 2,
   "id": "21e59f2a",
   "metadata": {},
   "outputs": [],
   "source": [
    "# diff ways of garbage collection"
   ]
  },
  {
   "cell_type": "code",
   "execution_count": 3,
   "id": "0116f666",
   "metadata": {},
   "outputs": [],
   "source": [
    "# static vs dynamic typong\n",
    "# strong vs weak typing "
   ]
  },
  {
   "cell_type": "code",
   "execution_count": 4,
   "id": "a1ad4d0e",
   "metadata": {},
   "outputs": [],
   "source": [
    "com = 2+6j"
   ]
  },
  {
   "cell_type": "code",
   "execution_count": 5,
   "id": "754dce7b",
   "metadata": {},
   "outputs": [
    {
     "data": {
      "text/plain": [
       "(2+6j)"
      ]
     },
     "execution_count": 5,
     "metadata": {},
     "output_type": "execute_result"
    }
   ],
   "source": [
    "com"
   ]
  },
  {
   "cell_type": "code",
   "execution_count": 6,
   "id": "2a71c5dd",
   "metadata": {},
   "outputs": [
    {
     "data": {
      "text/plain": [
       "complex"
      ]
     },
     "execution_count": 6,
     "metadata": {},
     "output_type": "execute_result"
    }
   ],
   "source": [
    "type(com)"
   ]
  },
  {
   "cell_type": "code",
   "execution_count": 7,
   "id": "32c99fc0",
   "metadata": {},
   "outputs": [
    {
     "data": {
      "text/plain": [
       "2.0"
      ]
     },
     "execution_count": 7,
     "metadata": {},
     "output_type": "execute_result"
    }
   ],
   "source": [
    "com.real"
   ]
  },
  {
   "cell_type": "code",
   "execution_count": 9,
   "id": "eef1cddf",
   "metadata": {},
   "outputs": [
    {
     "data": {
      "text/plain": [
       "6.0"
      ]
     },
     "execution_count": 9,
     "metadata": {},
     "output_type": "execute_result"
    }
   ],
   "source": [
    "com.imag"
   ]
  },
  {
   "cell_type": "code",
   "execution_count": 21,
   "id": "d1bfb874",
   "metadata": {},
   "outputs": [],
   "source": [
    "a = 45\n",
    "b = 46"
   ]
  },
  {
   "cell_type": "code",
   "execution_count": 22,
   "id": "f7cf1ad3",
   "metadata": {},
   "outputs": [
    {
     "data": {
      "text/plain": [
       "(45, 46)"
      ]
     },
     "execution_count": 22,
     "metadata": {},
     "output_type": "execute_result"
    }
   ],
   "source": [
    "a , b"
   ]
  },
  {
   "cell_type": "code",
   "execution_count": 23,
   "id": "e5c77e1f",
   "metadata": {},
   "outputs": [
    {
     "data": {
      "text/plain": [
       "1776773170800"
      ]
     },
     "execution_count": 23,
     "metadata": {},
     "output_type": "execute_result"
    }
   ],
   "source": [
    "id(a)"
   ]
  },
  {
   "cell_type": "code",
   "execution_count": 24,
   "id": "58cf5890",
   "metadata": {},
   "outputs": [
    {
     "data": {
      "text/plain": [
       "1776773170832"
      ]
     },
     "execution_count": 24,
     "metadata": {},
     "output_type": "execute_result"
    }
   ],
   "source": [
    "id(b)"
   ]
  },
  {
   "cell_type": "code",
   "execution_count": null,
   "id": "96c5227a",
   "metadata": {},
   "outputs": [],
   "source": []
  }
 ],
 "metadata": {
  "kernelspec": {
   "display_name": "Python 3 (ipykernel)",
   "language": "python",
   "name": "python3"
  },
  "language_info": {
   "codemirror_mode": {
    "name": "ipython",
    "version": 3
   },
   "file_extension": ".py",
   "mimetype": "text/x-python",
   "name": "python",
   "nbconvert_exporter": "python",
   "pygments_lexer": "ipython3",
   "version": "3.10.9"
  }
 },
 "nbformat": 4,
 "nbformat_minor": 5
}
