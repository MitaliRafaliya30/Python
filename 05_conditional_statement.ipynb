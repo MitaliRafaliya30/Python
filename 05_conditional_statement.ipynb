{
 "cells": [
  {
   "cell_type": "markdown",
   "id": "4a2209c4",
   "metadata": {},
   "source": [
    "# used to handle conditions in your program."
   ]
  },
  {
   "cell_type": "markdown",
   "id": "f53ee18a",
   "metadata": {},
   "source": [
    "## if\n",
    "## if-else\n",
    "## if-elif-else\n",
    "## nested if-else"
   ]
  },
  {
   "cell_type": "code",
   "execution_count": 2,
   "id": "bd13989d",
   "metadata": {},
   "outputs": [],
   "source": [
    "# if statement "
   ]
  },
  {
   "cell_type": "code",
   "execution_count": 4,
   "id": "eef8477f",
   "metadata": {},
   "outputs": [
    {
     "name": "stdout",
     "output_type": "stream",
     "text": [
      "a is greater than 0\n"
     ]
    }
   ],
   "source": [
    "a = 100\n",
    "if a >0:\n",
    "    print(\"a is greater than 0\")"
   ]
  },
  {
   "cell_type": "code",
   "execution_count": 5,
   "id": "37f21434",
   "metadata": {},
   "outputs": [
    {
     "name": "stdout",
     "output_type": "stream",
     "text": [
      "a is less than 0\n"
     ]
    }
   ],
   "source": [
    "a = -50\n",
    "if a >0:\n",
    "    print(\"a is greater than 0\")\n",
    "else:\n",
    "    print(\"a is less than 0\")"
   ]
  },
  {
   "cell_type": "code",
   "execution_count": 10,
   "id": "8d88c6f1",
   "metadata": {},
   "outputs": [
    {
     "name": "stdout",
     "output_type": "stream",
     "text": [
      "this is the number of interest\n"
     ]
    }
   ],
   "source": [
    "num = 42\n",
    "if(num % 2 == 0 and num> 0):\n",
    "    print(\"this is the number of interest\")"
   ]
  },
  {
   "cell_type": "code",
   "execution_count": 11,
   "id": "395a0b40",
   "metadata": {},
   "outputs": [
    {
     "name": "stdout",
     "output_type": "stream",
     "text": [
      "this is the number of interest\n"
     ]
    }
   ],
   "source": [
    "num = 42\n",
    "if((num % 2 == 0) & (num> 0)):\n",
    "    print(\"this is the number of interest\")"
   ]
  },
  {
   "cell_type": "code",
   "execution_count": 13,
   "id": "f8d514ce",
   "metadata": {},
   "outputs": [
    {
     "name": "stdout",
     "output_type": "stream",
     "text": [
      "i will watch amazon prime\n"
     ]
    }
   ],
   "source": [
    "is_ds_course = False\n",
    "if is_ds_course :\n",
    "    print(\"i will study\")\n",
    "else:\n",
    "    print(\"i will watch amazon prime\")"
   ]
  },
  {
   "cell_type": "code",
   "execution_count": null,
   "id": "82f14116",
   "metadata": {},
   "outputs": [],
   "source": []
  }
 ],
 "metadata": {
  "kernelspec": {
   "display_name": "Python 3 (ipykernel)",
   "language": "python",
   "name": "python3"
  },
  "language_info": {
   "codemirror_mode": {
    "name": "ipython",
    "version": 3
   },
   "file_extension": ".py",
   "mimetype": "text/x-python",
   "name": "python",
   "nbconvert_exporter": "python",
   "pygments_lexer": "ipython3",
   "version": "3.10.9"
  }
 },
 "nbformat": 4,
 "nbformat_minor": 5
}
