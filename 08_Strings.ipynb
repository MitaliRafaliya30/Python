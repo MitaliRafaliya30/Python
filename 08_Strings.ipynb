{
 "cells": [
  {
   "cell_type": "markdown",
   "id": "362abb21",
   "metadata": {},
   "source": [
    "# string is a sequence of char\n",
    "# reperesent text data\n",
    "# each char is assigned with numerical value (ASCII)"
   ]
  },
  {
   "cell_type": "markdown",
   "id": "0e059ed0",
   "metadata": {},
   "source": [
    "# 2 ways to encode(provides a unique number for every character) char into number"
   ]
  },
  {
   "cell_type": "markdown",
   "id": "9ad41407",
   "metadata": {},
   "source": [
    "# ASCII (American Standard Code for Information Interchange) is the most common character encoding format for text data in computers "
   ]
  },
  {
   "cell_type": "markdown",
   "id": "0ed89e38",
   "metadata": {},
   "source": [
    "## diff btw unicode and ASCII :\n",
    "### ASCII uses 7 bits (2**7) = encode 128 char\n",
    "### UNICODE uses 16 bits (2**16) = encode 65536 char (it almost coverd every char of every language..)"
   ]
  },
  {
   "cell_type": "code",
   "execution_count": 1,
   "id": "607b3272",
   "metadata": {},
   "outputs": [],
   "source": [
    "# UTF-8 \n",
    "# UTF-16 (widely used)\n",
    "# unicode transformation format"
   ]
  },
  {
   "cell_type": "code",
   "execution_count": 2,
   "id": "1e096827",
   "metadata": {},
   "outputs": [],
   "source": [
    "## ASCII representation :"
   ]
  },
  {
   "cell_type": "code",
   "execution_count": 3,
   "id": "f003f779",
   "metadata": {},
   "outputs": [
    {
     "data": {
      "text/plain": [
       "77"
      ]
     },
     "execution_count": 3,
     "metadata": {},
     "output_type": "execute_result"
    }
   ],
   "source": [
    "ord(\"M\") # give ordinal / numeric value of char "
   ]
  },
  {
   "cell_type": "code",
   "execution_count": 4,
   "id": "b34c398d",
   "metadata": {},
   "outputs": [
    {
     "data": {
      "text/plain": [
       "'A'"
      ]
     },
     "execution_count": 4,
     "metadata": {},
     "output_type": "execute_result"
    }
   ],
   "source": [
    "chr(65) # give char value of any number"
   ]
  },
  {
   "cell_type": "code",
   "execution_count": 5,
   "id": "357de33d",
   "metadata": {},
   "outputs": [],
   "source": [
    "# UNICODE representation :\n",
    "# Omega"
   ]
  },
  {
   "cell_type": "code",
   "execution_count": 6,
   "id": "c7fb79e5",
   "metadata": {},
   "outputs": [
    {
     "data": {
      "text/plain": [
       "'Ω'"
      ]
     },
     "execution_count": 6,
     "metadata": {},
     "output_type": "execute_result"
    }
   ],
   "source": [
    "'\\u03A9'"
   ]
  },
  {
   "cell_type": "code",
   "execution_count": 7,
   "id": "38a9eff9",
   "metadata": {},
   "outputs": [
    {
     "data": {
      "text/plain": [
       "'Σ'"
      ]
     },
     "execution_count": 7,
     "metadata": {},
     "output_type": "execute_result"
    }
   ],
   "source": [
    "'\\u03A3'"
   ]
  },
  {
   "cell_type": "code",
   "execution_count": 8,
   "id": "259543e0",
   "metadata": {},
   "outputs": [
    {
     "data": {
      "text/plain": [
       "'ॳ'"
      ]
     },
     "execution_count": 8,
     "metadata": {},
     "output_type": "execute_result"
    }
   ],
   "source": [
    "'\\u0973'"
   ]
  },
  {
   "cell_type": "code",
   "execution_count": 9,
   "id": "3ae9dbb0",
   "metadata": {},
   "outputs": [
    {
     "data": {
      "text/plain": [
       "'ॵ'"
      ]
     },
     "execution_count": 9,
     "metadata": {},
     "output_type": "execute_result"
    }
   ],
   "source": [
    "'\\u0975'"
   ]
  },
  {
   "cell_type": "code",
   "execution_count": null,
   "id": "1a33d3d0",
   "metadata": {},
   "outputs": [],
   "source": []
  },
  {
   "cell_type": "code",
   "execution_count": 10,
   "id": "8c30f397",
   "metadata": {},
   "outputs": [],
   "source": [
    "# strings :"
   ]
  },
  {
   "cell_type": "code",
   "execution_count": 11,
   "id": "8b57c71f",
   "metadata": {},
   "outputs": [],
   "source": [
    "string1 = \"pwskills\""
   ]
  },
  {
   "cell_type": "code",
   "execution_count": 12,
   "id": "49b1eb86",
   "metadata": {},
   "outputs": [],
   "source": [
    "string1 = 'pwskills'"
   ]
  },
  {
   "cell_type": "code",
   "execution_count": 13,
   "id": "b1c39785",
   "metadata": {},
   "outputs": [
    {
     "data": {
      "text/plain": [
       "'pwskills'"
      ]
     },
     "execution_count": 13,
     "metadata": {},
     "output_type": "execute_result"
    }
   ],
   "source": [
    "string1"
   ]
  },
  {
   "cell_type": "code",
   "execution_count": 14,
   "id": "a372c10d",
   "metadata": {},
   "outputs": [
    {
     "data": {
      "text/plain": [
       "str"
      ]
     },
     "execution_count": 14,
     "metadata": {},
     "output_type": "execute_result"
    }
   ],
   "source": [
    "type(string1)"
   ]
  },
  {
   "cell_type": "code",
   "execution_count": 15,
   "id": "595de063",
   "metadata": {},
   "outputs": [
    {
     "data": {
      "text/plain": [
       "\"i'm a student\""
      ]
     },
     "execution_count": 15,
     "metadata": {},
     "output_type": "execute_result"
    }
   ],
   "source": [
    "\"i'm a student\""
   ]
  },
  {
   "cell_type": "code",
   "execution_count": 16,
   "id": "4924e701",
   "metadata": {},
   "outputs": [
    {
     "data": {
      "text/plain": [
       "\"I'm mira\""
      ]
     },
     "execution_count": 16,
     "metadata": {},
     "output_type": "execute_result"
    }
   ],
   "source": [
    "\"I'm mira\""
   ]
  },
  {
   "cell_type": "code",
   "execution_count": 17,
   "id": "25265c59",
   "metadata": {},
   "outputs": [
    {
     "data": {
      "text/plain": [
       "\"I'am mira\""
      ]
     },
     "execution_count": 17,
     "metadata": {},
     "output_type": "execute_result"
    }
   ],
   "source": [
    "'''I'am mira'''"
   ]
  },
  {
   "cell_type": "code",
   "execution_count": 18,
   "id": "91f3d3f3",
   "metadata": {},
   "outputs": [
    {
     "data": {
      "text/plain": [
       "\"I'm mira\""
      ]
     },
     "execution_count": 18,
     "metadata": {},
     "output_type": "execute_result"
    }
   ],
   "source": [
    "\"\"\"I'm mira\"\"\""
   ]
  },
  {
   "cell_type": "code",
   "execution_count": 19,
   "id": "17af0c5c",
   "metadata": {},
   "outputs": [
    {
     "data": {
      "text/plain": [
       "\"I'am mira\\n I am data scientist\\n I studied in pw skills\""
      ]
     },
     "execution_count": 19,
     "metadata": {},
     "output_type": "execute_result"
    }
   ],
   "source": [
    "\"\"\"I'am mira\n",
    " I am data scientist\n",
    " I studied in pw skills\"\"\""
   ]
  },
  {
   "cell_type": "code",
   "execution_count": 20,
   "id": "1e8ae9a2",
   "metadata": {},
   "outputs": [],
   "source": [
    "# concatination of string "
   ]
  },
  {
   "cell_type": "code",
   "execution_count": 21,
   "id": "48dced13",
   "metadata": {},
   "outputs": [
    {
     "data": {
      "text/plain": [
       "'Mira Rafaliya'"
      ]
     },
     "execution_count": 21,
     "metadata": {},
     "output_type": "execute_result"
    }
   ],
   "source": [
    "\"Mira\" + \" Rafaliya\""
   ]
  },
  {
   "cell_type": "code",
   "execution_count": 22,
   "id": "b875cefe",
   "metadata": {},
   "outputs": [],
   "source": [
    "str1 = \"Hello\"\n",
    "str2 = \"World!!!\""
   ]
  },
  {
   "cell_type": "code",
   "execution_count": 23,
   "id": "95977f86",
   "metadata": {},
   "outputs": [
    {
     "data": {
      "text/plain": [
       "'Hello World!!!'"
      ]
     },
     "execution_count": 23,
     "metadata": {},
     "output_type": "execute_result"
    }
   ],
   "source": [
    "str1 +\" \" + str2"
   ]
  },
  {
   "cell_type": "code",
   "execution_count": 24,
   "id": "3f92d590",
   "metadata": {},
   "outputs": [
    {
     "data": {
      "text/plain": [
       "'Hello....World!!!'"
      ]
     },
     "execution_count": 24,
     "metadata": {},
     "output_type": "execute_result"
    }
   ],
   "source": [
    "str1 +\"....\" + str2"
   ]
  },
  {
   "cell_type": "code",
   "execution_count": 25,
   "id": "b0816d68",
   "metadata": {},
   "outputs": [],
   "source": [
    "# slicing of string "
   ]
  },
  {
   "cell_type": "code",
   "execution_count": 26,
   "id": "ecbabfcf",
   "metadata": {},
   "outputs": [],
   "source": [
    "a = \"Mira\""
   ]
  },
  {
   "cell_type": "code",
   "execution_count": 27,
   "id": "97572ee4",
   "metadata": {},
   "outputs": [
    {
     "data": {
      "text/plain": [
       "'M'"
      ]
     },
     "execution_count": 27,
     "metadata": {},
     "output_type": "execute_result"
    }
   ],
   "source": [
    "a[0]"
   ]
  },
  {
   "cell_type": "code",
   "execution_count": 28,
   "id": "a5df6acc",
   "metadata": {},
   "outputs": [
    {
     "data": {
      "text/plain": [
       "'a'"
      ]
     },
     "execution_count": 28,
     "metadata": {},
     "output_type": "execute_result"
    }
   ],
   "source": [
    "a[-1]"
   ]
  },
  {
   "cell_type": "code",
   "execution_count": 29,
   "id": "eda73293",
   "metadata": {},
   "outputs": [
    {
     "data": {
      "text/plain": [
       "'Mira'"
      ]
     },
     "execution_count": 29,
     "metadata": {},
     "output_type": "execute_result"
    }
   ],
   "source": [
    "a[0:]"
   ]
  },
  {
   "cell_type": "code",
   "execution_count": 30,
   "id": "9b04c589",
   "metadata": {},
   "outputs": [
    {
     "data": {
      "text/plain": [
       "'Mira'"
      ]
     },
     "execution_count": 30,
     "metadata": {},
     "output_type": "execute_result"
    }
   ],
   "source": [
    "a[:4]"
   ]
  },
  {
   "cell_type": "code",
   "execution_count": 31,
   "id": "b6d33e3e",
   "metadata": {},
   "outputs": [
    {
     "data": {
      "text/plain": [
       "'Mira'"
      ]
     },
     "execution_count": 31,
     "metadata": {},
     "output_type": "execute_result"
    }
   ],
   "source": [
    "a[:]"
   ]
  },
  {
   "cell_type": "code",
   "execution_count": 32,
   "id": "fc5d6521",
   "metadata": {},
   "outputs": [
    {
     "data": {
      "text/plain": [
       "'ra'"
      ]
     },
     "execution_count": 32,
     "metadata": {},
     "output_type": "execute_result"
    }
   ],
   "source": [
    "a[-2:4]"
   ]
  },
  {
   "cell_type": "code",
   "execution_count": 33,
   "id": "8eb3a320",
   "metadata": {},
   "outputs": [
    {
     "data": {
      "text/plain": [
       "4"
      ]
     },
     "execution_count": 33,
     "metadata": {},
     "output_type": "execute_result"
    }
   ],
   "source": [
    "len(a)"
   ]
  },
  {
   "cell_type": "code",
   "execution_count": 34,
   "id": "7b9d3f8e",
   "metadata": {},
   "outputs": [],
   "source": [
    "b = \"Hello learners\""
   ]
  },
  {
   "cell_type": "code",
   "execution_count": 35,
   "id": "cebfead0",
   "metadata": {},
   "outputs": [
    {
     "data": {
      "text/plain": [
       "'Hlolanr'"
      ]
     },
     "execution_count": 35,
     "metadata": {},
     "output_type": "execute_result"
    }
   ],
   "source": [
    "b[::2] # strat : end : jump"
   ]
  },
  {
   "cell_type": "code",
   "execution_count": 36,
   "id": "67029a23",
   "metadata": {},
   "outputs": [
    {
     "data": {
      "text/plain": [
       "14"
      ]
     },
     "execution_count": 36,
     "metadata": {},
     "output_type": "execute_result"
    }
   ],
   "source": [
    "len(b)"
   ]
  },
  {
   "cell_type": "code",
   "execution_count": 37,
   "id": "c7e5a0a7",
   "metadata": {},
   "outputs": [
    {
     "data": {
      "text/plain": [
       "'Hello learn'"
      ]
     },
     "execution_count": 37,
     "metadata": {},
     "output_type": "execute_result"
    }
   ],
   "source": [
    "# except last 3 char \n",
    "b[:-3]  # 0: (14-3) = 0 to 11"
   ]
  },
  {
   "cell_type": "code",
   "execution_count": 38,
   "id": "7ab2530f",
   "metadata": {},
   "outputs": [
    {
     "data": {
      "text/plain": [
       "'ers'"
      ]
     },
     "execution_count": 38,
     "metadata": {},
     "output_type": "execute_result"
    }
   ],
   "source": [
    "# want only last 3 char\n",
    "b[-3:] # 11 to 14"
   ]
  },
  {
   "cell_type": "code",
   "execution_count": 39,
   "id": "f8ebb681",
   "metadata": {},
   "outputs": [
    {
     "data": {
      "text/plain": [
       "'srenrael olleH'"
      ]
     },
     "execution_count": 39,
     "metadata": {},
     "output_type": "execute_result"
    }
   ],
   "source": [
    "# reverse the string using slicing :\n",
    "b[::-1]"
   ]
  },
  {
   "cell_type": "code",
   "execution_count": 40,
   "id": "5969ca1e",
   "metadata": {},
   "outputs": [
    {
     "data": {
      "text/plain": [
       "'ariM'"
      ]
     },
     "execution_count": 40,
     "metadata": {},
     "output_type": "execute_result"
    }
   ],
   "source": [
    "a[::-1]"
   ]
  },
  {
   "cell_type": "code",
   "execution_count": 41,
   "id": "3a262103",
   "metadata": {},
   "outputs": [],
   "source": [
    "# string methods : (string modifications)"
   ]
  },
  {
   "cell_type": "code",
   "execution_count": 42,
   "id": "d1aa4851",
   "metadata": {},
   "outputs": [
    {
     "data": {
      "text/plain": [
       "['__add__',\n",
       " '__class__',\n",
       " '__contains__',\n",
       " '__delattr__',\n",
       " '__dir__',\n",
       " '__doc__',\n",
       " '__eq__',\n",
       " '__format__',\n",
       " '__ge__',\n",
       " '__getattribute__',\n",
       " '__getitem__',\n",
       " '__getnewargs__',\n",
       " '__gt__',\n",
       " '__hash__',\n",
       " '__init__',\n",
       " '__init_subclass__',\n",
       " '__iter__',\n",
       " '__le__',\n",
       " '__len__',\n",
       " '__lt__',\n",
       " '__mod__',\n",
       " '__mul__',\n",
       " '__ne__',\n",
       " '__new__',\n",
       " '__reduce__',\n",
       " '__reduce_ex__',\n",
       " '__repr__',\n",
       " '__rmod__',\n",
       " '__rmul__',\n",
       " '__setattr__',\n",
       " '__sizeof__',\n",
       " '__str__',\n",
       " '__subclasshook__',\n",
       " 'capitalize',\n",
       " 'casefold',\n",
       " 'center',\n",
       " 'count',\n",
       " 'encode',\n",
       " 'endswith',\n",
       " 'expandtabs',\n",
       " 'find',\n",
       " 'format',\n",
       " 'format_map',\n",
       " 'index',\n",
       " 'isalnum',\n",
       " 'isalpha',\n",
       " 'isascii',\n",
       " 'isdecimal',\n",
       " 'isdigit',\n",
       " 'isidentifier',\n",
       " 'islower',\n",
       " 'isnumeric',\n",
       " 'isprintable',\n",
       " 'isspace',\n",
       " 'istitle',\n",
       " 'isupper',\n",
       " 'join',\n",
       " 'ljust',\n",
       " 'lower',\n",
       " 'lstrip',\n",
       " 'maketrans',\n",
       " 'partition',\n",
       " 'removeprefix',\n",
       " 'removesuffix',\n",
       " 'replace',\n",
       " 'rfind',\n",
       " 'rindex',\n",
       " 'rjust',\n",
       " 'rpartition',\n",
       " 'rsplit',\n",
       " 'rstrip',\n",
       " 'split',\n",
       " 'splitlines',\n",
       " 'startswith',\n",
       " 'strip',\n",
       " 'swapcase',\n",
       " 'title',\n",
       " 'translate',\n",
       " 'upper',\n",
       " 'zfill']"
      ]
     },
     "execution_count": 42,
     "metadata": {},
     "output_type": "execute_result"
    }
   ],
   "source": [
    "dir(str)"
   ]
  },
  {
   "cell_type": "code",
   "execution_count": 43,
   "id": "c1bcde01",
   "metadata": {},
   "outputs": [
    {
     "data": {
      "text/plain": [
       "'Hello students'"
      ]
     },
     "execution_count": 43,
     "metadata": {},
     "output_type": "execute_result"
    }
   ],
   "source": [
    "# replace\n",
    "b.replace(\"learners\" , \"students\")"
   ]
  },
  {
   "cell_type": "code",
   "execution_count": 44,
   "id": "68a5648f",
   "metadata": {},
   "outputs": [
    {
     "data": {
      "text/plain": [
       "'Hello learners'"
      ]
     },
     "execution_count": 44,
     "metadata": {},
     "output_type": "execute_result"
    }
   ],
   "source": [
    "b"
   ]
  },
  {
   "cell_type": "code",
   "execution_count": 45,
   "id": "e61a5840",
   "metadata": {},
   "outputs": [],
   "source": [
    "old_wish = \"I want to become data analyst\""
   ]
  },
  {
   "cell_type": "code",
   "execution_count": 46,
   "id": "ca85c34c",
   "metadata": {},
   "outputs": [
    {
     "ename": "NameError",
     "evalue": "name 'wish' is not defined",
     "output_type": "error",
     "traceback": [
      "\u001b[1;31m---------------------------------------------------------------------------\u001b[0m",
      "\u001b[1;31mNameError\u001b[0m                                 Traceback (most recent call last)",
      "Cell \u001b[1;32mIn[46], line 1\u001b[0m\n\u001b[1;32m----> 1\u001b[0m \u001b[43mwish\u001b[49m\n",
      "\u001b[1;31mNameError\u001b[0m: name 'wish' is not defined"
     ]
    }
   ],
   "source": [
    "wish"
   ]
  },
  {
   "cell_type": "code",
   "execution_count": null,
   "id": "03319ffb",
   "metadata": {},
   "outputs": [],
   "source": [
    "current_wish = wish.replace(\"data analyst\" , \"data scientist\")"
   ]
  },
  {
   "cell_type": "code",
   "execution_count": null,
   "id": "20a2fe96",
   "metadata": {},
   "outputs": [],
   "source": [
    "current_wish"
   ]
  },
  {
   "cell_type": "code",
   "execution_count": null,
   "id": "96c998e1",
   "metadata": {},
   "outputs": [],
   "source": [
    "# usecase : change info in address"
   ]
  },
  {
   "cell_type": "code",
   "execution_count": null,
   "id": "633a302c",
   "metadata": {},
   "outputs": [],
   "source": [
    "txt1 = \"BRB , TTYL , LOL\""
   ]
  },
  {
   "cell_type": "code",
   "execution_count": null,
   "id": "6930dfe9",
   "metadata": {},
   "outputs": [],
   "source": [
    "txt1.replace(\"BRB\" , \"Be right back\").replace( \"TTYL\",\"talk to you later\").replace(\"LOL\" , \"laughing out loud\")"
   ]
  },
  {
   "cell_type": "code",
   "execution_count": null,
   "id": "e17fb9f4",
   "metadata": {},
   "outputs": [],
   "source": []
  },
  {
   "cell_type": "code",
   "execution_count": 61,
   "id": "50ff8254",
   "metadata": {},
   "outputs": [],
   "source": [
    "# lower\n",
    "s1 = \"I KNOW PYTHON\""
   ]
  },
  {
   "cell_type": "code",
   "execution_count": 62,
   "id": "262cdc3a",
   "metadata": {},
   "outputs": [
    {
     "data": {
      "text/plain": [
       "'i know python'"
      ]
     },
     "execution_count": 62,
     "metadata": {},
     "output_type": "execute_result"
    }
   ],
   "source": [
    "s1.lower()"
   ]
  },
  {
   "cell_type": "code",
   "execution_count": 63,
   "id": "6af666c8",
   "metadata": {},
   "outputs": [
    {
     "data": {
      "text/plain": [
       "'I KNOW DATA SCIENCE'"
      ]
     },
     "execution_count": 63,
     "metadata": {},
     "output_type": "execute_result"
    }
   ],
   "source": [
    "s1.replace(\"PYTHON\" , \"DATA SCIENCE\")"
   ]
  },
  {
   "cell_type": "code",
   "execution_count": 64,
   "id": "a04cb000",
   "metadata": {},
   "outputs": [
    {
     "data": {
      "text/plain": [
       "'I KNOW PYTHON'"
      ]
     },
     "execution_count": 64,
     "metadata": {},
     "output_type": "execute_result"
    }
   ],
   "source": [
    "s1"
   ]
  },
  {
   "cell_type": "code",
   "execution_count": 65,
   "id": "6b8bc2fe",
   "metadata": {},
   "outputs": [],
   "source": [
    "s1 = s1.lower()"
   ]
  },
  {
   "cell_type": "code",
   "execution_count": 66,
   "id": "730e9657",
   "metadata": {},
   "outputs": [
    {
     "data": {
      "text/plain": [
       "'i know python'"
      ]
     },
     "execution_count": 66,
     "metadata": {},
     "output_type": "execute_result"
    }
   ],
   "source": [
    "s1"
   ]
  },
  {
   "cell_type": "code",
   "execution_count": 67,
   "id": "091ec85d",
   "metadata": {},
   "outputs": [
    {
     "data": {
      "text/plain": [
       "'I KNOW PYTHON'"
      ]
     },
     "execution_count": 67,
     "metadata": {},
     "output_type": "execute_result"
    }
   ],
   "source": [
    "s1.upper()"
   ]
  },
  {
   "cell_type": "code",
   "execution_count": 68,
   "id": "0187824a",
   "metadata": {},
   "outputs": [
    {
     "data": {
      "text/plain": [
       "'I know python'"
      ]
     },
     "execution_count": 68,
     "metadata": {},
     "output_type": "execute_result"
    }
   ],
   "source": [
    "s1.capitalize()"
   ]
  },
  {
   "cell_type": "code",
   "execution_count": 69,
   "id": "93b5f6f2",
   "metadata": {},
   "outputs": [],
   "source": [
    "s2 = \"Mira Rafaliya Is BEST ONE\""
   ]
  },
  {
   "cell_type": "code",
   "execution_count": 70,
   "id": "b2769c31",
   "metadata": {},
   "outputs": [
    {
     "data": {
      "text/plain": [
       "'mIRA rAFALIYA iS best one'"
      ]
     },
     "execution_count": 70,
     "metadata": {},
     "output_type": "execute_result"
    }
   ],
   "source": [
    "# Swaps cases, lower case becomes upper case and vice versa\n",
    "s2.swapcase()"
   ]
  },
  {
   "cell_type": "code",
   "execution_count": 71,
   "id": "fc767e63",
   "metadata": {},
   "outputs": [],
   "source": [
    "s1 = s1 + \" very well in detail\""
   ]
  },
  {
   "cell_type": "code",
   "execution_count": 72,
   "id": "60c566ed",
   "metadata": {},
   "outputs": [
    {
     "data": {
      "text/plain": [
       "True"
      ]
     },
     "execution_count": 72,
     "metadata": {},
     "output_type": "execute_result"
    }
   ],
   "source": [
    "# search that the word is present in string or not \n",
    "\"very\" in s1"
   ]
  },
  {
   "cell_type": "code",
   "execution_count": 73,
   "id": "151aa83f",
   "metadata": {},
   "outputs": [
    {
     "data": {
      "text/plain": [
       "'i know python very well in detail'"
      ]
     },
     "execution_count": 73,
     "metadata": {},
     "output_type": "execute_result"
    }
   ],
   "source": [
    "s1"
   ]
  },
  {
   "cell_type": "code",
   "execution_count": 74,
   "id": "35d22987",
   "metadata": {},
   "outputs": [
    {
     "name": "stdout",
     "output_type": "stream",
     "text": [
      "word is present\n"
     ]
    }
   ],
   "source": [
    "search_word = \"python\"\n",
    "if search_word in s1:\n",
    "    print(\"word is present\")\n",
    "else:\n",
    "    print(\"word is not present\")"
   ]
  },
  {
   "cell_type": "code",
   "execution_count": null,
   "id": "b6f176d0",
   "metadata": {},
   "outputs": [],
   "source": []
  },
  {
   "cell_type": "code",
   "execution_count": 75,
   "id": "de26838b",
   "metadata": {},
   "outputs": [],
   "source": [
    "string = \"AI is growing day by day..it becoming very dangours for people\""
   ]
  },
  {
   "cell_type": "code",
   "execution_count": 76,
   "id": "876d23a2",
   "metadata": {},
   "outputs": [
    {
     "name": "stdout",
     "output_type": "stream",
     "text": [
      "present\n"
     ]
    }
   ],
   "source": [
    "if \"AI\" in string:\n",
    "    print(\"present\")\n",
    "else:\n",
    "    print(\"?\")"
   ]
  },
  {
   "cell_type": "code",
   "execution_count": 77,
   "id": "43c538cc",
   "metadata": {},
   "outputs": [
    {
     "data": {
      "text/plain": [
       "True"
      ]
     },
     "execution_count": 77,
     "metadata": {},
     "output_type": "execute_result"
    }
   ],
   "source": [
    "\"growing\" in string"
   ]
  },
  {
   "cell_type": "code",
   "execution_count": 78,
   "id": "42599e75",
   "metadata": {},
   "outputs": [],
   "source": [
    "# check validity :"
   ]
  },
  {
   "cell_type": "code",
   "execution_count": 90,
   "id": "ef460d5f",
   "metadata": {},
   "outputs": [
    {
     "name": "stdout",
     "output_type": "stream",
     "text": [
      "Enter your email :mira@gmail.com\n",
      "success\n"
     ]
    }
   ],
   "source": [
    "email = input(\"Enter your email :\")\n",
    "if \"@\" not in email:\n",
    "    print(\"please enter valid email\")\n",
    "elif \"gmail.com\" not in email:\n",
    "    print(\"please enter valid email..\")\n",
    "else:\n",
    "    print(\"success\")"
   ]
  },
  {
   "cell_type": "code",
   "execution_count": 92,
   "id": "20a59404",
   "metadata": {},
   "outputs": [
    {
     "name": "stdout",
     "output_type": "stream",
     "text": [
      "Enter name:\n",
      "name is too short\n"
     ]
    }
   ],
   "source": [
    "name = input(\"Enter name:\")\n",
    "if len(name) <=2 :\n",
    "    print(\"name is too short\")    "
   ]
  },
  {
   "cell_type": "code",
   "execution_count": 94,
   "id": "75ebb6f7",
   "metadata": {},
   "outputs": [
    {
     "data": {
      "text/plain": [
       "False"
      ]
     },
     "execution_count": 94,
     "metadata": {},
     "output_type": "execute_result"
    }
   ],
   "source": [
    "# string comparision \n",
    "s1 = \"data\"\n",
    "s2 = \"data1\"\n",
    "s1 == s2"
   ]
  },
  {
   "cell_type": "code",
   "execution_count": 95,
   "id": "55d81e9d",
   "metadata": {},
   "outputs": [],
   "source": [
    "# sorting :\n",
    "s1 = [\"mira\" , \"aesha\" , \"dhara\"]"
   ]
  },
  {
   "cell_type": "code",
   "execution_count": 96,
   "id": "36eba135",
   "metadata": {},
   "outputs": [],
   "source": [
    "s1.sort()"
   ]
  },
  {
   "cell_type": "code",
   "execution_count": 97,
   "id": "b8f1248d",
   "metadata": {},
   "outputs": [
    {
     "data": {
      "text/plain": [
       "['aesha', 'dhara', 'mira']"
      ]
     },
     "execution_count": 97,
     "metadata": {},
     "output_type": "execute_result"
    }
   ],
   "source": [
    "s1"
   ]
  },
  {
   "cell_type": "code",
   "execution_count": null,
   "id": "2a9bbe2b",
   "metadata": {},
   "outputs": [],
   "source": [
    "# strip([chars]) : remove characters from both ends of a string. ...\n",
    "# rstrip([chars]) : remove characters from the right side of a string. ...\n",
    "# lstrip([chars]) : remove characters from the left side of a string."
   ]
  },
  {
   "cell_type": "code",
   "execution_count": 108,
   "id": "8b9ef78f",
   "metadata": {},
   "outputs": [],
   "source": [
    "institute = \"...PW SKILLS...\""
   ]
  },
  {
   "cell_type": "code",
   "execution_count": 109,
   "id": "c50930bb",
   "metadata": {},
   "outputs": [
    {
     "data": {
      "text/plain": [
       "'PW SKILLS'"
      ]
     },
     "execution_count": 109,
     "metadata": {},
     "output_type": "execute_result"
    }
   ],
   "source": [
    "institute.strip(\"...\")"
   ]
  },
  {
   "cell_type": "code",
   "execution_count": 110,
   "id": "6010aad8",
   "metadata": {},
   "outputs": [],
   "source": [
    "institute = \"   PW SKILLS!!!           \""
   ]
  },
  {
   "cell_type": "code",
   "execution_count": 111,
   "id": "5bcaa671",
   "metadata": {},
   "outputs": [
    {
     "data": {
      "text/plain": [
       "'PW SKILLS!!!'"
      ]
     },
     "execution_count": 111,
     "metadata": {},
     "output_type": "execute_result"
    }
   ],
   "source": [
    "institute.strip(\" \")"
   ]
  },
  {
   "cell_type": "code",
   "execution_count": 112,
   "id": "6ef184c2",
   "metadata": {},
   "outputs": [
    {
     "data": {
      "text/plain": [
       "'Hello world!!'"
      ]
     },
     "execution_count": 112,
     "metadata": {},
     "output_type": "execute_result"
    }
   ],
   "source": [
    "str = \"    Hello world!!\"\n",
    "str.lstrip(\" \")"
   ]
  },
  {
   "cell_type": "code",
   "execution_count": 113,
   "id": "438f2a3a",
   "metadata": {},
   "outputs": [
    {
     "data": {
      "text/plain": [
       "'    Hello world'"
      ]
     },
     "execution_count": 113,
     "metadata": {},
     "output_type": "execute_result"
    }
   ],
   "source": [
    "str = \"    Hello world!!\"\n",
    "str.rstrip(\"!!\")"
   ]
  },
  {
   "cell_type": "code",
   "execution_count": 114,
   "id": "49beceb6",
   "metadata": {},
   "outputs": [],
   "source": [
    "s1 = \"Mira , data science , techer\""
   ]
  },
  {
   "cell_type": "code",
   "execution_count": 117,
   "id": "66a52117",
   "metadata": {},
   "outputs": [
    {
     "data": {
      "text/plain": [
       "['Mira ', ' data science ', ' techer']"
      ]
     },
     "execution_count": 117,
     "metadata": {},
     "output_type": "execute_result"
    }
   ],
   "source": [
    "s1.split(\",\")"
   ]
  },
  {
   "cell_type": "code",
   "execution_count": 118,
   "id": "cb7c1de0",
   "metadata": {},
   "outputs": [
    {
     "data": {
      "text/plain": [
       "list"
      ]
     },
     "execution_count": 118,
     "metadata": {},
     "output_type": "execute_result"
    }
   ],
   "source": [
    "type(s1.split(\",\"))"
   ]
  },
  {
   "cell_type": "code",
   "execution_count": 119,
   "id": "1a59de8b",
   "metadata": {},
   "outputs": [],
   "source": [
    "s1 = \"mira rafaliya\""
   ]
  },
  {
   "cell_type": "code",
   "execution_count": 121,
   "id": "22c8f368",
   "metadata": {},
   "outputs": [
    {
     "data": {
      "text/plain": [
       "'             mira rafaliya              '"
      ]
     },
     "execution_count": 121,
     "metadata": {},
     "output_type": "execute_result"
    }
   ],
   "source": [
    "s1.center(40)"
   ]
  },
  {
   "cell_type": "code",
   "execution_count": 122,
   "id": "e004b68b",
   "metadata": {},
   "outputs": [
    {
     "data": {
      "text/plain": [
       "4"
      ]
     },
     "execution_count": 122,
     "metadata": {},
     "output_type": "execute_result"
    }
   ],
   "source": [
    "s1.count(\"a\")"
   ]
  },
  {
   "cell_type": "code",
   "execution_count": 125,
   "id": "4987a328",
   "metadata": {},
   "outputs": [
    {
     "data": {
      "text/plain": [
       "True"
      ]
     },
     "execution_count": 125,
     "metadata": {},
     "output_type": "execute_result"
    }
   ],
   "source": [
    "s1.endswith(\"a\")"
   ]
  },
  {
   "cell_type": "code",
   "execution_count": 128,
   "id": "e91be8b7",
   "metadata": {},
   "outputs": [
    {
     "data": {
      "text/plain": [
       "3"
      ]
     },
     "execution_count": 128,
     "metadata": {},
     "output_type": "execute_result"
    }
   ],
   "source": [
    "s1.find(\"a\")  # return index of char"
   ]
  },
  {
   "cell_type": "code",
   "execution_count": 129,
   "id": "c573aba2",
   "metadata": {},
   "outputs": [
    {
     "data": {
      "text/plain": [
       "-1"
      ]
     },
     "execution_count": 129,
     "metadata": {},
     "output_type": "execute_result"
    }
   ],
   "source": [
    "s1.find(\"d\") # not present in string "
   ]
  },
  {
   "cell_type": "code",
   "execution_count": 130,
   "id": "a16b40c6",
   "metadata": {},
   "outputs": [
    {
     "data": {
      "text/plain": [
       "3"
      ]
     },
     "execution_count": 130,
     "metadata": {},
     "output_type": "execute_result"
    }
   ],
   "source": [
    "s1.index(\"a\") # same works as find"
   ]
  },
  {
   "cell_type": "code",
   "execution_count": 132,
   "id": "09c11a10",
   "metadata": {},
   "outputs": [
    {
     "ename": "ValueError",
     "evalue": "substring not found",
     "output_type": "error",
     "traceback": [
      "\u001b[1;31m---------------------------------------------------------------------------\u001b[0m",
      "\u001b[1;31mValueError\u001b[0m                                Traceback (most recent call last)",
      "Cell \u001b[1;32mIn[132], line 1\u001b[0m\n\u001b[1;32m----> 1\u001b[0m \u001b[43ms1\u001b[49m\u001b[38;5;241;43m.\u001b[39;49m\u001b[43mindex\u001b[49m\u001b[43m(\u001b[49m\u001b[38;5;124;43m\"\u001b[39;49m\u001b[38;5;124;43md\u001b[39;49m\u001b[38;5;124;43m\"\u001b[39;49m\u001b[43m)\u001b[49m\n",
      "\u001b[1;31mValueError\u001b[0m: substring not found"
     ]
    }
   ],
   "source": [
    "s1.index(\"d\") # give error of char is not present in string "
   ]
  },
  {
   "cell_type": "code",
   "execution_count": 133,
   "id": "743bf557",
   "metadata": {},
   "outputs": [
    {
     "data": {
      "text/plain": [
       "False"
      ]
     },
     "execution_count": 133,
     "metadata": {},
     "output_type": "execute_result"
    }
   ],
   "source": [
    "s1.isalnum()"
   ]
  },
  {
   "cell_type": "code",
   "execution_count": 139,
   "id": "467cf718",
   "metadata": {},
   "outputs": [],
   "source": [
    "## escape sequence :\n",
    "# these are the characters followed by backslash (\\)"
   ]
  },
  {
   "cell_type": "code",
   "execution_count": 140,
   "id": "a69f8c10",
   "metadata": {},
   "outputs": [],
   "source": [
    "# \\t \\n \\' \\\""
   ]
  },
  {
   "cell_type": "code",
   "execution_count": null,
   "id": "2437862a",
   "metadata": {},
   "outputs": [],
   "source": []
  },
  {
   "cell_type": "code",
   "execution_count": 141,
   "id": "ebaee533",
   "metadata": {},
   "outputs": [],
   "source": [
    "name = \"mira\""
   ]
  },
  {
   "cell_type": "code",
   "execution_count": 142,
   "id": "ada7f5d3",
   "metadata": {},
   "outputs": [
    {
     "data": {
      "text/plain": [
       "'mira is my name '"
      ]
     },
     "execution_count": 142,
     "metadata": {},
     "output_type": "execute_result"
    }
   ],
   "source": [
    "f\"{name} is my name \""
   ]
  },
  {
   "cell_type": "code",
   "execution_count": 143,
   "id": "c93e5f13",
   "metadata": {},
   "outputs": [
    {
     "data": {
      "text/plain": [
       "'hello mira'"
      ]
     },
     "execution_count": 143,
     "metadata": {},
     "output_type": "execute_result"
    }
   ],
   "source": [
    "f\"hello {name}\""
   ]
  },
  {
   "cell_type": "code",
   "execution_count": 145,
   "id": "c06f62d6",
   "metadata": {},
   "outputs": [],
   "source": [
    "# carriage return \\r : move the cursor at the beginning of the line "
   ]
  },
  {
   "cell_type": "code",
   "execution_count": 148,
   "id": "24a569d7",
   "metadata": {},
   "outputs": [
    {
     "name": "stdout",
     "output_type": "stream",
     "text": [
      "Hello dosto...\r",
      " kaise ho aap log...aapse mil kr achha laga..\n"
     ]
    }
   ],
   "source": [
    "print(\"Hello dosto...\\r kaise ho aap log...aapse mil kr achha laga..\")"
   ]
  },
  {
   "cell_type": "code",
   "execution_count": 150,
   "id": "f97cfd3a",
   "metadata": {},
   "outputs": [
    {
     "name": "stdout",
     "output_type": "stream",
     "text": [
      "I want to become a data scintist.\r",
      " I want to go banglore\n"
     ]
    }
   ],
   "source": [
    "print(\"I want to become a data scintist.\\r I want to go banglore\")"
   ]
  },
  {
   "cell_type": "code",
   "execution_count": null,
   "id": "0012d459",
   "metadata": {},
   "outputs": [],
   "source": []
  }
 ],
 "metadata": {
  "kernelspec": {
   "display_name": "Python 3 (ipykernel)",
   "language": "python",
   "name": "python3"
  },
  "language_info": {
   "codemirror_mode": {
    "name": "ipython",
    "version": 3
   },
   "file_extension": ".py",
   "mimetype": "text/x-python",
   "name": "python",
   "nbconvert_exporter": "python",
   "pygments_lexer": "ipython3",
   "version": "3.10.9"
  }
 },
 "nbformat": 4,
 "nbformat_minor": 5
}
