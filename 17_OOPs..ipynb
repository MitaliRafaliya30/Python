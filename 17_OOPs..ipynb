{
 "cells": [
  {
   "cell_type": "code",
   "execution_count": 1,
   "id": "9176731d",
   "metadata": {},
   "outputs": [],
   "source": [
    "#PascelCase\n",
    "#camelCase"
   ]
  },
  {
   "cell_type": "code",
   "execution_count": 2,
   "id": "f8574ec7",
   "metadata": {},
   "outputs": [],
   "source": [
    "class Car:\n",
    "    pass"
   ]
  },
  {
   "cell_type": "code",
   "execution_count": 3,
   "id": "5ed4dd9e",
   "metadata": {},
   "outputs": [],
   "source": [
    "obj = Car()"
   ]
  },
  {
   "cell_type": "code",
   "execution_count": 4,
   "id": "6beb22cc",
   "metadata": {},
   "outputs": [
    {
     "name": "stdout",
     "output_type": "stream",
     "text": [
      "<class '__main__.Car'>\n"
     ]
    }
   ],
   "source": [
    "print(type(obj))"
   ]
  },
  {
   "cell_type": "code",
   "execution_count": 5,
   "id": "7fff27c7",
   "metadata": {},
   "outputs": [],
   "source": [
    "class Car:\n",
    "    def accelerate(self):\n",
    "        print(\"car is accelerating\")"
   ]
  },
  {
   "cell_type": "code",
   "execution_count": 6,
   "id": "cca23ea4",
   "metadata": {},
   "outputs": [],
   "source": [
    "obj = Car()"
   ]
  },
  {
   "cell_type": "code",
   "execution_count": 7,
   "id": "7e40e4bb",
   "metadata": {},
   "outputs": [
    {
     "name": "stdout",
     "output_type": "stream",
     "text": [
      "car is accelerating\n"
     ]
    }
   ],
   "source": [
    "obj.accelerate() #it will through error\n",
    "\n",
    "#why?\n",
    "# bcz in class methods...we must need to pass self as a 1st parameter to represent obj / instance of the class on which method is called\n",
    "# self is autometically passed with the function call from the object "
   ]
  },
  {
   "cell_type": "code",
   "execution_count": 8,
   "id": "6b5cb42f",
   "metadata": {},
   "outputs": [],
   "source": [
    "# without self : how will class know on which obj method is called"
   ]
  },
  {
   "cell_type": "code",
   "execution_count": 9,
   "id": "e2b74c7b",
   "metadata": {},
   "outputs": [],
   "source": [
    "class Car:\n",
    "    def accelerate(self):\n",
    "        print(\"car is accelerating\")"
   ]
  },
  {
   "cell_type": "code",
   "execution_count": 10,
   "id": "d1b8be77",
   "metadata": {},
   "outputs": [],
   "source": [
    "obj1 = Car()"
   ]
  },
  {
   "cell_type": "code",
   "execution_count": 11,
   "id": "52455e0e",
   "metadata": {},
   "outputs": [
    {
     "name": "stdout",
     "output_type": "stream",
     "text": [
      "car is accelerating\n"
     ]
    }
   ],
   "source": [
    "obj1.accelerate()\n",
    "#self automectically passed with function call"
   ]
  },
  {
   "cell_type": "code",
   "execution_count": null,
   "id": "f0b2d197",
   "metadata": {},
   "outputs": [],
   "source": []
  },
  {
   "cell_type": "code",
   "execution_count": 12,
   "id": "dda0a723",
   "metadata": {},
   "outputs": [],
   "source": [
    "class Car:\n",
    "    def accelerate(self):\n",
    "        print(\"car to is accelerating\")\n",
    "    def brake(self):\n",
    "        print(\"car is stopping\")\n",
    "        "
   ]
  },
  {
   "cell_type": "code",
   "execution_count": 13,
   "id": "27e65e7a",
   "metadata": {},
   "outputs": [],
   "source": [
    "c1 = Car()"
   ]
  },
  {
   "cell_type": "code",
   "execution_count": 14,
   "id": "847d7cde",
   "metadata": {},
   "outputs": [
    {
     "name": "stdout",
     "output_type": "stream",
     "text": [
      "car to is accelerating\n"
     ]
    }
   ],
   "source": [
    "c1.accelerate()"
   ]
  },
  {
   "cell_type": "code",
   "execution_count": 15,
   "id": "4a3f20a2",
   "metadata": {},
   "outputs": [
    {
     "name": "stdout",
     "output_type": "stream",
     "text": [
      "car is stopping\n"
     ]
    }
   ],
   "source": [
    "c1.brake()"
   ]
  },
  {
   "cell_type": "code",
   "execution_count": 16,
   "id": "9515a30b",
   "metadata": {},
   "outputs": [],
   "source": [
    "class Bank:\n",
    "    def deposit(self):\n",
    "        print(\"I am depositing the money\")"
   ]
  },
  {
   "cell_type": "code",
   "execution_count": 17,
   "id": "92dd0c06",
   "metadata": {},
   "outputs": [],
   "source": [
    "c1 = Bank()"
   ]
  },
  {
   "cell_type": "code",
   "execution_count": 18,
   "id": "76f6dd82",
   "metadata": {},
   "outputs": [
    {
     "name": "stdout",
     "output_type": "stream",
     "text": [
      "I am depositing the money\n"
     ]
    }
   ],
   "source": [
    "c1.deposit()"
   ]
  },
  {
   "cell_type": "code",
   "execution_count": 19,
   "id": "e9d2001a",
   "metadata": {},
   "outputs": [],
   "source": [
    "# self is not python keyword..so you can pass any variable instead of self"
   ]
  },
  {
   "cell_type": "code",
   "execution_count": 20,
   "id": "89e44579",
   "metadata": {},
   "outputs": [],
   "source": [
    "class Bank:\n",
    "    def deposit(mira):\n",
    "        print(\"I am depositing the money\")\n",
    "    def withdraw(self):\n",
    "        print(\"I am withdrawing the money\")"
   ]
  },
  {
   "cell_type": "code",
   "execution_count": 21,
   "id": "fd36fb3b",
   "metadata": {},
   "outputs": [],
   "source": [
    "c2 = Bank()"
   ]
  },
  {
   "cell_type": "code",
   "execution_count": 22,
   "id": "9457f7e6",
   "metadata": {},
   "outputs": [
    {
     "name": "stdout",
     "output_type": "stream",
     "text": [
      "I am depositing the money\n"
     ]
    }
   ],
   "source": [
    "c2.deposit()"
   ]
  },
  {
   "cell_type": "code",
   "execution_count": 23,
   "id": "b4702fa7",
   "metadata": {},
   "outputs": [
    {
     "name": "stdout",
     "output_type": "stream",
     "text": [
      "I am withdrawing the money\n"
     ]
    }
   ],
   "source": [
    "c2.withdraw()"
   ]
  },
  {
   "cell_type": "code",
   "execution_count": 24,
   "id": "7905c538",
   "metadata": {},
   "outputs": [],
   "source": [
    "c3 = Bank()"
   ]
  },
  {
   "cell_type": "code",
   "execution_count": 25,
   "id": "a1f2c0c3",
   "metadata": {},
   "outputs": [
    {
     "name": "stdout",
     "output_type": "stream",
     "text": [
      "I am depositing the money\n"
     ]
    }
   ],
   "source": [
    "c3.deposit()"
   ]
  },
  {
   "cell_type": "code",
   "execution_count": 26,
   "id": "d37e13e4",
   "metadata": {},
   "outputs": [
    {
     "name": "stdout",
     "output_type": "stream",
     "text": [
      "I am withdrawing the money\n"
     ]
    }
   ],
   "source": [
    "c3.withdraw()"
   ]
  },
  {
   "cell_type": "code",
   "execution_count": null,
   "id": "2f101937",
   "metadata": {},
   "outputs": [],
   "source": []
  },
  {
   "cell_type": "code",
   "execution_count": 27,
   "id": "639782ff",
   "metadata": {},
   "outputs": [],
   "source": [
    "class Bank:\n",
    "    def deposit(self , amount_depo):\n",
    "        print(\"I am depositing the money\")\n",
    "    def withdraw(self , amount_wd):\n",
    "        print(\"I am withdrawing the money\")"
   ]
  },
  {
   "cell_type": "code",
   "execution_count": null,
   "id": "f1a72c68",
   "metadata": {},
   "outputs": [],
   "source": []
  },
  {
   "cell_type": "code",
   "execution_count": 28,
   "id": "e179b7a9",
   "metadata": {},
   "outputs": [],
   "source": [
    "cust1 = Bank()"
   ]
  },
  {
   "cell_type": "code",
   "execution_count": 29,
   "id": "71493393",
   "metadata": {},
   "outputs": [
    {
     "name": "stdout",
     "output_type": "stream",
     "text": [
      "I am depositing the money\n"
     ]
    }
   ],
   "source": [
    "cust1.deposit(20000)"
   ]
  },
  {
   "cell_type": "code",
   "execution_count": 30,
   "id": "8cf65574",
   "metadata": {},
   "outputs": [
    {
     "name": "stdout",
     "output_type": "stream",
     "text": [
      "I am withdrawing the money\n"
     ]
    }
   ],
   "source": [
    "cust1.withdraw(5000)"
   ]
  },
  {
   "cell_type": "code",
   "execution_count": null,
   "id": "95ded0bd",
   "metadata": {},
   "outputs": [],
   "source": []
  },
  {
   "cell_type": "code",
   "execution_count": null,
   "id": "7e7a1f01",
   "metadata": {},
   "outputs": [],
   "source": []
  },
  {
   "cell_type": "code",
   "execution_count": 31,
   "id": "05e435a0",
   "metadata": {},
   "outputs": [],
   "source": [
    "# attribute / member of the class \n",
    "class Bank:\n",
    "    amount = 1500\n",
    "    def deposit(self , amount_depo):\n",
    "        print(\"I am depositing the money\")\n",
    "    def withdraw(self , amount_wd):\n",
    "        print(\"I am withdrawing the money\")"
   ]
  },
  {
   "cell_type": "code",
   "execution_count": 32,
   "id": "335c769f",
   "metadata": {},
   "outputs": [],
   "source": [
    "mira = Bank()"
   ]
  },
  {
   "cell_type": "code",
   "execution_count": 33,
   "id": "1b906f6f",
   "metadata": {},
   "outputs": [
    {
     "name": "stdout",
     "output_type": "stream",
     "text": [
      "I am depositing the money\n"
     ]
    }
   ],
   "source": [
    "mira.deposit(56000)"
   ]
  },
  {
   "cell_type": "code",
   "execution_count": 34,
   "id": "967fcf7b",
   "metadata": {},
   "outputs": [
    {
     "data": {
      "text/plain": [
       "1500"
      ]
     },
     "execution_count": 34,
     "metadata": {},
     "output_type": "execute_result"
    }
   ],
   "source": [
    "mira.amount "
   ]
  },
  {
   "cell_type": "code",
   "execution_count": null,
   "id": "d4b6effd",
   "metadata": {},
   "outputs": [],
   "source": []
  },
  {
   "cell_type": "code",
   "execution_count": 35,
   "id": "f86c782a",
   "metadata": {},
   "outputs": [],
   "source": [
    "class even_odd_op:\n",
    "    l = [4,5,6,7,8]\n",
    "    def extract_even(self , l):\n",
    "        l1 = []\n",
    "        for i in l:\n",
    "            if i % 2 == 0:\n",
    "                l1.append(i)\n",
    "        return l1\n",
    "    def extract_odd(self , l):\n",
    "        l1 = []\n",
    "        for i in l:\n",
    "            if i % 2 != 0:\n",
    "                l1.append(i)\n",
    "        return l1"
   ]
  },
  {
   "cell_type": "code",
   "execution_count": 36,
   "id": "0ef34818",
   "metadata": {},
   "outputs": [],
   "source": [
    "obj = even_odd_op()"
   ]
  },
  {
   "cell_type": "code",
   "execution_count": 37,
   "id": "74962a50",
   "metadata": {},
   "outputs": [
    {
     "data": {
      "text/plain": [
       "[2, 36, 4, 6]"
      ]
     },
     "execution_count": 37,
     "metadata": {},
     "output_type": "execute_result"
    }
   ],
   "source": [
    "obj.extract_even([2,36,4,5,6])"
   ]
  },
  {
   "cell_type": "code",
   "execution_count": 38,
   "id": "caf82107",
   "metadata": {},
   "outputs": [
    {
     "data": {
      "text/plain": [
       "[3, 5]"
      ]
     },
     "execution_count": 38,
     "metadata": {},
     "output_type": "execute_result"
    }
   ],
   "source": [
    "obj.extract_odd([2,3,4,5,6])"
   ]
  },
  {
   "cell_type": "code",
   "execution_count": 39,
   "id": "282a35a0",
   "metadata": {},
   "outputs": [],
   "source": [
    "#or"
   ]
  },
  {
   "cell_type": "code",
   "execution_count": 40,
   "id": "444f37fd",
   "metadata": {},
   "outputs": [
    {
     "data": {
      "text/plain": [
       "[4, 5, 6, 7, 8]"
      ]
     },
     "execution_count": 40,
     "metadata": {},
     "output_type": "execute_result"
    }
   ],
   "source": [
    "obj.l "
   ]
  },
  {
   "cell_type": "code",
   "execution_count": 41,
   "id": "e1f6b07c",
   "metadata": {},
   "outputs": [
    {
     "data": {
      "text/plain": [
       "[4, 6, 8]"
      ]
     },
     "execution_count": 41,
     "metadata": {},
     "output_type": "execute_result"
    }
   ],
   "source": [
    "obj.extract_even(obj.l)"
   ]
  },
  {
   "cell_type": "code",
   "execution_count": 42,
   "id": "d688e3dd",
   "metadata": {},
   "outputs": [
    {
     "data": {
      "text/plain": [
       "[5, 7]"
      ]
     },
     "execution_count": 42,
     "metadata": {},
     "output_type": "execute_result"
    }
   ],
   "source": [
    "obj.extract_odd(obj.l)"
   ]
  },
  {
   "cell_type": "code",
   "execution_count": 43,
   "id": "0e687b94",
   "metadata": {},
   "outputs": [],
   "source": [
    "# here the class attribute l is fixed for any object of the class \n",
    "\n",
    "# inspite of passing a difference list above you are still getting the fixed l"
   ]
  },
  {
   "cell_type": "code",
   "execution_count": 44,
   "id": "1136fd80",
   "metadata": {},
   "outputs": [],
   "source": [
    "# so, for each object differently, you need to take class attribute value"
   ]
  },
  {
   "cell_type": "code",
   "execution_count": 104,
   "id": "7995ae63",
   "metadata": {},
   "outputs": [],
   "source": [
    "class even_odd_op:\n",
    "    def __init__(self, l):\n",
    "        self.l = l\n",
    "    def extract_even(self,l):\n",
    "        l1 = []\n",
    "        for i in l:\n",
    "            if i % 2 == 0:\n",
    "                l1.append(i)\n",
    "        return l1\n",
    "    def extract_odd(self, l):\n",
    "        l1 = []\n",
    "        for i in l:\n",
    "            if i % 2 != 0:\n",
    "                l1.append(i)\n",
    "        return l1\n",
    "    \n",
    "# __init__() : magic or dunder method....\n",
    "# initlization of the variable\n",
    "# run first as soon as a obj is created"
   ]
  },
  {
   "cell_type": "code",
   "execution_count": 105,
   "id": "7659c7d6",
   "metadata": {},
   "outputs": [],
   "source": [
    "ops1 = even_odd_op([11,22,44,55,66,77,59])"
   ]
  },
  {
   "cell_type": "code",
   "execution_count": 106,
   "id": "9c6fa9fb",
   "metadata": {},
   "outputs": [
    {
     "data": {
      "text/plain": [
       "[11, 22, 44, 55, 66, 77, 59]"
      ]
     },
     "execution_count": 106,
     "metadata": {},
     "output_type": "execute_result"
    }
   ],
   "source": [
    "ops1.l"
   ]
  },
  {
   "cell_type": "code",
   "execution_count": 107,
   "id": "e4bf472d",
   "metadata": {},
   "outputs": [],
   "source": [
    "# Be careful if __init__() is used in class then only pass self in the class method don't pass another var..."
   ]
  },
  {
   "cell_type": "code",
   "execution_count": 108,
   "id": "1a7b10cd",
   "metadata": {},
   "outputs": [],
   "source": [
    "obj = even_odd_op([2,3,4,5,6])"
   ]
  },
  {
   "cell_type": "code",
   "execution_count": null,
   "id": "cfb68eac",
   "metadata": {},
   "outputs": [],
   "source": []
  },
  {
   "cell_type": "code",
   "execution_count": 109,
   "id": "92c82ebd",
   "metadata": {},
   "outputs": [
    {
     "ename": "TypeError",
     "evalue": "even_odd_op.extract_even() missing 1 required positional argument: 'l'",
     "output_type": "error",
     "traceback": [
      "\u001b[1;31m---------------------------------------------------------------------------\u001b[0m",
      "\u001b[1;31mTypeError\u001b[0m                                 Traceback (most recent call last)",
      "Cell \u001b[1;32mIn[109], line 1\u001b[0m\n\u001b[1;32m----> 1\u001b[0m \u001b[43mobj\u001b[49m\u001b[38;5;241;43m.\u001b[39;49m\u001b[43mextract_even\u001b[49m\u001b[43m(\u001b[49m\u001b[43m)\u001b[49m\n",
      "\u001b[1;31mTypeError\u001b[0m: even_odd_op.extract_even() missing 1 required positional argument: 'l'"
     ]
    }
   ],
   "source": [
    "obj.extract_even() # through error"
   ]
  },
  {
   "cell_type": "code",
   "execution_count": 110,
   "id": "e662f8da",
   "metadata": {},
   "outputs": [
    {
     "ename": "TypeError",
     "evalue": "even_odd_op.extract_odd() missing 1 required positional argument: 'l'",
     "output_type": "error",
     "traceback": [
      "\u001b[1;31m---------------------------------------------------------------------------\u001b[0m",
      "\u001b[1;31mTypeError\u001b[0m                                 Traceback (most recent call last)",
      "Cell \u001b[1;32mIn[110], line 1\u001b[0m\n\u001b[1;32m----> 1\u001b[0m \u001b[43mobj\u001b[49m\u001b[38;5;241;43m.\u001b[39;49m\u001b[43mextract_odd\u001b[49m\u001b[43m(\u001b[49m\u001b[43m)\u001b[49m\n",
      "\u001b[1;31mTypeError\u001b[0m: even_odd_op.extract_odd() missing 1 required positional argument: 'l'"
     ]
    }
   ],
   "source": [
    "obj.extract_odd()"
   ]
  },
  {
   "cell_type": "code",
   "execution_count": null,
   "id": "06221499",
   "metadata": {},
   "outputs": [],
   "source": []
  },
  {
   "cell_type": "code",
   "execution_count": 153,
   "id": "64d3cb8f",
   "metadata": {},
   "outputs": [],
   "source": [
    "class even_odd_op:\n",
    "    def __init__(self, l):\n",
    "        self.l = l\n",
    "    def extract_even(self):\n",
    "        l = self.l\n",
    "        l1 = []\n",
    "        for i in l:\n",
    "            if i % 2 == 0:\n",
    "                l1.append(i)\n",
    "        return l1\n",
    "    def extract_odd(self):\n",
    "        l = self.l\n",
    "        l1 = []\n",
    "        for i in l:\n",
    "            if i % 2 != 0:\n",
    "                l1.append(i)\n",
    "        return l1\n",
    "    "
   ]
  },
  {
   "cell_type": "code",
   "execution_count": 155,
   "id": "92003da5",
   "metadata": {},
   "outputs": [],
   "source": [
    "lst = even_odd_op([3,4,5,6,7,8])"
   ]
  },
  {
   "cell_type": "code",
   "execution_count": 157,
   "id": "057cd6da",
   "metadata": {},
   "outputs": [
    {
     "data": {
      "text/plain": [
       "[4, 6, 8]"
      ]
     },
     "execution_count": 157,
     "metadata": {},
     "output_type": "execute_result"
    }
   ],
   "source": [
    "lst.extract_even()"
   ]
  },
  {
   "cell_type": "code",
   "execution_count": 158,
   "id": "e24882ae",
   "metadata": {},
   "outputs": [
    {
     "data": {
      "text/plain": [
       "[3, 4, 5, 6, 7, 8]"
      ]
     },
     "execution_count": 158,
     "metadata": {},
     "output_type": "execute_result"
    }
   ],
   "source": [
    "lst.l"
   ]
  },
  {
   "cell_type": "code",
   "execution_count": null,
   "id": "43766c07",
   "metadata": {},
   "outputs": [],
   "source": []
  },
  {
   "cell_type": "code",
   "execution_count": null,
   "id": "84a9dad7",
   "metadata": {},
   "outputs": [],
   "source": []
  },
  {
   "cell_type": "code",
   "execution_count": 159,
   "id": "288c7f7f",
   "metadata": {},
   "outputs": [],
   "source": [
    "# diff example"
   ]
  },
  {
   "cell_type": "code",
   "execution_count": 160,
   "id": "90acebce",
   "metadata": {},
   "outputs": [],
   "source": [
    "class student:\n",
    "    def __init__(self , name):\n",
    "        self.name = name \n",
    "    \n",
    "    def greet(self):\n",
    "        name = self.name\n",
    "        print(f\"welcome to the course..{self.name}\")"
   ]
  },
  {
   "cell_type": "code",
   "execution_count": 161,
   "id": "4086c8be",
   "metadata": {},
   "outputs": [],
   "source": [
    "mira = student(\"mira\")"
   ]
  },
  {
   "cell_type": "code",
   "execution_count": 162,
   "id": "31200024",
   "metadata": {},
   "outputs": [
    {
     "name": "stdout",
     "output_type": "stream",
     "text": [
      "welcome to the course..mira\n"
     ]
    }
   ],
   "source": [
    "mira.greet()"
   ]
  },
  {
   "cell_type": "code",
   "execution_count": 163,
   "id": "2a543f23",
   "metadata": {},
   "outputs": [
    {
     "data": {
      "text/plain": [
       "'mira'"
      ]
     },
     "execution_count": 163,
     "metadata": {},
     "output_type": "execute_result"
    }
   ],
   "source": [
    "mira.name"
   ]
  },
  {
   "cell_type": "code",
   "execution_count": 164,
   "id": "90eb53b9",
   "metadata": {},
   "outputs": [],
   "source": [
    "krinsi = student(\"krinsi\")"
   ]
  },
  {
   "cell_type": "code",
   "execution_count": 165,
   "id": "b05206f2",
   "metadata": {},
   "outputs": [
    {
     "data": {
      "text/plain": [
       "'krinsi'"
      ]
     },
     "execution_count": 165,
     "metadata": {},
     "output_type": "execute_result"
    }
   ],
   "source": [
    "krinsi.name"
   ]
  },
  {
   "cell_type": "code",
   "execution_count": 151,
   "id": "23e781d4",
   "metadata": {},
   "outputs": [
    {
     "name": "stdout",
     "output_type": "stream",
     "text": [
      "welcome to the course..krinsi\n"
     ]
    }
   ],
   "source": [
    "krinsi.greet()"
   ]
  },
  {
   "cell_type": "code",
   "execution_count": null,
   "id": "bbae2c0c",
   "metadata": {},
   "outputs": [],
   "source": []
  },
  {
   "cell_type": "code",
   "execution_count": 172,
   "id": "9de907ef",
   "metadata": {},
   "outputs": [],
   "source": [
    "class even_odd_op:\n",
    "    def __init__(self, l):\n",
    "        self.l2 = l\n",
    "    def extract_even(self):\n",
    "        l = self.l2\n",
    "        l3 = []\n",
    "        for i in l:\n",
    "            if i % 2 == 0:\n",
    "                l3.append(i)\n",
    "        return l3\n",
    "    def extract_odd(self):\n",
    "        l = self.l2\n",
    "        l3 = []\n",
    "        for i in l:\n",
    "            if i % 2 != 0:\n",
    "                l3.append(i)\n",
    "        return l3\n",
    "    "
   ]
  },
  {
   "cell_type": "code",
   "execution_count": 173,
   "id": "e624593c",
   "metadata": {},
   "outputs": [],
   "source": [
    "obj = even_odd_op([4,5,6,7,8])"
   ]
  },
  {
   "cell_type": "code",
   "execution_count": 174,
   "id": "0cdfd426",
   "metadata": {},
   "outputs": [
    {
     "data": {
      "text/plain": [
       "[4, 6, 8]"
      ]
     },
     "execution_count": 174,
     "metadata": {},
     "output_type": "execute_result"
    }
   ],
   "source": [
    "obj.extract_even()"
   ]
  },
  {
   "cell_type": "code",
   "execution_count": null,
   "id": "28e30456",
   "metadata": {},
   "outputs": [],
   "source": []
  },
  {
   "cell_type": "code",
   "execution_count": 175,
   "id": "d9e10722",
   "metadata": {},
   "outputs": [],
   "source": [
    "# everywhere you will be access variable using self keyworld"
   ]
  },
  {
   "cell_type": "code",
   "execution_count": 180,
   "id": "bd926fb2",
   "metadata": {},
   "outputs": [],
   "source": [
    "# multiple attributes\n",
    "class Book:\n",
    "    def __init__(self , name , author, title):\n",
    "        self.name = name \n",
    "        self.author = author\n",
    "        self.title = title\n",
    "    def extract_detaled_name_title(self):\n",
    "        print(self.name , self.title )\n",
    "    def extract_detaled_name_author(self):\n",
    "        print(self.name , self.author )"
   ]
  },
  {
   "cell_type": "code",
   "execution_count": 181,
   "id": "45f70977",
   "metadata": {},
   "outputs": [],
   "source": [
    "stundent1 = Book(\"ML\" , \"Murthy\" , \"linear regression\")"
   ]
  },
  {
   "cell_type": "code",
   "execution_count": 183,
   "id": "12be9a65",
   "metadata": {},
   "outputs": [
    {
     "name": "stdout",
     "output_type": "stream",
     "text": [
      "ML Murthy\n"
     ]
    }
   ],
   "source": [
    "stundent1.extract_detaled_name_author()"
   ]
  },
  {
   "cell_type": "code",
   "execution_count": 184,
   "id": "18a5924f",
   "metadata": {},
   "outputs": [
    {
     "name": "stdout",
     "output_type": "stream",
     "text": [
      "ML linear regression\n"
     ]
    }
   ],
   "source": [
    "stundent1.extract_detaled_name_title()"
   ]
  },
  {
   "cell_type": "code",
   "execution_count": 186,
   "id": "ea17eb27",
   "metadata": {},
   "outputs": [],
   "source": [
    "stundent2 = Book(\"stat\" , \"joss\" , \"descriptive stat\")"
   ]
  },
  {
   "cell_type": "code",
   "execution_count": null,
   "id": "f7b4f818",
   "metadata": {},
   "outputs": [],
   "source": []
  },
  {
   "cell_type": "code",
   "execution_count": null,
   "id": "78c865d3",
   "metadata": {},
   "outputs": [],
   "source": []
  },
  {
   "cell_type": "code",
   "execution_count": 192,
   "id": "65c18fb0",
   "metadata": {},
   "outputs": [],
   "source": [
    "# multiple attributes\n",
    "# every var are fixed\n",
    "class Book:\n",
    "    def __init__(self):\n",
    "        self.name = \"OOPS\" \n",
    "        self.author = \"smith\"\n",
    "        self.title = \"python\"\n",
    "    def extract_detaled_name_title(self):\n",
    "        print(self.name , self.title )\n",
    "    def extract_detaled_name_author(self):\n",
    "        print(self.name , self.author )"
   ]
  },
  {
   "cell_type": "code",
   "execution_count": 193,
   "id": "87c151a9",
   "metadata": {},
   "outputs": [],
   "source": [
    "obj = Book()"
   ]
  },
  {
   "cell_type": "code",
   "execution_count": 194,
   "id": "4539dd15",
   "metadata": {},
   "outputs": [
    {
     "name": "stdout",
     "output_type": "stream",
     "text": [
      "OOPS smith\n"
     ]
    }
   ],
   "source": [
    "obj.extract_detaled_name_author()"
   ]
  },
  {
   "cell_type": "code",
   "execution_count": 195,
   "id": "2bee2fa2",
   "metadata": {},
   "outputs": [
    {
     "name": "stdout",
     "output_type": "stream",
     "text": [
      "OOPS python\n"
     ]
    }
   ],
   "source": [
    "obj.extract_detaled_name_title()"
   ]
  },
  {
   "cell_type": "code",
   "execution_count": null,
   "id": "3d8357c7",
   "metadata": {},
   "outputs": [],
   "source": []
  }
 ],
 "metadata": {
  "kernelspec": {
   "display_name": "Python 3 (ipykernel)",
   "language": "python",
   "name": "python3"
  },
  "language_info": {
   "codemirror_mode": {
    "name": "ipython",
    "version": 3
   },
   "file_extension": ".py",
   "mimetype": "text/x-python",
   "name": "python",
   "nbconvert_exporter": "python",
   "pygments_lexer": "ipython3",
   "version": "3.10.9"
  }
 },
 "nbformat": 4,
 "nbformat_minor": 5
}
